{
 "cells": [
  {
   "cell_type": "code",
   "execution_count": 1,
   "id": "763a2ba0-1cd4-4929-809c-3fdd88fc306f",
   "metadata": {},
   "outputs": [
    {
     "data": {
      "text/plain": [
       "'\\n    Author: A.Shrikant\\n'"
      ]
     },
     "execution_count": 1,
     "metadata": {},
     "output_type": "execute_result"
    }
   ],
   "source": [
    "'''\n",
    "    Author: A.Shrikant\n",
    "'''"
   ]
  },
  {
   "cell_type": "code",
   "execution_count": 2,
   "id": "8282ac36-d08f-480a-96a5-8e9619ce9153",
   "metadata": {},
   "outputs": [],
   "source": [
    "# Attributes Information:\n",
    "\n",
    "# step - maps a unit of time in the real world. In this case 1 step is 1 hour \n",
    "# of time. Total steps 744 (30 days simulation).\n",
    "\n",
    "# type - CASH-IN, CASH-OUT, DEBIT, PAYMENT and TRANSFER.\n",
    "\n",
    "# amount - amount of the transaction in local currency.\n",
    "\n",
    "# nameOrig - customer who started the transaction\n",
    "\n",
    "# oldbalanceOrg - initial balance before the transaction\n",
    "\n",
    "# newbalanceOrig - new balance after the transaction.\n",
    "\n",
    "# nameDest - customer who is the recipient of the transaction\n",
    "\n",
    "# oldbalanceDest - initial balance recipient before the transaction. Note that \n",
    "# there is not information for customers that start with M (Merchants).\n",
    "\n",
    "# newbalanceDest - new balance recipient after the transaction. Note that there \n",
    "# is not information for customers that start with M (Merchants).\n",
    "\n",
    "# isFraud - This is the transactions made by the fraudulent agents inside the \n",
    "# simulation. In this specific dataset the fraudulent behavior of the agents \n",
    "# aims to profit by taking control or customers accounts and try to empty the \n",
    "# funds by transferring to another account and then cashing out of the system.\n",
    "\n",
    "# isFlaggedFraud - The business model aims to control massive transfers from one \n",
    "# account to another and flags illegal attempts. An illegal attempt in this dataset \n",
    "# is an attempt to transfer more than 200.000 in a single transaction.\n",
    "\n",
    "# URL to download the Paysim dataset: https://www.kaggle.com/datasets/ealaxi/paysim1"
   ]
  },
  {
   "cell_type": "code",
   "execution_count": 1,
   "id": "2408fdf0-003c-4282-89e2-519865bd9226",
   "metadata": {},
   "outputs": [],
   "source": [
    "import numpy as np\n",
    "import pandas as pd\n",
    "import matplotlib.pyplot as plt\n",
    "import seaborn as sns\n",
    "\n",
    "from sklearn.metrics import classification_report, confusion_matrix, f1_score\n",
    "from sklearn.model_selection import cross_val_score"
   ]
  },
  {
   "cell_type": "code",
   "execution_count": 2,
   "id": "62bd38ae-56ff-41c6-ac8b-87772055124b",
   "metadata": {},
   "outputs": [],
   "source": [
    "df1 = pd.read_csv('Money Laundering.csv')"
   ]
  },
  {
   "cell_type": "code",
   "execution_count": 3,
   "id": "743497a1-e519-485f-8ad2-e13c6803e203",
   "metadata": {},
   "outputs": [
    {
     "data": {
      "text/plain": [
       "(6362620, 11)"
      ]
     },
     "execution_count": 3,
     "metadata": {},
     "output_type": "execute_result"
    }
   ],
   "source": [
    "df1.shape"
   ]
  },
  {
   "cell_type": "code",
   "execution_count": 4,
   "id": "79464873-7505-4e17-aaf9-ae0d6a3681d3",
   "metadata": {},
   "outputs": [
    {
     "data": {
      "text/html": [
       "<div>\n",
       "<style scoped>\n",
       "    .dataframe tbody tr th:only-of-type {\n",
       "        vertical-align: middle;\n",
       "    }\n",
       "\n",
       "    .dataframe tbody tr th {\n",
       "        vertical-align: top;\n",
       "    }\n",
       "\n",
       "    .dataframe thead th {\n",
       "        text-align: right;\n",
       "    }\n",
       "</style>\n",
       "<table border=\"1\" class=\"dataframe\">\n",
       "  <thead>\n",
       "    <tr style=\"text-align: right;\">\n",
       "      <th></th>\n",
       "      <th>step</th>\n",
       "      <th>type</th>\n",
       "      <th>amount</th>\n",
       "      <th>nameOrig</th>\n",
       "      <th>oldbalanceOrg</th>\n",
       "      <th>newbalanceOrig</th>\n",
       "      <th>nameDest</th>\n",
       "      <th>oldbalanceDest</th>\n",
       "      <th>newbalanceDest</th>\n",
       "      <th>isFraud</th>\n",
       "      <th>isFlaggedFraud</th>\n",
       "    </tr>\n",
       "  </thead>\n",
       "  <tbody>\n",
       "    <tr>\n",
       "      <th>0</th>\n",
       "      <td>1</td>\n",
       "      <td>PAYMENT</td>\n",
       "      <td>9839.64</td>\n",
       "      <td>C1231006815</td>\n",
       "      <td>170136.0</td>\n",
       "      <td>160296.36</td>\n",
       "      <td>M1979787155</td>\n",
       "      <td>0.0</td>\n",
       "      <td>0.0</td>\n",
       "      <td>0</td>\n",
       "      <td>0</td>\n",
       "    </tr>\n",
       "    <tr>\n",
       "      <th>1</th>\n",
       "      <td>1</td>\n",
       "      <td>PAYMENT</td>\n",
       "      <td>1864.28</td>\n",
       "      <td>C1666544295</td>\n",
       "      <td>21249.0</td>\n",
       "      <td>19384.72</td>\n",
       "      <td>M2044282225</td>\n",
       "      <td>0.0</td>\n",
       "      <td>0.0</td>\n",
       "      <td>0</td>\n",
       "      <td>0</td>\n",
       "    </tr>\n",
       "    <tr>\n",
       "      <th>2</th>\n",
       "      <td>1</td>\n",
       "      <td>TRANSFER</td>\n",
       "      <td>181.00</td>\n",
       "      <td>C1305486145</td>\n",
       "      <td>181.0</td>\n",
       "      <td>0.00</td>\n",
       "      <td>C553264065</td>\n",
       "      <td>0.0</td>\n",
       "      <td>0.0</td>\n",
       "      <td>1</td>\n",
       "      <td>0</td>\n",
       "    </tr>\n",
       "    <tr>\n",
       "      <th>3</th>\n",
       "      <td>1</td>\n",
       "      <td>CASH_OUT</td>\n",
       "      <td>181.00</td>\n",
       "      <td>C840083671</td>\n",
       "      <td>181.0</td>\n",
       "      <td>0.00</td>\n",
       "      <td>C38997010</td>\n",
       "      <td>21182.0</td>\n",
       "      <td>0.0</td>\n",
       "      <td>1</td>\n",
       "      <td>0</td>\n",
       "    </tr>\n",
       "    <tr>\n",
       "      <th>4</th>\n",
       "      <td>1</td>\n",
       "      <td>PAYMENT</td>\n",
       "      <td>11668.14</td>\n",
       "      <td>C2048537720</td>\n",
       "      <td>41554.0</td>\n",
       "      <td>29885.86</td>\n",
       "      <td>M1230701703</td>\n",
       "      <td>0.0</td>\n",
       "      <td>0.0</td>\n",
       "      <td>0</td>\n",
       "      <td>0</td>\n",
       "    </tr>\n",
       "  </tbody>\n",
       "</table>\n",
       "</div>"
      ],
      "text/plain": [
       "   step      type    amount     nameOrig  oldbalanceOrg  newbalanceOrig  \\\n",
       "0     1   PAYMENT   9839.64  C1231006815       170136.0       160296.36   \n",
       "1     1   PAYMENT   1864.28  C1666544295        21249.0        19384.72   \n",
       "2     1  TRANSFER    181.00  C1305486145          181.0            0.00   \n",
       "3     1  CASH_OUT    181.00   C840083671          181.0            0.00   \n",
       "4     1   PAYMENT  11668.14  C2048537720        41554.0        29885.86   \n",
       "\n",
       "      nameDest  oldbalanceDest  newbalanceDest  isFraud  isFlaggedFraud  \n",
       "0  M1979787155             0.0             0.0        0               0  \n",
       "1  M2044282225             0.0             0.0        0               0  \n",
       "2   C553264065             0.0             0.0        1               0  \n",
       "3    C38997010         21182.0             0.0        1               0  \n",
       "4  M1230701703             0.0             0.0        0               0  "
      ]
     },
     "execution_count": 4,
     "metadata": {},
     "output_type": "execute_result"
    }
   ],
   "source": [
    "df1.head()"
   ]
  },
  {
   "cell_type": "code",
   "execution_count": 5,
   "id": "45049dd2-7af5-4da7-8cb7-9f8c9cc2aaa8",
   "metadata": {},
   "outputs": [
    {
     "name": "stdout",
     "output_type": "stream",
     "text": [
      "<class 'pandas.core.frame.DataFrame'>\n",
      "RangeIndex: 6362620 entries, 0 to 6362619\n",
      "Data columns (total 11 columns):\n",
      " #   Column          Dtype  \n",
      "---  ------          -----  \n",
      " 0   step            int64  \n",
      " 1   type            object \n",
      " 2   amount          float64\n",
      " 3   nameOrig        object \n",
      " 4   oldbalanceOrg   float64\n",
      " 5   newbalanceOrig  float64\n",
      " 6   nameDest        object \n",
      " 7   oldbalanceDest  float64\n",
      " 8   newbalanceDest  float64\n",
      " 9   isFraud         int64  \n",
      " 10  isFlaggedFraud  int64  \n",
      "dtypes: float64(5), int64(3), object(3)\n",
      "memory usage: 534.0+ MB\n"
     ]
    }
   ],
   "source": [
    "df1.info()"
   ]
  },
  {
   "cell_type": "code",
   "execution_count": 6,
   "id": "d62f2d26-724c-477f-a233-8e70193d8a46",
   "metadata": {},
   "outputs": [
    {
     "data": {
      "text/plain": [
       "0"
      ]
     },
     "execution_count": 6,
     "metadata": {},
     "output_type": "execute_result"
    }
   ],
   "source": [
    "df1.duplicated().sum()"
   ]
  },
  {
   "cell_type": "code",
   "execution_count": 7,
   "id": "a8a2a9e4-7ae6-4815-9024-6e3146d52266",
   "metadata": {},
   "outputs": [
    {
     "data": {
      "text/plain": [
       "step              0\n",
       "type              0\n",
       "amount            0\n",
       "nameOrig          0\n",
       "oldbalanceOrg     0\n",
       "newbalanceOrig    0\n",
       "nameDest          0\n",
       "oldbalanceDest    0\n",
       "newbalanceDest    0\n",
       "isFraud           0\n",
       "isFlaggedFraud    0\n",
       "dtype: int64"
      ]
     },
     "execution_count": 7,
     "metadata": {},
     "output_type": "execute_result"
    }
   ],
   "source": [
    "df1.isnull().sum()"
   ]
  },
  {
   "cell_type": "markdown",
   "id": "b7864bd7-a40f-4ed1-8577-d67538ff4d4e",
   "metadata": {},
   "source": [
    "### No duplicate and missing values are there."
   ]
  },
  {
   "cell_type": "markdown",
   "id": "0a19c20c-5e6e-4a51-9f9a-3b79a247c862",
   "metadata": {},
   "source": [
    "### Analysing transactions using 'type' variable:"
   ]
  },
  {
   "cell_type": "code",
   "execution_count": 8,
   "id": "f377a368-b9c0-4c63-b8ba-bdc3a15dd574",
   "metadata": {},
   "outputs": [
    {
     "data": {
      "text/plain": [
       "type\n",
       "CASH_OUT    2237500\n",
       "PAYMENT     2151495\n",
       "CASH_IN     1399284\n",
       "TRANSFER     532909\n",
       "DEBIT         41432\n",
       "Name: count, dtype: int64"
      ]
     },
     "execution_count": 8,
     "metadata": {},
     "output_type": "execute_result"
    }
   ],
   "source": [
    "type_dist_ser = df1['type'].value_counts()\n",
    "type_dist_ser"
   ]
  },
  {
   "cell_type": "code",
   "execution_count": 9,
   "id": "a0caa19b-dfa9-464c-96b7-5b06bb621390",
   "metadata": {},
   "outputs": [
    {
     "data": {
      "text/plain": [
       "type\n",
       "CASH_OUT    0.351663\n",
       "PAYMENT     0.338146\n",
       "CASH_IN     0.219923\n",
       "TRANSFER    0.083756\n",
       "DEBIT       0.006512\n",
       "Name: proportion, dtype: float64"
      ]
     },
     "execution_count": 9,
     "metadata": {},
     "output_type": "execute_result"
    }
   ],
   "source": [
    "pd.Series(type_dist_ser/type_dist_ser.sum(), name='proportion')"
   ]
  },
  {
   "cell_type": "code",
   "execution_count": 10,
   "id": "28f603b5-2b1a-4117-af7e-0db378655c96",
   "metadata": {},
   "outputs": [],
   "source": [
    "is_fraud_mask = df1['isFraud'] == 1\n",
    "is_not_fraud_mask = ~ is_fraud_mask"
   ]
  },
  {
   "cell_type": "code",
   "execution_count": 11,
   "id": "9ae67772-5d52-4427-baba-6b3120abb860",
   "metadata": {},
   "outputs": [
    {
     "data": {
      "image/png": "[encoded data removed]",
      "text/plain": [
       "<Figure size 600x300 with 1 Axes>"
      ]
     },
     "metadata": {},
     "output_type": "display_data"
    }
   ],
   "source": [
    "plt.figure(figsize=(6,3))\n",
    "sns.countplot(df1[is_not_fraud_mask], x='type')\n",
    "plt.title('Genuine transactions')\n",
    "plt.show()"
   ]
  },
  {
   "cell_type": "code",
   "execution_count": 12,
   "id": "6599bb0f-efbe-4c8d-9794-37477073983b",
   "metadata": {},
   "outputs": [
    {
     "data": {
      "image/png": "[encoded data removed]",
      "text/plain": [
       "<Figure size 500x200 with 1 Axes>"
      ]
     },
     "metadata": {},
     "output_type": "display_data"
    }
   ],
   "source": [
    "plt.figure(figsize=(5,2))\n",
    "sns.countplot(df1[is_fraud_mask], x='type')\n",
    "plt.title('Fraud transactions')\n",
    "plt.show()"
   ]
  },
  {
   "cell_type": "markdown",
   "id": "11f66ecd-63b8-4b55-aae1-0969bb99e714",
   "metadata": {},
   "source": [
    "### Analysing transactions using 'isFraud' variable:"
   ]
  },
  {
   "cell_type": "code",
   "execution_count": 13,
   "id": "8b3b3a17-d19f-47d1-ad65-8ac4fc7a2700",
   "metadata": {},
   "outputs": [
    {
     "data": {
      "text/plain": [
       "isFraud\n",
       "0    6354407\n",
       "1       8213\n",
       "Name: count, dtype: int64"
      ]
     },
     "execution_count": 13,
     "metadata": {},
     "output_type": "execute_result"
    }
   ],
   "source": [
    "isFraud_dist_ser = df1['isFraud'].value_counts()\n",
    "isFraud_dist_ser"
   ]
  },
  {
   "cell_type": "code",
   "execution_count": 14,
   "id": "eb7515e7-0543-44d4-ae8c-5e80d76e54c3",
   "metadata": {},
   "outputs": [
    {
     "data": {
      "text/plain": [
       "isFraud\n",
       "0    0.998709\n",
       "1    0.001291\n",
       "Name: proportion, dtype: float64"
      ]
     },
     "execution_count": 14,
     "metadata": {},
     "output_type": "execute_result"
    }
   ],
   "source": [
    "pd.Series(isFraud_dist_ser/isFraud_dist_ser.sum(), name='proportion')"
   ]
  },
  {
   "cell_type": "markdown",
   "id": "c7274db3-b902-45e0-bd11-c7e7a56cb5d4",
   "metadata": {},
   "source": [
    "### Inference: Almost 99.88% of transactions are Genuine and only 0.13% of transactions are Fraudulent. This implies a highly imbalanced dataset."
   ]
  },
  {
   "cell_type": "markdown",
   "id": "46403e0e-4148-45cd-a4f9-c8e840ba0155",
   "metadata": {},
   "source": [
    "### Analysing transactions using 'isFlaggedFraud' variable:"
   ]
  },
  {
   "cell_type": "code",
   "execution_count": 15,
   "id": "b15caed8-fdba-4c4c-b3d5-ae712ecb7649",
   "metadata": {},
   "outputs": [
    {
     "data": {
      "text/plain": [
       "isFlaggedFraud\n",
       "0    6362604\n",
       "1         16\n",
       "Name: count, dtype: int64"
      ]
     },
     "execution_count": 15,
     "metadata": {},
     "output_type": "execute_result"
    }
   ],
   "source": [
    "df1['isFlaggedFraud'].value_counts()"
   ]
  },
  {
   "cell_type": "code",
   "execution_count": 16,
   "id": "f88a0ee7-fb4b-4676-af46-e802d5feb365",
   "metadata": {},
   "outputs": [
    {
     "data": {
      "text/html": [
       "<div>\n",
       "<style scoped>\n",
       "    .dataframe tbody tr th:only-of-type {\n",
       "        vertical-align: middle;\n",
       "    }\n",
       "\n",
       "    .dataframe tbody tr th {\n",
       "        vertical-align: top;\n",
       "    }\n",
       "\n",
       "    .dataframe thead th {\n",
       "        text-align: right;\n",
       "    }\n",
       "</style>\n",
       "<table border=\"1\" class=\"dataframe\">\n",
       "  <thead>\n",
       "    <tr style=\"text-align: right;\">\n",
       "      <th></th>\n",
       "      <th>step</th>\n",
       "      <th>type</th>\n",
       "      <th>amount</th>\n",
       "      <th>nameOrig</th>\n",
       "      <th>oldbalanceOrg</th>\n",
       "      <th>newbalanceOrig</th>\n",
       "      <th>nameDest</th>\n",
       "      <th>oldbalanceDest</th>\n",
       "      <th>newbalanceDest</th>\n",
       "      <th>isFraud</th>\n",
       "      <th>isFlaggedFraud</th>\n",
       "    </tr>\n",
       "  </thead>\n",
       "  <tbody>\n",
       "    <tr>\n",
       "      <th>19</th>\n",
       "      <td>1</td>\n",
       "      <td>TRANSFER</td>\n",
       "      <td>215310.30</td>\n",
       "      <td>C1670993182</td>\n",
       "      <td>705.00</td>\n",
       "      <td>0.0</td>\n",
       "      <td>C1100439041</td>\n",
       "      <td>22425.00</td>\n",
       "      <td>0.00</td>\n",
       "      <td>0</td>\n",
       "      <td>0</td>\n",
       "    </tr>\n",
       "    <tr>\n",
       "      <th>24</th>\n",
       "      <td>1</td>\n",
       "      <td>TRANSFER</td>\n",
       "      <td>311685.89</td>\n",
       "      <td>C1984094095</td>\n",
       "      <td>10835.00</td>\n",
       "      <td>0.0</td>\n",
       "      <td>C932583850</td>\n",
       "      <td>6267.00</td>\n",
       "      <td>2719172.89</td>\n",
       "      <td>0</td>\n",
       "      <td>0</td>\n",
       "    </tr>\n",
       "    <tr>\n",
       "      <th>82</th>\n",
       "      <td>1</td>\n",
       "      <td>TRANSFER</td>\n",
       "      <td>224606.64</td>\n",
       "      <td>C873175411</td>\n",
       "      <td>0.00</td>\n",
       "      <td>0.0</td>\n",
       "      <td>C766572210</td>\n",
       "      <td>354678.92</td>\n",
       "      <td>0.00</td>\n",
       "      <td>0</td>\n",
       "      <td>0</td>\n",
       "    </tr>\n",
       "    <tr>\n",
       "      <th>84</th>\n",
       "      <td>1</td>\n",
       "      <td>TRANSFER</td>\n",
       "      <td>379856.23</td>\n",
       "      <td>C1449772539</td>\n",
       "      <td>0.00</td>\n",
       "      <td>0.0</td>\n",
       "      <td>C1590550415</td>\n",
       "      <td>900180.00</td>\n",
       "      <td>19169204.93</td>\n",
       "      <td>0</td>\n",
       "      <td>0</td>\n",
       "    </tr>\n",
       "    <tr>\n",
       "      <th>85</th>\n",
       "      <td>1</td>\n",
       "      <td>TRANSFER</td>\n",
       "      <td>1505626.01</td>\n",
       "      <td>C926859124</td>\n",
       "      <td>0.00</td>\n",
       "      <td>0.0</td>\n",
       "      <td>C665576141</td>\n",
       "      <td>29031.00</td>\n",
       "      <td>5515763.34</td>\n",
       "      <td>0</td>\n",
       "      <td>0</td>\n",
       "    </tr>\n",
       "    <tr>\n",
       "      <th>...</th>\n",
       "      <td>...</td>\n",
       "      <td>...</td>\n",
       "      <td>...</td>\n",
       "      <td>...</td>\n",
       "      <td>...</td>\n",
       "      <td>...</td>\n",
       "      <td>...</td>\n",
       "      <td>...</td>\n",
       "      <td>...</td>\n",
       "      <td>...</td>\n",
       "      <td>...</td>\n",
       "    </tr>\n",
       "    <tr>\n",
       "      <th>6362608</th>\n",
       "      <td>742</td>\n",
       "      <td>TRANSFER</td>\n",
       "      <td>258355.42</td>\n",
       "      <td>C1226129332</td>\n",
       "      <td>258355.42</td>\n",
       "      <td>0.0</td>\n",
       "      <td>C1744173808</td>\n",
       "      <td>0.00</td>\n",
       "      <td>0.00</td>\n",
       "      <td>1</td>\n",
       "      <td>0</td>\n",
       "    </tr>\n",
       "    <tr>\n",
       "      <th>6362612</th>\n",
       "      <td>743</td>\n",
       "      <td>TRANSFER</td>\n",
       "      <td>1258818.82</td>\n",
       "      <td>C1531301470</td>\n",
       "      <td>1258818.82</td>\n",
       "      <td>0.0</td>\n",
       "      <td>C1470998563</td>\n",
       "      <td>0.00</td>\n",
       "      <td>0.00</td>\n",
       "      <td>1</td>\n",
       "      <td>0</td>\n",
       "    </tr>\n",
       "    <tr>\n",
       "      <th>6362614</th>\n",
       "      <td>743</td>\n",
       "      <td>TRANSFER</td>\n",
       "      <td>339682.13</td>\n",
       "      <td>C2013999242</td>\n",
       "      <td>339682.13</td>\n",
       "      <td>0.0</td>\n",
       "      <td>C1850423904</td>\n",
       "      <td>0.00</td>\n",
       "      <td>0.00</td>\n",
       "      <td>1</td>\n",
       "      <td>0</td>\n",
       "    </tr>\n",
       "    <tr>\n",
       "      <th>6362616</th>\n",
       "      <td>743</td>\n",
       "      <td>TRANSFER</td>\n",
       "      <td>6311409.28</td>\n",
       "      <td>C1529008245</td>\n",
       "      <td>6311409.28</td>\n",
       "      <td>0.0</td>\n",
       "      <td>C1881841831</td>\n",
       "      <td>0.00</td>\n",
       "      <td>0.00</td>\n",
       "      <td>1</td>\n",
       "      <td>0</td>\n",
       "    </tr>\n",
       "    <tr>\n",
       "      <th>6362618</th>\n",
       "      <td>743</td>\n",
       "      <td>TRANSFER</td>\n",
       "      <td>850002.52</td>\n",
       "      <td>C1685995037</td>\n",
       "      <td>850002.52</td>\n",
       "      <td>0.0</td>\n",
       "      <td>C2080388513</td>\n",
       "      <td>0.00</td>\n",
       "      <td>0.00</td>\n",
       "      <td>1</td>\n",
       "      <td>0</td>\n",
       "    </tr>\n",
       "  </tbody>\n",
       "</table>\n",
       "<p>409110 rows × 11 columns</p>\n",
       "</div>"
      ],
      "text/plain": [
       "         step      type      amount     nameOrig  oldbalanceOrg  \\\n",
       "19          1  TRANSFER   215310.30  C1670993182         705.00   \n",
       "24          1  TRANSFER   311685.89  C1984094095       10835.00   \n",
       "82          1  TRANSFER   224606.64   C873175411           0.00   \n",
       "84          1  TRANSFER   379856.23  C1449772539           0.00   \n",
       "85          1  TRANSFER  1505626.01   C926859124           0.00   \n",
       "...       ...       ...         ...          ...            ...   \n",
       "6362608   742  TRANSFER   258355.42  C1226129332      258355.42   \n",
       "6362612   743  TRANSFER  1258818.82  C1531301470     1258818.82   \n",
       "6362614   743  TRANSFER   339682.13  C2013999242      339682.13   \n",
       "6362616   743  TRANSFER  6311409.28  C1529008245     6311409.28   \n",
       "6362618   743  TRANSFER   850002.52  C1685995037      850002.52   \n",
       "\n",
       "         newbalanceOrig     nameDest  oldbalanceDest  newbalanceDest  isFraud  \\\n",
       "19                  0.0  C1100439041        22425.00            0.00        0   \n",
       "24                  0.0   C932583850         6267.00      2719172.89        0   \n",
       "82                  0.0   C766572210       354678.92            0.00        0   \n",
       "84                  0.0  C1590550415       900180.00     19169204.93        0   \n",
       "85                  0.0   C665576141        29031.00      5515763.34        0   \n",
       "...                 ...          ...             ...             ...      ...   \n",
       "6362608             0.0  C1744173808            0.00            0.00        1   \n",
       "6362612             0.0  C1470998563            0.00            0.00        1   \n",
       "6362614             0.0  C1850423904            0.00            0.00        1   \n",
       "6362616             0.0  C1881841831            0.00            0.00        1   \n",
       "6362618             0.0  C2080388513            0.00            0.00        1   \n",
       "\n",
       "         isFlaggedFraud  \n",
       "19                    0  \n",
       "24                    0  \n",
       "82                    0  \n",
       "84                    0  \n",
       "85                    0  \n",
       "...                 ...  \n",
       "6362608               0  \n",
       "6362612               0  \n",
       "6362614               0  \n",
       "6362616               0  \n",
       "6362618               0  \n",
       "\n",
       "[409110 rows x 11 columns]"
      ]
     },
     "execution_count": 16,
     "metadata": {},
     "output_type": "execute_result"
    }
   ],
   "source": [
    "df1[((df1['amount'] >= 200000) & (df1['type'] == 'TRANSFER'))]"
   ]
  },
  {
   "cell_type": "code",
   "execution_count": 17,
   "id": "e360c509-9f67-48cb-b21c-a897d7a76942",
   "metadata": {},
   "outputs": [
    {
     "data": {
      "text/html": [
       "<div>\n",
       "<style scoped>\n",
       "    .dataframe tbody tr th:only-of-type {\n",
       "        vertical-align: middle;\n",
       "    }\n",
       "\n",
       "    .dataframe tbody tr th {\n",
       "        vertical-align: top;\n",
       "    }\n",
       "\n",
       "    .dataframe thead th {\n",
       "        text-align: right;\n",
       "    }\n",
       "</style>\n",
       "<table border=\"1\" class=\"dataframe\">\n",
       "  <thead>\n",
       "    <tr style=\"text-align: right;\">\n",
       "      <th></th>\n",
       "      <th>step</th>\n",
       "      <th>type</th>\n",
       "      <th>amount</th>\n",
       "      <th>nameOrig</th>\n",
       "      <th>oldbalanceOrg</th>\n",
       "      <th>newbalanceOrig</th>\n",
       "      <th>nameDest</th>\n",
       "      <th>oldbalanceDest</th>\n",
       "      <th>newbalanceDest</th>\n",
       "      <th>isFraud</th>\n",
       "      <th>isFlaggedFraud</th>\n",
       "    </tr>\n",
       "  </thead>\n",
       "  <tbody>\n",
       "    <tr>\n",
       "      <th>2736446</th>\n",
       "      <td>212</td>\n",
       "      <td>TRANSFER</td>\n",
       "      <td>4953893.08</td>\n",
       "      <td>C728984460</td>\n",
       "      <td>4953893.08</td>\n",
       "      <td>4953893.08</td>\n",
       "      <td>C639921569</td>\n",
       "      <td>0.0</td>\n",
       "      <td>0.0</td>\n",
       "      <td>1</td>\n",
       "      <td>1</td>\n",
       "    </tr>\n",
       "    <tr>\n",
       "      <th>3247297</th>\n",
       "      <td>250</td>\n",
       "      <td>TRANSFER</td>\n",
       "      <td>1343002.08</td>\n",
       "      <td>C1100582606</td>\n",
       "      <td>1343002.08</td>\n",
       "      <td>1343002.08</td>\n",
       "      <td>C1147517658</td>\n",
       "      <td>0.0</td>\n",
       "      <td>0.0</td>\n",
       "      <td>1</td>\n",
       "      <td>1</td>\n",
       "    </tr>\n",
       "    <tr>\n",
       "      <th>3760288</th>\n",
       "      <td>279</td>\n",
       "      <td>TRANSFER</td>\n",
       "      <td>536624.41</td>\n",
       "      <td>C1035541766</td>\n",
       "      <td>536624.41</td>\n",
       "      <td>536624.41</td>\n",
       "      <td>C1100697970</td>\n",
       "      <td>0.0</td>\n",
       "      <td>0.0</td>\n",
       "      <td>1</td>\n",
       "      <td>1</td>\n",
       "    </tr>\n",
       "    <tr>\n",
       "      <th>5563713</th>\n",
       "      <td>387</td>\n",
       "      <td>TRANSFER</td>\n",
       "      <td>4892193.09</td>\n",
       "      <td>C908544136</td>\n",
       "      <td>4892193.09</td>\n",
       "      <td>4892193.09</td>\n",
       "      <td>C891140444</td>\n",
       "      <td>0.0</td>\n",
       "      <td>0.0</td>\n",
       "      <td>1</td>\n",
       "      <td>1</td>\n",
       "    </tr>\n",
       "    <tr>\n",
       "      <th>5996407</th>\n",
       "      <td>425</td>\n",
       "      <td>TRANSFER</td>\n",
       "      <td>10000000.00</td>\n",
       "      <td>C689608084</td>\n",
       "      <td>19585040.37</td>\n",
       "      <td>19585040.37</td>\n",
       "      <td>C1392803603</td>\n",
       "      <td>0.0</td>\n",
       "      <td>0.0</td>\n",
       "      <td>1</td>\n",
       "      <td>1</td>\n",
       "    </tr>\n",
       "    <tr>\n",
       "      <th>5996409</th>\n",
       "      <td>425</td>\n",
       "      <td>TRANSFER</td>\n",
       "      <td>9585040.37</td>\n",
       "      <td>C452586515</td>\n",
       "      <td>19585040.37</td>\n",
       "      <td>19585040.37</td>\n",
       "      <td>C1109166882</td>\n",
       "      <td>0.0</td>\n",
       "      <td>0.0</td>\n",
       "      <td>1</td>\n",
       "      <td>1</td>\n",
       "    </tr>\n",
       "    <tr>\n",
       "      <th>6168499</th>\n",
       "      <td>554</td>\n",
       "      <td>TRANSFER</td>\n",
       "      <td>3576297.10</td>\n",
       "      <td>C193696150</td>\n",
       "      <td>3576297.10</td>\n",
       "      <td>3576297.10</td>\n",
       "      <td>C484597480</td>\n",
       "      <td>0.0</td>\n",
       "      <td>0.0</td>\n",
       "      <td>1</td>\n",
       "      <td>1</td>\n",
       "    </tr>\n",
       "    <tr>\n",
       "      <th>6205439</th>\n",
       "      <td>586</td>\n",
       "      <td>TRANSFER</td>\n",
       "      <td>353874.22</td>\n",
       "      <td>C1684585475</td>\n",
       "      <td>353874.22</td>\n",
       "      <td>353874.22</td>\n",
       "      <td>C1770418982</td>\n",
       "      <td>0.0</td>\n",
       "      <td>0.0</td>\n",
       "      <td>1</td>\n",
       "      <td>1</td>\n",
       "    </tr>\n",
       "    <tr>\n",
       "      <th>6266413</th>\n",
       "      <td>617</td>\n",
       "      <td>TRANSFER</td>\n",
       "      <td>2542664.27</td>\n",
       "      <td>C786455622</td>\n",
       "      <td>2542664.27</td>\n",
       "      <td>2542664.27</td>\n",
       "      <td>C661958277</td>\n",
       "      <td>0.0</td>\n",
       "      <td>0.0</td>\n",
       "      <td>1</td>\n",
       "      <td>1</td>\n",
       "    </tr>\n",
       "    <tr>\n",
       "      <th>6281482</th>\n",
       "      <td>646</td>\n",
       "      <td>TRANSFER</td>\n",
       "      <td>10000000.00</td>\n",
       "      <td>C19004745</td>\n",
       "      <td>10399045.08</td>\n",
       "      <td>10399045.08</td>\n",
       "      <td>C1806199534</td>\n",
       "      <td>0.0</td>\n",
       "      <td>0.0</td>\n",
       "      <td>1</td>\n",
       "      <td>1</td>\n",
       "    </tr>\n",
       "    <tr>\n",
       "      <th>6281484</th>\n",
       "      <td>646</td>\n",
       "      <td>TRANSFER</td>\n",
       "      <td>399045.08</td>\n",
       "      <td>C724693370</td>\n",
       "      <td>10399045.08</td>\n",
       "      <td>10399045.08</td>\n",
       "      <td>C1909486199</td>\n",
       "      <td>0.0</td>\n",
       "      <td>0.0</td>\n",
       "      <td>1</td>\n",
       "      <td>1</td>\n",
       "    </tr>\n",
       "    <tr>\n",
       "      <th>6296014</th>\n",
       "      <td>671</td>\n",
       "      <td>TRANSFER</td>\n",
       "      <td>3441041.46</td>\n",
       "      <td>C917414431</td>\n",
       "      <td>3441041.46</td>\n",
       "      <td>3441041.46</td>\n",
       "      <td>C1082139865</td>\n",
       "      <td>0.0</td>\n",
       "      <td>0.0</td>\n",
       "      <td>1</td>\n",
       "      <td>1</td>\n",
       "    </tr>\n",
       "    <tr>\n",
       "      <th>6351225</th>\n",
       "      <td>702</td>\n",
       "      <td>TRANSFER</td>\n",
       "      <td>3171085.59</td>\n",
       "      <td>C1892216157</td>\n",
       "      <td>3171085.59</td>\n",
       "      <td>3171085.59</td>\n",
       "      <td>C1308068787</td>\n",
       "      <td>0.0</td>\n",
       "      <td>0.0</td>\n",
       "      <td>1</td>\n",
       "      <td>1</td>\n",
       "    </tr>\n",
       "    <tr>\n",
       "      <th>6362460</th>\n",
       "      <td>730</td>\n",
       "      <td>TRANSFER</td>\n",
       "      <td>10000000.00</td>\n",
       "      <td>C2140038573</td>\n",
       "      <td>17316255.05</td>\n",
       "      <td>17316255.05</td>\n",
       "      <td>C1395467927</td>\n",
       "      <td>0.0</td>\n",
       "      <td>0.0</td>\n",
       "      <td>1</td>\n",
       "      <td>1</td>\n",
       "    </tr>\n",
       "    <tr>\n",
       "      <th>6362462</th>\n",
       "      <td>730</td>\n",
       "      <td>TRANSFER</td>\n",
       "      <td>7316255.05</td>\n",
       "      <td>C1869569059</td>\n",
       "      <td>17316255.05</td>\n",
       "      <td>17316255.05</td>\n",
       "      <td>C1861208726</td>\n",
       "      <td>0.0</td>\n",
       "      <td>0.0</td>\n",
       "      <td>1</td>\n",
       "      <td>1</td>\n",
       "    </tr>\n",
       "    <tr>\n",
       "      <th>6362584</th>\n",
       "      <td>741</td>\n",
       "      <td>TRANSFER</td>\n",
       "      <td>5674547.89</td>\n",
       "      <td>C992223106</td>\n",
       "      <td>5674547.89</td>\n",
       "      <td>5674547.89</td>\n",
       "      <td>C1366804249</td>\n",
       "      <td>0.0</td>\n",
       "      <td>0.0</td>\n",
       "      <td>1</td>\n",
       "      <td>1</td>\n",
       "    </tr>\n",
       "  </tbody>\n",
       "</table>\n",
       "</div>"
      ],
      "text/plain": [
       "         step      type       amount     nameOrig  oldbalanceOrg  \\\n",
       "2736446   212  TRANSFER   4953893.08   C728984460     4953893.08   \n",
       "3247297   250  TRANSFER   1343002.08  C1100582606     1343002.08   \n",
       "3760288   279  TRANSFER    536624.41  C1035541766      536624.41   \n",
       "5563713   387  TRANSFER   4892193.09   C908544136     4892193.09   \n",
       "5996407   425  TRANSFER  10000000.00   C689608084    19585040.37   \n",
       "5996409   425  TRANSFER   9585040.37   C452586515    19585040.37   \n",
       "6168499   554  TRANSFER   3576297.10   C193696150     3576297.10   \n",
       "6205439   586  TRANSFER    353874.22  C1684585475      353874.22   \n",
       "6266413   617  TRANSFER   2542664.27   C786455622     2542664.27   \n",
       "6281482   646  TRANSFER  10000000.00    C19004745    10399045.08   \n",
       "6281484   646  TRANSFER    399045.08   C724693370    10399045.08   \n",
       "6296014   671  TRANSFER   3441041.46   C917414431     3441041.46   \n",
       "6351225   702  TRANSFER   3171085.59  C1892216157     3171085.59   \n",
       "6362460   730  TRANSFER  10000000.00  C2140038573    17316255.05   \n",
       "6362462   730  TRANSFER   7316255.05  C1869569059    17316255.05   \n",
       "6362584   741  TRANSFER   5674547.89   C992223106     5674547.89   \n",
       "\n",
       "         newbalanceOrig     nameDest  oldbalanceDest  newbalanceDest  isFraud  \\\n",
       "2736446      4953893.08   C639921569             0.0             0.0        1   \n",
       "3247297      1343002.08  C1147517658             0.0             0.0        1   \n",
       "3760288       536624.41  C1100697970             0.0             0.0        1   \n",
       "5563713      4892193.09   C891140444             0.0             0.0        1   \n",
       "5996407     19585040.37  C1392803603             0.0             0.0        1   \n",
       "5996409     19585040.37  C1109166882             0.0             0.0        1   \n",
       "6168499      3576297.10   C484597480             0.0             0.0        1   \n",
       "6205439       353874.22  C1770418982             0.0             0.0        1   \n",
       "6266413      2542664.27   C661958277             0.0             0.0        1   \n",
       "6281482     10399045.08  C1806199534             0.0             0.0        1   \n",
       "6281484     10399045.08  C1909486199             0.0             0.0        1   \n",
       "6296014      3441041.46  C1082139865             0.0             0.0        1   \n",
       "6351225      3171085.59  C1308068787             0.0             0.0        1   \n",
       "6362460     17316255.05  C1395467927             0.0             0.0        1   \n",
       "6362462     17316255.05  C1861208726             0.0             0.0        1   \n",
       "6362584      5674547.89  C1366804249             0.0             0.0        1   \n",
       "\n",
       "         isFlaggedFraud  \n",
       "2736446               1  \n",
       "3247297               1  \n",
       "3760288               1  \n",
       "5563713               1  \n",
       "5996407               1  \n",
       "5996409               1  \n",
       "6168499               1  \n",
       "6205439               1  \n",
       "6266413               1  \n",
       "6281482               1  \n",
       "6281484               1  \n",
       "6296014               1  \n",
       "6351225               1  \n",
       "6362460               1  \n",
       "6362462               1  \n",
       "6362584               1  "
      ]
     },
     "execution_count": 17,
     "metadata": {},
     "output_type": "execute_result"
    }
   ],
   "source": [
    "df1[df1['isFlaggedFraud'] == 1]"
   ]
  },
  {
   "cell_type": "markdown",
   "id": "3f185424-42b0-46f9-b4c4-8ccb03197368",
   "metadata": {},
   "source": [
    "### Inference: Dataset show that not all transactions with amount > 200000 and type=TRANSFER have 'isFraudFlagged' 1. This is incontrary to what the meta data says for 'isFraudFlagged'."
   ]
  },
  {
   "cell_type": "markdown",
   "id": "0c1d10c9-fc80-4b41-8416-539f1282807f",
   "metadata": {},
   "source": [
    "### Analysing transactions using variables 'nameOrig' and 'nameDest':"
   ]
  },
  {
   "cell_type": "code",
   "execution_count": 18,
   "id": "6828c9f1-04cd-4bec-aca5-c790267cfe14",
   "metadata": {},
   "outputs": [
    {
     "data": {
      "text/plain": [
       "6353307"
      ]
     },
     "execution_count": 18,
     "metadata": {},
     "output_type": "execute_result"
    }
   ],
   "source": [
    "df1['nameOrig'].unique().size"
   ]
  },
  {
   "cell_type": "code",
   "execution_count": 19,
   "id": "4eba4c83-c4bb-4bb3-90bc-84c1c9ce3768",
   "metadata": {},
   "outputs": [
    {
     "data": {
      "text/plain": [
       "2722362"
      ]
     },
     "execution_count": 19,
     "metadata": {},
     "output_type": "execute_result"
    }
   ],
   "source": [
    "df1['nameDest'].unique().size"
   ]
  },
  {
   "cell_type": "code",
   "execution_count": 20,
   "id": "5a6f497b-389e-4a84-9162-a3a24633208c",
   "metadata": {},
   "outputs": [
    {
     "data": {
      "text/html": [
       "<div>\n",
       "<style scoped>\n",
       "    .dataframe tbody tr th:only-of-type {\n",
       "        vertical-align: middle;\n",
       "    }\n",
       "\n",
       "    .dataframe tbody tr th {\n",
       "        vertical-align: top;\n",
       "    }\n",
       "\n",
       "    .dataframe thead th {\n",
       "        text-align: right;\n",
       "    }\n",
       "</style>\n",
       "<table border=\"1\" class=\"dataframe\">\n",
       "  <thead>\n",
       "    <tr style=\"text-align: right;\">\n",
       "      <th></th>\n",
       "      <th>step</th>\n",
       "      <th>type</th>\n",
       "      <th>amount</th>\n",
       "      <th>nameOrig</th>\n",
       "      <th>oldbalanceOrg</th>\n",
       "      <th>newbalanceOrig</th>\n",
       "      <th>nameDest</th>\n",
       "      <th>oldbalanceDest</th>\n",
       "      <th>newbalanceDest</th>\n",
       "      <th>isFraud</th>\n",
       "      <th>isFlaggedFraud</th>\n",
       "    </tr>\n",
       "  </thead>\n",
       "  <tbody>\n",
       "  </tbody>\n",
       "</table>\n",
       "</div>"
      ],
      "text/plain": [
       "Empty DataFrame\n",
       "Columns: [step, type, amount, nameOrig, oldbalanceOrg, newbalanceOrig, nameDest, oldbalanceDest, newbalanceDest, isFraud, isFlaggedFraud]\n",
       "Index: []"
      ]
     },
     "execution_count": 20,
     "metadata": {},
     "output_type": "execute_result"
    }
   ],
   "source": [
    "df1[df1['nameOrig']==df1['nameDest']]"
   ]
  },
  {
   "cell_type": "code",
   "execution_count": 21,
   "id": "0375c4a7-970a-440d-b41f-2e5514c3f23a",
   "metadata": {},
   "outputs": [
    {
     "data": {
      "text/plain": [
       "6362620"
      ]
     },
     "execution_count": 21,
     "metadata": {},
     "output_type": "execute_result"
    }
   ],
   "source": [
    "customers_in_orig_mask = df1['nameOrig'].str.startswith('C')\n",
    "customers_in_orig_mask.sum()"
   ]
  },
  {
   "cell_type": "code",
   "execution_count": 22,
   "id": "cdf460b0-b734-4799-b451-01f80dc0bf57",
   "metadata": {},
   "outputs": [
    {
     "data": {
      "text/plain": [
       "0"
      ]
     },
     "execution_count": 22,
     "metadata": {},
     "output_type": "execute_result"
    }
   ],
   "source": [
    "merchants_in_orig_mask = ~ customers_in_orig_mask\n",
    "merchants_in_orig_mask.sum()"
   ]
  },
  {
   "cell_type": "code",
   "execution_count": 23,
   "id": "af4836ae-574b-49a9-b3ce-81aff5b7c0e8",
   "metadata": {},
   "outputs": [
    {
     "data": {
      "text/plain": [
       "4211125"
      ]
     },
     "execution_count": 23,
     "metadata": {},
     "output_type": "execute_result"
    }
   ],
   "source": [
    "customers_in_dest_mask = df1['nameDest'].str.startswith('C')\n",
    "customers_in_dest_mask.sum()"
   ]
  },
  {
   "cell_type": "code",
   "execution_count": 24,
   "id": "75761775-d598-45f6-91ac-805b8bc232ee",
   "metadata": {},
   "outputs": [
    {
     "data": {
      "text/html": [
       "<div>\n",
       "<style scoped>\n",
       "    .dataframe tbody tr th:only-of-type {\n",
       "        vertical-align: middle;\n",
       "    }\n",
       "\n",
       "    .dataframe tbody tr th {\n",
       "        vertical-align: top;\n",
       "    }\n",
       "\n",
       "    .dataframe thead th {\n",
       "        text-align: right;\n",
       "    }\n",
       "</style>\n",
       "<table border=\"1\" class=\"dataframe\">\n",
       "  <thead>\n",
       "    <tr style=\"text-align: right;\">\n",
       "      <th></th>\n",
       "      <th>step</th>\n",
       "      <th>type</th>\n",
       "      <th>amount</th>\n",
       "      <th>nameOrig</th>\n",
       "      <th>oldbalanceOrg</th>\n",
       "      <th>newbalanceOrig</th>\n",
       "      <th>nameDest</th>\n",
       "      <th>oldbalanceDest</th>\n",
       "      <th>newbalanceDest</th>\n",
       "      <th>isFraud</th>\n",
       "      <th>isFlaggedFraud</th>\n",
       "    </tr>\n",
       "  </thead>\n",
       "  <tbody>\n",
       "    <tr>\n",
       "      <th>0</th>\n",
       "      <td>1</td>\n",
       "      <td>PAYMENT</td>\n",
       "      <td>9839.64</td>\n",
       "      <td>C1231006815</td>\n",
       "      <td>170136.0</td>\n",
       "      <td>160296.36</td>\n",
       "      <td>M1979787155</td>\n",
       "      <td>0.0</td>\n",
       "      <td>0.0</td>\n",
       "      <td>0</td>\n",
       "      <td>0</td>\n",
       "    </tr>\n",
       "    <tr>\n",
       "      <th>1</th>\n",
       "      <td>1</td>\n",
       "      <td>PAYMENT</td>\n",
       "      <td>1864.28</td>\n",
       "      <td>C1666544295</td>\n",
       "      <td>21249.0</td>\n",
       "      <td>19384.72</td>\n",
       "      <td>M2044282225</td>\n",
       "      <td>0.0</td>\n",
       "      <td>0.0</td>\n",
       "      <td>0</td>\n",
       "      <td>0</td>\n",
       "    </tr>\n",
       "    <tr>\n",
       "      <th>4</th>\n",
       "      <td>1</td>\n",
       "      <td>PAYMENT</td>\n",
       "      <td>11668.14</td>\n",
       "      <td>C2048537720</td>\n",
       "      <td>41554.0</td>\n",
       "      <td>29885.86</td>\n",
       "      <td>M1230701703</td>\n",
       "      <td>0.0</td>\n",
       "      <td>0.0</td>\n",
       "      <td>0</td>\n",
       "      <td>0</td>\n",
       "    </tr>\n",
       "    <tr>\n",
       "      <th>5</th>\n",
       "      <td>1</td>\n",
       "      <td>PAYMENT</td>\n",
       "      <td>7817.71</td>\n",
       "      <td>C90045638</td>\n",
       "      <td>53860.0</td>\n",
       "      <td>46042.29</td>\n",
       "      <td>M573487274</td>\n",
       "      <td>0.0</td>\n",
       "      <td>0.0</td>\n",
       "      <td>0</td>\n",
       "      <td>0</td>\n",
       "    </tr>\n",
       "    <tr>\n",
       "      <th>6</th>\n",
       "      <td>1</td>\n",
       "      <td>PAYMENT</td>\n",
       "      <td>7107.77</td>\n",
       "      <td>C154988899</td>\n",
       "      <td>183195.0</td>\n",
       "      <td>176087.23</td>\n",
       "      <td>M408069119</td>\n",
       "      <td>0.0</td>\n",
       "      <td>0.0</td>\n",
       "      <td>0</td>\n",
       "      <td>0</td>\n",
       "    </tr>\n",
       "    <tr>\n",
       "      <th>...</th>\n",
       "      <td>...</td>\n",
       "      <td>...</td>\n",
       "      <td>...</td>\n",
       "      <td>...</td>\n",
       "      <td>...</td>\n",
       "      <td>...</td>\n",
       "      <td>...</td>\n",
       "      <td>...</td>\n",
       "      <td>...</td>\n",
       "      <td>...</td>\n",
       "      <td>...</td>\n",
       "    </tr>\n",
       "    <tr>\n",
       "      <th>6362312</th>\n",
       "      <td>718</td>\n",
       "      <td>PAYMENT</td>\n",
       "      <td>8178.01</td>\n",
       "      <td>C1213413071</td>\n",
       "      <td>11742.0</td>\n",
       "      <td>3563.99</td>\n",
       "      <td>M1112540487</td>\n",
       "      <td>0.0</td>\n",
       "      <td>0.0</td>\n",
       "      <td>0</td>\n",
       "      <td>0</td>\n",
       "    </tr>\n",
       "    <tr>\n",
       "      <th>6362314</th>\n",
       "      <td>718</td>\n",
       "      <td>PAYMENT</td>\n",
       "      <td>17841.23</td>\n",
       "      <td>C1045048098</td>\n",
       "      <td>10182.0</td>\n",
       "      <td>0.00</td>\n",
       "      <td>M1878955882</td>\n",
       "      <td>0.0</td>\n",
       "      <td>0.0</td>\n",
       "      <td>0</td>\n",
       "      <td>0</td>\n",
       "    </tr>\n",
       "    <tr>\n",
       "      <th>6362316</th>\n",
       "      <td>718</td>\n",
       "      <td>PAYMENT</td>\n",
       "      <td>1022.91</td>\n",
       "      <td>C1203084509</td>\n",
       "      <td>12.0</td>\n",
       "      <td>0.00</td>\n",
       "      <td>M675916850</td>\n",
       "      <td>0.0</td>\n",
       "      <td>0.0</td>\n",
       "      <td>0</td>\n",
       "      <td>0</td>\n",
       "    </tr>\n",
       "    <tr>\n",
       "      <th>6362318</th>\n",
       "      <td>718</td>\n",
       "      <td>PAYMENT</td>\n",
       "      <td>4109.57</td>\n",
       "      <td>C673558958</td>\n",
       "      <td>5521.0</td>\n",
       "      <td>1411.43</td>\n",
       "      <td>M1126011651</td>\n",
       "      <td>0.0</td>\n",
       "      <td>0.0</td>\n",
       "      <td>0</td>\n",
       "      <td>0</td>\n",
       "    </tr>\n",
       "    <tr>\n",
       "      <th>6362319</th>\n",
       "      <td>718</td>\n",
       "      <td>PAYMENT</td>\n",
       "      <td>8634.29</td>\n",
       "      <td>C642813806</td>\n",
       "      <td>518802.0</td>\n",
       "      <td>510167.71</td>\n",
       "      <td>M747723689</td>\n",
       "      <td>0.0</td>\n",
       "      <td>0.0</td>\n",
       "      <td>0</td>\n",
       "      <td>0</td>\n",
       "    </tr>\n",
       "  </tbody>\n",
       "</table>\n",
       "<p>2151495 rows × 11 columns</p>\n",
       "</div>"
      ],
      "text/plain": [
       "         step     type    amount     nameOrig  oldbalanceOrg  newbalanceOrig  \\\n",
       "0           1  PAYMENT   9839.64  C1231006815       170136.0       160296.36   \n",
       "1           1  PAYMENT   1864.28  C1666544295        21249.0        19384.72   \n",
       "4           1  PAYMENT  11668.14  C2048537720        41554.0        29885.86   \n",
       "5           1  PAYMENT   7817.71    C90045638        53860.0        46042.29   \n",
       "6           1  PAYMENT   7107.77   C154988899       183195.0       176087.23   \n",
       "...       ...      ...       ...          ...            ...             ...   \n",
       "6362312   718  PAYMENT   8178.01  C1213413071        11742.0         3563.99   \n",
       "6362314   718  PAYMENT  17841.23  C1045048098        10182.0            0.00   \n",
       "6362316   718  PAYMENT   1022.91  C1203084509           12.0            0.00   \n",
       "6362318   718  PAYMENT   4109.57   C673558958         5521.0         1411.43   \n",
       "6362319   718  PAYMENT   8634.29   C642813806       518802.0       510167.71   \n",
       "\n",
       "            nameDest  oldbalanceDest  newbalanceDest  isFraud  isFlaggedFraud  \n",
       "0        M1979787155             0.0             0.0        0               0  \n",
       "1        M2044282225             0.0             0.0        0               0  \n",
       "4        M1230701703             0.0             0.0        0               0  \n",
       "5         M573487274             0.0             0.0        0               0  \n",
       "6         M408069119             0.0             0.0        0               0  \n",
       "...              ...             ...             ...      ...             ...  \n",
       "6362312  M1112540487             0.0             0.0        0               0  \n",
       "6362314  M1878955882             0.0             0.0        0               0  \n",
       "6362316   M675916850             0.0             0.0        0               0  \n",
       "6362318  M1126011651             0.0             0.0        0               0  \n",
       "6362319   M747723689             0.0             0.0        0               0  \n",
       "\n",
       "[2151495 rows x 11 columns]"
      ]
     },
     "execution_count": 24,
     "metadata": {},
     "output_type": "execute_result"
    }
   ],
   "source": [
    "merchants_in_dest_mask = ~ customers_in_dest_mask\n",
    "df1[merchants_in_dest_mask]"
   ]
  },
  {
   "cell_type": "code",
   "execution_count": 25,
   "id": "8ca69980-f6e3-4ba5-9942-c06e74a4f6ab",
   "metadata": {},
   "outputs": [
    {
     "name": "stdout",
     "output_type": "stream",
     "text": [
      "Percentage of CC_T: 0.6618539218120837\n",
      "Percentage of CM_T: 0.3381460781879163\n"
     ]
    }
   ],
   "source": [
    "TT = df1.shape[0]\n",
    "N_CC_T = customers_in_dest_mask.sum()\n",
    "N_CM_T = TT - N_CC_T\n",
    "\n",
    "\n",
    "print(f'Percentage of CC_T: {N_CC_T/TT}')\n",
    "print(f'Percentage of CM_T: {N_CM_T/TT}')"
   ]
  },
  {
   "cell_type": "markdown",
   "id": "108cb531-f870-4765-a9cb-e2ef3265f086",
   "metadata": {},
   "source": [
    "### Inference: 2/3 of the transactions are CC_T and 1/3 are CM_T."
   ]
  },
  {
   "cell_type": "code",
   "execution_count": 26,
   "id": "41eeba2c-6d16-4bb1-9585-1f0e63b85f41",
   "metadata": {},
   "outputs": [
    {
     "name": "stdout",
     "output_type": "stream",
     "text": [
      "Percentage of fraud transactions in CC_T: 0.001950310190269821\n",
      "Percentage of genuine transactions in CC_T: 0.9980496898097302\n",
      "Percentage of fraud transactions in CM_T: 0.0\n",
      "Percentage of genuine transactions in CM_T: 1.0\n"
     ]
    }
   ],
   "source": [
    "N_F_CC_T = (customers_in_dest_mask & is_fraud_mask).sum()\n",
    "N_G_CC_T = N_CC_T - N_F_CC_T\n",
    "\n",
    "N_F_CM_T = (merchants_in_dest_mask & is_fraud_mask).sum()\n",
    "N_G_CM_T = N_CM_T - N_F_CM_T\n",
    "\n",
    "print(f'Percentage of fraud transactions in CC_T: {N_F_CC_T/N_CC_T}')\n",
    "print(f'Percentage of genuine transactions in CC_T: {N_G_CC_T/N_CC_T}')\n",
    "\n",
    "print(f'Percentage of fraud transactions in CM_T: {N_F_CM_T/N_CM_T}')\n",
    "print(f'Percentage of genuine transactions in CM_T: {N_G_CM_T/N_CM_T}')"
   ]
  },
  {
   "cell_type": "markdown",
   "id": "fe922f46-0957-40ea-ad78-17fb49c65489",
   "metadata": {},
   "source": [
    "### Inference: All the fraud cases mentioned in the dataset occurred in CC_T and no fraud occurred in CM_T."
   ]
  },
  {
   "cell_type": "code",
   "execution_count": 27,
   "id": "67863747-8e8f-467a-8b92-dc0d8623178a",
   "metadata": {},
   "outputs": [],
   "source": [
    "cols_to_remove_1 = ['nameOrig', 'nameDest', 'isFlaggedFraud']\n",
    "df2 = df1.drop(columns=cols_to_remove_1)\n",
    "df2['is_CM_T'] = np.where(merchants_in_dest_mask, 1, 0)"
   ]
  },
  {
   "cell_type": "code",
   "execution_count": 28,
   "id": "291208af-1f16-45e8-ba1b-4e30424849bf",
   "metadata": {},
   "outputs": [
    {
     "data": {
      "text/html": [
       "<div>\n",
       "<style scoped>\n",
       "    .dataframe tbody tr th:only-of-type {\n",
       "        vertical-align: middle;\n",
       "    }\n",
       "\n",
       "    .dataframe tbody tr th {\n",
       "        vertical-align: top;\n",
       "    }\n",
       "\n",
       "    .dataframe thead th {\n",
       "        text-align: right;\n",
       "    }\n",
       "</style>\n",
       "<table border=\"1\" class=\"dataframe\">\n",
       "  <thead>\n",
       "    <tr style=\"text-align: right;\">\n",
       "      <th></th>\n",
       "      <th>step</th>\n",
       "      <th>type</th>\n",
       "      <th>amount</th>\n",
       "      <th>oldbalanceOrg</th>\n",
       "      <th>newbalanceOrig</th>\n",
       "      <th>oldbalanceDest</th>\n",
       "      <th>newbalanceDest</th>\n",
       "      <th>isFraud</th>\n",
       "      <th>is_CM_T</th>\n",
       "    </tr>\n",
       "  </thead>\n",
       "  <tbody>\n",
       "    <tr>\n",
       "      <th>0</th>\n",
       "      <td>1</td>\n",
       "      <td>PAYMENT</td>\n",
       "      <td>9839.64</td>\n",
       "      <td>170136.00</td>\n",
       "      <td>160296.36</td>\n",
       "      <td>0.00</td>\n",
       "      <td>0.00</td>\n",
       "      <td>0</td>\n",
       "      <td>1</td>\n",
       "    </tr>\n",
       "    <tr>\n",
       "      <th>1</th>\n",
       "      <td>1</td>\n",
       "      <td>PAYMENT</td>\n",
       "      <td>1864.28</td>\n",
       "      <td>21249.00</td>\n",
       "      <td>19384.72</td>\n",
       "      <td>0.00</td>\n",
       "      <td>0.00</td>\n",
       "      <td>0</td>\n",
       "      <td>1</td>\n",
       "    </tr>\n",
       "    <tr>\n",
       "      <th>2</th>\n",
       "      <td>1</td>\n",
       "      <td>TRANSFER</td>\n",
       "      <td>181.00</td>\n",
       "      <td>181.00</td>\n",
       "      <td>0.00</td>\n",
       "      <td>0.00</td>\n",
       "      <td>0.00</td>\n",
       "      <td>1</td>\n",
       "      <td>0</td>\n",
       "    </tr>\n",
       "    <tr>\n",
       "      <th>3</th>\n",
       "      <td>1</td>\n",
       "      <td>CASH_OUT</td>\n",
       "      <td>181.00</td>\n",
       "      <td>181.00</td>\n",
       "      <td>0.00</td>\n",
       "      <td>21182.00</td>\n",
       "      <td>0.00</td>\n",
       "      <td>1</td>\n",
       "      <td>0</td>\n",
       "    </tr>\n",
       "    <tr>\n",
       "      <th>4</th>\n",
       "      <td>1</td>\n",
       "      <td>PAYMENT</td>\n",
       "      <td>11668.14</td>\n",
       "      <td>41554.00</td>\n",
       "      <td>29885.86</td>\n",
       "      <td>0.00</td>\n",
       "      <td>0.00</td>\n",
       "      <td>0</td>\n",
       "      <td>1</td>\n",
       "    </tr>\n",
       "    <tr>\n",
       "      <th>...</th>\n",
       "      <td>...</td>\n",
       "      <td>...</td>\n",
       "      <td>...</td>\n",
       "      <td>...</td>\n",
       "      <td>...</td>\n",
       "      <td>...</td>\n",
       "      <td>...</td>\n",
       "      <td>...</td>\n",
       "      <td>...</td>\n",
       "    </tr>\n",
       "    <tr>\n",
       "      <th>6362615</th>\n",
       "      <td>743</td>\n",
       "      <td>CASH_OUT</td>\n",
       "      <td>339682.13</td>\n",
       "      <td>339682.13</td>\n",
       "      <td>0.00</td>\n",
       "      <td>0.00</td>\n",
       "      <td>339682.13</td>\n",
       "      <td>1</td>\n",
       "      <td>0</td>\n",
       "    </tr>\n",
       "    <tr>\n",
       "      <th>6362616</th>\n",
       "      <td>743</td>\n",
       "      <td>TRANSFER</td>\n",
       "      <td>6311409.28</td>\n",
       "      <td>6311409.28</td>\n",
       "      <td>0.00</td>\n",
       "      <td>0.00</td>\n",
       "      <td>0.00</td>\n",
       "      <td>1</td>\n",
       "      <td>0</td>\n",
       "    </tr>\n",
       "    <tr>\n",
       "      <th>6362617</th>\n",
       "      <td>743</td>\n",
       "      <td>CASH_OUT</td>\n",
       "      <td>6311409.28</td>\n",
       "      <td>6311409.28</td>\n",
       "      <td>0.00</td>\n",
       "      <td>68488.84</td>\n",
       "      <td>6379898.11</td>\n",
       "      <td>1</td>\n",
       "      <td>0</td>\n",
       "    </tr>\n",
       "    <tr>\n",
       "      <th>6362618</th>\n",
       "      <td>743</td>\n",
       "      <td>TRANSFER</td>\n",
       "      <td>850002.52</td>\n",
       "      <td>850002.52</td>\n",
       "      <td>0.00</td>\n",
       "      <td>0.00</td>\n",
       "      <td>0.00</td>\n",
       "      <td>1</td>\n",
       "      <td>0</td>\n",
       "    </tr>\n",
       "    <tr>\n",
       "      <th>6362619</th>\n",
       "      <td>743</td>\n",
       "      <td>CASH_OUT</td>\n",
       "      <td>850002.52</td>\n",
       "      <td>850002.52</td>\n",
       "      <td>0.00</td>\n",
       "      <td>6510099.11</td>\n",
       "      <td>7360101.63</td>\n",
       "      <td>1</td>\n",
       "      <td>0</td>\n",
       "    </tr>\n",
       "  </tbody>\n",
       "</table>\n",
       "<p>6362620 rows × 9 columns</p>\n",
       "</div>"
      ],
      "text/plain": [
       "         step      type      amount  oldbalanceOrg  newbalanceOrig  \\\n",
       "0           1   PAYMENT     9839.64      170136.00       160296.36   \n",
       "1           1   PAYMENT     1864.28       21249.00        19384.72   \n",
       "2           1  TRANSFER      181.00         181.00            0.00   \n",
       "3           1  CASH_OUT      181.00         181.00            0.00   \n",
       "4           1   PAYMENT    11668.14       41554.00        29885.86   \n",
       "...       ...       ...         ...            ...             ...   \n",
       "6362615   743  CASH_OUT   339682.13      339682.13            0.00   \n",
       "6362616   743  TRANSFER  6311409.28     6311409.28            0.00   \n",
       "6362617   743  CASH_OUT  6311409.28     6311409.28            0.00   \n",
       "6362618   743  TRANSFER   850002.52      850002.52            0.00   \n",
       "6362619   743  CASH_OUT   850002.52      850002.52            0.00   \n",
       "\n",
       "         oldbalanceDest  newbalanceDest  isFraud  is_CM_T  \n",
       "0                  0.00            0.00        0        1  \n",
       "1                  0.00            0.00        0        1  \n",
       "2                  0.00            0.00        1        0  \n",
       "3              21182.00            0.00        1        0  \n",
       "4                  0.00            0.00        0        1  \n",
       "...                 ...             ...      ...      ...  \n",
       "6362615            0.00       339682.13        1        0  \n",
       "6362616            0.00            0.00        1        0  \n",
       "6362617        68488.84      6379898.11        1        0  \n",
       "6362618            0.00            0.00        1        0  \n",
       "6362619      6510099.11      7360101.63        1        0  \n",
       "\n",
       "[6362620 rows x 9 columns]"
      ]
     },
     "execution_count": 28,
     "metadata": {},
     "output_type": "execute_result"
    }
   ],
   "source": [
    "df2"
   ]
  },
  {
   "cell_type": "markdown",
   "id": "a5309664-c72e-4201-994d-8451aa4df5ea",
   "metadata": {},
   "source": [
    "### Analysing the balance of both sender's and recipient's account:"
   ]
  },
  {
   "cell_type": "code",
   "execution_count": 29,
   "id": "8b3a3305-44f9-4777-8c37-16d6499d448f",
   "metadata": {},
   "outputs": [],
   "source": [
    "orig_bal_should_decrease_mask = df2['type'].isin(['TRANSFER', 'PAYMENT', 'CASH_OUT', 'DEBIT'])\n",
    "orig_bal_mismatch_after_debit_mask = (orig_bal_should_decrease_mask &\n",
    "                                      (abs(df2['oldbalanceOrg'] - df2['newbalanceOrig'] - df2['amount']) > 0.02))\n",
    "orig_bal_match_after_debit_mask = (orig_bal_should_decrease_mask &\n",
    "                                   (abs(df2['oldbalanceOrg'] - df2['newbalanceOrig'] - df2['amount']) <= 0.02))\n",
    "\n",
    "dest_bal_mismatch_after_debit_mask = (orig_bal_should_decrease_mask &\n",
    "                                         (abs(df2['newbalanceDest'] - df2['oldbalanceDest'] - df2['amount']) > 0.02))\n",
    "dest_bal_match_after_debit_mask = (orig_bal_should_decrease_mask &\n",
    "                                   (abs(df2['newbalanceDest'] - df2['oldbalanceDest'] - df2['amount']) <= 0.02))\n",
    "\n",
    "orig_bal_should_increase_mask = df2['type'].isin(['CASH_IN'])\n",
    "orig_bal_mismatch_after_credit_mask = (orig_bal_should_increase_mask &\n",
    "                                       (abs(df2['newbalanceOrig'] - df2['oldbalanceOrg'] - df2['amount']) > 0.02))\n",
    "orig_bal_match_after_credit_mask = (orig_bal_should_increase_mask &\n",
    "                                    (abs(df2['newbalanceOrig'] - df2['oldbalanceOrg'] - df2['amount']) <= 0.02))\n",
    "\n",
    "dest_bal_mismatch_after_credit_mask = (orig_bal_should_increase_mask &\n",
    "                                       (abs(df2['oldbalanceDest'] - df2['newbalanceDest'] - df2['amount']) > 0.02))\n",
    "dest_bal_match_after_credit_mask = (orig_bal_should_increase_mask &\n",
    "                                    (abs(df2['oldbalanceDest'] - df2['newbalanceDest'] - df2['amount']) <= 0.02))"
   ]
  },
  {
   "cell_type": "code",
   "execution_count": 30,
   "id": "15ca55bb-7d7b-4087-a224-5cc199a689bc",
   "metadata": {},
   "outputs": [
    {
     "name": "stdout",
     "output_type": "stream",
     "text": [
      "orig_bal_mismatch_after_debit_count: 3601560\n",
      "orig_bal_match_after_debit_count: 1361776\n",
      "dest_bal_mismatch_after_debit_count: 2424660\n",
      "dest_bal_match_after_debit_count: 2538676\n"
     ]
    }
   ],
   "source": [
    "orig_bal_mismatch_after_debit_count = orig_bal_mismatch_after_debit_mask.sum()\n",
    "orig_bal_match_after_debit_count = orig_bal_match_after_debit_mask.sum()\n",
    "\n",
    "dest_bal_mismatch_after_debit_count = dest_bal_mismatch_after_debit_mask.sum()\n",
    "dest_bal_match_after_debit_count = dest_bal_match_after_debit_mask.sum()\n",
    "\n",
    "print(f'orig_bal_mismatch_after_debit_count: {orig_bal_mismatch_after_debit_count}')\n",
    "print(f'orig_bal_match_after_debit_count: {orig_bal_match_after_debit_count}')\n",
    "print(f'dest_bal_mismatch_after_debit_count: {dest_bal_mismatch_after_debit_count}')\n",
    "print(f'dest_bal_match_after_debit_count: {dest_bal_match_after_debit_count}')"
   ]
  },
  {
   "cell_type": "code",
   "execution_count": 31,
   "id": "a33e752e-fed9-48cc-b6d4-9375183601f0",
   "metadata": {},
   "outputs": [
    {
     "name": "stdout",
     "output_type": "stream",
     "text": [
      "orig_bal_mismatch_after_credit_count: 33\n",
      "orig_bal_match_after_credit_count: 1399251\n",
      "dest_bal_mismatch_after_credit_count: 367245\n",
      "dest_bal_match_after_credit_count: 1032039\n"
     ]
    }
   ],
   "source": [
    "orig_bal_mismatch_after_credit_count = orig_bal_mismatch_after_credit_mask.sum()\n",
    "orig_bal_match_after_credit_count = orig_bal_match_after_credit_mask.sum()\n",
    "\n",
    "dest_bal_mismatch_after_credit_count = dest_bal_mismatch_after_credit_mask.sum()\n",
    "dest_bal_match_after_credit_count = dest_bal_match_after_credit_mask.sum()\n",
    "\n",
    "print(f'orig_bal_mismatch_after_credit_count: {orig_bal_mismatch_after_credit_count}')\n",
    "print(f'orig_bal_match_after_credit_count: {orig_bal_match_after_credit_count}')\n",
    "print(f'dest_bal_mismatch_after_credit_count: {dest_bal_mismatch_after_credit_count}')\n",
    "print(f'dest_bal_match_after_credit_count: {dest_bal_match_after_credit_count}')"
   ]
  },
  {
   "cell_type": "code",
   "execution_count": 32,
   "id": "9c7e2c62-4066-4998-a1f2-1da3fa19638c",
   "metadata": {},
   "outputs": [
    {
     "data": {
      "text/plain": [
       "279804"
      ]
     },
     "execution_count": 32,
     "metadata": {},
     "output_type": "execute_result"
    }
   ],
   "source": [
    "(orig_bal_match_after_debit_mask & dest_bal_match_after_debit_mask).sum()"
   ]
  },
  {
   "cell_type": "code",
   "execution_count": 33,
   "id": "ba36a71f-ea16-432b-9d71-8dbdfa09c197",
   "metadata": {},
   "outputs": [
    {
     "data": {
      "text/plain": [
       "1032039"
      ]
     },
     "execution_count": 33,
     "metadata": {},
     "output_type": "execute_result"
    }
   ],
   "source": [
    "(orig_bal_match_after_credit_mask & dest_bal_match_after_credit_mask).sum()"
   ]
  },
  {
   "cell_type": "code",
   "execution_count": 34,
   "id": "2bd33eac-439d-4270-8fab-66e54b3c797d",
   "metadata": {},
   "outputs": [
    {
     "data": {
      "text/plain": [
       "1342688"
      ]
     },
     "execution_count": 34,
     "metadata": {},
     "output_type": "execute_result"
    }
   ],
   "source": [
    "(orig_bal_mismatch_after_debit_mask & dest_bal_mismatch_after_debit_mask).sum()"
   ]
  },
  {
   "cell_type": "code",
   "execution_count": 35,
   "id": "5b9825d4-23ee-484c-b3a2-72f6782702a8",
   "metadata": {},
   "outputs": [
    {
     "data": {
      "text/plain": [
       "33"
      ]
     },
     "execution_count": 35,
     "metadata": {},
     "output_type": "execute_result"
    }
   ],
   "source": [
    "(orig_bal_mismatch_after_credit_mask & dest_bal_mismatch_after_credit_mask).sum()"
   ]
  },
  {
   "cell_type": "markdown",
   "id": "bf16bf43-f530-4168-84c6-ae42012ac963",
   "metadata": {},
   "source": [
    "### Inference: The simulation is not taking into account of the data integrity constraint i.e. in the dataset the rule amount deducted must be equal to amount added is not followed."
   ]
  },
  {
   "cell_type": "code",
   "execution_count": 36,
   "id": "e37adff4-1009-46bc-b663-ad930a2c9b6c",
   "metadata": {},
   "outputs": [
    {
     "data": {
      "text/plain": [
       "2089037"
      ]
     },
     "execution_count": 36,
     "metadata": {},
     "output_type": "execute_result"
    }
   ],
   "source": [
    "((df2['oldbalanceOrg'] == df2['newbalanceOrig'])).sum()"
   ]
  },
  {
   "cell_type": "code",
   "execution_count": 37,
   "id": "78913a61-6948-4964-a506-38e14010212f",
   "metadata": {},
   "outputs": [
    {
     "data": {
      "text/plain": [
       "2317292"
      ]
     },
     "execution_count": 37,
     "metadata": {},
     "output_type": "execute_result"
    }
   ],
   "source": [
    "((df2['oldbalanceDest'] == df2['newbalanceDest'])).sum()"
   ]
  },
  {
   "cell_type": "code",
   "execution_count": 38,
   "id": "32923d4b-663b-4de6-8ca7-a4bd0581b244",
   "metadata": {},
   "outputs": [
    {
     "name": "stdout",
     "output_type": "stream",
     "text": [
      "orig_same_old_and_new_bal_during_bal_mismatch_debit: 2088985\n",
      "orig_same_old_and_new_bal_during_bal_mismatch_credit: 33\n",
      "dest_same_old_and_new_bal_during_bal_mismatch_debit: 2157268\n",
      "dest_same_old_and_new_bal_during_bal_mismatch_credit: 160005\n"
     ]
    }
   ],
   "source": [
    "orig_same_old_and_new_bal_during_bal_mismatch_debit = ((df2['oldbalanceOrg'] == df2['newbalanceOrig']) & \n",
    "                                                       orig_bal_mismatch_after_debit_mask).sum()\n",
    "orig_same_old_and_new_bal_during_bal_mismatch_credit = ((df2['oldbalanceOrg'] == df2['newbalanceOrig']) & \n",
    "                                                        orig_bal_mismatch_after_credit_mask).sum()\n",
    "\n",
    "dest_same_old_and_new_bal_during_bal_mismatch_debit = ((df2['oldbalanceDest'] == df2['newbalanceDest']) & \n",
    "                                                       dest_bal_mismatch_after_debit_mask).sum()\n",
    "dest_same_old_and_new_bal_during_bal_mismatch_credit = ((df2['oldbalanceDest'] == df2['newbalanceDest']) & \n",
    "                                                        dest_bal_mismatch_after_credit_mask).sum()\n",
    "\n",
    "print(f'orig_same_old_and_new_bal_during_bal_mismatch_debit: {orig_same_old_and_new_bal_during_bal_mismatch_debit}')\n",
    "print(f'orig_same_old_and_new_bal_during_bal_mismatch_credit: {orig_same_old_and_new_bal_during_bal_mismatch_credit}')\n",
    "print(f'dest_same_old_and_new_bal_during_bal_mismatch_debit: {dest_same_old_and_new_bal_during_bal_mismatch_debit}')\n",
    "print(f'dest_same_old_and_new_bal_during_bal_mismatch_credit: {dest_same_old_and_new_bal_during_bal_mismatch_credit}')"
   ]
  },
  {
   "cell_type": "code",
   "execution_count": 39,
   "id": "f30a6f59-01c9-4399-8d7c-15c015a2b71c",
   "metadata": {},
   "outputs": [
    {
     "name": "stdout",
     "output_type": "stream",
     "text": [
      "orig_same_old_and_new_bal_during_bal_match_debit: 19\n",
      "orig_same_old_and_new_bal_during_bal_match_credit: 0\n",
      "dest_same_old_and_new_bal_during_bal_match_debit: 19\n",
      "dest_same_old_and_new_bal_during_bal_match_credit: 0\n"
     ]
    }
   ],
   "source": [
    "orig_same_old_and_new_bal_during_bal_match_debit = ((df2['oldbalanceOrg'] == df2['newbalanceOrig']) & \n",
    "                                                       orig_bal_match_after_debit_mask)\n",
    "orig_same_old_and_new_bal_during_bal_match_credit = ((df2['oldbalanceOrg'] == df2['newbalanceOrig']) & \n",
    "                                                        orig_bal_match_after_credit_mask)\n",
    "\n",
    "dest_same_old_and_new_bal_during_bal_match_debit = ((df2['oldbalanceDest'] == df2['newbalanceDest']) & \n",
    "                                                       dest_bal_match_after_debit_mask)\n",
    "dest_same_old_and_new_bal_during_bal_match_credit = ((df2['oldbalanceDest'] == df2['newbalanceDest']) & \n",
    "                                                        dest_bal_match_after_credit_mask)\n",
    "\n",
    "print(f'orig_same_old_and_new_bal_during_bal_match_debit: {orig_same_old_and_new_bal_during_bal_match_debit.sum()}')\n",
    "print(f'orig_same_old_and_new_bal_during_bal_match_credit: {orig_same_old_and_new_bal_during_bal_match_credit.sum()}')\n",
    "print(f'dest_same_old_and_new_bal_during_bal_match_debit: {dest_same_old_and_new_bal_during_bal_match_debit.sum()}')\n",
    "print(f'dest_same_old_and_new_bal_during_bal_match_credit: {dest_same_old_and_new_bal_during_bal_match_credit.sum()}')"
   ]
  },
  {
   "cell_type": "code",
   "execution_count": 40,
   "id": "09a3314a-40a3-46c6-b12f-b64a9557fe8f",
   "metadata": {},
   "outputs": [],
   "source": [
    "df2['err_in_bal_org'] = np.where(orig_bal_should_increase_mask, df2['newbalanceOrig'] - df2['oldbalanceOrg'] \n",
    "                                 - df2['amount'], df2['oldbalanceOrg'] - df2['newbalanceOrig'] - df2['amount'])\n",
    "df2['err_in_bal_dest'] = np.where(orig_bal_should_increase_mask, df2['oldbalanceDest'] - df2['newbalanceDest'] \n",
    "                                  - df2['amount'], df2['newbalanceDest'] - df2['oldbalanceDest'] - df2['amount'])"
   ]
  },
  {
   "cell_type": "code",
   "execution_count": 41,
   "id": "d99e53b6-1fc2-4f9d-a104-d4deb1c7cb59",
   "metadata": {},
   "outputs": [
    {
     "data": {
      "text/html": [
       "<div>\n",
       "<style scoped>\n",
       "    .dataframe tbody tr th:only-of-type {\n",
       "        vertical-align: middle;\n",
       "    }\n",
       "\n",
       "    .dataframe tbody tr th {\n",
       "        vertical-align: top;\n",
       "    }\n",
       "\n",
       "    .dataframe thead th {\n",
       "        text-align: right;\n",
       "    }\n",
       "</style>\n",
       "<table border=\"1\" class=\"dataframe\">\n",
       "  <thead>\n",
       "    <tr style=\"text-align: right;\">\n",
       "      <th></th>\n",
       "      <th>step</th>\n",
       "      <th>type</th>\n",
       "      <th>amount</th>\n",
       "      <th>oldbalanceOrg</th>\n",
       "      <th>newbalanceOrig</th>\n",
       "      <th>oldbalanceDest</th>\n",
       "      <th>newbalanceDest</th>\n",
       "      <th>isFraud</th>\n",
       "      <th>is_CM_T</th>\n",
       "      <th>err_in_bal_org</th>\n",
       "      <th>err_in_bal_dest</th>\n",
       "    </tr>\n",
       "  </thead>\n",
       "  <tbody>\n",
       "    <tr>\n",
       "      <th>0</th>\n",
       "      <td>1</td>\n",
       "      <td>PAYMENT</td>\n",
       "      <td>9839.64</td>\n",
       "      <td>170136.00</td>\n",
       "      <td>160296.36</td>\n",
       "      <td>0.00</td>\n",
       "      <td>0.00</td>\n",
       "      <td>0</td>\n",
       "      <td>1</td>\n",
       "      <td>1.455192e-11</td>\n",
       "      <td>-9.839640e+03</td>\n",
       "    </tr>\n",
       "    <tr>\n",
       "      <th>1</th>\n",
       "      <td>1</td>\n",
       "      <td>PAYMENT</td>\n",
       "      <td>1864.28</td>\n",
       "      <td>21249.00</td>\n",
       "      <td>19384.72</td>\n",
       "      <td>0.00</td>\n",
       "      <td>0.00</td>\n",
       "      <td>0</td>\n",
       "      <td>1</td>\n",
       "      <td>-1.136868e-12</td>\n",
       "      <td>-1.864280e+03</td>\n",
       "    </tr>\n",
       "    <tr>\n",
       "      <th>2</th>\n",
       "      <td>1</td>\n",
       "      <td>TRANSFER</td>\n",
       "      <td>181.00</td>\n",
       "      <td>181.00</td>\n",
       "      <td>0.00</td>\n",
       "      <td>0.00</td>\n",
       "      <td>0.00</td>\n",
       "      <td>1</td>\n",
       "      <td>0</td>\n",
       "      <td>0.000000e+00</td>\n",
       "      <td>-1.810000e+02</td>\n",
       "    </tr>\n",
       "    <tr>\n",
       "      <th>3</th>\n",
       "      <td>1</td>\n",
       "      <td>CASH_OUT</td>\n",
       "      <td>181.00</td>\n",
       "      <td>181.00</td>\n",
       "      <td>0.00</td>\n",
       "      <td>21182.00</td>\n",
       "      <td>0.00</td>\n",
       "      <td>1</td>\n",
       "      <td>0</td>\n",
       "      <td>0.000000e+00</td>\n",
       "      <td>-2.136300e+04</td>\n",
       "    </tr>\n",
       "    <tr>\n",
       "      <th>4</th>\n",
       "      <td>1</td>\n",
       "      <td>PAYMENT</td>\n",
       "      <td>11668.14</td>\n",
       "      <td>41554.00</td>\n",
       "      <td>29885.86</td>\n",
       "      <td>0.00</td>\n",
       "      <td>0.00</td>\n",
       "      <td>0</td>\n",
       "      <td>1</td>\n",
       "      <td>0.000000e+00</td>\n",
       "      <td>-1.166814e+04</td>\n",
       "    </tr>\n",
       "    <tr>\n",
       "      <th>...</th>\n",
       "      <td>...</td>\n",
       "      <td>...</td>\n",
       "      <td>...</td>\n",
       "      <td>...</td>\n",
       "      <td>...</td>\n",
       "      <td>...</td>\n",
       "      <td>...</td>\n",
       "      <td>...</td>\n",
       "      <td>...</td>\n",
       "      <td>...</td>\n",
       "      <td>...</td>\n",
       "    </tr>\n",
       "    <tr>\n",
       "      <th>6362615</th>\n",
       "      <td>743</td>\n",
       "      <td>CASH_OUT</td>\n",
       "      <td>339682.13</td>\n",
       "      <td>339682.13</td>\n",
       "      <td>0.00</td>\n",
       "      <td>0.00</td>\n",
       "      <td>339682.13</td>\n",
       "      <td>1</td>\n",
       "      <td>0</td>\n",
       "      <td>0.000000e+00</td>\n",
       "      <td>0.000000e+00</td>\n",
       "    </tr>\n",
       "    <tr>\n",
       "      <th>6362616</th>\n",
       "      <td>743</td>\n",
       "      <td>TRANSFER</td>\n",
       "      <td>6311409.28</td>\n",
       "      <td>6311409.28</td>\n",
       "      <td>0.00</td>\n",
       "      <td>0.00</td>\n",
       "      <td>0.00</td>\n",
       "      <td>1</td>\n",
       "      <td>0</td>\n",
       "      <td>0.000000e+00</td>\n",
       "      <td>-6.311409e+06</td>\n",
       "    </tr>\n",
       "    <tr>\n",
       "      <th>6362617</th>\n",
       "      <td>743</td>\n",
       "      <td>CASH_OUT</td>\n",
       "      <td>6311409.28</td>\n",
       "      <td>6311409.28</td>\n",
       "      <td>0.00</td>\n",
       "      <td>68488.84</td>\n",
       "      <td>6379898.11</td>\n",
       "      <td>1</td>\n",
       "      <td>0</td>\n",
       "      <td>0.000000e+00</td>\n",
       "      <td>-1.000000e-02</td>\n",
       "    </tr>\n",
       "    <tr>\n",
       "      <th>6362618</th>\n",
       "      <td>743</td>\n",
       "      <td>TRANSFER</td>\n",
       "      <td>850002.52</td>\n",
       "      <td>850002.52</td>\n",
       "      <td>0.00</td>\n",
       "      <td>0.00</td>\n",
       "      <td>0.00</td>\n",
       "      <td>1</td>\n",
       "      <td>0</td>\n",
       "      <td>0.000000e+00</td>\n",
       "      <td>-8.500025e+05</td>\n",
       "    </tr>\n",
       "    <tr>\n",
       "      <th>6362619</th>\n",
       "      <td>743</td>\n",
       "      <td>CASH_OUT</td>\n",
       "      <td>850002.52</td>\n",
       "      <td>850002.52</td>\n",
       "      <td>0.00</td>\n",
       "      <td>6510099.11</td>\n",
       "      <td>7360101.63</td>\n",
       "      <td>1</td>\n",
       "      <td>0</td>\n",
       "      <td>0.000000e+00</td>\n",
       "      <td>-4.656613e-10</td>\n",
       "    </tr>\n",
       "  </tbody>\n",
       "</table>\n",
       "<p>6362620 rows × 11 columns</p>\n",
       "</div>"
      ],
      "text/plain": [
       "         step      type      amount  oldbalanceOrg  newbalanceOrig  \\\n",
       "0           1   PAYMENT     9839.64      170136.00       160296.36   \n",
       "1           1   PAYMENT     1864.28       21249.00        19384.72   \n",
       "2           1  TRANSFER      181.00         181.00            0.00   \n",
       "3           1  CASH_OUT      181.00         181.00            0.00   \n",
       "4           1   PAYMENT    11668.14       41554.00        29885.86   \n",
       "...       ...       ...         ...            ...             ...   \n",
       "6362615   743  CASH_OUT   339682.13      339682.13            0.00   \n",
       "6362616   743  TRANSFER  6311409.28     6311409.28            0.00   \n",
       "6362617   743  CASH_OUT  6311409.28     6311409.28            0.00   \n",
       "6362618   743  TRANSFER   850002.52      850002.52            0.00   \n",
       "6362619   743  CASH_OUT   850002.52      850002.52            0.00   \n",
       "\n",
       "         oldbalanceDest  newbalanceDest  isFraud  is_CM_T  err_in_bal_org  \\\n",
       "0                  0.00            0.00        0        1    1.455192e-11   \n",
       "1                  0.00            0.00        0        1   -1.136868e-12   \n",
       "2                  0.00            0.00        1        0    0.000000e+00   \n",
       "3              21182.00            0.00        1        0    0.000000e+00   \n",
       "4                  0.00            0.00        0        1    0.000000e+00   \n",
       "...                 ...             ...      ...      ...             ...   \n",
       "6362615            0.00       339682.13        1        0    0.000000e+00   \n",
       "6362616            0.00            0.00        1        0    0.000000e+00   \n",
       "6362617        68488.84      6379898.11        1        0    0.000000e+00   \n",
       "6362618            0.00            0.00        1        0    0.000000e+00   \n",
       "6362619      6510099.11      7360101.63        1        0    0.000000e+00   \n",
       "\n",
       "         err_in_bal_dest  \n",
       "0          -9.839640e+03  \n",
       "1          -1.864280e+03  \n",
       "2          -1.810000e+02  \n",
       "3          -2.136300e+04  \n",
       "4          -1.166814e+04  \n",
       "...                  ...  \n",
       "6362615     0.000000e+00  \n",
       "6362616    -6.311409e+06  \n",
       "6362617    -1.000000e-02  \n",
       "6362618    -8.500025e+05  \n",
       "6362619    -4.656613e-10  \n",
       "\n",
       "[6362620 rows x 11 columns]"
      ]
     },
     "execution_count": 41,
     "metadata": {},
     "output_type": "execute_result"
    }
   ],
   "source": [
    "df2"
   ]
  },
  {
   "cell_type": "code",
   "execution_count": 42,
   "id": "62f19ec5-05e6-491f-a72a-c6a94551968c",
   "metadata": {},
   "outputs": [
    {
     "data": {
      "text/html": [
       "<div>\n",
       "<style scoped>\n",
       "    .dataframe tbody tr th:only-of-type {\n",
       "        vertical-align: middle;\n",
       "    }\n",
       "\n",
       "    .dataframe tbody tr th {\n",
       "        vertical-align: top;\n",
       "    }\n",
       "\n",
       "    .dataframe thead th {\n",
       "        text-align: right;\n",
       "    }\n",
       "</style>\n",
       "<table border=\"1\" class=\"dataframe\">\n",
       "  <thead>\n",
       "    <tr style=\"text-align: right;\">\n",
       "      <th></th>\n",
       "      <th>err_in_bal_org</th>\n",
       "      <th>err_in_bal_dest</th>\n",
       "    </tr>\n",
       "  </thead>\n",
       "  <tbody>\n",
       "    <tr>\n",
       "      <th>count</th>\n",
       "      <td>6.362620e+06</td>\n",
       "      <td>6.362620e+06</td>\n",
       "    </tr>\n",
       "    <tr>\n",
       "      <th>mean</th>\n",
       "      <td>-1.267959e+05</td>\n",
       "      <td>-2.427970e+03</td>\n",
       "    </tr>\n",
       "    <tr>\n",
       "      <th>std</th>\n",
       "      <td>5.943125e+05</td>\n",
       "      <td>4.116677e+05</td>\n",
       "    </tr>\n",
       "    <tr>\n",
       "      <th>min</th>\n",
       "      <td>-9.244552e+07</td>\n",
       "      <td>-5.695142e+07</td>\n",
       "    </tr>\n",
       "    <tr>\n",
       "      <th>25%</th>\n",
       "      <td>-1.145037e+05</td>\n",
       "      <td>-8.493712e+03</td>\n",
       "    </tr>\n",
       "    <tr>\n",
       "      <th>50%</th>\n",
       "      <td>-5.797990e+03</td>\n",
       "      <td>-1.746230e-10</td>\n",
       "    </tr>\n",
       "    <tr>\n",
       "      <th>75%</th>\n",
       "      <td>0.000000e+00</td>\n",
       "      <td>0.000000e+00</td>\n",
       "    </tr>\n",
       "    <tr>\n",
       "      <th>max</th>\n",
       "      <td>1.000001e-02</td>\n",
       "      <td>7.588573e+07</td>\n",
       "    </tr>\n",
       "  </tbody>\n",
       "</table>\n",
       "</div>"
      ],
      "text/plain": [
       "       err_in_bal_org  err_in_bal_dest\n",
       "count    6.362620e+06     6.362620e+06\n",
       "mean    -1.267959e+05    -2.427970e+03\n",
       "std      5.943125e+05     4.116677e+05\n",
       "min     -9.244552e+07    -5.695142e+07\n",
       "25%     -1.145037e+05    -8.493712e+03\n",
       "50%     -5.797990e+03    -1.746230e-10\n",
       "75%      0.000000e+00     0.000000e+00\n",
       "max      1.000001e-02     7.588573e+07"
      ]
     },
     "execution_count": 42,
     "metadata": {},
     "output_type": "execute_result"
    }
   ],
   "source": [
    "df2[['err_in_bal_org', 'err_in_bal_dest']].describe()"
   ]
  },
  {
   "cell_type": "code",
   "execution_count": 43,
   "id": "c906c0e5-7e5a-4757-b66a-5388f47ddf40",
   "metadata": {},
   "outputs": [
    {
     "data": {
      "image/png": "[encoded data removed]",
      "text/plain": [
       "<Figure size 600x200 with 1 Axes>"
      ]
     },
     "metadata": {},
     "output_type": "display_data"
    }
   ],
   "source": [
    "plt.figure(figsize=(6,2))\n",
    "plt.scatter(x=df2[is_not_fraud_mask]['err_in_bal_org'], y=df2[is_not_fraud_mask]['err_in_bal_dest'], \n",
    "            label='genuine')\n",
    "plt.scatter(x=df2[is_fraud_mask]['err_in_bal_org'], y=df2[is_fraud_mask]['err_in_bal_dest'], \n",
    "            label='fraud')\n",
    "plt.legend()\n",
    "plt.xlabel('err_in_bal_org')\n",
    "plt.ylabel('err_in_bal_dest')\n",
    "plt.show()"
   ]
  },
  {
   "cell_type": "markdown",
   "id": "56b2dde9-77f3-47d0-a4bb-883aec96c482",
   "metadata": {},
   "source": [
    "### Analysing transactions using the 'step' variable:"
   ]
  },
  {
   "cell_type": "code",
   "execution_count": 44,
   "id": "0770248f-9604-479a-bce7-953119dcf3fa",
   "metadata": {},
   "outputs": [
    {
     "data": {
      "image/png": "[encoded data removed]",
      "text/plain": [
       "<Figure size 800x500 with 1 Axes>"
      ]
     },
     "metadata": {},
     "output_type": "display_data"
    }
   ],
   "source": [
    "plt.figure(figsize=(8,5))\n",
    "sns.histplot(df2, x='step', binwidth=24)\n",
    "plt.show()"
   ]
  },
  {
   "cell_type": "code",
   "execution_count": 45,
   "id": "07f940b2-84fe-46b3-a5f3-074d1a6dba95",
   "metadata": {},
   "outputs": [
    {
     "data": {
      "image/png": "[encoded data removed]",
      "text/plain": [
       "<Figure size 800x500 with 1 Axes>"
      ]
     },
     "metadata": {},
     "output_type": "display_data"
    }
   ],
   "source": [
    "plt.figure(figsize=(8,5))\n",
    "sns.histplot(df2[is_not_fraud_mask], x='step', binwidth=24)\n",
    "plt.show()"
   ]
  },
  {
   "cell_type": "code",
   "execution_count": 46,
   "id": "dbb4864f-23c3-4988-a329-061ea75dfac2",
   "metadata": {},
   "outputs": [
    {
     "data": {
      "image/png": "[encoded data removed]",
      "text/plain": [
       "<Figure size 800x500 with 1 Axes>"
      ]
     },
     "metadata": {},
     "output_type": "display_data"
    }
   ],
   "source": [
    "plt.figure(figsize=(8,5))\n",
    "sns.histplot(df2[is_fraud_mask], x='step', binwidth=24)\n",
    "plt.show()"
   ]
  },
  {
   "cell_type": "markdown",
   "id": "3b754dd9-0a1d-49ee-8175-410141fc10dc",
   "metadata": {},
   "source": [
    "### Inference: Most of the genuine transactions are done on days 1-2 and days 6-17 of the month. Whereas the fraud transactions are done uniformly across all days of the month."
   ]
  },
  {
   "cell_type": "code",
   "execution_count": 47,
   "id": "9b1c7dc7-236d-4110-9287-71f8bcce79dd",
   "metadata": {},
   "outputs": [
    {
     "data": {
      "text/html": [
       "<div>\n",
       "<style scoped>\n",
       "    .dataframe tbody tr th:only-of-type {\n",
       "        vertical-align: middle;\n",
       "    }\n",
       "\n",
       "    .dataframe tbody tr th {\n",
       "        vertical-align: top;\n",
       "    }\n",
       "\n",
       "    .dataframe thead th {\n",
       "        text-align: right;\n",
       "    }\n",
       "</style>\n",
       "<table border=\"1\" class=\"dataframe\">\n",
       "  <thead>\n",
       "    <tr style=\"text-align: right;\">\n",
       "      <th></th>\n",
       "      <th>step</th>\n",
       "      <th>type</th>\n",
       "      <th>amount</th>\n",
       "      <th>oldbalanceOrg</th>\n",
       "      <th>newbalanceOrig</th>\n",
       "      <th>oldbalanceDest</th>\n",
       "      <th>newbalanceDest</th>\n",
       "      <th>isFraud</th>\n",
       "      <th>is_CM_T</th>\n",
       "      <th>err_in_bal_org</th>\n",
       "      <th>err_in_bal_dest</th>\n",
       "      <th>hour_of_day</th>\n",
       "    </tr>\n",
       "  </thead>\n",
       "  <tbody>\n",
       "    <tr>\n",
       "      <th>0</th>\n",
       "      <td>1</td>\n",
       "      <td>PAYMENT</td>\n",
       "      <td>9839.64</td>\n",
       "      <td>170136.00</td>\n",
       "      <td>160296.36</td>\n",
       "      <td>0.00</td>\n",
       "      <td>0.00</td>\n",
       "      <td>0</td>\n",
       "      <td>1</td>\n",
       "      <td>1.455192e-11</td>\n",
       "      <td>-9.839640e+03</td>\n",
       "      <td>1</td>\n",
       "    </tr>\n",
       "    <tr>\n",
       "      <th>1</th>\n",
       "      <td>1</td>\n",
       "      <td>PAYMENT</td>\n",
       "      <td>1864.28</td>\n",
       "      <td>21249.00</td>\n",
       "      <td>19384.72</td>\n",
       "      <td>0.00</td>\n",
       "      <td>0.00</td>\n",
       "      <td>0</td>\n",
       "      <td>1</td>\n",
       "      <td>-1.136868e-12</td>\n",
       "      <td>-1.864280e+03</td>\n",
       "      <td>1</td>\n",
       "    </tr>\n",
       "    <tr>\n",
       "      <th>2</th>\n",
       "      <td>1</td>\n",
       "      <td>TRANSFER</td>\n",
       "      <td>181.00</td>\n",
       "      <td>181.00</td>\n",
       "      <td>0.00</td>\n",
       "      <td>0.00</td>\n",
       "      <td>0.00</td>\n",
       "      <td>1</td>\n",
       "      <td>0</td>\n",
       "      <td>0.000000e+00</td>\n",
       "      <td>-1.810000e+02</td>\n",
       "      <td>1</td>\n",
       "    </tr>\n",
       "    <tr>\n",
       "      <th>3</th>\n",
       "      <td>1</td>\n",
       "      <td>CASH_OUT</td>\n",
       "      <td>181.00</td>\n",
       "      <td>181.00</td>\n",
       "      <td>0.00</td>\n",
       "      <td>21182.00</td>\n",
       "      <td>0.00</td>\n",
       "      <td>1</td>\n",
       "      <td>0</td>\n",
       "      <td>0.000000e+00</td>\n",
       "      <td>-2.136300e+04</td>\n",
       "      <td>1</td>\n",
       "    </tr>\n",
       "    <tr>\n",
       "      <th>4</th>\n",
       "      <td>1</td>\n",
       "      <td>PAYMENT</td>\n",
       "      <td>11668.14</td>\n",
       "      <td>41554.00</td>\n",
       "      <td>29885.86</td>\n",
       "      <td>0.00</td>\n",
       "      <td>0.00</td>\n",
       "      <td>0</td>\n",
       "      <td>1</td>\n",
       "      <td>0.000000e+00</td>\n",
       "      <td>-1.166814e+04</td>\n",
       "      <td>1</td>\n",
       "    </tr>\n",
       "    <tr>\n",
       "      <th>...</th>\n",
       "      <td>...</td>\n",
       "      <td>...</td>\n",
       "      <td>...</td>\n",
       "      <td>...</td>\n",
       "      <td>...</td>\n",
       "      <td>...</td>\n",
       "      <td>...</td>\n",
       "      <td>...</td>\n",
       "      <td>...</td>\n",
       "      <td>...</td>\n",
       "      <td>...</td>\n",
       "      <td>...</td>\n",
       "    </tr>\n",
       "    <tr>\n",
       "      <th>6362615</th>\n",
       "      <td>743</td>\n",
       "      <td>CASH_OUT</td>\n",
       "      <td>339682.13</td>\n",
       "      <td>339682.13</td>\n",
       "      <td>0.00</td>\n",
       "      <td>0.00</td>\n",
       "      <td>339682.13</td>\n",
       "      <td>1</td>\n",
       "      <td>0</td>\n",
       "      <td>0.000000e+00</td>\n",
       "      <td>0.000000e+00</td>\n",
       "      <td>23</td>\n",
       "    </tr>\n",
       "    <tr>\n",
       "      <th>6362616</th>\n",
       "      <td>743</td>\n",
       "      <td>TRANSFER</td>\n",
       "      <td>6311409.28</td>\n",
       "      <td>6311409.28</td>\n",
       "      <td>0.00</td>\n",
       "      <td>0.00</td>\n",
       "      <td>0.00</td>\n",
       "      <td>1</td>\n",
       "      <td>0</td>\n",
       "      <td>0.000000e+00</td>\n",
       "      <td>-6.311409e+06</td>\n",
       "      <td>23</td>\n",
       "    </tr>\n",
       "    <tr>\n",
       "      <th>6362617</th>\n",
       "      <td>743</td>\n",
       "      <td>CASH_OUT</td>\n",
       "      <td>6311409.28</td>\n",
       "      <td>6311409.28</td>\n",
       "      <td>0.00</td>\n",
       "      <td>68488.84</td>\n",
       "      <td>6379898.11</td>\n",
       "      <td>1</td>\n",
       "      <td>0</td>\n",
       "      <td>0.000000e+00</td>\n",
       "      <td>-1.000000e-02</td>\n",
       "      <td>23</td>\n",
       "    </tr>\n",
       "    <tr>\n",
       "      <th>6362618</th>\n",
       "      <td>743</td>\n",
       "      <td>TRANSFER</td>\n",
       "      <td>850002.52</td>\n",
       "      <td>850002.52</td>\n",
       "      <td>0.00</td>\n",
       "      <td>0.00</td>\n",
       "      <td>0.00</td>\n",
       "      <td>1</td>\n",
       "      <td>0</td>\n",
       "      <td>0.000000e+00</td>\n",
       "      <td>-8.500025e+05</td>\n",
       "      <td>23</td>\n",
       "    </tr>\n",
       "    <tr>\n",
       "      <th>6362619</th>\n",
       "      <td>743</td>\n",
       "      <td>CASH_OUT</td>\n",
       "      <td>850002.52</td>\n",
       "      <td>850002.52</td>\n",
       "      <td>0.00</td>\n",
       "      <td>6510099.11</td>\n",
       "      <td>7360101.63</td>\n",
       "      <td>1</td>\n",
       "      <td>0</td>\n",
       "      <td>0.000000e+00</td>\n",
       "      <td>-4.656613e-10</td>\n",
       "      <td>23</td>\n",
       "    </tr>\n",
       "  </tbody>\n",
       "</table>\n",
       "<p>6362620 rows × 12 columns</p>\n",
       "</div>"
      ],
      "text/plain": [
       "         step      type      amount  oldbalanceOrg  newbalanceOrig  \\\n",
       "0           1   PAYMENT     9839.64      170136.00       160296.36   \n",
       "1           1   PAYMENT     1864.28       21249.00        19384.72   \n",
       "2           1  TRANSFER      181.00         181.00            0.00   \n",
       "3           1  CASH_OUT      181.00         181.00            0.00   \n",
       "4           1   PAYMENT    11668.14       41554.00        29885.86   \n",
       "...       ...       ...         ...            ...             ...   \n",
       "6362615   743  CASH_OUT   339682.13      339682.13            0.00   \n",
       "6362616   743  TRANSFER  6311409.28     6311409.28            0.00   \n",
       "6362617   743  CASH_OUT  6311409.28     6311409.28            0.00   \n",
       "6362618   743  TRANSFER   850002.52      850002.52            0.00   \n",
       "6362619   743  CASH_OUT   850002.52      850002.52            0.00   \n",
       "\n",
       "         oldbalanceDest  newbalanceDest  isFraud  is_CM_T  err_in_bal_org  \\\n",
       "0                  0.00            0.00        0        1    1.455192e-11   \n",
       "1                  0.00            0.00        0        1   -1.136868e-12   \n",
       "2                  0.00            0.00        1        0    0.000000e+00   \n",
       "3              21182.00            0.00        1        0    0.000000e+00   \n",
       "4                  0.00            0.00        0        1    0.000000e+00   \n",
       "...                 ...             ...      ...      ...             ...   \n",
       "6362615            0.00       339682.13        1        0    0.000000e+00   \n",
       "6362616            0.00            0.00        1        0    0.000000e+00   \n",
       "6362617        68488.84      6379898.11        1        0    0.000000e+00   \n",
       "6362618            0.00            0.00        1        0    0.000000e+00   \n",
       "6362619      6510099.11      7360101.63        1        0    0.000000e+00   \n",
       "\n",
       "         err_in_bal_dest  hour_of_day  \n",
       "0          -9.839640e+03            1  \n",
       "1          -1.864280e+03            1  \n",
       "2          -1.810000e+02            1  \n",
       "3          -2.136300e+04            1  \n",
       "4          -1.166814e+04            1  \n",
       "...                  ...          ...  \n",
       "6362615     0.000000e+00           23  \n",
       "6362616    -6.311409e+06           23  \n",
       "6362617    -1.000000e-02           23  \n",
       "6362618    -8.500025e+05           23  \n",
       "6362619    -4.656613e-10           23  \n",
       "\n",
       "[6362620 rows x 12 columns]"
      ]
     },
     "execution_count": 47,
     "metadata": {},
     "output_type": "execute_result"
    }
   ],
   "source": [
    "df2['hour_of_day'] = df2['step'] % 24\n",
    "df2"
   ]
  },
  {
   "cell_type": "code",
   "execution_count": 48,
   "id": "c0c4dd40-713e-4930-8739-b03f0f6ecee8",
   "metadata": {},
   "outputs": [
    {
     "data": {
      "image/png": "[encoded data removed]",
      "text/plain": [
       "<Figure size 800x500 with 1 Axes>"
      ]
     },
     "metadata": {},
     "output_type": "display_data"
    }
   ],
   "source": [
    "plt.figure(figsize=(8,5))\n",
    "sns.histplot(df2, x='hour_of_day', discrete=True)\n",
    "plt.show()"
   ]
  },
  {
   "cell_type": "code",
   "execution_count": 49,
   "id": "3f4eeb01-5d62-44fc-8dae-b555ffcccce1",
   "metadata": {},
   "outputs": [
    {
     "data": {
      "image/png": "[encoded data removed]",
      "text/plain": [
       "<Figure size 1000x500 with 1 Axes>"
      ]
     },
     "metadata": {},
     "output_type": "display_data"
    }
   ],
   "source": [
    "plt.figure(figsize=(10,5))\n",
    "sns.histplot(df2[is_not_fraud_mask], x='hour_of_day', discrete=True)\n",
    "plt.show()"
   ]
  },
  {
   "cell_type": "code",
   "execution_count": 50,
   "id": "65a5a932-0324-4e05-9406-c497cdcde04a",
   "metadata": {},
   "outputs": [
    {
     "data": {
      "image/png": "[encoded data removed]",
      "text/plain": [
       "<Figure size 800x500 with 1 Axes>"
      ]
     },
     "metadata": {},
     "output_type": "display_data"
    }
   ],
   "source": [
    "plt.figure(figsize=(8,5))\n",
    "sns.histplot(df2[is_fraud_mask], x='hour_of_day', discrete=True)\n",
    "plt.show()"
   ]
  },
  {
   "cell_type": "markdown",
   "id": "6a5dc7cc-19db-431c-a1e7-23b88a893888",
   "metadata": {},
   "source": [
    "### Inference: Most of the genuine transactions are done on hour of the day 9-23. Whereas the fraud transactions are done uniformly across all hours of the day."
   ]
  },
  {
   "cell_type": "code",
   "execution_count": 51,
   "id": "213f91c7-0f76-4585-b88b-c8a43dcf2dae",
   "metadata": {},
   "outputs": [
    {
     "data": {
      "text/html": [
       "<div>\n",
       "<style scoped>\n",
       "    .dataframe tbody tr th:only-of-type {\n",
       "        vertical-align: middle;\n",
       "    }\n",
       "\n",
       "    .dataframe tbody tr th {\n",
       "        vertical-align: top;\n",
       "    }\n",
       "\n",
       "    .dataframe thead th {\n",
       "        text-align: right;\n",
       "    }\n",
       "</style>\n",
       "<table border=\"1\" class=\"dataframe\">\n",
       "  <thead>\n",
       "    <tr style=\"text-align: right;\">\n",
       "      <th></th>\n",
       "      <th>isFraud</th>\n",
       "      <th>type</th>\n",
       "      <th>amount</th>\n",
       "    </tr>\n",
       "  </thead>\n",
       "  <tbody>\n",
       "    <tr>\n",
       "      <th>0</th>\n",
       "      <td>0</td>\n",
       "      <td>CASH_IN</td>\n",
       "      <td>2.363674e+11</td>\n",
       "    </tr>\n",
       "    <tr>\n",
       "      <th>1</th>\n",
       "      <td>0</td>\n",
       "      <td>CASH_OUT</td>\n",
       "      <td>3.884238e+11</td>\n",
       "    </tr>\n",
       "    <tr>\n",
       "      <th>2</th>\n",
       "      <td>0</td>\n",
       "      <td>DEBIT</td>\n",
       "      <td>2.271992e+08</td>\n",
       "    </tr>\n",
       "    <tr>\n",
       "      <th>3</th>\n",
       "      <td>0</td>\n",
       "      <td>PAYMENT</td>\n",
       "      <td>2.809337e+10</td>\n",
       "    </tr>\n",
       "    <tr>\n",
       "      <th>4</th>\n",
       "      <td>0</td>\n",
       "      <td>TRANSFER</td>\n",
       "      <td>4.792248e+11</td>\n",
       "    </tr>\n",
       "    <tr>\n",
       "      <th>5</th>\n",
       "      <td>1</td>\n",
       "      <td>CASH_OUT</td>\n",
       "      <td>5.989202e+09</td>\n",
       "    </tr>\n",
       "    <tr>\n",
       "      <th>6</th>\n",
       "      <td>1</td>\n",
       "      <td>TRANSFER</td>\n",
       "      <td>6.067213e+09</td>\n",
       "    </tr>\n",
       "  </tbody>\n",
       "</table>\n",
       "</div>"
      ],
      "text/plain": [
       "   isFraud      type        amount\n",
       "0        0   CASH_IN  2.363674e+11\n",
       "1        0  CASH_OUT  3.884238e+11\n",
       "2        0     DEBIT  2.271992e+08\n",
       "3        0   PAYMENT  2.809337e+10\n",
       "4        0  TRANSFER  4.792248e+11\n",
       "5        1  CASH_OUT  5.989202e+09\n",
       "6        1  TRANSFER  6.067213e+09"
      ]
     },
     "execution_count": 51,
     "metadata": {},
     "output_type": "execute_result"
    }
   ],
   "source": [
    "amount_by_type_df = df2.groupby(by=['isFraud', 'type'])[['amount']].sum().reset_index()\n",
    "amount_by_type_df"
   ]
  },
  {
   "cell_type": "code",
   "execution_count": 52,
   "id": "f190546a-d3f0-4c49-b424-69415b109689",
   "metadata": {},
   "outputs": [
    {
     "data": {
      "image/png": "[encoded data removed]",
      "text/plain": [
       "<Figure size 600x300 with 1 Axes>"
      ]
     },
     "metadata": {},
     "output_type": "display_data"
    }
   ],
   "source": [
    "plt.figure(figsize=(6,3))\n",
    "sns.barplot(data=amount_by_type_df, y='amount', x='type', hue='isFraud')\n",
    "plt.title('Genuine transactions')\n",
    "plt.show()"
   ]
  },
  {
   "cell_type": "code",
   "execution_count": 53,
   "id": "bb5780fa-b6c4-481c-9829-5b2b46084cec",
   "metadata": {},
   "outputs": [
    {
     "data": {
      "text/plain": [
       "['amount',\n",
       " 'oldbalanceOrg',\n",
       " 'newbalanceOrig',\n",
       " 'oldbalanceDest',\n",
       " 'newbalanceDest',\n",
       " 'err_in_bal_org',\n",
       " 'err_in_bal_dest']"
      ]
     },
     "execution_count": 53,
     "metadata": {},
     "output_type": "execute_result"
    }
   ],
   "source": [
    "exclude_cols_1 = ['type', 'step', 'isFraud', 'is_CM_T', 'hour_of_day']\n",
    "selected_columns = [col_name for col_name in df2.columns.values if col_name not in exclude_cols_1]\n",
    "selected_columns"
   ]
  },
  {
   "cell_type": "code",
   "execution_count": 54,
   "id": "f7997c1e-64f7-435f-b20f-6929f0fdcbd4",
   "metadata": {},
   "outputs": [
    {
     "data": {
      "text/html": [
       "<div>\n",
       "<style scoped>\n",
       "    .dataframe tbody tr th:only-of-type {\n",
       "        vertical-align: middle;\n",
       "    }\n",
       "\n",
       "    .dataframe tbody tr th {\n",
       "        vertical-align: top;\n",
       "    }\n",
       "\n",
       "    .dataframe thead th {\n",
       "        text-align: right;\n",
       "    }\n",
       "</style>\n",
       "<table border=\"1\" class=\"dataframe\">\n",
       "  <thead>\n",
       "    <tr style=\"text-align: right;\">\n",
       "      <th></th>\n",
       "      <th>amount</th>\n",
       "      <th>oldbalanceOrg</th>\n",
       "      <th>newbalanceOrig</th>\n",
       "      <th>oldbalanceDest</th>\n",
       "      <th>newbalanceDest</th>\n",
       "      <th>err_in_bal_org</th>\n",
       "      <th>err_in_bal_dest</th>\n",
       "    </tr>\n",
       "  </thead>\n",
       "  <tbody>\n",
       "    <tr>\n",
       "      <th>count</th>\n",
       "      <td>6.362620e+06</td>\n",
       "      <td>6.362620e+06</td>\n",
       "      <td>6.362620e+06</td>\n",
       "      <td>6.362620e+06</td>\n",
       "      <td>6.362620e+06</td>\n",
       "      <td>6.362620e+06</td>\n",
       "      <td>6.362620e+06</td>\n",
       "    </tr>\n",
       "    <tr>\n",
       "      <th>mean</th>\n",
       "      <td>1.798619e+05</td>\n",
       "      <td>8.338831e+05</td>\n",
       "      <td>8.551137e+05</td>\n",
       "      <td>1.100702e+06</td>\n",
       "      <td>1.224996e+06</td>\n",
       "      <td>-1.267959e+05</td>\n",
       "      <td>-2.427970e+03</td>\n",
       "    </tr>\n",
       "    <tr>\n",
       "      <th>std</th>\n",
       "      <td>6.038582e+05</td>\n",
       "      <td>2.888243e+06</td>\n",
       "      <td>2.924049e+06</td>\n",
       "      <td>3.399180e+06</td>\n",
       "      <td>3.674129e+06</td>\n",
       "      <td>5.943125e+05</td>\n",
       "      <td>4.116677e+05</td>\n",
       "    </tr>\n",
       "    <tr>\n",
       "      <th>min</th>\n",
       "      <td>0.000000e+00</td>\n",
       "      <td>0.000000e+00</td>\n",
       "      <td>0.000000e+00</td>\n",
       "      <td>0.000000e+00</td>\n",
       "      <td>0.000000e+00</td>\n",
       "      <td>-9.244552e+07</td>\n",
       "      <td>-5.695142e+07</td>\n",
       "    </tr>\n",
       "    <tr>\n",
       "      <th>25%</th>\n",
       "      <td>1.338957e+04</td>\n",
       "      <td>0.000000e+00</td>\n",
       "      <td>0.000000e+00</td>\n",
       "      <td>0.000000e+00</td>\n",
       "      <td>0.000000e+00</td>\n",
       "      <td>-1.145037e+05</td>\n",
       "      <td>-8.493712e+03</td>\n",
       "    </tr>\n",
       "    <tr>\n",
       "      <th>50%</th>\n",
       "      <td>7.487194e+04</td>\n",
       "      <td>1.420800e+04</td>\n",
       "      <td>0.000000e+00</td>\n",
       "      <td>1.327057e+05</td>\n",
       "      <td>2.146614e+05</td>\n",
       "      <td>-5.797990e+03</td>\n",
       "      <td>-1.746230e-10</td>\n",
       "    </tr>\n",
       "    <tr>\n",
       "      <th>75%</th>\n",
       "      <td>2.087215e+05</td>\n",
       "      <td>1.073152e+05</td>\n",
       "      <td>1.442584e+05</td>\n",
       "      <td>9.430367e+05</td>\n",
       "      <td>1.111909e+06</td>\n",
       "      <td>0.000000e+00</td>\n",
       "      <td>0.000000e+00</td>\n",
       "    </tr>\n",
       "    <tr>\n",
       "      <th>max</th>\n",
       "      <td>9.244552e+07</td>\n",
       "      <td>5.958504e+07</td>\n",
       "      <td>4.958504e+07</td>\n",
       "      <td>3.560159e+08</td>\n",
       "      <td>3.561793e+08</td>\n",
       "      <td>1.000001e-02</td>\n",
       "      <td>7.588573e+07</td>\n",
       "    </tr>\n",
       "  </tbody>\n",
       "</table>\n",
       "</div>"
      ],
      "text/plain": [
       "             amount  oldbalanceOrg  newbalanceOrig  oldbalanceDest  \\\n",
       "count  6.362620e+06   6.362620e+06    6.362620e+06    6.362620e+06   \n",
       "mean   1.798619e+05   8.338831e+05    8.551137e+05    1.100702e+06   \n",
       "std    6.038582e+05   2.888243e+06    2.924049e+06    3.399180e+06   \n",
       "min    0.000000e+00   0.000000e+00    0.000000e+00    0.000000e+00   \n",
       "25%    1.338957e+04   0.000000e+00    0.000000e+00    0.000000e+00   \n",
       "50%    7.487194e+04   1.420800e+04    0.000000e+00    1.327057e+05   \n",
       "75%    2.087215e+05   1.073152e+05    1.442584e+05    9.430367e+05   \n",
       "max    9.244552e+07   5.958504e+07    4.958504e+07    3.560159e+08   \n",
       "\n",
       "       newbalanceDest  err_in_bal_org  err_in_bal_dest  \n",
       "count    6.362620e+06    6.362620e+06     6.362620e+06  \n",
       "mean     1.224996e+06   -1.267959e+05    -2.427970e+03  \n",
       "std      3.674129e+06    5.943125e+05     4.116677e+05  \n",
       "min      0.000000e+00   -9.244552e+07    -5.695142e+07  \n",
       "25%      0.000000e+00   -1.145037e+05    -8.493712e+03  \n",
       "50%      2.146614e+05   -5.797990e+03    -1.746230e-10  \n",
       "75%      1.111909e+06    0.000000e+00     0.000000e+00  \n",
       "max      3.561793e+08    1.000001e-02     7.588573e+07  "
      ]
     },
     "execution_count": 54,
     "metadata": {},
     "output_type": "execute_result"
    }
   ],
   "source": [
    "df2[selected_columns].describe()"
   ]
  },
  {
   "cell_type": "code",
   "execution_count": 55,
   "id": "32b4394d-0d92-4b00-a73c-9a9a442c2346",
   "metadata": {},
   "outputs": [
    {
     "data": {
      "image/png": "[encoded data removed]",
      "text/plain": [
       "<Figure size 500x300 with 1 Axes>"
      ]
     },
     "metadata": {},
     "output_type": "display_data"
    }
   ],
   "source": [
    "plt.figure(figsize=(5,3))\n",
    "sns.kdeplot(df2['amount'])\n",
    "plt.title('PDF of Amount')\n",
    "plt.show()"
   ]
  },
  {
   "cell_type": "code",
   "execution_count": 56,
   "id": "86b5f0bf-1507-450d-8e6c-2a14a427f419",
   "metadata": {},
   "outputs": [
    {
     "data": {
      "image/png": "[encoded data removed]",
      "text/plain": [
       "<Figure size 500x300 with 1 Axes>"
      ]
     },
     "metadata": {},
     "output_type": "display_data"
    }
   ],
   "source": [
    "plt.figure(figsize=(5,3))\n",
    "sns.kdeplot(df2[is_not_fraud_mask], x='amount')\n",
    "plt.title('PDF of Amount for Genuine transactions')\n",
    "plt.xlim([-1000,10000000])\n",
    "plt.show()"
   ]
  },
  {
   "cell_type": "code",
   "execution_count": 57,
   "id": "4d74d453-6f1f-4d60-8e21-09674348c527",
   "metadata": {},
   "outputs": [
    {
     "data": {
      "image/png": "[encoded data removed]",
      "text/plain": [
       "<Figure size 500x300 with 1 Axes>"
      ]
     },
     "metadata": {},
     "output_type": "display_data"
    }
   ],
   "source": [
    "plt.figure(figsize=(5,3))\n",
    "sns.kdeplot(df2[is_fraud_mask], x='amount')\n",
    "plt.title('PDF of Amount for Fraud transactions')\n",
    "plt.show()"
   ]
  },
  {
   "cell_type": "markdown",
   "id": "d67ee7c8-1f15-451b-9101-d32cc7c0157d",
   "metadata": {},
   "source": [
    "### The distribution for 'amount' is not normally distributed."
   ]
  },
  {
   "cell_type": "code",
   "execution_count": 58,
   "id": "f6bcb7dc-d7a3-449e-8904-74aa47fd19d6",
   "metadata": {},
   "outputs": [
    {
     "data": {
      "image/png": "[encoded data removed]",
      "text/plain": [
       "<Figure size 500x300 with 1 Axes>"
      ]
     },
     "metadata": {},
     "output_type": "display_data"
    }
   ],
   "source": [
    "plt.figure(figsize=(5,3))\n",
    "sns.kdeplot(df2['oldbalanceOrg'])\n",
    "plt.title('PDF of oldbalanceOrg')\n",
    "plt.show()"
   ]
  },
  {
   "cell_type": "code",
   "execution_count": 59,
   "id": "2c15fcb1-de9d-4002-a9d7-e12c65d15624",
   "metadata": {},
   "outputs": [
    {
     "data": {
      "image/png": "[encoded data removed]",
      "text/plain": [
       "<Figure size 500x300 with 1 Axes>"
      ]
     },
     "metadata": {},
     "output_type": "display_data"
    }
   ],
   "source": [
    "plt.figure(figsize=(5,3))\n",
    "sns.kdeplot(df2[is_not_fraud_mask], x='oldbalanceOrg')\n",
    "plt.title('PDF of oldbalanceOrg for Genuine transactions')\n",
    "plt.xlim([-1000,10000000])\n",
    "plt.show()"
   ]
  },
  {
   "cell_type": "code",
   "execution_count": 60,
   "id": "522a3cf3-6bdc-420e-84fb-5a3ad2a1c8a6",
   "metadata": {},
   "outputs": [
    {
     "data": {
      "image/png": "[encoded data removed]",
      "text/plain": [
       "<Figure size 500x300 with 1 Axes>"
      ]
     },
     "metadata": {},
     "output_type": "display_data"
    }
   ],
   "source": [
    "plt.figure(figsize=(5,3))\n",
    "sns.kdeplot(df2[is_fraud_mask], x='oldbalanceOrg')\n",
    "plt.title('PDF of oldbalanceOrg for Fraud transactions')\n",
    "plt.show()"
   ]
  },
  {
   "cell_type": "markdown",
   "id": "c16b66ac-a798-42fa-a632-9f031c547861",
   "metadata": {},
   "source": [
    "### The distribution for 'oldbalanceOrg' is not normally distributed."
   ]
  },
  {
   "cell_type": "code",
   "execution_count": 61,
   "id": "4219d57d-b5ca-41d2-9c80-ef67228e322c",
   "metadata": {},
   "outputs": [
    {
     "data": {
      "image/png": "[encoded data removed]",
      "text/plain": [
       "<Figure size 500x300 with 1 Axes>"
      ]
     },
     "metadata": {},
     "output_type": "display_data"
    }
   ],
   "source": [
    "plt.figure(figsize=(5,3))\n",
    "sns.kdeplot(df2['newbalanceOrig'])\n",
    "plt.title('PDF of newbalanceOrig')\n",
    "plt.show()"
   ]
  },
  {
   "cell_type": "code",
   "execution_count": 62,
   "id": "5aeeaee5-36af-415c-b1e4-3dde0a1be916",
   "metadata": {},
   "outputs": [
    {
     "data": {
      "image/png": "[encoded data removed]",
      "text/plain": [
       "<Figure size 500x300 with 1 Axes>"
      ]
     },
     "metadata": {},
     "output_type": "display_data"
    }
   ],
   "source": [
    "plt.figure(figsize=(5,3))\n",
    "sns.kdeplot(df2[is_not_fraud_mask], x='newbalanceOrig')\n",
    "plt.title('PDF of newbalanceOrig for Genuine transactions')\n",
    "plt.xlim([-1000,10000000])\n",
    "plt.show()"
   ]
  },
  {
   "cell_type": "code",
   "execution_count": 63,
   "id": "0c038006-20b1-4cdb-930b-c909ca58e8e4",
   "metadata": {},
   "outputs": [
    {
     "data": {
      "image/png": "[encoded data removed]",
      "text/plain": [
       "<Figure size 500x300 with 1 Axes>"
      ]
     },
     "metadata": {},
     "output_type": "display_data"
    }
   ],
   "source": [
    "plt.figure(figsize=(5,3))\n",
    "sns.kdeplot(df2[is_fraud_mask], x='newbalanceOrig')\n",
    "plt.title('PDF of newbalanceOrig for Fraud transactions')\n",
    "plt.show()"
   ]
  },
  {
   "cell_type": "markdown",
   "id": "0e3c89a8-3397-4f3b-bbc4-f799b872cfef",
   "metadata": {},
   "source": [
    "### The distribution for 'newbalanceOrig' is not normally distributed."
   ]
  },
  {
   "cell_type": "code",
   "execution_count": 64,
   "id": "62ef37e4-e7d7-45a8-8e2d-8068301830ea",
   "metadata": {},
   "outputs": [
    {
     "data": {
      "image/png": "[encoded data removed]",
      "text/plain": [
       "<Figure size 500x300 with 1 Axes>"
      ]
     },
     "metadata": {},
     "output_type": "display_data"
    }
   ],
   "source": [
    "plt.figure(figsize=(5,3))\n",
    "sns.kdeplot(df2['oldbalanceDest'])\n",
    "plt.title('PDF of oldbalanceDest')\n",
    "plt.show()"
   ]
  },
  {
   "cell_type": "code",
   "execution_count": 65,
   "id": "a644dc94-3295-4bda-82d4-657f72b58a54",
   "metadata": {},
   "outputs": [
    {
     "data": {
      "image/png": "[encoded data removed]",
      "text/plain": [
       "<Figure size 500x300 with 1 Axes>"
      ]
     },
     "metadata": {},
     "output_type": "display_data"
    }
   ],
   "source": [
    "plt.figure(figsize=(5,3))\n",
    "sns.kdeplot(df2[is_not_fraud_mask], x='oldbalanceDest')\n",
    "plt.title('PDF of oldbalanceDest for Genuine transactions')\n",
    "plt.xlim([-1000,10000000])\n",
    "plt.show()"
   ]
  },
  {
   "cell_type": "code",
   "execution_count": 66,
   "id": "7145ac7e-8e6b-47af-bfd9-685c1892d657",
   "metadata": {},
   "outputs": [
    {
     "data": {
      "image/png": "[encoded data removed]",
      "text/plain": [
       "<Figure size 500x300 with 1 Axes>"
      ]
     },
     "metadata": {},
     "output_type": "display_data"
    }
   ],
   "source": [
    "plt.figure(figsize=(5,3))\n",
    "sns.kdeplot(df2[is_fraud_mask], x='oldbalanceDest')\n",
    "plt.title('PDF of oldbalanceDest for Fraud transactions')\n",
    "plt.show()"
   ]
  },
  {
   "cell_type": "markdown",
   "id": "040cb0ea-2115-4c4d-af33-2483fa31162f",
   "metadata": {},
   "source": [
    "### The distribution for 'oldbalanceDest' is not normally distributed."
   ]
  },
  {
   "cell_type": "code",
   "execution_count": 67,
   "id": "e0d12d57-7bf5-49a2-97c0-0afeead27b3b",
   "metadata": {},
   "outputs": [
    {
     "data": {
      "image/png": "[encoded data removed]",
      "text/plain": [
       "<Figure size 500x300 with 1 Axes>"
      ]
     },
     "metadata": {},
     "output_type": "display_data"
    }
   ],
   "source": [
    "plt.figure(figsize=(5,3))\n",
    "sns.kdeplot(df2['newbalanceDest'])\n",
    "plt.title('PDF of newbalanceDest')\n",
    "plt.show()"
   ]
  },
  {
   "cell_type": "code",
   "execution_count": 68,
   "id": "9b20b2be-28c8-4650-b338-156066edf880",
   "metadata": {},
   "outputs": [
    {
     "data": {
      "image/png": "[encoded data removed]",
      "text/plain": [
       "<Figure size 500x300 with 1 Axes>"
      ]
     },
     "metadata": {},
     "output_type": "display_data"
    }
   ],
   "source": [
    "plt.figure(figsize=(5,3))\n",
    "sns.kdeplot(df2[is_not_fraud_mask], x='newbalanceDest')\n",
    "plt.title('PDF of newbalanceDest for Genuine transactions')\n",
    "plt.xlim([-1000,10000000])\n",
    "plt.show()"
   ]
  },
  {
   "cell_type": "code",
   "execution_count": 69,
   "id": "3f026fe5-178d-4ac0-b1d5-9cb0d526dcd7",
   "metadata": {},
   "outputs": [
    {
     "data": {
      "image/png": "[encoded data removed]",
      "text/plain": [
       "<Figure size 500x300 with 1 Axes>"
      ]
     },
     "metadata": {},
     "output_type": "display_data"
    }
   ],
   "source": [
    "plt.figure(figsize=(5,3))\n",
    "sns.kdeplot(df2[is_fraud_mask], x='newbalanceDest')\n",
    "plt.title('PDF of newbalanceDest for Fraud transactions')\n",
    "plt.show()"
   ]
  },
  {
   "cell_type": "markdown",
   "id": "764fddce-587b-49e1-bd25-537f8ba7cd1d",
   "metadata": {},
   "source": [
    "### The distribution for 'newbalanceDest' is not normally distributed."
   ]
  },
  {
   "cell_type": "code",
   "execution_count": 70,
   "id": "da712f65-dcbe-4db3-a1d5-541c281f88ea",
   "metadata": {},
   "outputs": [],
   "source": [
    "cols_to_remove_2 = ['step', 'err_in_bal_org', 'err_in_bal_dest']\n",
    "df3 = df2.drop(columns=cols_to_remove_2)"
   ]
  },
  {
   "cell_type": "code",
   "execution_count": 71,
   "id": "cff4a5a0-88f0-47fe-94aa-8362004ccd98",
   "metadata": {},
   "outputs": [
    {
     "data": {
      "text/html": [
       "<div>\n",
       "<style scoped>\n",
       "    .dataframe tbody tr th:only-of-type {\n",
       "        vertical-align: middle;\n",
       "    }\n",
       "\n",
       "    .dataframe tbody tr th {\n",
       "        vertical-align: top;\n",
       "    }\n",
       "\n",
       "    .dataframe thead th {\n",
       "        text-align: right;\n",
       "    }\n",
       "</style>\n",
       "<table border=\"1\" class=\"dataframe\">\n",
       "  <thead>\n",
       "    <tr style=\"text-align: right;\">\n",
       "      <th></th>\n",
       "      <th>type</th>\n",
       "      <th>amount</th>\n",
       "      <th>oldbalanceOrg</th>\n",
       "      <th>newbalanceOrig</th>\n",
       "      <th>oldbalanceDest</th>\n",
       "      <th>newbalanceDest</th>\n",
       "      <th>isFraud</th>\n",
       "      <th>is_CM_T</th>\n",
       "      <th>hour_of_day</th>\n",
       "    </tr>\n",
       "  </thead>\n",
       "  <tbody>\n",
       "    <tr>\n",
       "      <th>0</th>\n",
       "      <td>PAYMENT</td>\n",
       "      <td>9839.64</td>\n",
       "      <td>170136.00</td>\n",
       "      <td>160296.36</td>\n",
       "      <td>0.00</td>\n",
       "      <td>0.00</td>\n",
       "      <td>0</td>\n",
       "      <td>1</td>\n",
       "      <td>1</td>\n",
       "    </tr>\n",
       "    <tr>\n",
       "      <th>1</th>\n",
       "      <td>PAYMENT</td>\n",
       "      <td>1864.28</td>\n",
       "      <td>21249.00</td>\n",
       "      <td>19384.72</td>\n",
       "      <td>0.00</td>\n",
       "      <td>0.00</td>\n",
       "      <td>0</td>\n",
       "      <td>1</td>\n",
       "      <td>1</td>\n",
       "    </tr>\n",
       "    <tr>\n",
       "      <th>2</th>\n",
       "      <td>TRANSFER</td>\n",
       "      <td>181.00</td>\n",
       "      <td>181.00</td>\n",
       "      <td>0.00</td>\n",
       "      <td>0.00</td>\n",
       "      <td>0.00</td>\n",
       "      <td>1</td>\n",
       "      <td>0</td>\n",
       "      <td>1</td>\n",
       "    </tr>\n",
       "    <tr>\n",
       "      <th>3</th>\n",
       "      <td>CASH_OUT</td>\n",
       "      <td>181.00</td>\n",
       "      <td>181.00</td>\n",
       "      <td>0.00</td>\n",
       "      <td>21182.00</td>\n",
       "      <td>0.00</td>\n",
       "      <td>1</td>\n",
       "      <td>0</td>\n",
       "      <td>1</td>\n",
       "    </tr>\n",
       "    <tr>\n",
       "      <th>4</th>\n",
       "      <td>PAYMENT</td>\n",
       "      <td>11668.14</td>\n",
       "      <td>41554.00</td>\n",
       "      <td>29885.86</td>\n",
       "      <td>0.00</td>\n",
       "      <td>0.00</td>\n",
       "      <td>0</td>\n",
       "      <td>1</td>\n",
       "      <td>1</td>\n",
       "    </tr>\n",
       "    <tr>\n",
       "      <th>...</th>\n",
       "      <td>...</td>\n",
       "      <td>...</td>\n",
       "      <td>...</td>\n",
       "      <td>...</td>\n",
       "      <td>...</td>\n",
       "      <td>...</td>\n",
       "      <td>...</td>\n",
       "      <td>...</td>\n",
       "      <td>...</td>\n",
       "    </tr>\n",
       "    <tr>\n",
       "      <th>6362615</th>\n",
       "      <td>CASH_OUT</td>\n",
       "      <td>339682.13</td>\n",
       "      <td>339682.13</td>\n",
       "      <td>0.00</td>\n",
       "      <td>0.00</td>\n",
       "      <td>339682.13</td>\n",
       "      <td>1</td>\n",
       "      <td>0</td>\n",
       "      <td>23</td>\n",
       "    </tr>\n",
       "    <tr>\n",
       "      <th>6362616</th>\n",
       "      <td>TRANSFER</td>\n",
       "      <td>6311409.28</td>\n",
       "      <td>6311409.28</td>\n",
       "      <td>0.00</td>\n",
       "      <td>0.00</td>\n",
       "      <td>0.00</td>\n",
       "      <td>1</td>\n",
       "      <td>0</td>\n",
       "      <td>23</td>\n",
       "    </tr>\n",
       "    <tr>\n",
       "      <th>6362617</th>\n",
       "      <td>CASH_OUT</td>\n",
       "      <td>6311409.28</td>\n",
       "      <td>6311409.28</td>\n",
       "      <td>0.00</td>\n",
       "      <td>68488.84</td>\n",
       "      <td>6379898.11</td>\n",
       "      <td>1</td>\n",
       "      <td>0</td>\n",
       "      <td>23</td>\n",
       "    </tr>\n",
       "    <tr>\n",
       "      <th>6362618</th>\n",
       "      <td>TRANSFER</td>\n",
       "      <td>850002.52</td>\n",
       "      <td>850002.52</td>\n",
       "      <td>0.00</td>\n",
       "      <td>0.00</td>\n",
       "      <td>0.00</td>\n",
       "      <td>1</td>\n",
       "      <td>0</td>\n",
       "      <td>23</td>\n",
       "    </tr>\n",
       "    <tr>\n",
       "      <th>6362619</th>\n",
       "      <td>CASH_OUT</td>\n",
       "      <td>850002.52</td>\n",
       "      <td>850002.52</td>\n",
       "      <td>0.00</td>\n",
       "      <td>6510099.11</td>\n",
       "      <td>7360101.63</td>\n",
       "      <td>1</td>\n",
       "      <td>0</td>\n",
       "      <td>23</td>\n",
       "    </tr>\n",
       "  </tbody>\n",
       "</table>\n",
       "<p>6362620 rows × 9 columns</p>\n",
       "</div>"
      ],
      "text/plain": [
       "             type      amount  oldbalanceOrg  newbalanceOrig  oldbalanceDest  \\\n",
       "0         PAYMENT     9839.64      170136.00       160296.36            0.00   \n",
       "1         PAYMENT     1864.28       21249.00        19384.72            0.00   \n",
       "2        TRANSFER      181.00         181.00            0.00            0.00   \n",
       "3        CASH_OUT      181.00         181.00            0.00        21182.00   \n",
       "4         PAYMENT    11668.14       41554.00        29885.86            0.00   \n",
       "...           ...         ...            ...             ...             ...   \n",
       "6362615  CASH_OUT   339682.13      339682.13            0.00            0.00   \n",
       "6362616  TRANSFER  6311409.28     6311409.28            0.00            0.00   \n",
       "6362617  CASH_OUT  6311409.28     6311409.28            0.00        68488.84   \n",
       "6362618  TRANSFER   850002.52      850002.52            0.00            0.00   \n",
       "6362619  CASH_OUT   850002.52      850002.52            0.00      6510099.11   \n",
       "\n",
       "         newbalanceDest  isFraud  is_CM_T  hour_of_day  \n",
       "0                  0.00        0        1            1  \n",
       "1                  0.00        0        1            1  \n",
       "2                  0.00        1        0            1  \n",
       "3                  0.00        1        0            1  \n",
       "4                  0.00        0        1            1  \n",
       "...                 ...      ...      ...          ...  \n",
       "6362615       339682.13        1        0           23  \n",
       "6362616            0.00        1        0           23  \n",
       "6362617      6379898.11        1        0           23  \n",
       "6362618            0.00        1        0           23  \n",
       "6362619      7360101.63        1        0           23  \n",
       "\n",
       "[6362620 rows x 9 columns]"
      ]
     },
     "execution_count": 71,
     "metadata": {},
     "output_type": "execute_result"
    }
   ],
   "source": [
    "df3"
   ]
  },
  {
   "cell_type": "code",
   "execution_count": 72,
   "id": "1c2f8fb1-8d64-4dd8-bf1b-0593d1e35097",
   "metadata": {},
   "outputs": [
    {
     "name": "stdout",
     "output_type": "stream",
     "text": [
      "(6362620, 12)\n"
     ]
    },
    {
     "data": {
      "text/html": [
       "<div>\n",
       "<style scoped>\n",
       "    .dataframe tbody tr th:only-of-type {\n",
       "        vertical-align: middle;\n",
       "    }\n",
       "\n",
       "    .dataframe tbody tr th {\n",
       "        vertical-align: top;\n",
       "    }\n",
       "\n",
       "    .dataframe thead th {\n",
       "        text-align: right;\n",
       "    }\n",
       "</style>\n",
       "<table border=\"1\" class=\"dataframe\">\n",
       "  <thead>\n",
       "    <tr style=\"text-align: right;\">\n",
       "      <th></th>\n",
       "      <th>amount</th>\n",
       "      <th>oldbalanceOrg</th>\n",
       "      <th>newbalanceOrig</th>\n",
       "      <th>oldbalanceDest</th>\n",
       "      <th>newbalanceDest</th>\n",
       "      <th>isFraud</th>\n",
       "      <th>is_CM_T</th>\n",
       "      <th>hour_of_day</th>\n",
       "      <th>type_CASH_OUT</th>\n",
       "      <th>type_DEBIT</th>\n",
       "      <th>type_PAYMENT</th>\n",
       "      <th>type_TRANSFER</th>\n",
       "    </tr>\n",
       "  </thead>\n",
       "  <tbody>\n",
       "    <tr>\n",
       "      <th>0</th>\n",
       "      <td>9839.64</td>\n",
       "      <td>170136.0</td>\n",
       "      <td>160296.36</td>\n",
       "      <td>0.0</td>\n",
       "      <td>0.0</td>\n",
       "      <td>0</td>\n",
       "      <td>1</td>\n",
       "      <td>1</td>\n",
       "      <td>0</td>\n",
       "      <td>0</td>\n",
       "      <td>1</td>\n",
       "      <td>0</td>\n",
       "    </tr>\n",
       "    <tr>\n",
       "      <th>1</th>\n",
       "      <td>1864.28</td>\n",
       "      <td>21249.0</td>\n",
       "      <td>19384.72</td>\n",
       "      <td>0.0</td>\n",
       "      <td>0.0</td>\n",
       "      <td>0</td>\n",
       "      <td>1</td>\n",
       "      <td>1</td>\n",
       "      <td>0</td>\n",
       "      <td>0</td>\n",
       "      <td>1</td>\n",
       "      <td>0</td>\n",
       "    </tr>\n",
       "    <tr>\n",
       "      <th>2</th>\n",
       "      <td>181.00</td>\n",
       "      <td>181.0</td>\n",
       "      <td>0.00</td>\n",
       "      <td>0.0</td>\n",
       "      <td>0.0</td>\n",
       "      <td>1</td>\n",
       "      <td>0</td>\n",
       "      <td>1</td>\n",
       "      <td>0</td>\n",
       "      <td>0</td>\n",
       "      <td>0</td>\n",
       "      <td>1</td>\n",
       "    </tr>\n",
       "    <tr>\n",
       "      <th>3</th>\n",
       "      <td>181.00</td>\n",
       "      <td>181.0</td>\n",
       "      <td>0.00</td>\n",
       "      <td>21182.0</td>\n",
       "      <td>0.0</td>\n",
       "      <td>1</td>\n",
       "      <td>0</td>\n",
       "      <td>1</td>\n",
       "      <td>1</td>\n",
       "      <td>0</td>\n",
       "      <td>0</td>\n",
       "      <td>0</td>\n",
       "    </tr>\n",
       "    <tr>\n",
       "      <th>4</th>\n",
       "      <td>11668.14</td>\n",
       "      <td>41554.0</td>\n",
       "      <td>29885.86</td>\n",
       "      <td>0.0</td>\n",
       "      <td>0.0</td>\n",
       "      <td>0</td>\n",
       "      <td>1</td>\n",
       "      <td>1</td>\n",
       "      <td>0</td>\n",
       "      <td>0</td>\n",
       "      <td>1</td>\n",
       "      <td>0</td>\n",
       "    </tr>\n",
       "  </tbody>\n",
       "</table>\n",
       "</div>"
      ],
      "text/plain": [
       "     amount  oldbalanceOrg  newbalanceOrig  oldbalanceDest  newbalanceDest  \\\n",
       "0   9839.64       170136.0       160296.36             0.0             0.0   \n",
       "1   1864.28        21249.0        19384.72             0.0             0.0   \n",
       "2    181.00          181.0            0.00             0.0             0.0   \n",
       "3    181.00          181.0            0.00         21182.0             0.0   \n",
       "4  11668.14        41554.0        29885.86             0.0             0.0   \n",
       "\n",
       "   isFraud  is_CM_T  hour_of_day  type_CASH_OUT  type_DEBIT  type_PAYMENT  \\\n",
       "0        0        1            1              0           0             1   \n",
       "1        0        1            1              0           0             1   \n",
       "2        1        0            1              0           0             0   \n",
       "3        1        0            1              1           0             0   \n",
       "4        0        1            1              0           0             1   \n",
       "\n",
       "   type_TRANSFER  \n",
       "0              0  \n",
       "1              0  \n",
       "2              1  \n",
       "3              0  \n",
       "4              0  "
      ]
     },
     "execution_count": 72,
     "metadata": {},
     "output_type": "execute_result"
    }
   ],
   "source": [
    "df4 = pd.get_dummies(df3, columns=['type'], drop_first=True, dtype=int)\n",
    "print(df4.shape)\n",
    "df4.head()"
   ]
  },
  {
   "cell_type": "markdown",
   "id": "2294ff68-367d-41b0-b3ae-c92010b34471",
   "metadata": {},
   "source": [
    "### Separate the dependent and independent variables:"
   ]
  },
  {
   "cell_type": "code",
   "execution_count": 73,
   "id": "e62c88bf-eb11-49bd-a5f3-0527632c685b",
   "metadata": {},
   "outputs": [
    {
     "data": {
      "text/plain": [
       "['amount',\n",
       " 'oldbalanceOrg',\n",
       " 'newbalanceOrig',\n",
       " 'oldbalanceDest',\n",
       " 'newbalanceDest',\n",
       " 'is_CM_T',\n",
       " 'hour_of_day',\n",
       " 'type_CASH_OUT',\n",
       " 'type_DEBIT',\n",
       " 'type_PAYMENT',\n",
       " 'type_TRANSFER']"
      ]
     },
     "execution_count": 73,
     "metadata": {},
     "output_type": "execute_result"
    }
   ],
   "source": [
    "feature_variable_names = [col_name for col_name in df4.columns.values if col_name != 'isFraud']\n",
    "feature_variable_names"
   ]
  },
  {
   "cell_type": "code",
   "execution_count": 74,
   "id": "72f2249e-4079-41ee-b2bc-18a3d7cdbb8d",
   "metadata": {},
   "outputs": [
    {
     "name": "stdout",
     "output_type": "stream",
     "text": [
      "(6362620, 11)\n",
      "(6362620, 1)\n"
     ]
    }
   ],
   "source": [
    "X = df4[feature_variable_names]\n",
    "y = df4[['isFraud']]\n",
    "\n",
    "print(X.shape)\n",
    "print(y.shape)"
   ]
  },
  {
   "cell_type": "code",
   "execution_count": 75,
   "id": "d1f0b368-612d-4b6b-a090-6cb1b91b2f1e",
   "metadata": {},
   "outputs": [
    {
     "data": {
      "text/plain": [
       "isFraud\n",
       "0          6354407\n",
       "1             8213\n",
       "Name: count, dtype: int64"
      ]
     },
     "execution_count": 75,
     "metadata": {},
     "output_type": "execute_result"
    }
   ],
   "source": [
    "y.value_counts()"
   ]
  },
  {
   "cell_type": "markdown",
   "id": "004afff2-3aec-45df-a268-dc62afabced8",
   "metadata": {},
   "source": [
    "### Splitting the data into train and test:"
   ]
  },
  {
   "cell_type": "code",
   "execution_count": 76,
   "id": "9061c0b5-1c90-41b1-ae7c-08bc2e670465",
   "metadata": {},
   "outputs": [],
   "source": [
    "from sklearn.model_selection import train_test_split"
   ]
  },
  {
   "cell_type": "code",
   "execution_count": 77,
   "id": "25dcaf1f-8f83-4472-9c68-9d3709a9bbf7",
   "metadata": {},
   "outputs": [
    {
     "name": "stdout",
     "output_type": "stream",
     "text": [
      "(4771965, 11)\n",
      "(1590655, 11)\n",
      "(4771965, 1)\n",
      "(1590655, 1)\n"
     ]
    }
   ],
   "source": [
    "X_train, X_test, y_train, y_test = train_test_split(X, y, test_size=0.25, \n",
    "                                                    stratify=y, random_state=42)\n",
    "\n",
    "print(X_train.shape)\n",
    "print(X_test.shape)\n",
    "\n",
    "print(y_train.shape)\n",
    "print(y_test.shape)"
   ]
  },
  {
   "cell_type": "code",
   "execution_count": 78,
   "id": "4237410e-fb9f-4819-9158-ef2de2159f5d",
   "metadata": {},
   "outputs": [
    {
     "data": {
      "text/plain": [
       "isFraud\n",
       "0          4765805\n",
       "1             6160\n",
       "Name: count, dtype: int64"
      ]
     },
     "execution_count": 78,
     "metadata": {},
     "output_type": "execute_result"
    }
   ],
   "source": [
    "y_train.value_counts()"
   ]
  },
  {
   "cell_type": "code",
   "execution_count": 79,
   "id": "7e67d18c-a6ca-4e29-96a0-01c7128e421c",
   "metadata": {},
   "outputs": [
    {
     "data": {
      "text/plain": [
       "isFraud\n",
       "0          0.998709\n",
       "1          0.001291\n",
       "Name: proportion, dtype: float64"
      ]
     },
     "execution_count": 79,
     "metadata": {},
     "output_type": "execute_result"
    }
   ],
   "source": [
    "y_train.value_counts(normalize=True)"
   ]
  },
  {
   "cell_type": "code",
   "execution_count": 80,
   "id": "16e5094a-b81c-4e56-adb6-73e594db8aac",
   "metadata": {},
   "outputs": [
    {
     "data": {
      "text/plain": [
       "isFraud\n",
       "0          1588602\n",
       "1             2053\n",
       "Name: count, dtype: int64"
      ]
     },
     "execution_count": 80,
     "metadata": {},
     "output_type": "execute_result"
    }
   ],
   "source": [
    "y_test.value_counts()"
   ]
  },
  {
   "cell_type": "code",
   "execution_count": 81,
   "id": "a93895fe-f48c-40ec-8643-b251ebc45eaf",
   "metadata": {},
   "outputs": [
    {
     "data": {
      "text/plain": [
       "isFraud\n",
       "0          0.998709\n",
       "1          0.001291\n",
       "Name: proportion, dtype: float64"
      ]
     },
     "execution_count": 81,
     "metadata": {},
     "output_type": "execute_result"
    }
   ],
   "source": [
    "y_test.value_counts(normalize=True)"
   ]
  },
  {
   "cell_type": "code",
   "execution_count": 82,
   "id": "8e8565f9-72dd-4467-81d3-c7433301d8ac",
   "metadata": {},
   "outputs": [],
   "source": [
    "from imblearn.over_sampling import SMOTE"
   ]
  },
  {
   "cell_type": "code",
   "execution_count": 83,
   "id": "04233770-ce8f-4696-becd-2a13825714af",
   "metadata": {},
   "outputs": [],
   "source": [
    "smote = SMOTE(random_state=42)\n",
    "\n",
    "# Creating synthetic samples for minority class to handle data imbalance.\n",
    "X_train_resampled, y_train_resampled = smote.fit_resample(X_train, y_train)"
   ]
  },
  {
   "cell_type": "code",
   "execution_count": 84,
   "id": "dd10368d-a92b-459b-9be6-f7b6a37ebba1",
   "metadata": {},
   "outputs": [
    {
     "data": {
      "text/plain": [
       "isFraud\n",
       "0          4765805\n",
       "1          4765805\n",
       "Name: count, dtype: int64"
      ]
     },
     "execution_count": 84,
     "metadata": {},
     "output_type": "execute_result"
    }
   ],
   "source": [
    "y_train_resampled.value_counts()"
   ]
  },
  {
   "cell_type": "markdown",
   "id": "c335195b-0c96-4b8b-9997-a4d120d070a6",
   "metadata": {},
   "source": [
    "### Feature Scaling:"
   ]
  },
  {
   "cell_type": "code",
   "execution_count": 85,
   "id": "bf6c510d-68a8-4617-8880-8e7263c3a86a",
   "metadata": {},
   "outputs": [],
   "source": [
    "from sklearn.preprocessing import StandardScaler"
   ]
  },
  {
   "cell_type": "code",
   "execution_count": 86,
   "id": "a7a1ccc6-6d2c-4532-93f6-b310971ce030",
   "metadata": {},
   "outputs": [
    {
     "data": {
      "text/html": [
       "<style>#sk-container-id-1 {\n",
       "  /* Definition of color scheme common for light and dark mode */\n",
       "  --sklearn-color-text: black;\n",
       "  --sklearn-color-line: gray;\n",
       "  /* Definition of color scheme for unfitted estimators */\n",
       "  --sklearn-color-unfitted-level-0: #fff5e6;\n",
       "  --sklearn-color-unfitted-level-1: #f6e4d2;\n",
       "  --sklearn-color-unfitted-level-2: #ffe0b3;\n",
       "  --sklearn-color-unfitted-level-3: chocolate;\n",
       "  /* Definition of color scheme for fitted estimators */\n",
       "  --sklearn-color-fitted-level-0: #f0f8ff;\n",
       "  --sklearn-color-fitted-level-1: #d4ebff;\n",
       "  --sklearn-color-fitted-level-2: #b3dbfd;\n",
       "  --sklearn-color-fitted-level-3: cornflowerblue;\n",
       "\n",
       "  /* Specific color for light theme */\n",
       "  --sklearn-color-text-on-default-background: var(--sg-text-color, var(--theme-code-foreground, var(--jp-content-font-color1, black)));\n",
       "  --sklearn-color-background: var(--sg-background-color, var(--theme-background, var(--jp-layout-color0, white)));\n",
       "  --sklearn-color-border-box: var(--sg-text-color, var(--theme-code-foreground, var(--jp-content-font-color1, black)));\n",
       "  --sklearn-color-icon: #696969;\n",
       "\n",
       "  @media (prefers-color-scheme: dark) {\n",
       "    /* Redefinition of color scheme for dark theme */\n",
       "    --sklearn-color-text-on-default-background: var(--sg-text-color, var(--theme-code-foreground, var(--jp-content-font-color1, white)));\n",
       "    --sklearn-color-background: var(--sg-background-color, var(--theme-background, var(--jp-layout-color0, #111)));\n",
       "    --sklearn-color-border-box: var(--sg-text-color, var(--theme-code-foreground, var(--jp-content-font-color1, white)));\n",
       "    --sklearn-color-icon: #878787;\n",
       "  }\n",
       "}\n",
       "\n",
       "#sk-container-id-1 {\n",
       "  color: var(--sklearn-color-text);\n",
       "}\n",
       "\n",
       "#sk-container-id-1 pre {\n",
       "  padding: 0;\n",
       "}\n",
       "\n",
       "#sk-container-id-1 input.sk-hidden--visually {\n",
       "  border: 0;\n",
       "  clip: rect(1px 1px 1px 1px);\n",
       "  clip: rect(1px, 1px, 1px, 1px);\n",
       "  height: 1px;\n",
       "  margin: -1px;\n",
       "  overflow: hidden;\n",
       "  padding: 0;\n",
       "  position: absolute;\n",
       "  width: 1px;\n",
       "}\n",
       "\n",
       "#sk-container-id-1 div.sk-dashed-wrapped {\n",
       "  border: 1px dashed var(--sklearn-color-line);\n",
       "  margin: 0 0.4em 0.5em 0.4em;\n",
       "  box-sizing: border-box;\n",
       "  padding-bottom: 0.4em;\n",
       "  background-color: var(--sklearn-color-background);\n",
       "}\n",
       "\n",
       "#sk-container-id-1 div.sk-container {\n",
       "  /* jupyter's `normalize.less` sets `[hidden] { display: none; }`\n",
       "     but bootstrap.min.css set `[hidden] { display: none !important; }`\n",
       "     so we also need the `!important` here to be able to override the\n",
       "     default hidden behavior on the sphinx rendered scikit-learn.org.\n",
       "     See: https://github.com/scikit-learn/scikit-learn/issues/21755 */\n",
       "  display: inline-block !important;\n",
       "  position: relative;\n",
       "}\n",
       "\n",
       "#sk-container-id-1 div.sk-text-repr-fallback {\n",
       "  display: none;\n",
       "}\n",
       "\n",
       "div.sk-parallel-item,\n",
       "div.sk-serial,\n",
       "div.sk-item {\n",
       "  /* draw centered vertical line to link estimators */\n",
       "  background-image: linear-gradient(var(--sklearn-color-text-on-default-background), var(--sklearn-color-text-on-default-background));\n",
       "  background-size: 2px 100%;\n",
       "  background-repeat: no-repeat;\n",
       "  background-position: center center;\n",
       "}\n",
       "\n",
       "/* Parallel-specific style estimator block */\n",
       "\n",
       "#sk-container-id-1 div.sk-parallel-item::after {\n",
       "  content: \"\";\n",
       "  width: 100%;\n",
       "  border-bottom: 2px solid var(--sklearn-color-text-on-default-background);\n",
       "  flex-grow: 1;\n",
       "}\n",
       "\n",
       "#sk-container-id-1 div.sk-parallel {\n",
       "  display: flex;\n",
       "  align-items: stretch;\n",
       "  justify-content: center;\n",
       "  background-color: var(--sklearn-color-background);\n",
       "  position: relative;\n",
       "}\n",
       "\n",
       "#sk-container-id-1 div.sk-parallel-item {\n",
       "  display: flex;\n",
       "  flex-direction: column;\n",
       "}\n",
       "\n",
       "#sk-container-id-1 div.sk-parallel-item:first-child::after {\n",
       "  align-self: flex-end;\n",
       "  width: 50%;\n",
       "}\n",
       "\n",
       "#sk-container-id-1 div.sk-parallel-item:last-child::after {\n",
       "  align-self: flex-start;\n",
       "  width: 50%;\n",
       "}\n",
       "\n",
       "#sk-container-id-1 div.sk-parallel-item:only-child::after {\n",
       "  width: 0;\n",
       "}\n",
       "\n",
       "/* Serial-specific style estimator block */\n",
       "\n",
       "#sk-container-id-1 div.sk-serial {\n",
       "  display: flex;\n",
       "  flex-direction: column;\n",
       "  align-items: center;\n",
       "  background-color: var(--sklearn-color-background);\n",
       "  padding-right: 1em;\n",
       "  padding-left: 1em;\n",
       "}\n",
       "\n",
       "\n",
       "/* Toggleable style: style used for estimator/Pipeline/ColumnTransformer box that is\n",
       "clickable and can be expanded/collapsed.\n",
       "- Pipeline and ColumnTransformer use this feature and define the default style\n",
       "- Estimators will overwrite some part of the style using the `sk-estimator` class\n",
       "*/\n",
       "\n",
       "/* Pipeline and ColumnTransformer style (default) */\n",
       "\n",
       "#sk-container-id-1 div.sk-toggleable {\n",
       "  /* Default theme specific background. It is overwritten whether we have a\n",
       "  specific estimator or a Pipeline/ColumnTransformer */\n",
       "  background-color: var(--sklearn-color-background);\n",
       "}\n",
       "\n",
       "/* Toggleable label */\n",
       "#sk-container-id-1 label.sk-toggleable__label {\n",
       "  cursor: pointer;\n",
       "  display: block;\n",
       "  width: 100%;\n",
       "  margin-bottom: 0;\n",
       "  padding: 0.5em;\n",
       "  box-sizing: border-box;\n",
       "  text-align: center;\n",
       "}\n",
       "\n",
       "#sk-container-id-1 label.sk-toggleable__label-arrow:before {\n",
       "  /* Arrow on the left of the label */\n",
       "  content: \"▸\";\n",
       "  float: left;\n",
       "  margin-right: 0.25em;\n",
       "  color: var(--sklearn-color-icon);\n",
       "}\n",
       "\n",
       "#sk-container-id-1 label.sk-toggleable__label-arrow:hover:before {\n",
       "  color: var(--sklearn-color-text);\n",
       "}\n",
       "\n",
       "/* Toggleable content - dropdown */\n",
       "\n",
       "#sk-container-id-1 div.sk-toggleable__content {\n",
       "  max-height: 0;\n",
       "  max-width: 0;\n",
       "  overflow: hidden;\n",
       "  text-align: left;\n",
       "  /* unfitted */\n",
       "  background-color: var(--sklearn-color-unfitted-level-0);\n",
       "}\n",
       "\n",
       "#sk-container-id-1 div.sk-toggleable__content.fitted {\n",
       "  /* fitted */\n",
       "  background-color: var(--sklearn-color-fitted-level-0);\n",
       "}\n",
       "\n",
       "#sk-container-id-1 div.sk-toggleable__content pre {\n",
       "  margin: 0.2em;\n",
       "  border-radius: 0.25em;\n",
       "  color: var(--sklearn-color-text);\n",
       "  /* unfitted */\n",
       "  background-color: var(--sklearn-color-unfitted-level-0);\n",
       "}\n",
       "\n",
       "#sk-container-id-1 div.sk-toggleable__content.fitted pre {\n",
       "  /* unfitted */\n",
       "  background-color: var(--sklearn-color-fitted-level-0);\n",
       "}\n",
       "\n",
       "#sk-container-id-1 input.sk-toggleable__control:checked~div.sk-toggleable__content {\n",
       "  /* Expand drop-down */\n",
       "  max-height: 200px;\n",
       "  max-width: 100%;\n",
       "  overflow: auto;\n",
       "}\n",
       "\n",
       "#sk-container-id-1 input.sk-toggleable__control:checked~label.sk-toggleable__label-arrow:before {\n",
       "  content: \"▾\";\n",
       "}\n",
       "\n",
       "/* Pipeline/ColumnTransformer-specific style */\n",
       "\n",
       "#sk-container-id-1 div.sk-label input.sk-toggleable__control:checked~label.sk-toggleable__label {\n",
       "  color: var(--sklearn-color-text);\n",
       "  background-color: var(--sklearn-color-unfitted-level-2);\n",
       "}\n",
       "\n",
       "#sk-container-id-1 div.sk-label.fitted input.sk-toggleable__control:checked~label.sk-toggleable__label {\n",
       "  background-color: var(--sklearn-color-fitted-level-2);\n",
       "}\n",
       "\n",
       "/* Estimator-specific style */\n",
       "\n",
       "/* Colorize estimator box */\n",
       "#sk-container-id-1 div.sk-estimator input.sk-toggleable__control:checked~label.sk-toggleable__label {\n",
       "  /* unfitted */\n",
       "  background-color: var(--sklearn-color-unfitted-level-2);\n",
       "}\n",
       "\n",
       "#sk-container-id-1 div.sk-estimator.fitted input.sk-toggleable__control:checked~label.sk-toggleable__label {\n",
       "  /* fitted */\n",
       "  background-color: var(--sklearn-color-fitted-level-2);\n",
       "}\n",
       "\n",
       "#sk-container-id-1 div.sk-label label.sk-toggleable__label,\n",
       "#sk-container-id-1 div.sk-label label {\n",
       "  /* The background is the default theme color */\n",
       "  color: var(--sklearn-color-text-on-default-background);\n",
       "}\n",
       "\n",
       "/* On hover, darken the color of the background */\n",
       "#sk-container-id-1 div.sk-label:hover label.sk-toggleable__label {\n",
       "  color: var(--sklearn-color-text);\n",
       "  background-color: var(--sklearn-color-unfitted-level-2);\n",
       "}\n",
       "\n",
       "/* Label box, darken color on hover, fitted */\n",
       "#sk-container-id-1 div.sk-label.fitted:hover label.sk-toggleable__label.fitted {\n",
       "  color: var(--sklearn-color-text);\n",
       "  background-color: var(--sklearn-color-fitted-level-2);\n",
       "}\n",
       "\n",
       "/* Estimator label */\n",
       "\n",
       "#sk-container-id-1 div.sk-label label {\n",
       "  font-family: monospace;\n",
       "  font-weight: bold;\n",
       "  display: inline-block;\n",
       "  line-height: 1.2em;\n",
       "}\n",
       "\n",
       "#sk-container-id-1 div.sk-label-container {\n",
       "  text-align: center;\n",
       "}\n",
       "\n",
       "/* Estimator-specific */\n",
       "#sk-container-id-1 div.sk-estimator {\n",
       "  font-family: monospace;\n",
       "  border: 1px dotted var(--sklearn-color-border-box);\n",
       "  border-radius: 0.25em;\n",
       "  box-sizing: border-box;\n",
       "  margin-bottom: 0.5em;\n",
       "  /* unfitted */\n",
       "  background-color: var(--sklearn-color-unfitted-level-0);\n",
       "}\n",
       "\n",
       "#sk-container-id-1 div.sk-estimator.fitted {\n",
       "  /* fitted */\n",
       "  background-color: var(--sklearn-color-fitted-level-0);\n",
       "}\n",
       "\n",
       "/* on hover */\n",
       "#sk-container-id-1 div.sk-estimator:hover {\n",
       "  /* unfitted */\n",
       "  background-color: var(--sklearn-color-unfitted-level-2);\n",
       "}\n",
       "\n",
       "#sk-container-id-1 div.sk-estimator.fitted:hover {\n",
       "  /* fitted */\n",
       "  background-color: var(--sklearn-color-fitted-level-2);\n",
       "}\n",
       "\n",
       "/* Specification for estimator info (e.g. \"i\" and \"?\") */\n",
       "\n",
       "/* Common style for \"i\" and \"?\" */\n",
       "\n",
       ".sk-estimator-doc-link,\n",
       "a:link.sk-estimator-doc-link,\n",
       "a:visited.sk-estimator-doc-link {\n",
       "  float: right;\n",
       "  font-size: smaller;\n",
       "  line-height: 1em;\n",
       "  font-family: monospace;\n",
       "  background-color: var(--sklearn-color-background);\n",
       "  border-radius: 1em;\n",
       "  height: 1em;\n",
       "  width: 1em;\n",
       "  text-decoration: none !important;\n",
       "  margin-left: 1ex;\n",
       "  /* unfitted */\n",
       "  border: var(--sklearn-color-unfitted-level-1) 1pt solid;\n",
       "  color: var(--sklearn-color-unfitted-level-1);\n",
       "}\n",
       "\n",
       ".sk-estimator-doc-link.fitted,\n",
       "a:link.sk-estimator-doc-link.fitted,\n",
       "a:visited.sk-estimator-doc-link.fitted {\n",
       "  /* fitted */\n",
       "  border: var(--sklearn-color-fitted-level-1) 1pt solid;\n",
       "  color: var(--sklearn-color-fitted-level-1);\n",
       "}\n",
       "\n",
       "/* On hover */\n",
       "div.sk-estimator:hover .sk-estimator-doc-link:hover,\n",
       ".sk-estimator-doc-link:hover,\n",
       "div.sk-label-container:hover .sk-estimator-doc-link:hover,\n",
       ".sk-estimator-doc-link:hover {\n",
       "  /* unfitted */\n",
       "  background-color: var(--sklearn-color-unfitted-level-3);\n",
       "  color: var(--sklearn-color-background);\n",
       "  text-decoration: none;\n",
       "}\n",
       "\n",
       "div.sk-estimator.fitted:hover .sk-estimator-doc-link.fitted:hover,\n",
       ".sk-estimator-doc-link.fitted:hover,\n",
       "div.sk-label-container:hover .sk-estimator-doc-link.fitted:hover,\n",
       ".sk-estimator-doc-link.fitted:hover {\n",
       "  /* fitted */\n",
       "  background-color: var(--sklearn-color-fitted-level-3);\n",
       "  color: var(--sklearn-color-background);\n",
       "  text-decoration: none;\n",
       "}\n",
       "\n",
       "/* Span, style for the box shown on hovering the info icon */\n",
       ".sk-estimator-doc-link span {\n",
       "  display: none;\n",
       "  z-index: 9999;\n",
       "  position: relative;\n",
       "  font-weight: normal;\n",
       "  right: .2ex;\n",
       "  padding: .5ex;\n",
       "  margin: .5ex;\n",
       "  width: min-content;\n",
       "  min-width: 20ex;\n",
       "  max-width: 50ex;\n",
       "  color: var(--sklearn-color-text);\n",
       "  box-shadow: 2pt 2pt 4pt #999;\n",
       "  /* unfitted */\n",
       "  background: var(--sklearn-color-unfitted-level-0);\n",
       "  border: .5pt solid var(--sklearn-color-unfitted-level-3);\n",
       "}\n",
       "\n",
       ".sk-estimator-doc-link.fitted span {\n",
       "  /* fitted */\n",
       "  background: var(--sklearn-color-fitted-level-0);\n",
       "  border: var(--sklearn-color-fitted-level-3);\n",
       "}\n",
       "\n",
       ".sk-estimator-doc-link:hover span {\n",
       "  display: block;\n",
       "}\n",
       "\n",
       "/* \"?\"-specific style due to the `<a>` HTML tag */\n",
       "\n",
       "#sk-container-id-1 a.estimator_doc_link {\n",
       "  float: right;\n",
       "  font-size: 1rem;\n",
       "  line-height: 1em;\n",
       "  font-family: monospace;\n",
       "  background-color: var(--sklearn-color-background);\n",
       "  border-radius: 1rem;\n",
       "  height: 1rem;\n",
       "  width: 1rem;\n",
       "  text-decoration: none;\n",
       "  /* unfitted */\n",
       "  color: var(--sklearn-color-unfitted-level-1);\n",
       "  border: var(--sklearn-color-unfitted-level-1) 1pt solid;\n",
       "}\n",
       "\n",
       "#sk-container-id-1 a.estimator_doc_link.fitted {\n",
       "  /* fitted */\n",
       "  border: var(--sklearn-color-fitted-level-1) 1pt solid;\n",
       "  color: var(--sklearn-color-fitted-level-1);\n",
       "}\n",
       "\n",
       "/* On hover */\n",
       "#sk-container-id-1 a.estimator_doc_link:hover {\n",
       "  /* unfitted */\n",
       "  background-color: var(--sklearn-color-unfitted-level-3);\n",
       "  color: var(--sklearn-color-background);\n",
       "  text-decoration: none;\n",
       "}\n",
       "\n",
       "#sk-container-id-1 a.estimator_doc_link.fitted:hover {\n",
       "  /* fitted */\n",
       "  background-color: var(--sklearn-color-fitted-level-3);\n",
       "}\n",
       "</style><div id=\"sk-container-id-1\" class=\"sk-top-container\"><div class=\"sk-text-repr-fallback\"><pre>StandardScaler()</pre><b>In a Jupyter environment, please rerun this cell to show the HTML representation or trust the notebook. <br />On GitHub, the HTML representation is unable to render, please try loading this page with nbviewer.org.</b></div><div class=\"sk-container\" hidden><div class=\"sk-item\"><div class=\"sk-estimator  sk-toggleable\"><input class=\"sk-toggleable__control sk-hidden--visually\" id=\"sk-estimator-id-1\" type=\"checkbox\" checked><label for=\"sk-estimator-id-1\" class=\"sk-toggleable__label  sk-toggleable__label-arrow \">&nbsp;&nbsp;StandardScaler<a class=\"sk-estimator-doc-link \" rel=\"noreferrer\" target=\"_blank\" href=\"https://scikit-learn.org/1.5/modules/generated/sklearn.preprocessing.StandardScaler.html\">?<span>Documentation for StandardScaler</span></a><span class=\"sk-estimator-doc-link \">i<span>Not fitted</span></span></label><div class=\"sk-toggleable__content \"><pre>StandardScaler()</pre></div> </div></div></div></div>"
      ],
      "text/plain": [
       "StandardScaler()"
      ]
     },
     "execution_count": 86,
     "metadata": {},
     "output_type": "execute_result"
    }
   ],
   "source": [
    "sc = StandardScaler()\n",
    "sc"
   ]
  },
  {
   "cell_type": "code",
   "execution_count": 87,
   "id": "741fecc4-3ab1-4e69-a799-12a286b6a7d7",
   "metadata": {},
   "outputs": [],
   "source": [
    "numerical_col_names = ['amount', 'oldbalanceOrg', 'newbalanceOrig', 'oldbalanceDest', \n",
    "                       'newbalanceDest', 'hour_of_day']\n",
    "X_train_resampled_numerical = X_train_resampled[numerical_col_names]\n",
    "X_test_numerical = X_test[numerical_col_names]"
   ]
  },
  {
   "cell_type": "code",
   "execution_count": 88,
   "id": "57c559d8-2264-4958-8e31-7f36c521033d",
   "metadata": {},
   "outputs": [],
   "source": [
    "sc_X_train_resampled_numerical = pd.DataFrame(sc.fit_transform(X_train_resampled_numerical), \n",
    "                                    columns=X_train_resampled_numerical.columns, \n",
    "                                    index=X_train_resampled_numerical.index)\n",
    "sc_X_test_numerical = pd.DataFrame(sc.transform(X_test_numerical), \n",
    "                                   columns=X_test_numerical.columns,\n",
    "                                   index=X_test_numerical.index)"
   ]
  },
  {
   "cell_type": "code",
   "execution_count": 89,
   "id": "10c48d6e-c6f0-4177-863e-25e98ce1600a",
   "metadata": {},
   "outputs": [
    {
     "data": {
      "text/html": [
       "<div>\n",
       "<style scoped>\n",
       "    .dataframe tbody tr th:only-of-type {\n",
       "        vertical-align: middle;\n",
       "    }\n",
       "\n",
       "    .dataframe tbody tr th {\n",
       "        vertical-align: top;\n",
       "    }\n",
       "\n",
       "    .dataframe thead th {\n",
       "        text-align: right;\n",
       "    }\n",
       "</style>\n",
       "<table border=\"1\" class=\"dataframe\">\n",
       "  <thead>\n",
       "    <tr style=\"text-align: right;\">\n",
       "      <th></th>\n",
       "      <th>amount</th>\n",
       "      <th>oldbalanceOrg</th>\n",
       "      <th>newbalanceOrig</th>\n",
       "      <th>oldbalanceDest</th>\n",
       "      <th>newbalanceDest</th>\n",
       "      <th>hour_of_day</th>\n",
       "    </tr>\n",
       "  </thead>\n",
       "  <tbody>\n",
       "    <tr>\n",
       "      <th>count</th>\n",
       "      <td>9.531610e+06</td>\n",
       "      <td>9.531610e+06</td>\n",
       "      <td>9.531610e+06</td>\n",
       "      <td>9.531610e+06</td>\n",
       "      <td>9.531610e+06</td>\n",
       "      <td>9.531610e+06</td>\n",
       "    </tr>\n",
       "    <tr>\n",
       "      <th>mean</th>\n",
       "      <td>1.574410e-18</td>\n",
       "      <td>4.193179e-16</td>\n",
       "      <td>3.736361e-16</td>\n",
       "      <td>1.366755e-16</td>\n",
       "      <td>-1.696915e-16</td>\n",
       "      <td>-1.671260e-16</td>\n",
       "    </tr>\n",
       "    <tr>\n",
       "      <th>std</th>\n",
       "      <td>1.000000e+00</td>\n",
       "      <td>1.000000e+00</td>\n",
       "      <td>1.000000e+00</td>\n",
       "      <td>1.000000e+00</td>\n",
       "      <td>1.000000e+00</td>\n",
       "      <td>1.000000e+00</td>\n",
       "    </tr>\n",
       "    <tr>\n",
       "      <th>min</th>\n",
       "      <td>-4.420213e-01</td>\n",
       "      <td>-3.801114e-01</td>\n",
       "      <td>-2.085385e-01</td>\n",
       "      <td>-2.608949e-01</td>\n",
       "      <td>-3.470146e-01</td>\n",
       "      <td>-2.412995e+00</td>\n",
       "    </tr>\n",
       "    <tr>\n",
       "      <th>25%</th>\n",
       "      <td>-4.218874e-01</td>\n",
       "      <td>-3.768577e-01</td>\n",
       "      <td>-2.085385e-01</td>\n",
       "      <td>-2.608949e-01</td>\n",
       "      <td>-3.470146e-01</td>\n",
       "      <td>-5.793190e-01</td>\n",
       "    </tr>\n",
       "    <tr>\n",
       "      <th>50%</th>\n",
       "      <td>-3.495696e-01</td>\n",
       "      <td>-3.435397e-01</td>\n",
       "      <td>-2.085385e-01</td>\n",
       "      <td>-2.608949e-01</td>\n",
       "      <td>-3.123898e-01</td>\n",
       "      <td>1.541514e-01</td>\n",
       "    </tr>\n",
       "    <tr>\n",
       "      <th>75%</th>\n",
       "      <td>-1.502317e-01</td>\n",
       "      <td>-1.348851e-01</td>\n",
       "      <td>-2.085385e-01</td>\n",
       "      <td>-9.917847e-02</td>\n",
       "      <td>-4.316985e-02</td>\n",
       "      <td>8.876219e-01</td>\n",
       "    </tr>\n",
       "    <tr>\n",
       "      <th>max</th>\n",
       "      <td>4.929353e+01</td>\n",
       "      <td>1.787004e+01</td>\n",
       "      <td>1.945329e+01</td>\n",
       "      <td>1.131066e+02</td>\n",
       "      <td>9.950677e+01</td>\n",
       "      <td>1.804460e+00</td>\n",
       "    </tr>\n",
       "  </tbody>\n",
       "</table>\n",
       "</div>"
      ],
      "text/plain": [
       "             amount  oldbalanceOrg  newbalanceOrig  oldbalanceDest  \\\n",
       "count  9.531610e+06   9.531610e+06    9.531610e+06    9.531610e+06   \n",
       "mean   1.574410e-18   4.193179e-16    3.736361e-16    1.366755e-16   \n",
       "std    1.000000e+00   1.000000e+00    1.000000e+00    1.000000e+00   \n",
       "min   -4.420213e-01  -3.801114e-01   -2.085385e-01   -2.608949e-01   \n",
       "25%   -4.218874e-01  -3.768577e-01   -2.085385e-01   -2.608949e-01   \n",
       "50%   -3.495696e-01  -3.435397e-01   -2.085385e-01   -2.608949e-01   \n",
       "75%   -1.502317e-01  -1.348851e-01   -2.085385e-01   -9.917847e-02   \n",
       "max    4.929353e+01   1.787004e+01    1.945329e+01    1.131066e+02   \n",
       "\n",
       "       newbalanceDest   hour_of_day  \n",
       "count    9.531610e+06  9.531610e+06  \n",
       "mean    -1.696915e-16 -1.671260e-16  \n",
       "std      1.000000e+00  1.000000e+00  \n",
       "min     -3.470146e-01 -2.412995e+00  \n",
       "25%     -3.470146e-01 -5.793190e-01  \n",
       "50%     -3.123898e-01  1.541514e-01  \n",
       "75%     -4.316985e-02  8.876219e-01  \n",
       "max      9.950677e+01  1.804460e+00  "
      ]
     },
     "execution_count": 89,
     "metadata": {},
     "output_type": "execute_result"
    }
   ],
   "source": [
    "sc_X_train_resampled_numerical.describe()"
   ]
  },
  {
   "cell_type": "code",
   "execution_count": 90,
   "id": "25f7b10b-f3fb-44f8-bcd4-b8ce59d7044b",
   "metadata": {},
   "outputs": [],
   "source": [
    "categorical_col_names = [col_name for col_name in feature_variable_names if col_name not in numerical_col_names]\n",
    "\n",
    "sc_X_train_resampled = pd.concat([sc_X_train_resampled_numerical, X_train_resampled[categorical_col_names]], axis=1)\n",
    "sc_X_test = pd.concat([sc_X_test_numerical, X_test[categorical_col_names]], axis=1)"
   ]
  },
  {
   "cell_type": "code",
   "execution_count": 91,
   "id": "1f141ba4-1ed3-45a4-974a-45678f0c3b83",
   "metadata": {},
   "outputs": [
    {
     "data": {
      "text/plain": [
       "['is_CM_T', 'type_CASH_OUT', 'type_DEBIT', 'type_PAYMENT', 'type_TRANSFER']"
      ]
     },
     "execution_count": 91,
     "metadata": {},
     "output_type": "execute_result"
    }
   ],
   "source": [
    "categorical_col_names"
   ]
  },
  {
   "cell_type": "code",
   "execution_count": 92,
   "id": "cd0843d6-78e1-4db5-a407-64d9aa473034",
   "metadata": {},
   "outputs": [
    {
     "name": "stdout",
     "output_type": "stream",
     "text": [
      "(4771965, 11)\n"
     ]
    }
   ],
   "source": [
    "X_train_numerical = X_train[numerical_col_names]\n",
    "\n",
    "sc_X_train_numerical = pd.DataFrame(sc.fit_transform(X_train_numerical), \n",
    "                                    columns=X_train_numerical.columns, \n",
    "                                    index=X_train_numerical.index)\n",
    "sc_X_train= pd.concat([sc_X_train_numerical, X_train[categorical_col_names]], axis=1)\n",
    "\n",
    "print(sc_X_train.shape)"
   ]
  },
  {
   "cell_type": "markdown",
   "id": "c216787c-e74b-4cef-bddc-57f389d9127a",
   "metadata": {},
   "source": [
    "### Building the Logistic Regression model:"
   ]
  },
  {
   "cell_type": "code",
   "execution_count": 93,
   "id": "f00b79fe-b43c-44ef-9df2-46c1cadcfaaa",
   "metadata": {},
   "outputs": [],
   "source": [
    "from sklearn.linear_model import LogisticRegression"
   ]
  },
  {
   "cell_type": "code",
   "execution_count": 94,
   "id": "ecd3d159-75bc-43fa-b7f6-db32ca5710cc",
   "metadata": {},
   "outputs": [],
   "source": [
    "logistic_regression = LogisticRegression(random_state=42)\n",
    "\n",
    "logistic_regression.fit(sc_X_train_resampled, y_train_resampled.iloc[:, 0])\n",
    "\n",
    "y_pred_train_logistic = logistic_regression.predict(sc_X_train_resampled)\n",
    "y_pred_test_logistic = logistic_regression.predict(sc_X_test)"
   ]
  },
  {
   "cell_type": "code",
   "execution_count": 95,
   "id": "4c7d5338-ca7d-4c9d-bd97-1ab5ca4a1bc9",
   "metadata": {},
   "outputs": [
    {
     "name": "stdout",
     "output_type": "stream",
     "text": [
      "Logistic Regression model\n",
      "Classification report for Train data:\n",
      "              precision    recall  f1-score   support\n",
      "\n",
      "           0       0.96      0.96      0.96   4765805\n",
      "           1       0.96      0.96      0.96   4765805\n",
      "\n",
      "    accuracy                           0.96   9531610\n",
      "   macro avg       0.96      0.96      0.96   9531610\n",
      "weighted avg       0.96      0.96      0.96   9531610\n",
      "\n",
      "********************************************************************************\n",
      "Classification report for Test data:\n",
      "              precision    recall  f1-score   support\n",
      "\n",
      "           0       1.00      0.96      0.98   1588602\n",
      "           1       0.03      0.94      0.05      2053\n",
      "\n",
      "    accuracy                           0.96   1590655\n",
      "   macro avg       0.51      0.95      0.52   1590655\n",
      "weighted avg       1.00      0.96      0.98   1590655\n",
      "\n",
      "Confusion matrix for Train data:\n",
      "[[4559649  206156]\n",
      " [ 213565 4552240]]\n",
      "Confusion matrix for Test data:\n",
      "[[1519819   68783]\n",
      " [    122    1931]]\n"
     ]
    }
   ],
   "source": [
    "print('Logistic Regression model')\n",
    "\n",
    "print('Classification report for Train data:')\n",
    "print(classification_report(y_train_resampled, y_pred_train_logistic))\n",
    "\n",
    "print(\"*\"*80)\n",
    "\n",
    "print('Classification report for Test data:')\n",
    "print(classification_report(y_test, y_pred_test_logistic))\n",
    "\n",
    "print('Confusion matrix for Train data:')\n",
    "print(confusion_matrix(y_train_resampled, y_pred_train_logistic))\n",
    "\n",
    "print('Confusion matrix for Test data:')\n",
    "print(confusion_matrix(y_test, y_pred_test_logistic))"
   ]
  },
  {
   "cell_type": "code",
   "execution_count": 96,
   "id": "b58e87fe-fa7f-4742-8a7f-11adc6103e49",
   "metadata": {},
   "outputs": [
    {
     "name": "stdout",
     "output_type": "stream",
     "text": [
      "Cross validation accuracy for the Logistic Regression based model: 0.9559461622957717\n"
     ]
    }
   ],
   "source": [
    "accuracy_logistic_regression = cross_val_score(logistic_regression, sc_X_train_resampled, \n",
    "                                               y_train_resampled.values.ravel(), cv=5)\n",
    "print(f'Cross validation accuracy for the Logistic Regression based model: {accuracy_logistic_regression.mean()}')"
   ]
  },
  {
   "cell_type": "code",
   "execution_count": 97,
   "id": "202f4459-9638-4cd8-be23-1723f1e5a390",
   "metadata": {},
   "outputs": [],
   "source": [
    "from sklearn.tree import DecisionTreeClassifier"
   ]
  },
  {
   "cell_type": "code",
   "execution_count": 98,
   "id": "6b66b973-914b-425e-b5cc-83444e228d1f",
   "metadata": {},
   "outputs": [],
   "source": [
    "decision_tree = DecisionTreeClassifier(random_state=42)\n",
    "\n",
    "decision_tree.fit(sc_X_train_resampled, y_train_resampled.iloc[:, 0])\n",
    "\n",
    "y_pred_train_dt = decision_tree.predict(sc_X_train_resampled)\n",
    "y_pred_test_dt = decision_tree.predict(sc_X_test)"
   ]
  },
  {
   "cell_type": "code",
   "execution_count": 99,
   "id": "5dd1f20a-daf7-425b-a50d-5d1e8090763b",
   "metadata": {},
   "outputs": [
    {
     "name": "stdout",
     "output_type": "stream",
     "text": [
      "Decision Tree model\n",
      "Classification report for Train data:\n",
      "              precision    recall  f1-score   support\n",
      "\n",
      "           0       1.00      1.00      1.00   4765805\n",
      "           1       1.00      1.00      1.00   4765805\n",
      "\n",
      "    accuracy                           1.00   9531610\n",
      "   macro avg       1.00      1.00      1.00   9531610\n",
      "weighted avg       1.00      1.00      1.00   9531610\n",
      "\n",
      "********************************************************************************\n",
      "Classification report for Test data:\n",
      "              precision    recall  f1-score   support\n",
      "\n",
      "           0       1.00      1.00      1.00   1588602\n",
      "           1       0.69      0.95      0.80      2053\n",
      "\n",
      "    accuracy                           1.00   1590655\n",
      "   macro avg       0.85      0.98      0.90   1590655\n",
      "weighted avg       1.00      1.00      1.00   1590655\n",
      "\n",
      "Confusion matrix for Train data:\n",
      "[[4765805       0]\n",
      " [      0 4765805]]\n",
      "Confusion matrix for Test data:\n",
      "[[1587733     869]\n",
      " [     94    1959]]\n"
     ]
    }
   ],
   "source": [
    "print('Decision Tree model')\n",
    "\n",
    "print('Classification report for Train data:')\n",
    "print(classification_report(y_train_resampled, y_pred_train_dt))\n",
    "\n",
    "print(\"*\"*80)\n",
    "\n",
    "print('Classification report for Test data:')\n",
    "print(classification_report(y_test, y_pred_test_dt))\n",
    "\n",
    "print('Confusion matrix for Train data:')\n",
    "print(confusion_matrix(y_train_resampled, y_pred_train_dt))\n",
    "\n",
    "print('Confusion matrix for Test data:')\n",
    "print(confusion_matrix(y_test, y_pred_test_dt))"
   ]
  },
  {
   "cell_type": "code",
   "execution_count": 100,
   "id": "edafc7ba-2253-4cf1-bc0f-661ca3e75d1e",
   "metadata": {},
   "outputs": [
    {
     "name": "stdout",
     "output_type": "stream",
     "text": [
      "Cross validation accuracy for the Decision Tree based model: 0.999598388939539\n"
     ]
    }
   ],
   "source": [
    "accuracy_decision_tree = cross_val_score(decision_tree, sc_X_train_resampled, \n",
    "                                               y_train_resampled.values.ravel(), cv=5)\n",
    "print(f'Cross validation accuracy for the Decision Tree based model: {accuracy_decision_tree.mean()}')"
   ]
  },
  {
   "cell_type": "code",
   "execution_count": 101,
   "id": "1db05666-4f8a-45c7-b125-8cbc4c8c5a08",
   "metadata": {},
   "outputs": [],
   "source": [
    "from xgboost import XGBClassifier"
   ]
  },
  {
   "cell_type": "code",
   "execution_count": 102,
   "id": "ad57340e-98fe-4b63-8565-437c83a0f223",
   "metadata": {},
   "outputs": [],
   "source": [
    "xg_boost = XGBClassifier(seed=42)\n",
    "xg_boost.fit(sc_X_train_resampled, y_train_resampled.iloc[:, 0])\n",
    "\n",
    "y_pred_train_xb = xg_boost.predict(sc_X_train_resampled)\n",
    "y_pred_test_xb = xg_boost.predict(sc_X_test)"
   ]
  },
  {
   "cell_type": "code",
   "execution_count": 103,
   "id": "1887735f-e677-4b65-97a1-0de4d548e550",
   "metadata": {},
   "outputs": [
    {
     "name": "stdout",
     "output_type": "stream",
     "text": [
      "XGBoost model\n",
      "Classification report for Train data:\n",
      "              precision    recall  f1-score   support\n",
      "\n",
      "           0       1.00      1.00      1.00   4765805\n",
      "           1       1.00      1.00      1.00   4765805\n",
      "\n",
      "    accuracy                           1.00   9531610\n",
      "   macro avg       1.00      1.00      1.00   9531610\n",
      "weighted avg       1.00      1.00      1.00   9531610\n",
      "\n",
      "********************************************************************************\n",
      "Classification report for Test data:\n",
      "              precision    recall  f1-score   support\n",
      "\n",
      "           0       1.00      1.00      1.00   1588602\n",
      "           1       0.36      0.99      0.53      2053\n",
      "\n",
      "    accuracy                           1.00   1590655\n",
      "   macro avg       0.68      0.99      0.76   1590655\n",
      "weighted avg       1.00      1.00      1.00   1590655\n",
      "\n",
      "Confusion matrix for Train data:\n",
      "[[4755189   10616]\n",
      " [   4653 4761152]]\n",
      "Confusion matrix for Test data:\n",
      "[[1585002    3600]\n",
      " [     23    2030]]\n"
     ]
    }
   ],
   "source": [
    "print('XGBoost model')\n",
    "\n",
    "print('Classification report for Train data:')\n",
    "print(classification_report(y_train_resampled, y_pred_train_xb))\n",
    "\n",
    "print(\"*\"*80)\n",
    "\n",
    "print('Classification report for Test data:')\n",
    "print(classification_report(y_test, y_pred_test_xb))\n",
    "\n",
    "print('Confusion matrix for Train data:')\n",
    "print(confusion_matrix(y_train_resampled, y_pred_train_xb))\n",
    "\n",
    "print('Confusion matrix for Test data:')\n",
    "print(confusion_matrix(y_test, y_pred_test_xb))"
   ]
  },
  {
   "cell_type": "code",
   "execution_count": 104,
   "id": "216f62d3-1afd-4727-82ff-905039fe2bb2",
   "metadata": {},
   "outputs": [
    {
     "name": "stdout",
     "output_type": "stream",
     "text": [
      "Cross validation accuracy for the XGBOOST based model: 0.9983476033954389\n"
     ]
    }
   ],
   "source": [
    "accuracy_xgboost = cross_val_score(xg_boost, sc_X_train_resampled, \n",
    "                                               y_train_resampled.values.ravel(), cv=5)\n",
    "print(f'Cross validation accuracy for the XGBOOST based model: {accuracy_xgboost.mean()}')"
   ]
  },
  {
   "cell_type": "code",
   "execution_count": 105,
   "id": "84034e3f-6bdc-433f-bdff-cc291ca2478a",
   "metadata": {},
   "outputs": [],
   "source": [
    "from sklearn.ensemble import IsolationForest"
   ]
  },
  {
   "cell_type": "code",
   "execution_count": 106,
   "id": "afc43b2e-cd5d-44c5-bb78-2224a432988f",
   "metadata": {},
   "outputs": [],
   "source": [
    "isolation_forest = IsolationForest(contamination=0.013, random_state=42)\n",
    "\n",
    "isolation_forest.fit(sc_X_train)\n",
    "\n",
    "# Predict the anomaly score\n",
    "y_pred_train_if = isolation_forest.predict(sc_X_train)\n",
    "y_pred_test_if = isolation_forest.predict(sc_X_test)\n",
    "\n",
    "offset_if = isolation_forest.offset_"
   ]
  },
  {
   "cell_type": "code",
   "execution_count": 107,
   "id": "be892264-64dd-4053-baa7-803d04be0ddc",
   "metadata": {},
   "outputs": [
    {
     "data": {
      "text/plain": [
       "array([-1,  1])"
      ]
     },
     "execution_count": 107,
     "metadata": {},
     "output_type": "execute_result"
    }
   ],
   "source": [
    "np.unique(y_pred_train_if)"
   ]
  },
  {
   "cell_type": "code",
   "execution_count": 108,
   "id": "2dac82e5-6bfc-4901-8545-e85960ce071d",
   "metadata": {},
   "outputs": [],
   "source": [
    "y_pred_train_if = np.where(y_pred_train_if == -1, 1, 0)\n",
    "y_pred_test_if = np.where(y_pred_test_if == -1, 1, 0)"
   ]
  },
  {
   "cell_type": "code",
   "execution_count": 109,
   "id": "3d99f428-ba5d-4b50-a3c6-be2e6db3a8ab",
   "metadata": {},
   "outputs": [
    {
     "name": "stdout",
     "output_type": "stream",
     "text": [
      "Isolation Forest model\n",
      "Classification report for Train data:\n",
      "              precision    recall  f1-score   support\n",
      "\n",
      "           0       1.00      0.99      0.99   4765805\n",
      "           1       0.01      0.08      0.01      6160\n",
      "\n",
      "    accuracy                           0.99   4771965\n",
      "   macro avg       0.50      0.53      0.50   4771965\n",
      "weighted avg       1.00      0.99      0.99   4771965\n",
      "\n",
      "********************************************************************************\n",
      "Classification report for Test data:\n",
      "              precision    recall  f1-score   support\n",
      "\n",
      "           0       1.00      0.99      0.99   1588602\n",
      "           1       0.01      0.07      0.01      2053\n",
      "\n",
      "    accuracy                           0.98   1590655\n",
      "   macro avg       0.50      0.53      0.50   1590655\n",
      "weighted avg       1.00      0.98      0.99   1590655\n",
      "\n",
      "Confusion matrix for Train data:\n",
      "[[4704258   61547]\n",
      " [   5671     489]]\n",
      "Confusion matrix for Test data:\n",
      "[[1565787   22815]\n",
      " [   1917     136]]\n"
     ]
    }
   ],
   "source": [
    "print('Isolation Forest model')\n",
    "\n",
    "print('Classification report for Train data:')\n",
    "print(classification_report(y_train, y_pred_train_if))\n",
    "\n",
    "print(\"*\"*80)\n",
    "\n",
    "print('Classification report for Test data:')\n",
    "print(classification_report(y_test, y_pred_test_if))\n",
    "\n",
    "print('Confusion matrix for Train data:')\n",
    "print(confusion_matrix(y_train, y_pred_train_if))\n",
    "\n",
    "print('Confusion matrix for Test data:')\n",
    "print(confusion_matrix(y_test, y_pred_test_if))"
   ]
  },
  {
   "cell_type": "code",
   "execution_count": 110,
   "id": "e1705f3e-2531-4705-8321-97a1e3354b10",
   "metadata": {},
   "outputs": [
    {
     "name": "stdout",
     "output_type": "stream",
     "text": [
      "(4771965,)\n",
      "(1590655,)\n"
     ]
    }
   ],
   "source": [
    "# Anomaly score returned by sklearn IsolationForest decision_function() is (0.5 - scores) \n",
    "# where scores is the Anomaly score as per the original IsolationForest paper.\n",
    "# https://github.com/scikit-learn/scikit-learn/blob/5491dc695/sklearn/ensemble/_iforest.py#L357\n",
    "# https://stats.stackexchange.com/questions/335274/scikit-learn-isolationforest-anomaly-score\n",
    "\n",
    "anomaly_score_train_if = (isolation_forest.decision_function(sc_X_train) * -1 - \n",
    "                          isolation_forest.offset_)\n",
    "anomaly_score_test_if = (isolation_forest.decision_function(sc_X_test) * -1 - \n",
    "                         isolation_forest.offset_)\n",
    "\n",
    "print(anomaly_score_train_if.shape)\n",
    "print(anomaly_score_test_if.shape)"
   ]
  },
  {
   "cell_type": "code",
   "execution_count": 111,
   "id": "4a4142f2-be1e-44a6-947a-7657f742bc50",
   "metadata": {},
   "outputs": [
    {
     "name": "stdout",
     "output_type": "stream",
     "text": [
      "4709929\n",
      "0\n",
      "62036\n"
     ]
    }
   ],
   "source": [
    "print((anomaly_score_train_if < -1*offset_if).sum())\n",
    "print((anomaly_score_train_if == -1*offset_if).sum())\n",
    "print((anomaly_score_train_if > -1*offset_if).sum())"
   ]
  },
  {
   "cell_type": "code",
   "execution_count": 112,
   "id": "8916f2c7-57a3-4fb0-9cf7-de90967b7e44",
   "metadata": {},
   "outputs": [
    {
     "name": "stdout",
     "output_type": "stream",
     "text": [
      "Train threshold for anomaly detection:  0.6301001936111721\n"
     ]
    }
   ],
   "source": [
    "print(f'Train threshold for anomaly detection:  {-1*offset_if}')"
   ]
  },
  {
   "cell_type": "code",
   "execution_count": 113,
   "id": "3632a9ff-993a-4b82-96d3-9c590fa514ab",
   "metadata": {},
   "outputs": [
    {
     "data": {
      "image/png": "[encoded data removed]",
      "text/plain": [
       "<Figure size 800x500 with 2 Axes>"
      ]
     },
     "metadata": {},
     "output_type": "display_data"
    }
   ],
   "source": [
    "plt.figure(figsize=(8,5))\n",
    "\n",
    "plt.subplot(1,2,1)\n",
    "sns.histplot(anomaly_score_train_if)\n",
    "plt.title('Train data')\n",
    "plt.xlabel('Average Anaomaly score')\n",
    "\n",
    "plt.subplot(1,2,2)\n",
    "sns.histplot(anomaly_score_test_if)\n",
    "\n",
    "plt.title('Test data')\n",
    "plt.xlabel('Average Anaomaly score')\n",
    "\n",
    "plt.tight_layout()\n",
    "\n",
    "plt.show()"
   ]
  },
  {
   "cell_type": "code",
   "execution_count": 114,
   "id": "f8a1f8bc-9a9d-4a3f-9c2b-0b3684a78cb1",
   "metadata": {},
   "outputs": [
    {
     "data": {
      "text/plain": [
       "array([1.49702212e-01, 3.48692265e-01, 3.65942600e-01, 3.37482085e-03,\n",
       "       2.98675947e-02, 4.62684232e-02, 1.77459979e-02, 1.14579898e-02,\n",
       "       6.06504290e-04, 2.28385931e-04, 2.61132065e-02])"
      ]
     },
     "execution_count": 114,
     "metadata": {},
     "output_type": "execute_result"
    }
   ],
   "source": [
    "decision_tree.feature_importances_"
   ]
  },
  {
   "cell_type": "code",
   "execution_count": 115,
   "id": "931298db-2899-4429-97db-160de5c03ee3",
   "metadata": {},
   "outputs": [
    {
     "data": {
      "text/plain": [
       "array(['amount', 'oldbalanceOrg', 'newbalanceOrig', 'oldbalanceDest',\n",
       "       'newbalanceDest', 'hour_of_day', 'is_CM_T', 'type_CASH_OUT',\n",
       "       'type_DEBIT', 'type_PAYMENT', 'type_TRANSFER'], dtype=object)"
      ]
     },
     "execution_count": 115,
     "metadata": {},
     "output_type": "execute_result"
    }
   ],
   "source": [
    "decision_tree.feature_names_in_"
   ]
  },
  {
   "cell_type": "code",
   "execution_count": 116,
   "id": "686447d8-5d5b-4dad-a449-184a7b05da26",
   "metadata": {},
   "outputs": [
    {
     "data": {
      "image/png": "[encoded data removed]",
      "text/plain": [
       "<Figure size 600x300 with 1 Axes>"
      ]
     },
     "metadata": {},
     "output_type": "display_data"
    }
   ],
   "source": [
    "plt.figure(figsize=(6,3))\n",
    "sns.barplot(x=decision_tree.feature_names_in_, y=decision_tree.feature_importances_)\n",
    "plt.xticks(rotation=90)\n",
    "plt.title('Feature Importance for the Decision Tree model')\n",
    "plt.ylabel('Weights')\n",
    "plt.show()"
   ]
  },
  {
   "cell_type": "markdown",
   "id": "7c6d3f1c-af28-4b9b-96af-e01156c2d2e6",
   "metadata": {},
   "source": [
    "### Conclusion:\n",
    "\n",
    "The Decision Tree model is best suited for this task of detecting transactions involving Money Laundering because it\n",
    "has the least False Positives among all the tried models and a very good precision and recall for the positive and \n",
    "negative class in both train and test dataset.\n",
    "\n",
    "**Train data:**\n",
    "- Precision for +ve class: 1.0\n",
    "- Precision for -ve class: 1.0\n",
    "\n",
    "- Recall for +ve class: 1.0\n",
    "- Recall for -ve class: 1.0\n",
    "\n",
    "- Accuracy: 1.0\n",
    "\n",
    "**Test data:**\n",
    "- Precision for +ve class: 0.69\n",
    "- Precision for -ve class: 1.0\n",
    "\n",
    "- Recall for +ve class: 0.95\n",
    "- Recall for -ve class: 1.0\n",
    "\n",
    "- Accuracy: 1.0"
   ]
  }
 ],
 "metadata": {
  "kernelspec": {
   "display_name": "Python 3 (ipykernel)",
   "language": "python",
   "name": "python3"
  },
  "language_info": {
   "codemirror_mode": {
    "name": "ipython",
    "version": 3
   },
   "file_extension": ".py",
   "mimetype": "text/x-python",
   "name": "python",
   "nbconvert_exporter": "python",
   "pygments_lexer": "ipython3",
   "version": "3.11.5"
  }
 },
 "nbformat": 4,
 "nbformat_minor": 5
}
