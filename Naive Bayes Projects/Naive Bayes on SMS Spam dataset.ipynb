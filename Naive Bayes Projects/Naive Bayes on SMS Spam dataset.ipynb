{
 "cells": [
  {
   "cell_type": "code",
   "execution_count": 1,
   "id": "cf9fd772",
   "metadata": {},
   "outputs": [
    {
     "data": {
      "text/plain": [
       "'\\n    Author: A.Shrikant\\n'"
      ]
     },
     "execution_count": 1,
     "metadata": {},
     "output_type": "execute_result"
    }
   ],
   "source": [
    "'''\n",
    "    Author: A.Shrikant\n",
    "'''"
   ]
  },
  {
   "cell_type": "code",
   "execution_count": 2,
   "id": "5138dadd",
   "metadata": {},
   "outputs": [],
   "source": [
    "# Attributes Information:\n",
    "\n",
    "# label: Label for the SMS message could be either 'ham' or 'spam'.\n",
    "# message: SMS message.\n",
    "# length: Number of characters in the SMS message.\n",
    "# punct: Number of punctuations in the SMS message."
   ]
  },
  {
   "cell_type": "code",
   "execution_count": 3,
   "id": "4bb8d314",
   "metadata": {},
   "outputs": [],
   "source": [
    "import os\n",
    "import numpy as np\n",
    "import pandas as pd\n",
    "import matplotlib.pyplot as plt\n",
    "import seaborn as sns"
   ]
  },
  {
   "cell_type": "code",
   "execution_count": 4,
   "id": "eed041ab",
   "metadata": {},
   "outputs": [],
   "source": [
    "df = pd.read_csv('dataset/spam.tsv', sep='\\t')"
   ]
  },
  {
   "cell_type": "code",
   "execution_count": 5,
   "id": "a1c424af",
   "metadata": {},
   "outputs": [
    {
     "data": {
      "text/html": [
       "<div>\n",
       "<style scoped>\n",
       "    .dataframe tbody tr th:only-of-type {\n",
       "        vertical-align: middle;\n",
       "    }\n",
       "\n",
       "    .dataframe tbody tr th {\n",
       "        vertical-align: top;\n",
       "    }\n",
       "\n",
       "    .dataframe thead th {\n",
       "        text-align: right;\n",
       "    }\n",
       "</style>\n",
       "<table border=\"1\" class=\"dataframe\">\n",
       "  <thead>\n",
       "    <tr style=\"text-align: right;\">\n",
       "      <th></th>\n",
       "      <th>label</th>\n",
       "      <th>message</th>\n",
       "      <th>length</th>\n",
       "      <th>punct</th>\n",
       "    </tr>\n",
       "  </thead>\n",
       "  <tbody>\n",
       "    <tr>\n",
       "      <th>0</th>\n",
       "      <td>ham</td>\n",
       "      <td>Go until jurong point, crazy.. Available only ...</td>\n",
       "      <td>111</td>\n",
       "      <td>9</td>\n",
       "    </tr>\n",
       "    <tr>\n",
       "      <th>1</th>\n",
       "      <td>ham</td>\n",
       "      <td>Ok lar... Joking wif u oni...</td>\n",
       "      <td>29</td>\n",
       "      <td>6</td>\n",
       "    </tr>\n",
       "    <tr>\n",
       "      <th>2</th>\n",
       "      <td>spam</td>\n",
       "      <td>Free entry in 2 a wkly comp to win FA Cup fina...</td>\n",
       "      <td>155</td>\n",
       "      <td>6</td>\n",
       "    </tr>\n",
       "    <tr>\n",
       "      <th>3</th>\n",
       "      <td>ham</td>\n",
       "      <td>U dun say so early hor... U c already then say...</td>\n",
       "      <td>49</td>\n",
       "      <td>6</td>\n",
       "    </tr>\n",
       "    <tr>\n",
       "      <th>4</th>\n",
       "      <td>ham</td>\n",
       "      <td>Nah I don't think he goes to usf, he lives aro...</td>\n",
       "      <td>61</td>\n",
       "      <td>2</td>\n",
       "    </tr>\n",
       "  </tbody>\n",
       "</table>\n",
       "</div>"
      ],
      "text/plain": [
       "  label                                            message  length  punct\n",
       "0   ham  Go until jurong point, crazy.. Available only ...     111      9\n",
       "1   ham                      Ok lar... Joking wif u oni...      29      6\n",
       "2  spam  Free entry in 2 a wkly comp to win FA Cup fina...     155      6\n",
       "3   ham  U dun say so early hor... U c already then say...      49      6\n",
       "4   ham  Nah I don't think he goes to usf, he lives aro...      61      2"
      ]
     },
     "execution_count": 5,
     "metadata": {},
     "output_type": "execute_result"
    }
   ],
   "source": [
    "df.head()"
   ]
  },
  {
   "cell_type": "code",
   "execution_count": 6,
   "id": "6dffff6f",
   "metadata": {
    "scrolled": true
   },
   "outputs": [
    {
     "data": {
      "text/plain": [
       "'Go until jurong point, crazy.. Available only in bugis n great world la e buffet... Cine there got amore wat...'"
      ]
     },
     "execution_count": 6,
     "metadata": {},
     "output_type": "execute_result"
    }
   ],
   "source": [
    "df.iloc[0].message"
   ]
  },
  {
   "cell_type": "code",
   "execution_count": 7,
   "id": "3497937a",
   "metadata": {},
   "outputs": [
    {
     "data": {
      "text/plain": [
       "111"
      ]
     },
     "execution_count": 7,
     "metadata": {},
     "output_type": "execute_result"
    }
   ],
   "source": [
    "len(df.iloc[0].message)"
   ]
  },
  {
   "cell_type": "code",
   "execution_count": 8,
   "id": "093cc156",
   "metadata": {},
   "outputs": [
    {
     "data": {
      "text/plain": [
       "\"Nah I don't think he goes to usf, he lives around here though\""
      ]
     },
     "execution_count": 8,
     "metadata": {},
     "output_type": "execute_result"
    }
   ],
   "source": [
    "df.iloc[4].message"
   ]
  },
  {
   "cell_type": "code",
   "execution_count": 9,
   "id": "c71d8861",
   "metadata": {},
   "outputs": [
    {
     "data": {
      "text/plain": [
       "61"
      ]
     },
     "execution_count": 9,
     "metadata": {},
     "output_type": "execute_result"
    }
   ],
   "source": [
    "len(df.iloc[4].message)"
   ]
  },
  {
   "cell_type": "code",
   "execution_count": 10,
   "id": "d81bf6bb",
   "metadata": {},
   "outputs": [
    {
     "data": {
      "text/plain": [
       "(5572, 4)"
      ]
     },
     "execution_count": 10,
     "metadata": {},
     "output_type": "execute_result"
    }
   ],
   "source": [
    "df.shape"
   ]
  },
  {
   "cell_type": "code",
   "execution_count": 11,
   "id": "5e11aef7",
   "metadata": {},
   "outputs": [
    {
     "data": {
      "text/plain": [
       "403"
      ]
     },
     "execution_count": 11,
     "metadata": {},
     "output_type": "execute_result"
    }
   ],
   "source": [
    "# Not removing the duplicate rows becasue the duplicates are very less in comparision to the #rows in the dataset.\n",
    "df.duplicated().sum()"
   ]
  },
  {
   "cell_type": "code",
   "execution_count": 12,
   "id": "15a53c9e",
   "metadata": {},
   "outputs": [
    {
     "data": {
      "text/plain": [
       "5169"
      ]
     },
     "execution_count": 12,
     "metadata": {},
     "output_type": "execute_result"
    }
   ],
   "source": [
    "# Unique rows:\n",
    "5572-403"
   ]
  },
  {
   "cell_type": "code",
   "execution_count": 13,
   "id": "f3d1a19b",
   "metadata": {},
   "outputs": [
    {
     "name": "stdout",
     "output_type": "stream",
     "text": [
      "<class 'pandas.core.frame.DataFrame'>\n",
      "RangeIndex: 5572 entries, 0 to 5571\n",
      "Data columns (total 4 columns):\n",
      " #   Column   Non-Null Count  Dtype \n",
      "---  ------   --------------  ----- \n",
      " 0   label    5572 non-null   object\n",
      " 1   message  5572 non-null   object\n",
      " 2   length   5572 non-null   int64 \n",
      " 3   punct    5572 non-null   int64 \n",
      "dtypes: int64(2), object(2)\n",
      "memory usage: 174.2+ KB\n"
     ]
    }
   ],
   "source": [
    "df.info()"
   ]
  },
  {
   "cell_type": "markdown",
   "id": "8c157dfa",
   "metadata": {},
   "source": [
    "## Dropping the 'length', 'punct' columns since they are not required for spam/ham classification:"
   ]
  },
  {
   "cell_type": "code",
   "execution_count": 14,
   "id": "c2929b1f",
   "metadata": {},
   "outputs": [],
   "source": [
    "df.drop(columns = ['length', 'punct'], inplace = True)"
   ]
  },
  {
   "cell_type": "code",
   "execution_count": 15,
   "id": "b0a9645a",
   "metadata": {},
   "outputs": [
    {
     "data": {
      "text/html": [
       "<div>\n",
       "<style scoped>\n",
       "    .dataframe tbody tr th:only-of-type {\n",
       "        vertical-align: middle;\n",
       "    }\n",
       "\n",
       "    .dataframe tbody tr th {\n",
       "        vertical-align: top;\n",
       "    }\n",
       "\n",
       "    .dataframe thead th {\n",
       "        text-align: right;\n",
       "    }\n",
       "</style>\n",
       "<table border=\"1\" class=\"dataframe\">\n",
       "  <thead>\n",
       "    <tr style=\"text-align: right;\">\n",
       "      <th></th>\n",
       "      <th>label</th>\n",
       "      <th>message</th>\n",
       "    </tr>\n",
       "  </thead>\n",
       "  <tbody>\n",
       "    <tr>\n",
       "      <th>0</th>\n",
       "      <td>ham</td>\n",
       "      <td>Go until jurong point, crazy.. Available only ...</td>\n",
       "    </tr>\n",
       "    <tr>\n",
       "      <th>1</th>\n",
       "      <td>ham</td>\n",
       "      <td>Ok lar... Joking wif u oni...</td>\n",
       "    </tr>\n",
       "    <tr>\n",
       "      <th>2</th>\n",
       "      <td>spam</td>\n",
       "      <td>Free entry in 2 a wkly comp to win FA Cup fina...</td>\n",
       "    </tr>\n",
       "    <tr>\n",
       "      <th>3</th>\n",
       "      <td>ham</td>\n",
       "      <td>U dun say so early hor... U c already then say...</td>\n",
       "    </tr>\n",
       "    <tr>\n",
       "      <th>4</th>\n",
       "      <td>ham</td>\n",
       "      <td>Nah I don't think he goes to usf, he lives aro...</td>\n",
       "    </tr>\n",
       "    <tr>\n",
       "      <th>...</th>\n",
       "      <td>...</td>\n",
       "      <td>...</td>\n",
       "    </tr>\n",
       "    <tr>\n",
       "      <th>5567</th>\n",
       "      <td>spam</td>\n",
       "      <td>This is the 2nd time we have tried 2 contact u...</td>\n",
       "    </tr>\n",
       "    <tr>\n",
       "      <th>5568</th>\n",
       "      <td>ham</td>\n",
       "      <td>Will ü b going to esplanade fr home?</td>\n",
       "    </tr>\n",
       "    <tr>\n",
       "      <th>5569</th>\n",
       "      <td>ham</td>\n",
       "      <td>Pity, * was in mood for that. So...any other s...</td>\n",
       "    </tr>\n",
       "    <tr>\n",
       "      <th>5570</th>\n",
       "      <td>ham</td>\n",
       "      <td>The guy did some bitching but I acted like i'd...</td>\n",
       "    </tr>\n",
       "    <tr>\n",
       "      <th>5571</th>\n",
       "      <td>ham</td>\n",
       "      <td>Rofl. Its true to its name</td>\n",
       "    </tr>\n",
       "  </tbody>\n",
       "</table>\n",
       "<p>5572 rows × 2 columns</p>\n",
       "</div>"
      ],
      "text/plain": [
       "     label                                            message\n",
       "0      ham  Go until jurong point, crazy.. Available only ...\n",
       "1      ham                      Ok lar... Joking wif u oni...\n",
       "2     spam  Free entry in 2 a wkly comp to win FA Cup fina...\n",
       "3      ham  U dun say so early hor... U c already then say...\n",
       "4      ham  Nah I don't think he goes to usf, he lives aro...\n",
       "...    ...                                                ...\n",
       "5567  spam  This is the 2nd time we have tried 2 contact u...\n",
       "5568   ham               Will ü b going to esplanade fr home?\n",
       "5569   ham  Pity, * was in mood for that. So...any other s...\n",
       "5570   ham  The guy did some bitching but I acted like i'd...\n",
       "5571   ham                         Rofl. Its true to its name\n",
       "\n",
       "[5572 rows x 2 columns]"
      ]
     },
     "execution_count": 15,
     "metadata": {},
     "output_type": "execute_result"
    }
   ],
   "source": [
    "df"
   ]
  },
  {
   "cell_type": "markdown",
   "id": "9e23309e",
   "metadata": {},
   "source": [
    "## Checking Data imbalance:"
   ]
  },
  {
   "cell_type": "code",
   "execution_count": 16,
   "id": "110d21be",
   "metadata": {},
   "outputs": [
    {
     "data": {
      "text/plain": [
       "ham     4825\n",
       "spam     747\n",
       "Name: label, dtype: int64"
      ]
     },
     "execution_count": 16,
     "metadata": {},
     "output_type": "execute_result"
    }
   ],
   "source": [
    "df.label.value_counts()"
   ]
  },
  {
   "cell_type": "code",
   "execution_count": 17,
   "id": "e0ba4eb2",
   "metadata": {},
   "outputs": [
    {
     "data": {
      "image/png": "[encoded data removed]",
      "text/plain": [
       "<Figure size 640x480 with 1 Axes>"
      ]
     },
     "metadata": {},
     "output_type": "display_data"
    }
   ],
   "source": [
    "plt.pie(df.label.value_counts(), labels=df.label.value_counts().index.values, autopct=\"%.2f%%\")\n",
    "plt.show()"
   ]
  },
  {
   "cell_type": "markdown",
   "id": "5d63133c",
   "metadata": {},
   "source": [
    "## Treating Data imbalance:"
   ]
  },
  {
   "cell_type": "code",
   "execution_count": 18,
   "id": "7199c8ee",
   "metadata": {},
   "outputs": [
    {
     "data": {
      "text/html": [
       "<div>\n",
       "<style scoped>\n",
       "    .dataframe tbody tr th:only-of-type {\n",
       "        vertical-align: middle;\n",
       "    }\n",
       "\n",
       "    .dataframe tbody tr th {\n",
       "        vertical-align: top;\n",
       "    }\n",
       "\n",
       "    .dataframe thead th {\n",
       "        text-align: right;\n",
       "    }\n",
       "</style>\n",
       "<table border=\"1\" class=\"dataframe\">\n",
       "  <thead>\n",
       "    <tr style=\"text-align: right;\">\n",
       "      <th></th>\n",
       "      <th>label</th>\n",
       "      <th>message</th>\n",
       "    </tr>\n",
       "  </thead>\n",
       "  <tbody>\n",
       "    <tr>\n",
       "      <th>0</th>\n",
       "      <td>ham</td>\n",
       "      <td>Go until jurong point, crazy.. Available only ...</td>\n",
       "    </tr>\n",
       "    <tr>\n",
       "      <th>1</th>\n",
       "      <td>ham</td>\n",
       "      <td>Ok lar... Joking wif u oni...</td>\n",
       "    </tr>\n",
       "    <tr>\n",
       "      <th>3</th>\n",
       "      <td>ham</td>\n",
       "      <td>U dun say so early hor... U c already then say...</td>\n",
       "    </tr>\n",
       "    <tr>\n",
       "      <th>4</th>\n",
       "      <td>ham</td>\n",
       "      <td>Nah I don't think he goes to usf, he lives aro...</td>\n",
       "    </tr>\n",
       "    <tr>\n",
       "      <th>6</th>\n",
       "      <td>ham</td>\n",
       "      <td>Even my brother is not like to speak with me. ...</td>\n",
       "    </tr>\n",
       "    <tr>\n",
       "      <th>...</th>\n",
       "      <td>...</td>\n",
       "      <td>...</td>\n",
       "    </tr>\n",
       "    <tr>\n",
       "      <th>5565</th>\n",
       "      <td>ham</td>\n",
       "      <td>Huh y lei...</td>\n",
       "    </tr>\n",
       "    <tr>\n",
       "      <th>5568</th>\n",
       "      <td>ham</td>\n",
       "      <td>Will ü b going to esplanade fr home?</td>\n",
       "    </tr>\n",
       "    <tr>\n",
       "      <th>5569</th>\n",
       "      <td>ham</td>\n",
       "      <td>Pity, * was in mood for that. So...any other s...</td>\n",
       "    </tr>\n",
       "    <tr>\n",
       "      <th>5570</th>\n",
       "      <td>ham</td>\n",
       "      <td>The guy did some bitching but I acted like i'd...</td>\n",
       "    </tr>\n",
       "    <tr>\n",
       "      <th>5571</th>\n",
       "      <td>ham</td>\n",
       "      <td>Rofl. Its true to its name</td>\n",
       "    </tr>\n",
       "  </tbody>\n",
       "</table>\n",
       "<p>4825 rows × 2 columns</p>\n",
       "</div>"
      ],
      "text/plain": [
       "     label                                            message\n",
       "0      ham  Go until jurong point, crazy.. Available only ...\n",
       "1      ham                      Ok lar... Joking wif u oni...\n",
       "3      ham  U dun say so early hor... U c already then say...\n",
       "4      ham  Nah I don't think he goes to usf, he lives aro...\n",
       "6      ham  Even my brother is not like to speak with me. ...\n",
       "...    ...                                                ...\n",
       "5565   ham                                       Huh y lei...\n",
       "5568   ham               Will ü b going to esplanade fr home?\n",
       "5569   ham  Pity, * was in mood for that. So...any other s...\n",
       "5570   ham  The guy did some bitching but I acted like i'd...\n",
       "5571   ham                         Rofl. Its true to its name\n",
       "\n",
       "[4825 rows x 2 columns]"
      ]
     },
     "execution_count": 18,
     "metadata": {},
     "output_type": "execute_result"
    }
   ],
   "source": [
    "ham = df[df['label'] == 'ham']\n",
    "ham"
   ]
  },
  {
   "cell_type": "code",
   "execution_count": 19,
   "id": "8b4ba591",
   "metadata": {},
   "outputs": [
    {
     "data": {
      "text/html": [
       "<div>\n",
       "<style scoped>\n",
       "    .dataframe tbody tr th:only-of-type {\n",
       "        vertical-align: middle;\n",
       "    }\n",
       "\n",
       "    .dataframe tbody tr th {\n",
       "        vertical-align: top;\n",
       "    }\n",
       "\n",
       "    .dataframe thead th {\n",
       "        text-align: right;\n",
       "    }\n",
       "</style>\n",
       "<table border=\"1\" class=\"dataframe\">\n",
       "  <thead>\n",
       "    <tr style=\"text-align: right;\">\n",
       "      <th></th>\n",
       "      <th>label</th>\n",
       "      <th>message</th>\n",
       "    </tr>\n",
       "  </thead>\n",
       "  <tbody>\n",
       "    <tr>\n",
       "      <th>2</th>\n",
       "      <td>spam</td>\n",
       "      <td>Free entry in 2 a wkly comp to win FA Cup fina...</td>\n",
       "    </tr>\n",
       "    <tr>\n",
       "      <th>5</th>\n",
       "      <td>spam</td>\n",
       "      <td>FreeMsg Hey there darling it's been 3 week's n...</td>\n",
       "    </tr>\n",
       "    <tr>\n",
       "      <th>8</th>\n",
       "      <td>spam</td>\n",
       "      <td>WINNER!! As a valued network customer you have...</td>\n",
       "    </tr>\n",
       "    <tr>\n",
       "      <th>9</th>\n",
       "      <td>spam</td>\n",
       "      <td>Had your mobile 11 months or more? U R entitle...</td>\n",
       "    </tr>\n",
       "    <tr>\n",
       "      <th>11</th>\n",
       "      <td>spam</td>\n",
       "      <td>SIX chances to win CASH! From 100 to 20,000 po...</td>\n",
       "    </tr>\n",
       "    <tr>\n",
       "      <th>...</th>\n",
       "      <td>...</td>\n",
       "      <td>...</td>\n",
       "    </tr>\n",
       "    <tr>\n",
       "      <th>5537</th>\n",
       "      <td>spam</td>\n",
       "      <td>Want explicit SEX in 30 secs? Ring 02073162414...</td>\n",
       "    </tr>\n",
       "    <tr>\n",
       "      <th>5540</th>\n",
       "      <td>spam</td>\n",
       "      <td>ASKED 3MOBILE IF 0870 CHATLINES INCLU IN FREE ...</td>\n",
       "    </tr>\n",
       "    <tr>\n",
       "      <th>5547</th>\n",
       "      <td>spam</td>\n",
       "      <td>Had your contract mobile 11 Mnths? Latest Moto...</td>\n",
       "    </tr>\n",
       "    <tr>\n",
       "      <th>5566</th>\n",
       "      <td>spam</td>\n",
       "      <td>REMINDER FROM O2: To get 2.50 pounds free call...</td>\n",
       "    </tr>\n",
       "    <tr>\n",
       "      <th>5567</th>\n",
       "      <td>spam</td>\n",
       "      <td>This is the 2nd time we have tried 2 contact u...</td>\n",
       "    </tr>\n",
       "  </tbody>\n",
       "</table>\n",
       "<p>747 rows × 2 columns</p>\n",
       "</div>"
      ],
      "text/plain": [
       "     label                                            message\n",
       "2     spam  Free entry in 2 a wkly comp to win FA Cup fina...\n",
       "5     spam  FreeMsg Hey there darling it's been 3 week's n...\n",
       "8     spam  WINNER!! As a valued network customer you have...\n",
       "9     spam  Had your mobile 11 months or more? U R entitle...\n",
       "11    spam  SIX chances to win CASH! From 100 to 20,000 po...\n",
       "...    ...                                                ...\n",
       "5537  spam  Want explicit SEX in 30 secs? Ring 02073162414...\n",
       "5540  spam  ASKED 3MOBILE IF 0870 CHATLINES INCLU IN FREE ...\n",
       "5547  spam  Had your contract mobile 11 Mnths? Latest Moto...\n",
       "5566  spam  REMINDER FROM O2: To get 2.50 pounds free call...\n",
       "5567  spam  This is the 2nd time we have tried 2 contact u...\n",
       "\n",
       "[747 rows x 2 columns]"
      ]
     },
     "execution_count": 19,
     "metadata": {},
     "output_type": "execute_result"
    }
   ],
   "source": [
    "spam = df[df['label'] == 'spam']\n",
    "spam"
   ]
  },
  {
   "cell_type": "code",
   "execution_count": 20,
   "id": "79d70692",
   "metadata": {},
   "outputs": [
    {
     "data": {
      "text/plain": [
       "309"
      ]
     },
     "execution_count": 20,
     "metadata": {},
     "output_type": "execute_result"
    }
   ],
   "source": [
    "ham.duplicated().sum()"
   ]
  },
  {
   "cell_type": "code",
   "execution_count": 21,
   "id": "b59dd530",
   "metadata": {},
   "outputs": [
    {
     "data": {
      "text/plain": [
       "94"
      ]
     },
     "execution_count": 21,
     "metadata": {},
     "output_type": "execute_result"
    }
   ],
   "source": [
    "spam.duplicated().sum()"
   ]
  },
  {
   "cell_type": "code",
   "execution_count": 22,
   "id": "e9688442",
   "metadata": {},
   "outputs": [
    {
     "data": {
      "text/html": [
       "<div>\n",
       "<style scoped>\n",
       "    .dataframe tbody tr th:only-of-type {\n",
       "        vertical-align: middle;\n",
       "    }\n",
       "\n",
       "    .dataframe tbody tr th {\n",
       "        vertical-align: top;\n",
       "    }\n",
       "\n",
       "    .dataframe thead th {\n",
       "        text-align: right;\n",
       "    }\n",
       "</style>\n",
       "<table border=\"1\" class=\"dataframe\">\n",
       "  <thead>\n",
       "    <tr style=\"text-align: right;\">\n",
       "      <th></th>\n",
       "      <th>label</th>\n",
       "      <th>message</th>\n",
       "    </tr>\n",
       "  </thead>\n",
       "  <tbody>\n",
       "    <tr>\n",
       "      <th>1613</th>\n",
       "      <td>spam</td>\n",
       "      <td>RT-KIng Pro Video Club&gt;&gt; Need help? info@ringt...</td>\n",
       "    </tr>\n",
       "    <tr>\n",
       "      <th>3174</th>\n",
       "      <td>spam</td>\n",
       "      <td>Dear Voucher Holder, To claim this weeks offer...</td>\n",
       "    </tr>\n",
       "    <tr>\n",
       "      <th>1207</th>\n",
       "      <td>spam</td>\n",
       "      <td>As a SIM subscriber, you are selected to recei...</td>\n",
       "    </tr>\n",
       "    <tr>\n",
       "      <th>5030</th>\n",
       "      <td>spam</td>\n",
       "      <td>I'd like to tell you my deepest darkest fantas...</td>\n",
       "    </tr>\n",
       "    <tr>\n",
       "      <th>650</th>\n",
       "      <td>spam</td>\n",
       "      <td>You have won ?1,000 cash or a ?2,000 prize! To...</td>\n",
       "    </tr>\n",
       "    <tr>\n",
       "      <th>...</th>\n",
       "      <td>...</td>\n",
       "      <td>...</td>\n",
       "    </tr>\n",
       "    <tr>\n",
       "      <th>3548</th>\n",
       "      <td>spam</td>\n",
       "      <td>Rock yr chik. Get 100's of filthy films &amp;XXX p...</td>\n",
       "    </tr>\n",
       "    <tr>\n",
       "      <th>690</th>\n",
       "      <td>spam</td>\n",
       "      <td>&lt;Forwarded from 448712404000&gt;Please CALL 08712...</td>\n",
       "    </tr>\n",
       "    <tr>\n",
       "      <th>5482</th>\n",
       "      <td>spam</td>\n",
       "      <td>URGENT We are trying to contact you Last weeke...</td>\n",
       "    </tr>\n",
       "    <tr>\n",
       "      <th>4206</th>\n",
       "      <td>spam</td>\n",
       "      <td>IMPORTANT INFORMATION 4 ORANGE USER 0796XXXXXX...</td>\n",
       "    </tr>\n",
       "    <tr>\n",
       "      <th>1893</th>\n",
       "      <td>spam</td>\n",
       "      <td>CALL 09090900040 &amp; LISTEN TO EXTREME DIRTY LIV...</td>\n",
       "    </tr>\n",
       "  </tbody>\n",
       "</table>\n",
       "<p>4825 rows × 2 columns</p>\n",
       "</div>"
      ],
      "text/plain": [
       "     label                                            message\n",
       "1613  spam  RT-KIng Pro Video Club>> Need help? info@ringt...\n",
       "3174  spam  Dear Voucher Holder, To claim this weeks offer...\n",
       "1207  spam  As a SIM subscriber, you are selected to recei...\n",
       "5030  spam  I'd like to tell you my deepest darkest fantas...\n",
       "650   spam  You have won ?1,000 cash or a ?2,000 prize! To...\n",
       "...    ...                                                ...\n",
       "3548  spam  Rock yr chik. Get 100's of filthy films &XXX p...\n",
       "690   spam  <Forwarded from 448712404000>Please CALL 08712...\n",
       "5482  spam  URGENT We are trying to contact you Last weeke...\n",
       "4206  spam  IMPORTANT INFORMATION 4 ORANGE USER 0796XXXXXX...\n",
       "1893  spam  CALL 09090900040 & LISTEN TO EXTREME DIRTY LIV...\n",
       "\n",
       "[4825 rows x 2 columns]"
      ]
     },
     "execution_count": 22,
     "metadata": {},
     "output_type": "execute_result"
    }
   ],
   "source": [
    "# Performing Oversampling for the minority class 'spam' SMS using resampling with replacement strategy.\n",
    "\n",
    "spam_resampled = spam.sample(ham.shape[0], replace=True)\n",
    "spam_resampled"
   ]
  },
  {
   "cell_type": "code",
   "execution_count": 23,
   "id": "384c91ee",
   "metadata": {},
   "outputs": [
    {
     "data": {
      "text/plain": [
       "4173"
      ]
     },
     "execution_count": 23,
     "metadata": {},
     "output_type": "execute_result"
    }
   ],
   "source": [
    "spam_resampled.duplicated().sum()"
   ]
  },
  {
   "cell_type": "code",
   "execution_count": 24,
   "id": "1c002c53",
   "metadata": {},
   "outputs": [
    {
     "data": {
      "text/html": [
       "<div>\n",
       "<style scoped>\n",
       "    .dataframe tbody tr th:only-of-type {\n",
       "        vertical-align: middle;\n",
       "    }\n",
       "\n",
       "    .dataframe tbody tr th {\n",
       "        vertical-align: top;\n",
       "    }\n",
       "\n",
       "    .dataframe thead th {\n",
       "        text-align: right;\n",
       "    }\n",
       "</style>\n",
       "<table border=\"1\" class=\"dataframe\">\n",
       "  <thead>\n",
       "    <tr style=\"text-align: right;\">\n",
       "      <th></th>\n",
       "      <th>label</th>\n",
       "      <th>message</th>\n",
       "    </tr>\n",
       "  </thead>\n",
       "  <tbody>\n",
       "    <tr>\n",
       "      <th>0</th>\n",
       "      <td>ham</td>\n",
       "      <td>Go until jurong point, crazy.. Available only ...</td>\n",
       "    </tr>\n",
       "    <tr>\n",
       "      <th>1</th>\n",
       "      <td>ham</td>\n",
       "      <td>Ok lar... Joking wif u oni...</td>\n",
       "    </tr>\n",
       "    <tr>\n",
       "      <th>2</th>\n",
       "      <td>ham</td>\n",
       "      <td>U dun say so early hor... U c already then say...</td>\n",
       "    </tr>\n",
       "    <tr>\n",
       "      <th>3</th>\n",
       "      <td>ham</td>\n",
       "      <td>Nah I don't think he goes to usf, he lives aro...</td>\n",
       "    </tr>\n",
       "    <tr>\n",
       "      <th>4</th>\n",
       "      <td>ham</td>\n",
       "      <td>Even my brother is not like to speak with me. ...</td>\n",
       "    </tr>\n",
       "    <tr>\n",
       "      <th>...</th>\n",
       "      <td>...</td>\n",
       "      <td>...</td>\n",
       "    </tr>\n",
       "    <tr>\n",
       "      <th>9645</th>\n",
       "      <td>spam</td>\n",
       "      <td>Rock yr chik. Get 100's of filthy films &amp;XXX p...</td>\n",
       "    </tr>\n",
       "    <tr>\n",
       "      <th>9646</th>\n",
       "      <td>spam</td>\n",
       "      <td>&lt;Forwarded from 448712404000&gt;Please CALL 08712...</td>\n",
       "    </tr>\n",
       "    <tr>\n",
       "      <th>9647</th>\n",
       "      <td>spam</td>\n",
       "      <td>URGENT We are trying to contact you Last weeke...</td>\n",
       "    </tr>\n",
       "    <tr>\n",
       "      <th>9648</th>\n",
       "      <td>spam</td>\n",
       "      <td>IMPORTANT INFORMATION 4 ORANGE USER 0796XXXXXX...</td>\n",
       "    </tr>\n",
       "    <tr>\n",
       "      <th>9649</th>\n",
       "      <td>spam</td>\n",
       "      <td>CALL 09090900040 &amp; LISTEN TO EXTREME DIRTY LIV...</td>\n",
       "    </tr>\n",
       "  </tbody>\n",
       "</table>\n",
       "<p>9650 rows × 2 columns</p>\n",
       "</div>"
      ],
      "text/plain": [
       "     label                                            message\n",
       "0      ham  Go until jurong point, crazy.. Available only ...\n",
       "1      ham                      Ok lar... Joking wif u oni...\n",
       "2      ham  U dun say so early hor... U c already then say...\n",
       "3      ham  Nah I don't think he goes to usf, he lives aro...\n",
       "4      ham  Even my brother is not like to speak with me. ...\n",
       "...    ...                                                ...\n",
       "9645  spam  Rock yr chik. Get 100's of filthy films &XXX p...\n",
       "9646  spam  <Forwarded from 448712404000>Please CALL 08712...\n",
       "9647  spam  URGENT We are trying to contact you Last weeke...\n",
       "9648  spam  IMPORTANT INFORMATION 4 ORANGE USER 0796XXXXXX...\n",
       "9649  spam  CALL 09090900040 & LISTEN TO EXTREME DIRTY LIV...\n",
       "\n",
       "[9650 rows x 2 columns]"
      ]
     },
     "execution_count": 24,
     "metadata": {},
     "output_type": "execute_result"
    }
   ],
   "source": [
    "df1 = pd.concat([ham, spam_resampled], ignore_index=True)\n",
    "df1"
   ]
  },
  {
   "cell_type": "code",
   "execution_count": 25,
   "id": "11ca5b8d",
   "metadata": {},
   "outputs": [
    {
     "data": {
      "image/png": "[encoded data removed]",
      "text/plain": [
       "<Figure size 640x480 with 1 Axes>"
      ]
     },
     "metadata": {},
     "output_type": "display_data"
    }
   ],
   "source": [
    "plt.pie(df1.label.value_counts(), labels=df1.label.value_counts().index.values, autopct=\"%.2f%%\")\n",
    "plt.show()"
   ]
  },
  {
   "cell_type": "code",
   "execution_count": 26,
   "id": "096a9c68",
   "metadata": {},
   "outputs": [],
   "source": [
    "import re\n",
    "import nltk"
   ]
  },
  {
   "cell_type": "markdown",
   "id": "09bfca91",
   "metadata": {},
   "source": [
    "## Terminologies related to Natural Language Processing:"
   ]
  },
  {
   "cell_type": "markdown",
   "id": "6b958b19",
   "metadata": {},
   "source": [
    "**Linguistics** - It is the scientific study of the language. It includes studying the vocabulary of the language, sentence \n",
    "formation, grammar, phonetics, etymology.\n",
    "\n",
    "**Phonetics**: Study about human speech sounds like how human produce sounds and how they perceive it. \n",
    "\n",
    "**Etymology**: Study about the origin of words/phrases and tracing out their developments and relationships.\n",
    "\n",
    "**Morphology**: The study of the different forms, words may have in particular their inflected forms.\n",
    "\n",
    "**Inflect a Word**: Change the form of (a word) to express a particular grammatical function or attribute, typically tense, \n",
    "mood, person, number, and gender.\n",
    "**Example**: \n",
    "- **alumnus**: a male graduate, **alumni**: a group of male graduates, **alumna**: a female graduate, **alumnae**: a group of female graduates\n",
    "- run, running, ran\n",
    "\n",
    "**Root form of a word**: The base word without any prefix or suffix.\n",
    "**Example**: running, its root word is run.\n",
    "\n",
    "**Word Stem**: A stem word, often simply referred to as a \"stem,\" is the base or root form of a word to which prefixes and \n",
    "suffixes can be added to create new words or inflected forms. It's the part of a word that carries the core meaning and \n",
    "can stand alone as a word in its own right.\n",
    "\n",
    "**Examples**: \n",
    "- In the word **\"happiness\"** the stem word is **\"happi\"**.\n",
    "- For the word **\"running\"** the stem word is **\"run\"**.\n",
    "- For the word **\"programming\"** the stem word is **\"program\"**\n",
    "- For the word **\"programmer\"** the stem word is **\"programm\"**\n",
    "- For the word **\"alumnus\"** the stem word is **\"alumnu\"**\n",
    "- For the word **\"alumni\"** the stem word is **\"alumni\"**\n",
    "- For the word **\"alumnae\"** the stem word is **\"alumna\"**\n",
    "\n",
    "**Note**: Stem word need not be always meaningful.\n",
    "\n",
    "**Lemma**: A lemma, in linguistics, is the base or dictionary form of a word. It is the form of a word that is typically listed \n",
    "in dictionaries and glossaries. Lemmas are used as a standard reference point for analyzing and categorizing words within a \n",
    "language.\n",
    "**Examples**: \n",
    "- In the word **\"mice\"** the lemma is **\"mouse\"**.\n",
    "- For the word **\"alumni\"** the lemma is **\"alumnus\"**\n",
    "- For the word **\"universally\"** the lemma is **\"universally\"**\n",
    "\n",
    "**Corpus**: It refers to a large and structured collection of texts or spoken language data that is systematically gathered and \n",
    "stored for linguistic analysis and research.\n",
    "\n",
    "**Tokenization**: Breaking down a piece of text into individual words. This is the second step of text processing and is done\n",
    "after removing the punctuations from the text."
   ]
  },
  {
   "cell_type": "markdown",
   "id": "71136d88",
   "metadata": {},
   "source": [
    "## Text Normalization Technique:"
   ]
  },
  {
   "cell_type": "markdown",
   "id": "224b7066",
   "metadata": {},
   "source": [
    "### Stemming:\n",
    "\n",
    "**Stemming** is a technique used to reduce an inflected word down to its word stem i.e. inflected forms of a word are reduced to their base form. This is like normalizing the word so that different inflected forms of the same base word could be clubbed together with the base form of the word from which the core meaning for those different inflected forms come from.\n",
    "\n",
    "**Advantage of Stemming:**\n",
    "- Stemming reduces dimensionality of the text data i.e it reduces the number of unique words in the dictionary we get after pre-processing the text documents, as a result the text processing algorithms speed increases."
   ]
  },
  {
   "cell_type": "markdown",
   "id": "e42d015c",
   "metadata": {},
   "source": [
    "### Lemmatization:\n",
    "\n",
    "**Lemmatization** is another technique used to reduce inflected words down to their root word. Unlike Stemming Lemmatization always produces a **lemma** for the word being reduced, which is the dictionary form of that original word."
   ]
  },
  {
   "cell_type": "markdown",
   "id": "0dd9e964",
   "metadata": {},
   "source": [
    "## Applying the text pre-processing steps:"
   ]
  },
  {
   "cell_type": "markdown",
   "id": "b49349e7",
   "metadata": {},
   "source": [
    "### Step 1: Removing the punctuation marks from each SMS message."
   ]
  },
  {
   "cell_type": "markdown",
   "id": "5e1519a1",
   "metadata": {},
   "source": [
    "### Step 2: Case Normalization(Converting the text into lower case)."
   ]
  },
  {
   "cell_type": "markdown",
   "id": "3f604a45",
   "metadata": {},
   "source": [
    "### Step 3. Removing the 'stopwords' i.e. words that do not contain much information from each of the SMS message."
   ]
  },
  {
   "cell_type": "markdown",
   "id": "a211d9e3",
   "metadata": {},
   "source": [
    "### Step 4: Performing message normalization by applying techniques like Stemming or Lemmatization."
   ]
  },
  {
   "cell_type": "markdown",
   "id": "7f3933c7",
   "metadata": {},
   "source": [
    "### Step 5: Tokenizing(breaking down a piece of text into individual words) each of the SMS messages. "
   ]
  },
  {
   "cell_type": "markdown",
   "id": "768ff3df",
   "metadata": {},
   "source": [
    "### Step 6: Converting SMS messages into a matrix of token counts where each column represent a unique word obtained after Tokenization of each SMS message,  a row represent an SMS message also known as 'Bag of Words' and the cell represents the #count of that word/token in that corresponding SMS message."
   ]
  },
  {
   "cell_type": "code",
   "execution_count": 27,
   "id": "01f6681e",
   "metadata": {},
   "outputs": [
    {
     "name": "stderr",
     "output_type": "stream",
     "text": [
      "[nltk_data] Downloading package stopwords to\n",
      "[nltk_data]     C:\\Users\\user\\AppData\\Roaming\\nltk_data...\n",
      "[nltk_data]   Package stopwords is already up-to-date!\n"
     ]
    },
    {
     "data": {
      "text/plain": [
       "True"
      ]
     },
     "execution_count": 27,
     "metadata": {},
     "output_type": "execute_result"
    }
   ],
   "source": [
    "nltk.download('stopwords')"
   ]
  },
  {
   "cell_type": "code",
   "execution_count": 28,
   "id": "e1ec2158",
   "metadata": {},
   "outputs": [
    {
     "name": "stderr",
     "output_type": "stream",
     "text": [
      "[nltk_data] Downloading package punkt to\n",
      "[nltk_data]     C:\\Users\\user\\AppData\\Roaming\\nltk_data...\n",
      "[nltk_data]   Package punkt is already up-to-date!\n"
     ]
    },
    {
     "data": {
      "text/plain": [
       "True"
      ]
     },
     "execution_count": 28,
     "metadata": {},
     "output_type": "execute_result"
    }
   ],
   "source": [
    "nltk.download('punkt')"
   ]
  },
  {
   "cell_type": "code",
   "execution_count": 29,
   "id": "4c8da281",
   "metadata": {},
   "outputs": [],
   "source": [
    "import string\n",
    "from nltk.corpus import stopwords\n",
    "from nltk.stem.porter import PorterStemmer\n",
    "from nltk.tokenize import word_tokenize"
   ]
  },
  {
   "cell_type": "code",
   "execution_count": 30,
   "id": "7f4780d3",
   "metadata": {},
   "outputs": [],
   "source": [
    "ps = PorterStemmer()"
   ]
  },
  {
   "cell_type": "code",
   "execution_count": 31,
   "id": "49daace1",
   "metadata": {},
   "outputs": [],
   "source": [
    "import string"
   ]
  },
  {
   "cell_type": "code",
   "execution_count": 32,
   "id": "135218a1",
   "metadata": {},
   "outputs": [],
   "source": [
    "corpus = []\n",
    "\n",
    "for i in range(0, len(df1)):\n",
    "#     msg_no_punct = re.sub('[^a-zA-Z]', ' ', df1['message'][i])\n",
    "    msg_no_punct = df1['message'][i].translate(str.maketrans(\"\", \"\", string.punctuation))\n",
    "    msg_no_punct = msg_no_punct.lower()\n",
    "    word_tokens = word_tokenize(msg_no_punct)\n",
    "#     noralized_words = [ps.stem(word) for word in msg_no_punct.split() if not word in stopwords.words('english')]\n",
    "    noralized_words = [ps.stem(word) for word in word_tokens if not word in stopwords.words('english')]\n",
    "    noralized_msg = ' '.join(noralized_words)\n",
    "    corpus.append(noralized_msg)"
   ]
  },
  {
   "cell_type": "code",
   "execution_count": 33,
   "id": "7d883a42",
   "metadata": {},
   "outputs": [
    {
     "data": {
      "text/plain": [
       "['go jurong point crazi avail bugi n great world la e buffet cine got amor wat',\n",
       " 'ok lar joke wif u oni',\n",
       " 'u dun say earli hor u c alreadi say',\n",
       " 'nah dont think goe usf live around though',\n",
       " 'even brother like speak treat like aid patent',\n",
       " 'per request mell mell oru minnaminungint nurungu vettam set callertun caller press 9 copi friend callertun',\n",
       " 'im gon na home soon dont want talk stuff anymor tonight k ive cri enough today',\n",
       " 'ive search right word thank breather promis wont take help grant fulfil promis wonder bless time',\n",
       " 'date sunday',\n",
       " 'oh kim watch',\n",
       " 'eh u rememb 2 spell name ye v naughti make v wet',\n",
       " 'fine that\\x92 way u feel that\\x92 way gota b',\n",
       " 'serious spell name',\n",
       " '‘ go tri 2 month ha ha joke',\n",
       " 'ü pay first lar da stock comin',\n",
       " 'aft finish lunch go str lor ard 3 smth lor u finish ur lunch alreadi',\n",
       " 'ffffffffff alright way meet sooner',\n",
       " 'forc eat slice im realli hungri tho suck mark get worri know im sick turn pizza lol',\n",
       " 'lol alway convinc',\n",
       " 'catch bu fri egg make tea eat mom left dinner feel love',\n",
       " 'im back amp pack car ill let know there room',\n",
       " 'ahhh work vagu rememb feel like lol',\n",
       " 'wait that still clear sure sarcast that x doesnt want live us',\n",
       " 'yeah got 2 v apologet n fallen actin like spoilt child got caught till 2 wont go badli cheer',\n",
       " 'k tell anyth',\n",
       " 'fear faint housework quick cuppa',\n",
       " 'yup ok go home look time msg ü xuhui go learn 2nd may lesson 8am',\n",
       " 'oop ill let know roommat done',\n",
       " 'see letter b car',\n",
       " 'anyth lor u decid',\n",
       " 'hello how saturday go text see youd decid anyth tomo im tri invit anyth',\n",
       " 'pl go ahead watt want sure great weekend abiola',\n",
       " 'forget tell want need crave love sweet arabian steed mmmmmm yummi',\n",
       " 'see',\n",
       " 'great hope like man well endow ltgt inch',\n",
       " 'callsmessagesmiss call',\n",
       " 'didnt get hep b immunis nigeria',\n",
       " 'fair enough anyth go',\n",
       " 'yeah hope tyler cant could mayb ask around bit',\n",
       " 'u dont know stubborn didnt even want go hospit kept tell mark im weak sucker hospit weak sucker',\n",
       " 'think first time saw class',\n",
       " 'gram usual run like ltgt half eighth smarter though get almost whole second gram ltgt',\n",
       " 'k fyi x ride earli tomorrow morn he crash place tonight',\n",
       " 'wow never realiz embarass accomod thought like sinc best could alway seem happi cave im sorri didnt dont give im sorri offer im sorri room embarass',\n",
       " 'know mallika sherawat yesterday find lturlgt',\n",
       " 'sorri ill call later meet',\n",
       " 'tell reach',\n",
       " 'yesgauti sehwag odi seri',\n",
       " 'gon na pick 1 burger way home cant even move pain kill',\n",
       " 'ha ha ha good joke girl situat seeker',\n",
       " 'part check iq',\n",
       " 'sorri roommat took forev ok come',\n",
       " 'ok lar doubl check wif da hair dresser alreadi said wun cut v short said cut look nice',\n",
       " 'today song dedic day song u dedic send ur valuabl frnd first rpli',\n",
       " 'plane give month end',\n",
       " 'wah lucki man save money hee',\n",
       " 'finish class',\n",
       " 'hi babe im home wan na someth xx',\n",
       " 'kkwhere youhow perform',\n",
       " 'u call',\n",
       " 'wait machan call free',\n",
       " 'that cool gentleman treat digniti respect',\n",
       " 'like peopl much shi pa',\n",
       " 'oper ltgt',\n",
       " 'still look job much ta earn',\n",
       " 'sorri ill call later',\n",
       " 'k call ah',\n",
       " 'ok way home hi hi',\n",
       " 'place man',\n",
       " 'yup next stop',\n",
       " 'call later dont network urgnt sm',\n",
       " 'real u get yo need 2 ticket one jacket im done alreadi use multi',\n",
       " 'ye start send request make pain came back im back bed doubl coin factori got ta cash nitro',\n",
       " 'im realli still tonight babe',\n",
       " 'ela kanoil download come wen ur free',\n",
       " 'yeah ‘ stand close tho ‘ catch someth',\n",
       " 'sorri pain ok meet anoth night spent late afternoon casualti mean havent done stuff42moro includ time sheet sorri',\n",
       " 'smile pleasur smile pain smile troubl pour like rain smile sum1 hurt u smile becoz someon still love see u smile',\n",
       " 'havent plan buy later check alreadi lido got 530 show e afternoon u finish work alreadi',\n",
       " 'watch telugu moviewat abt u',\n",
       " 'see finish load loan pay',\n",
       " 'hi wk ok hol ye bit run forgot hairdress appoint four need get home n shower beforehand caus prob u',\n",
       " 'see cup coffe anim',\n",
       " 'pleas dont text anymor noth els say',\n",
       " 'okay name ur price long legal wen pick u ave x am xx',\n",
       " 'im still look car buy gone 4the drive test yet',\n",
       " 'per request mell mell oru minnaminungint nurungu vettam set callertun caller press 9 copi friend callertun',\n",
       " 'wow your right didnt mean guess gave boston men chang search locat nyc someth chang cuz signin page still say boston',\n",
       " 'umma life vava umma love lot dear',\n",
       " 'thank lot wish birthday thank make birthday truli memor',\n",
       " 'aight ill hit get cash',\n",
       " 'would ip address test consid comput isnt minecraft server',\n",
       " 'know grumpi old peopl mom like better lie alway one play joke',\n",
       " 'dont worri guess he busi',\n",
       " 'plural noun research',\n",
       " 'go dinnermsg',\n",
       " 'im ok wif co like 2 tri new thing scare u dun like mah co u said loud',\n",
       " 'wa ur openin sentenc formal anyway im fine juz tt im eatin much n puttin weighthaha anythin special happen',\n",
       " 'enter cabin pa said happi bday boss felt special askd 4 lunch lunch invit apart went',\n",
       " 'goodo ye must speak friday eggpotato ratio tortilla need',\n",
       " 'hmmmi uncl inform he pay school directli pl buy food',\n",
       " 'new address applespairsal malarki',\n",
       " 'go sao mu today done 12',\n",
       " 'ü predict wat time üll finish buy',\n",
       " 'good stuff',\n",
       " 'knowyetund hasnt sent money yet sent text bother send dont involv anyth shouldnt impos anyth first place apologis',\n",
       " 'room',\n",
       " 'hey girl r u hope u r well del r bak long time c give call sum time lucyxx',\n",
       " 'kkhow much cost',\n",
       " 'im home',\n",
       " 'dear call tmorrowpl accomod',\n",
       " 'first answer question',\n",
       " 'haf msn yijuehotmailcom',\n",
       " 'call meet',\n",
       " 'check room befor activ',\n",
       " 'got c lazi type forgot ü lect saw pouch like v nice',\n",
       " 'k text your way',\n",
       " 'sir wait mail',\n",
       " 'swt thought nver get tire littl thing 4 lovabl person cozsomtim littl thing occupi biggest part heart gud ni8',\n",
       " 'know pl open back',\n",
       " 'ye see ya dot',\n",
       " 'what staff name take class us',\n",
       " 'ummmawil call check inour life begin qatar pl pray hard',\n",
       " 'ki delet contact',\n",
       " 'sindu got job birla soft',\n",
       " 'wine flow im never',\n",
       " 'yup thk cine better co need 2 go 2 plaza mah',\n",
       " 'ok ur typic repli',\n",
       " 'per request mell mell oru minnaminungint nurungu vettam set callertun caller press 9 copi friend callertun',\n",
       " 'everywher dirt floor window even shirt sometim open mouth come flow dream world without half chore time joy lot tv show ill see guess like thing must exist like rain hail mist time done becom one',\n",
       " 'aaooooright work',\n",
       " 'im leav hous',\n",
       " 'hello love get interview today happi good boy think mear miss',\n",
       " 'keep safe need miss alreadi envi everyon see real life',\n",
       " 'new car hous parentsi new job hand',\n",
       " 'im love im excit day spend make happi',\n",
       " 'place ur point e cultur modul alreadi',\n",
       " 'hi frnd best way avoid missunderstd wit belov one',\n",
       " 'great escap fanci bridg need lager see tomo',\n",
       " 'ye complet formclark also utter wast',\n",
       " 'sir need axi bank account bank address',\n",
       " 'hmmm thk sure got time hop ard ya go 4 free abt muz call u discuss liao',\n",
       " 'time come later',\n",
       " 'bloodi hell cant believ forgot surnam mr ill give u clue spanish begin',\n",
       " 'well im gon na finish bath goodfin night',\n",
       " 'let know youv got money carlo make call',\n",
       " 'u still go mall',\n",
       " 'turn friend stay whole show wont back til ltgt feel free go ahead smoke ltgt worth',\n",
       " 'text doesnt repli let know log',\n",
       " 'hi spoke maneesha v wed like know satisfi experi repli toll free ye',\n",
       " 'lift hope offer money need especi end month approach hurt studi anyway gr8 weekend',\n",
       " 'lol u trust',\n",
       " 'ok gentleman treat digniti respect',\n",
       " 'guy close',\n",
       " 'go noth greatby',\n",
       " 'hello handsom find job lazi work toward get back net mummi where boytoy miss',\n",
       " 'haha awesom minut',\n",
       " 'got xma radio time get',\n",
       " 'ju reach home go bath first si use net tell u finish k',\n",
       " 'im sorri ive join leagu peopl dont keep touch mean great deal friend time even great person cost great week',\n",
       " 'hi final complet cours',\n",
       " 'stop howev suggest stay someon abl give or everi stool',\n",
       " 'hope youv settl new school year wishin gr8 day',\n",
       " 'gud mrng dear hav nice day',\n",
       " 'u got person stori',\n",
       " 'hamster dead hey tmr meet 1pm orchard mrt',\n",
       " 'hi kate even hope see tomorrow bit bloodi babyjontet txt back u xxx',\n",
       " 'found enc ltgt',\n",
       " 'sent ltgt buck',\n",
       " 'hello darlin ive finish colleg txt u finish u love kate xxx',\n",
       " 'account refil success inr ltdecimalgt keralacircl prepaid account balanc rs ltdecimalgt transact id kr ltgt',\n",
       " 'goodmorn sleep ga',\n",
       " 'u call alter 11 ok',\n",
       " 'ü say like dat dun buy ericsson oso oredi lar',\n",
       " 'enter cabin pa said happi bday boss felt special askd 4 lunch lunch invit apart went',\n",
       " 'aight yo dat straight dogg',\n",
       " 'pleas give us connect today ltdecimalgt refund bill',\n",
       " 'shoot big load get readi',\n",
       " 'what bruv hope great break reward semest',\n",
       " 'home alway chat',\n",
       " 'kkgoodstudi well',\n",
       " 'yup ü noe leh',\n",
       " 'sound great home',\n",
       " 'final match head toward draw predict',\n",
       " 'tire havent slept well past night',\n",
       " 'easi ahsen got select mean good',\n",
       " 'take exam march 3',\n",
       " 'yeah think use gt atm regist sure there anyway help let know sure readi',\n",
       " 'ok prob take ur time',\n",
       " 'os call ubandu run without instal hard diskyou use os copi import file system give repair shop',\n",
       " 'sorri ill call later',\n",
       " 'u say leh cours noth happen lar say v romant ju bit lor thk e nite sceneri nice leh',\n",
       " 'would realli appreci call need someon talk',\n",
       " 'hey compani elama po mudyadhu',\n",
       " 'life strict teacher bcoz teacher teach lesson amp conduct exam life first conduct exam amp teach lesson happi morn',\n",
       " 'dear good morn',\n",
       " 'get gandhipuram walk cross cut road right side ltgt street road turn first right',\n",
       " 'dear go rubber place',\n",
       " 'sorri batteri die yeah im',\n",
       " 'yesher tv alway avail work place',\n",
       " 'print oh ltgt come upstair',\n",
       " 'ill littl closer like bu stop street',\n",
       " 'youwhen wil reach',\n",
       " 'new theori argument win situat lose person dont argu ur friend kick amp say im alway correct',\n",
       " 'tomarrow final hear laptop case cant',\n",
       " 'pleassssssseeeee tel v avent done sportsx',\n",
       " 'okay shine meant sign sound better',\n",
       " 'although told u dat im baig face watch realli like e watch u gave co fr u thanx 4 everyth dat uve done today im touch',\n",
       " 'u dont rememb old commerci',\n",
       " 'late said websit didnt dont slipper',\n",
       " 'ask call ok',\n",
       " 'kalli wont bat 2nd inning',\n",
       " 'didnt work oh ok goodnight ill fix readi time wake dearli miss good night sleep',\n",
       " 'ranjith cal drpd deeraj deepak 5min hold',\n",
       " 'wen ur lovabl bcum angri wid u dnt take serious coz angri childish n true way show deep affect care n luv kettoda manda nice day da',\n",
       " 'doinghow',\n",
       " 'up 3day also ship compani take 2wk way usp take week get lag may bribe nipost get stuff',\n",
       " 'im back lem know your readi',\n",
       " 'dont necessarili expect done get back though im headin',\n",
       " 'mmm yummi babe nice jolt suzi',\n",
       " 'lover need',\n",
       " '‘ park next mini come today think',\n",
       " 'yup',\n",
       " 'anyway im go shop co si done yet dun disturb u liao',\n",
       " 'luton 0125698789 ring ur around h',\n",
       " 'dint come us',\n",
       " 'wana plan trip sometm',\n",
       " 'sure yet still tri get hold',\n",
       " 'evo download flash jealou',\n",
       " 'come mu sort narcot situat',\n",
       " 'night end anoth day morn come special way may smile like sunni ray leav worri blue blue bay',\n",
       " 'usf guess might well take 1 car',\n",
       " 'object bf come',\n",
       " 'thanx',\n",
       " 'tell rob mack gf theater',\n",
       " 'awesom ill see bit',\n",
       " 'sent type food like',\n",
       " 'done hand celebr full swing yet',\n",
       " 'got call tool',\n",
       " 'wen u miss someon person definit special u person special miss keepintouch gdeve',\n",
       " 'ok ask money far',\n",
       " 'oki',\n",
       " 'yeah think usual guy still pass last night get ahold anybodi let know ill throw',\n",
       " 'k might come tonight class let earli',\n",
       " 'ok',\n",
       " 'hi babi im cruisin girl friend r u 2 give call hour home that alright fone fone love jenni xxx',\n",
       " 'life mean lot love life love peopl life world call friend call world ge',\n",
       " 'dearshal mail tonitebusi streetshal updat toniteth look okvarunnathu edukkukaye raksha ollubut good one real sens',\n",
       " 'hey told name gautham ah',\n",
       " 'haf u found feel stupid da v cam work',\n",
       " 'oop 4 got bit',\n",
       " 'much buzi',\n",
       " 'accident delet messag resend pleas',\n",
       " 'unless situat go gurl would appropri',\n",
       " 'hurt teas make cri end life die plz keep one rose grave say stupid miss u nice day bslvyl',\n",
       " 'cant pick phone right pl send messag',\n",
       " 'need coffe run tomoc believ time week alreadi',\n",
       " 'awesom rememb last time got somebodi high first time diesel v',\n",
       " 'shit realli shock scari cant imagin second def night u think somewher could crash night save taxi',\n",
       " 'oh way food fridg want go meal tonight',\n",
       " 'womdarful actor',\n",
       " 'yup remb think book',\n",
       " 'jo ask u wana meet',\n",
       " 'lol ye friendship hang thread caus u wont buy stuff',\n",
       " 'garag key arent bookshelf',\n",
       " 'today accept dayu accept brother sister lover dear1 best1 clos1 lvblefrnd jstfrnd cutefrnd lifpartnr belovd swtheart bstfrnd rpli mean enemi',\n",
       " 'say hell give call friend got money he definit buy end week',\n",
       " 'hi way u 2day normal waythi real ur uniquei hope know u 4 rest mylif hope u find wot lost',\n",
       " 'made day great day',\n",
       " 'kkadvanc happi pongal',\n",
       " 'hmmm guess go 4 kb n power yoga haha dunno tahan power yoga anot thk got lo oso forgot liao',\n",
       " 'realli dude friend im afraid',\n",
       " 'coffe cake guess',\n",
       " 'merri christma babe love ya kiss',\n",
       " 'hey dont go watch x men lunch haha',\n",
       " 'cud u tell ppl im gona b bit l8 co 2 buse hav gon past co full im still waitin 4 1 pete x',\n",
       " 'would great well guild could meet bristol road somewher get touch weekend plan take flight good week',\n",
       " 'problem',\n",
       " 'callsmessagesmiss call',\n",
       " 'hi dahow today class',\n",
       " 'id say that good sign well know track record read women',\n",
       " 'cool text your park',\n",
       " 'im read text sent meant joke read light',\n",
       " 'kkapo kgood movi',\n",
       " 'mayb could get book tomo return immedi someth',\n",
       " 'chanc might evapor soon violat privaci steal phone number employ paperwork cool pleas contact report supervisor',\n",
       " 'tadaaaaa home babe still',\n",
       " 'cool come havent wine dine',\n",
       " 'sleepingand surf',\n",
       " 'sorri ill call later',\n",
       " 'u call right call hand phone',\n",
       " 'ok that great thanx lot',\n",
       " 'take post come must 1000 text happi read one wiv hello carolin end favourit bless',\n",
       " 'u hide stranger',\n",
       " 'interest like',\n",
       " 'sister clear two round birla soft yesterday',\n",
       " 'gudnitetcpractic go',\n",
       " 'di yiju ju saw ur mail case huim havent sent u num di num',\n",
       " 'one small prestig problem',\n",
       " 'check realli miss see jeremiah great month',\n",
       " 'nah cant help ive never iphon',\n",
       " 'your car hour half im go apeshit',\n",
       " 'today sorri day ever angri ever misbehav hurt plz plz slap urself bcoz ur fault im basic good',\n",
       " 'yo guy ever figur much need alcohol jay tri figur much safe spend weed',\n",
       " 'ltgt ish minut 5 minut ago wtf',\n",
       " 'thank callingforgot say happi onam sirjii fine rememb met insur personmeet qatar insha allahrakhesh ex tata aig join tisscotays',\n",
       " 'im actor work work even sleep late sinc im unemploy moment alway sleep late your unemploy everi day saturday',\n",
       " 'hello got st andrewsboy long way cold keep post',\n",
       " 'ha ha cool cool chikku chikkudb',\n",
       " 'oh ok prob',\n",
       " 'check audrey statu right',\n",
       " 'busi tri finish new year look forward final meet',\n",
       " 'good afternoon sunshin dawn day refresh happi aliv breath air smile think love alway',\n",
       " 'well know z take care worri',\n",
       " 'wat uniform get',\n",
       " 'cool text your readi',\n",
       " 'hello boytoy geeee miss alreadi woke wish bed cuddl love',\n",
       " 'spoil bed well',\n",
       " 'im go bath msg next ltgt min',\n",
       " 'cant keep talk peopl sure pay agre price pl tell want realli buy much will pay',\n",
       " 'say happen',\n",
       " 'could seen mei didt recognis face',\n",
       " 'well there lot thing happen lindsay new year sigh bar ptbo blue heron someth go',\n",
       " 'keep payasam rinu bring',\n",
       " 'taught ranjith sir call sm like becau he verifi project prabu told today pa dont mistak',\n",
       " 'guess that worri must know there way bodi repair im quit sure shouldnt worri well take slow first test guid ovul relax noth youv said reason worri ill keep followin',\n",
       " 'yeah sure give coupl minut track wallet',\n",
       " 'hey leav big deal take care',\n",
       " 'hey late ah meet 945',\n",
       " 'took mr owl 3 lick',\n",
       " 'custom place call',\n",
       " 'mm time dont like fun',\n",
       " 'yup lunch buffet u eat alreadi',\n",
       " 'huh late fr dinner',\n",
       " 'hey sat go intro pilat kickbox',\n",
       " 'morn ok',\n",
       " 'ye think offic lap room think that last day didnt shut',\n",
       " 'pick bout 730ish time go',\n",
       " 'perform award calcul everi two monthnot current one month period',\n",
       " 'actual sleep still might u call back text gr8 rock si send u text wen wake',\n",
       " 'alway put busi put pictur ass facebook one open peopl ive ever met would think pictur room would hurt make feel violat',\n",
       " 'good even sir al salam wahleykkumshar happi newsbi grace god got offer tayseertissco joinedhop fineinshah allahmeet sometimerakheshvisitor india',\n",
       " 'hmmmkbut want chang field quickli dai wan na get system administr network administr',\n",
       " 'dear chechi talk',\n",
       " 'hair cream ship',\n",
       " 'none that happen til get though',\n",
       " 'yep great loxahatche xma tree burn ltgt start hour',\n",
       " 'haha get use drive usf man know lot stoner',\n",
       " 'well slightli disastr class pm fav darl hope day ok coffe wld good cant stay late tomorrow time place alway',\n",
       " 'hello good week fanci drink someth later',\n",
       " 'headin toward busetop',\n",
       " 'messagesom text miss sendernam miss number miss sentdat miss miss u lot that everyth miss sent via fullonsmscom',\n",
       " 'come room point iron plan weekend',\n",
       " 'co want thing',\n",
       " 'oki ill go yan jiu skip ard oso go cine den go mrt one blah blah blah',\n",
       " 'bring home wendi',\n",
       " 'whatsup dont u want sleep',\n",
       " 'alright new goal',\n",
       " 'alright ill head minut text meet',\n",
       " 'yesfrom last week im take live call',\n",
       " 'siva hostel aha',\n",
       " 'send ur friend receiv someth ur voic speak express 1childish 2naughti 3sentiment 4rowdi 5ful attitud 6romant 7shi 8attract 9funni ltgt irrit ltgt lovabl repli',\n",
       " 'ok shell ok guess',\n",
       " 'aathiwher dear',\n",
       " 'pain urin thing els',\n",
       " '7 esplanad ü mind give lift co got car today',\n",
       " 'wnt buy bmw car urgentlyit vri urgentbut hv shortag ltgt lacsther sourc arng di amt ltgt lacsthat prob',\n",
       " 'home watch tv lor',\n",
       " 'usual take fifteen fuck minut respond ye question',\n",
       " 'book ticket pongal',\n",
       " 'avail im like right around hillsborough amp ltgt th',\n",
       " 'messag sent askin ltgt dollar shoul pay ltgt ltgt',\n",
       " 'ask g iouri ive told stori like ten time alreadi',\n",
       " 'long applebe fuck take',\n",
       " 'hi hope u get txtjourney hasnt gdnow 50 min late think',\n",
       " 'like love arrang',\n",
       " 'yesh realli greatbhaji told kalli best cricket sachin worldveri tough get',\n",
       " 'suppos wake gt',\n",
       " 'oic saw tot din c found group liao',\n",
       " 'sorri ill call later',\n",
       " 'hey hey wereth monkeespeopl say monkeyaround howdi gorgeou howu doin foundurself jobyet sausagelov jen xxx',\n",
       " 'sorri batteri die come im get gram where place',\n",
       " 'well done blimey exercis yeah kinda rememb wot hmm',\n",
       " 'wont get concentr dear know mind everyth',\n",
       " 'lol made plan new year',\n",
       " '10 min later k',\n",
       " 'hank lotsli',\n",
       " 'thank hope good day today',\n",
       " 'kkwhat detail want transferacc enough',\n",
       " 'ok tell stay yeah tough optimist thing improv month',\n",
       " 'si si think ill go make oreo truffl',\n",
       " 'look ami ure beauti intellig woman like u lot know u don\\x92t like like don\\x92t worri',\n",
       " 'hope that result consist intellig kind start ask practicum link keep ear open best ttyl',\n",
       " '120 call cost guess isnt bad miss ya need ya want ya love ya',\n",
       " 'go thru differ feelingwav decis cope individualtim heal everyth believ',\n",
       " 'u go phone gon na die stay',\n",
       " 'great never better day give even reason thank god',\n",
       " 'sorri ill call later ok bye',\n",
       " 'ok way railway',\n",
       " 'great princess love give receiv oral doggi style fave posit enjoy make love ltgt time per night',\n",
       " 'dont put stuff road keep get slipperi',\n",
       " 'go ride bike',\n",
       " 'yup need ill ju wait 4 e rain 2 stop',\n",
       " 'mani compani tell languag',\n",
       " 'long sinc scream princess',\n",
       " 'noth meant money enter account bank remov flat rate someon transfer ltgt account ltgt dollar got remov bank differ charg also differb sure trust 9ja person send account detail co',\n",
       " 'nice line said broken heart plz dont cum 1 time infront wise trust u good 9t',\n",
       " 'ok im gon na head usf like fifteen minut',\n",
       " 'love aathilov u lot',\n",
       " 'tension ahwhat machiani problem',\n",
       " 'k pick anoth 8th your done',\n",
       " 'whenr guy get back g said think stay mcr',\n",
       " 'almost see u sec',\n",
       " 'yo carlo friend alreadi ask work weekend',\n",
       " 'watch tv lor',\n",
       " 'thank babi cant wait tast real thing',\n",
       " 'chang fb jaykwon thuglyf falconerf',\n",
       " 'win realli 1 side long time',\n",
       " 'dear reach railway happen',\n",
       " 'depend qualiti want type sent boy fade glori 6 want ralph mayb 2',\n",
       " 'think ive fix send test messag',\n",
       " 'sorri man account dri would want could trade back half could buy shit credit card',\n",
       " 'sorryin meet ill call later',\n",
       " 'class ltgt reunion',\n",
       " 'free nowcan call',\n",
       " 'got meh',\n",
       " 'nope think go monday sorri repli late',\n",
       " 'told accentur confirm true',\n",
       " 'kate jackson rec center 7ish right',\n",
       " 'dear reach room',\n",
       " 'fight world easi u either win lose bt fightng some1 close u dificult u lose u lose u win u still lose',\n",
       " 'ü come',\n",
       " 'check nuerologist',\n",
       " 'lolnic went fish water',\n",
       " 'wait e car dat bore wat co wait outsid got noth 2 home stuff watch tv wat',\n",
       " 'mayb westshor hyde park villag place near hous',\n",
       " 'know how anthoni bring money ive school fee pay rent stuff like that need help friend need',\n",
       " 'what signific',\n",
       " 'opinion 1 2 jada 3 kusruthi 4 lovabl 5 silent 6 spl charact 7 matur 8 stylish 9 simpl pl repli',\n",
       " '8 latest gs still scroung ammo want give new ak tri',\n",
       " 'prabhaim sorydarealyfrm heart im sori',\n",
       " 'lol ok forgiven',\n",
       " 'nojst chang tat',\n",
       " 'sno competit',\n",
       " 'way transport less problemat sat night way u want ask n join bday feel free need know definit no book fri',\n",
       " 'usual person unconsci that children adult may behav abnorm ill call',\n",
       " 'that ebay might less elsewher',\n",
       " 'shall come get pickl',\n",
       " 'gon na go get taco',\n",
       " 'that rude campu',\n",
       " 'hi wont b ard 4 christma enjoy n merri xma',\n",
       " 'ye pretti ladi like singl',\n",
       " 'jay say your doublefaggot',\n",
       " 'todaysundaysunday holidayso work',\n",
       " 'gudnitetcpractic go',\n",
       " 'ill late',\n",
       " 'ive call hope l8r malaria know miss guy miss bani big pl give love especi great day',\n",
       " 'good afternoon love goe day hope mayb got lead job think boytoy send passion kiss across sea',\n",
       " 'probabl gon na see later tonight lt',\n",
       " 'mayb fat finger press button doesnt know',\n",
       " 'ummmmmaah mani mani happi return day dear sweet heart happi birthday dear',\n",
       " 'tirupur da start offic call',\n",
       " 'famou quot develop abil listen anyth uncondit without lose temper self confid mean marri',\n",
       " 'go colleg pa els ill come self pa',\n",
       " '4 oclock mine bash flat plan',\n",
       " 'girl stay bed girl doesnt need recoveri time id rather pass fun coop bed',\n",
       " 'special',\n",
       " 'know need get hotel got invit apologis cali sweet come english bloke weddin',\n",
       " 'sorri took long omw',\n",
       " 'wait ltgt min',\n",
       " 'ok give 5 minut think see btw your alibi cut hair whole time',\n",
       " 'imagin final get sink bath put pace mayb even eat left also imagin feel cage cock surround bath water remind alway own enjoy cuck',\n",
       " 'hurri ive weeddefici like three day',\n",
       " 'sure get acknowledg astoundingli tactless gener faggi demand blood oath fo',\n",
       " 'ok everi night take warm bath drink cup milk youll see work magic still need loos weight know',\n",
       " '‘ look fri pan case ‘ cheap book perhap ‘ silli fri pan ‘ like book',\n",
       " 'well uv caus mutat sunscreen like essenti theseday',\n",
       " 'lunchyou onlinewhi',\n",
       " 'know friend alreadi told',\n",
       " 'hi princess thank pic pretti',\n",
       " 'aiyo u alway c ex one dunno abt mei repli first time u repli fast lucki workin huh got bao ur sugardad ahge',\n",
       " 'hi msg meim offic',\n",
       " 'thanx 4 e browni v nice',\n",
       " 'geeeee love much bare stand',\n",
       " 'fuck babe miss alreadi know cant let send money toward net need want crave',\n",
       " 'ill call u 2mrw ninish address icki american freek wont stop callin 2 bad jen k eh',\n",
       " 'oooh bed ridden ey think',\n",
       " 'anyway go gym whatev love smile hope ok good day babe miss much alreadi',\n",
       " 'love daddi make scream pleasur go slap ass dick',\n",
       " 'wot u wan na missi',\n",
       " 'yar lor wait 4 mum 2 finish sch lunch lor whole morn stay home clean room room quit clean hee',\n",
       " 'know lab goggl went',\n",
       " 'open door',\n",
       " 'wait call',\n",
       " 'nope wait sch 4 daddi',\n",
       " 'im tire argu week week want ill',\n",
       " 'ü wait 4 sch finish ard 5',\n",
       " 'arngd marriag u r walkin unfortuntli snake bite u bt love marriag danc frnt snake amp sayin bite bite',\n",
       " 'huh earli ü dinner outsid izzit',\n",
       " 'ok anyway need chang said',\n",
       " 'exwif abl kid want kid one day',\n",
       " 'how scotland hope show jjc tendenc take care live dream',\n",
       " 'tell u headach want use 1 hour sick time',\n",
       " 'dun thk ill quit yet hmmm go jazz yogasana oso go meet em lesson den',\n",
       " 'pete pleas ring meiv hardli gotani credit',\n",
       " 'ya srsli better yi tho',\n",
       " 'im meet call later',\n",
       " 'still grand prix',\n",
       " 'met stranger choos friend long world stand friendship never end let friend forev gud nitz',\n",
       " 'great',\n",
       " 'gud mrng dear nice day',\n",
       " 'exhaust train morn much wine pie sleep well',\n",
       " 'im go buy mum present ar',\n",
       " 'mind blastin tsunami occur rajnik stop swim indian oceand',\n",
       " 'u send home first ok lor im readi yet',\n",
       " 'speak cash yet',\n",
       " 'happi come noon',\n",
       " 'meet lunch la',\n",
       " 'take care n get well soon',\n",
       " 'meant say cant wait see u get bore bridgwat banter',\n",
       " 'neva mind ok',\n",
       " 'fine imma get drink somethin want come find',\n",
       " 'valentin game send di msg ur friend 5 answer r someon realli love u que colour suit bestrpli',\n",
       " 'mani depend',\n",
       " 'thanx4 today cer nice 2 catch ave 2 find time often oh well take care c u soonc',\n",
       " 'call said himthen choos futur',\n",
       " 'happi valentin day know earli hundr handsom beauti wish thought finish aunti uncl 1st',\n",
       " 'like v shock leh co tell shuhui like tell leona also like dat almost know liao got ask abt ur reaction lor',\n",
       " 'famili happi',\n",
       " 'come n pick ü come immedi aft ur lesson',\n",
       " 'let snow let snow kind weather bring ppl togeth friendship grow',\n",
       " 'dear got ltgt dollar hi hi',\n",
       " 'good word word may leav u dismay mani time',\n",
       " 'make sure alex know birthday fifteen minut far your concern',\n",
       " 'sorri got thing may pub later',\n",
       " 'nah straight bring bud drink someth that actual littl use straight cash',\n",
       " 'haha good hear im offici paid market 8th',\n",
       " 'mani lick take get center tootsi pop',\n",
       " 'yup thk r e teacher said make face look longer darren ask 2 cut short',\n",
       " 'pleas dont say like hi hi hi',\n",
       " 'thank u',\n",
       " 'oh forward messag thought send',\n",
       " 'got seventeen pound seven hundr ml – hope ok',\n",
       " 'n funni',\n",
       " 'sweetheart hope kind day one load reason smile biola',\n",
       " 'ü login dat time dad fetch ü home',\n",
       " 'shower babi',\n",
       " 'askd u question hour answer',\n",
       " 'well imma definit need restock thanksgiv ill let know im',\n",
       " 'said kiss kiss cant sound effect gorgeou man isnt kind person need smile brighten day',\n",
       " 'probabl gon na swing wee bit',\n",
       " 'ya nice readi thursday',\n",
       " 'allo brave buse taken train triumph mean ‘ b ‘ ham jolli good rest week',\n",
       " 'watch cartoon listen music amp eve go templ amp church u',\n",
       " 'mind ask happen dont say uncomfort',\n",
       " 'prob send email',\n",
       " 'that cool sometim slow gentl sonetim rough hard',\n",
       " 'im gon na say sorri would normal start panic time sorri see tuesday',\n",
       " 'wait know wesley town bet hella drug',\n",
       " 'fine miss much',\n",
       " 'u got person stori',\n",
       " 'tell drug dealer get impati',\n",
       " 'sun cant come earth send luv ray cloud cant come river send luv rain cant come meet u send care msg u gud evng',\n",
       " 'place man',\n",
       " 'doesnt make sens take unless free need know wikipediacom',\n",
       " 'sea lay rock rock envelop envelop paper paper 3 word',\n",
       " 'mum repent',\n",
       " 'sorri go home first daddi come fetch ü later',\n",
       " 'leav de start prepar next',\n",
       " 'ye babi studi posit kama sutra',\n",
       " 'en chikku nang bakra msg kalstiyathen teacoffe',\n",
       " 'carlosl minut still need buy',\n",
       " 'pay ltdecimalgt lakh',\n",
       " 'good even ttyl',\n",
       " 'u receiv msg',\n",
       " 'ho ho big belli laugh see ya tomo',\n",
       " 'ditto wont worri say anyth anymor like said last night whatev want ill peac',\n",
       " 'ive got ltgt way could pick',\n",
       " 'dont knw pa drink milk',\n",
       " 'mayb say hi find got card great escap wetherspoon',\n",
       " 'piggi r u awak bet ure still sleep im go 4 lunch',\n",
       " 'caus im freaki lol',\n",
       " 'miss call caus yell scrappi miss u cant wait u come home im lone today',\n",
       " 'hex place talk explain',\n",
       " 'ü log 4 wat sdryb8i',\n",
       " 'xy go 4 e lunch',\n",
       " 'want ask ü wait 4 finish lect co lect finish hour anyway',\n",
       " 'finish work yet',\n",
       " 'everi king cri babi everi great build map imprtant u r today u wil reach tomorw gud ni8',\n",
       " 'dearm cherthalain case u r come cochin pl call bfore u starti shall also reach accordinglyor tell day u r comingtmorow engag an holiday',\n",
       " 'thank love torch bold',\n",
       " 'farm open',\n",
       " 'sorri troubl u buy 4d dad 1405 1680 1843 2 big 1 small sat n sun thanx',\n",
       " 'sister law hope great month say hey abiola',\n",
       " 'purchas stuff today mail po box number',\n",
       " 'ah poop look like ill prob send laptop get fix cuz gpu problem',\n",
       " 'good good job like entrepreneur',\n",
       " 'aight close still around alex place',\n",
       " 'meet corpor st outsid gap … see mind work',\n",
       " 'mum ask ü buy food home',\n",
       " 'ku also dont msg repli msg',\n",
       " 'much r ü will pay',\n",
       " 'sorri ill call later',\n",
       " 'import prevent dehydr give enough fluid',\n",
       " 'that bit weird even suppos happen good idea sure pub',\n",
       " 'true deari sat pray even felt soso smsd time',\n",
       " 'dont think get away trek long famili town sorri',\n",
       " 'wan na gym harri',\n",
       " 'quit late lar ard 12 anyway wun b drivin',\n",
       " 'height confid aeronaut professor wer calld amp wer askd 2 sit aeroplan aftr sat wer told dat plane ws made student dey hurri plane bt 1 didnt move saidif made studentsthi wont even start datz confid',\n",
       " 'seem like weird time night g want come smoke day shitstorm attribut alway come make everyon smoke',\n",
       " 'save stress person dorm account send account detail money sent',\n",
       " 'also know lunch menu da know',\n",
       " 'stuff sell ill tell',\n",
       " 'book lesson msg call work sth im go get spec membership px3748',\n",
       " 'macha dont feel upseti assum mindsetbeliev one even wonder plan uslet life begin againcal anytim',\n",
       " 'oh send address',\n",
       " 'sfine anytim best',\n",
       " 'wondar full flim',\n",
       " 'ya even cooki jelli',\n",
       " 'world run stillmayb feel sameso itor admiti madthen correctionor let call lifeand keep run worldmay u r also runninglet run',\n",
       " 'got look scrumptiou daddi want eat night long',\n",
       " 'co lar im ba dao ok 1 pm lor u never ask go ah said u would ask fri said u ask today',\n",
       " 'alright omw got ta chang order half8th',\n",
       " 'exactli anyway far jide studi visit',\n",
       " 'dunno u ask',\n",
       " 'didnt spring come earli yay',\n",
       " 'lol wont feel bad use money take steak dinner',\n",
       " 'even u dont get troubl convincingjust tel twice tel neglect msg dont c read itjust dont repli',\n",
       " 'leav qatar tonit search opportunityal went fastpl add ur prayer dearrakhesh',\n",
       " 'one talk',\n",
       " 'thank look realli appreci',\n",
       " 'wish',\n",
       " 'haha mayb ure rite u know well da feel like someon gd lor u faster go find one gal group attach liao',\n",
       " 'ye glad made',\n",
       " 'well littl time thing good time ahead',\n",
       " 'got room soon … hadnt put clock back til 8 shout everyon get realis 7 wahay anoth hour bed',\n",
       " 'ok may free gym',\n",
       " 'men like shorter ladi gaze eye',\n",
       " 'dunno ju say go lido time 930',\n",
       " 'promis take good care princess run pleas send pic get chanc ttyl',\n",
       " 'reason weve spoken year anyway great week best exam',\n",
       " 'monday next week give full gist',\n",
       " 'dont gim lip caveboy',\n",
       " 'get librari',\n",
       " 'reali sorryi dont recognis number confus r u pleas',\n",
       " 'didnt holla',\n",
       " 'cant think anyon spare room top head',\n",
       " 'faith make thing possiblehop make thing worklov make thing beautifulmay three christmasmerri christma',\n",
       " 'u made appoint',\n",
       " 'call youcarlo isar phone vibrat act might hear text',\n",
       " 'grandma oh dear u still ill felt shit morn think hungov anoth night leav sat',\n",
       " 'noth ju tot u would ask co u ba gua went mt faber yest yest ju went alreadi mah today go ju call lor',\n",
       " 'wish famili merri x ma happi new year advanc',\n",
       " 'im nt goin got somethin unless meetin 4 dinner lor haha wonder go ti time',\n",
       " 'sorri ill call later',\n",
       " 'cant pick phone right pl send messag',\n",
       " 'lol know theyr dramat school alreadi close tomorrow appar cant drive inch snow suppos get',\n",
       " 'get anywher damn job hunt',\n",
       " 'lol u drunkard hair moment yeah still 4 tonight wat plan',\n",
       " 'idc get weasel way shit twice row',\n",
       " 'wil ltgt minut got space',\n",
       " 'sleepingand surf',\n",
       " 'thank pick trash',\n",
       " 'dont go tell friend your sure want live smoke much spend hour beg come smoke',\n",
       " 'hi kate love see tonight ill phone tomorrow got sing guy gave card xxx',\n",
       " 'happi new year dear brother realli miss got number decid send text wish happi abiola',\n",
       " 'mean get door',\n",
       " 'opinion 1 2 jada 3 kusruthi 4 lovabl 5 silent 6 spl charact 7 matur 8 stylish 9 simpl pl repli',\n",
       " 'hmmm thought said 2 hour slave 3 late punish',\n",
       " 'beerag',\n",
       " 'dont think turn like randomlli within 5min open',\n",
       " 'suppos couldnt make she still town though',\n",
       " 'time fix spell sometim get complet diff word go figur',\n",
       " 'gud mrng dear hav nice day',\n",
       " 'hope enjoy game yesterday sorri ive touch pl know fondli bein thot great week abiola',\n",
       " 'e best 4 ur drive tmr',\n",
       " 'ywhere u dogbreath sound like jan c that\\x92 al',\n",
       " 'omg want scream weigh lost weight woohoo',\n",
       " 'gener isnt one uncount noun u dictionari piec research',\n",
       " 'realli get hang around',\n",
       " 'petey boy wherear friendsar thekingshead come canlov nic',\n",
       " 'ok msg u b4 leav hous',\n",
       " 'gim ltgt minut ago',\n",
       " 'appt lttimegt fault u dont listen told u twice',\n",
       " 'k ill 4',\n",
       " 'dled 3d imp',\n",
       " 'sure make sure know aint smokin yet',\n",
       " 'boooo alway work quit',\n",
       " 'take half day leav bec well',\n",
       " 'ugh dont wan na get bed warm',\n",
       " 'ssnervou ltgt',\n",
       " 'there ring come guy costum gift futur yowif hint hint',\n",
       " 'borrow ur bag ok',\n",
       " 'where boytoy miss happen',\n",
       " 'lot use one babe model doesnt help youi bring hell match',\n",
       " 'also bring galileo dobbi',\n",
       " 'respond',\n",
       " 'boo babe u enjoyin yourjob u seem 2 b gettin well hunnyhop ure oktak care i\\x92llspeak 2u soonlot lovem xxxx',\n",
       " 'good afternoon starshin how boytoy crave yet ach fuck sip cappuccino miss babe teas kiss',\n",
       " 'road cant txt',\n",
       " 'good even ttyl',\n",
       " 'hmm bit piec lol sigh',\n",
       " 'hahahaus brain dear',\n",
       " 'hey got mail',\n",
       " 'sorri light turn green meant anoth friend want ltgt worth may around',\n",
       " 'thank yesterday sir wonder hope enjoy burial mojibiola',\n",
       " 'hi mate rv u hav nice hol messag 3 say hello coz haven\\x92t sent u 1 age start drive stay roadsrvx',\n",
       " 'thank much skype wit kz sura didnt get pleasur compani hope good weve given ultimatum oh countin aburo enjoy messag sent day ago',\n",
       " 'sure result offer',\n",
       " 'good morn dear great amp success day',\n",
       " 'sir late pay rent past month pay ltgt charg felt would inconsider nag someth give great cost that didnt speak howev recess wont abl pay charg month henc askin well ahead month end pleas help thank',\n",
       " 'luv u soo much u don\\x92t understand special u r 2 ring u 2morrow luv u xxx',\n",
       " 'pl send comprehens mail im pay much',\n",
       " 'prashanthettan mother pass away last night pray famili',\n",
       " 'kkwhen go',\n",
       " 'meanwhil shit suit xavier decid give us ltgt second warn samantha come play jay guitar impress shit also dont think doug realiz dont live anymor',\n",
       " 'stomach thru much trauma swear cant eat better lose weight',\n",
       " 'officewhat mattermsg nowi call break',\n",
       " 'yeah there bare enough room two us x mani fuck shoe sorri man see later',\n",
       " 'u reach orchard alreadi u wan 2 go buy ticket first',\n",
       " 'real babi want bring inner tigress',\n",
       " 'da run activ full version da',\n",
       " 'ah poor babyhop urfeel bettersn luv probthat overdos work hey go care spk 2 u sn lot lovejen xxx',\n",
       " 'stop stori ive told ive return he say order',\n",
       " 'go take babe',\n",
       " 'hai ana tomarrow come morn ltdecimalgt ill sathi go rto offic repli came home',\n",
       " 'spoon okay',\n",
       " 'say somebodi name tampa',\n",
       " 'work go min',\n",
       " 'brother geniu',\n",
       " 'sorri guess whenev get hold connect mayb hour two ill text',\n",
       " 'u find time bu coz need sort stuff',\n",
       " 'dude ive see lotta corvett late',\n",
       " 'consid wall bunker shit import never play peac guess place high enough dont matter',\n",
       " 'well offici philosoph hole u wan na call home readi save',\n",
       " 'go goodno problembut still need littl experi understand american custom voic',\n",
       " 'ill text drop x',\n",
       " 'ugh long day im exhaust want cuddl take nap',\n",
       " 'talk atleast day otherwis miss best friend world shakespear shesil ltgt',\n",
       " 'castor need see someth',\n",
       " 'see knew give break time woul lead alway want miss curfew gon na gibe til one midnight movi gon na get til 2 need come home need getsleep anyth need b studdi ear train',\n",
       " 'love give massag use lot babi oil fave posit',\n",
       " 'dude go sup',\n",
       " 'yoyyooo u know chang permiss drive mac usb flash drive',\n",
       " 'gibb unsoldmik hussey',\n",
       " 'like talk pa abl dont know',\n",
       " 'dun cut short leh u dun like ah fail she quit sad',\n",
       " 'unbeliev faglord',\n",
       " 'wifehow knew time murder exactli',\n",
       " 'ask princess',\n",
       " 'great princess think',\n",
       " 'nutter cutter ctter cttergg cttargg ctargg ctagg ie',\n",
       " 'ok noe ure busi im realli bore msg u oso dunno wat colour choos 4 one',\n",
       " 'doesnt g class earli tomorrow thu shouldnt tri smoke ltgt',\n",
       " 'superb thought grate u dont everyth u want mean u still opportun happier tomorrow u today',\n",
       " 'hope good week check',\n",
       " 'im use hope agent dont drop sinc ive book thing year whole boston nyc experi',\n",
       " 'thursday night yeah sure thing well work',\n",
       " 'probabl money worri thing come due sever outstand invoic work two three month ago',\n",
       " 'possibl teach',\n",
       " 'wonder phone batteri went dead tell love babe',\n",
       " 'love smell bu aint tobacco',\n",
       " 'get worri derek taylor alreadi assum worst',\n",
       " 'hey what charl sorri late repli',\n",
       " 'ill give plu said grinul greet whenev speak',\n",
       " 'white fudg oreo store',\n",
       " 'love come took long leav zaher got word ym happi see sad left miss',\n",
       " 'sorri hurt',\n",
       " 'cant feel nauseou im piss didnt eat sweet week caus today plan pig diet week im hungri',\n",
       " 'ok lor earli still project meet',\n",
       " 'call da wait call',\n",
       " 'could ask carlo could get anybodi els chip',\n",
       " 'actual send remind today wonder weekend',\n",
       " 'peopl see msg think iam addict msging wrong bcoz dont know iam addict sweet friend bslvyl',\n",
       " 'hey gave photo regist drive ah tmr wan na meet yck',\n",
       " 'dont talk ever ok word',\n",
       " 'u wana see',\n",
       " 'way school pl send ashley number',\n",
       " 'shall fine avalarr hollalat',\n",
       " 'went attend anoth two round todaybut still didt reach home',\n",
       " 'actual delet old websitenow blog magicalsongsblogspotcom',\n",
       " 'k wait chikkuil send aftr ltgt min',\n",
       " 'im diet ate 1 mani slice pizza yesterday ugh im alway diet',\n",
       " 'ki give kvb acc detail',\n",
       " 'oh come ah',\n",
       " 'im realli sorri wont b abl 2 fridayhop u find alternativehop yr term go ok',\n",
       " 'congratul ore mo owo wa enjoy wish mani happi moment fro wherev go',\n",
       " 'samu shoulder yet',\n",
       " 'time think youll need know near campu',\n",
       " 'dun wear jean lor',\n",
       " 'sinc side fever vomitin',\n",
       " 'kkare colleg',\n",
       " 'better made friday stuf like pig yesterday feel bleh least writh pain kind bleh',\n",
       " 'sell well ton coin sell coin someon thru paypal voila money back life pocket',\n",
       " 'theyr lot place hospit medic place safe',\n",
       " 'also ive sorta blown coupl time recent id rather text blue look weed',\n",
       " 'sent score sopha secondari applic school think think appli research cost also contact joke ogunrind school one less expens one',\n",
       " 'cant wait see photo use',\n",
       " 'hey book kb sat alreadi lesson go ah keep sat night free need meet confirm lodg',\n",
       " 'chk ur belovd ms dict',\n",
       " 'time want come',\n",
       " 'awesom lem know whenev your around',\n",
       " 'shb b ok lor thanx',\n",
       " 'beauti truth graviti read care heart feel light someon feel heavi someon leav good night',\n",
       " 'also rememb get dobbi bowl car',\n",
       " 'sorri c ur msg yar lor poor thing 4 one night tmr ull brand new room 2 sleep',\n",
       " 'love isnt decis feel could decid love life would much simpler less magic',\n",
       " 'welp appar retir',\n",
       " 'sort code acc bank natwest repli confirm ive sent right person',\n",
       " '',\n",
       " 'u sure u cant take sick time',\n",
       " 'watch cartoon listen music amp eve go templ amp church u',\n",
       " 'yo chad gymnast class wan na take site say christian class full',\n",
       " 'much buzi',\n",
       " 'better still catch let ask sell ltgt',\n",
       " 'sure night menu know noon menu',\n",
       " 'u want come backa beauti necklac token heart youthat give wife likingb seeno one give thatdont call mei wait till come',\n",
       " 'will go aptitud class',\n",
       " 'wont b 215 tri 2 sort hous ok',\n",
       " 'yar lor wan 2 go c hors race today mah eat earlier lor ate chicken rice u',\n",
       " 'haha awesom omw back',\n",
       " 'yup thk e shop close lor',\n",
       " 'account number',\n",
       " 'eh u send wrongli lar',\n",
       " 'hey ad crap nite borin without ya 2 boggi u bore biatch thanx u wait til nxt time il ave ya',\n",
       " 'ok shall talk',\n",
       " 'dont hesit know second time weak like keep notebook eat day anyth chang day sure noth',\n",
       " 'hey pay salari de ltgt',\n",
       " 'anoth month need chocol weed alcohol',\n",
       " 'start search get job daysh great potenti talent',\n",
       " 'reckon need town eightish walk carpark',\n",
       " 'look fuckin time fuck think',\n",
       " 'yo guess drop',\n",
       " 'carlo say hell mu ltgt minut',\n",
       " 'im offic call ltgt min',\n",
       " 'geeee miss alreadi know think fuck cant wait till next year togeth love kiss',\n",
       " 'yun ahth ubi one say ü wan call tomorrowcal 67441233 look ireneer got bus822656166382 ubi cresubi tech park6ph 1st 5wkg daysèn',\n",
       " 'ugh got ta drive back sd la butt sore',\n",
       " '26th juli',\n",
       " 'hi im relax time ever get 7am everi day parti good night get home tomorrow 5ish',\n",
       " 'ü ü wan come come lor din c stripe skirt',\n",
       " 'xma stori peac xma msg love xma miracl jesu hav bless month ahead amp wish u merri xma',\n",
       " 'cant dont number',\n",
       " 'chang e one next escal',\n",
       " 'yetund im class run water make ok pl',\n",
       " 'lot happen feel quiet beth aunt charli work lot helen mo',\n",
       " 'ü wait 4 bu stop aft ur lect lar dun c ü go get car come back n pick ü',\n",
       " 'aight thank comin',\n",
       " 'nobut heard abt tat',\n",
       " 'yesh realli greatbhaji told kalli best cricket sachin worldveri tough get',\n",
       " 'ltgt think say syllabu',\n",
       " 'umma say anyth',\n",
       " 'give sec think think',\n",
       " 'dont quit know still cant get hold anyon cud pick bout 730pm see theyr pub',\n",
       " 'poyyarikaturkolathupalayamunjalur posterod di ltgt',\n",
       " 'dear heroi leav qatar tonit apt opportunitypl keep touch ltemailgt kerala',\n",
       " 'lol would mom would fit tell whole famili crazi terribl',\n",
       " 'got home babe still awak',\n",
       " 'dunno close oredi ü v fan',\n",
       " 'buy pizza meat lover suprem u get pick',\n",
       " 'ya toldsh ask wat matter',\n",
       " 'dearregret cudnt pick calldrov frm ctla cochin homeleft mobil carent style ishtamayoohappi bakrid',\n",
       " 'shall send exe mail id',\n",
       " 'nope watch tv home go v bore',\n",
       " 'knowwait check',\n",
       " 'good afternoon gloriou anniversari day sweet j hope find happi content prey think send teas kiss across sea coax imag fond souveni cougarpen',\n",
       " 'still tonight',\n",
       " 'may call later pl',\n",
       " 'hasnt pattern recent crap weekend',\n",
       " 'sore throat scratch talk',\n",
       " 'ye da plm ur offic',\n",
       " 'around still asleep v',\n",
       " 'lol forgot eh ye ill bring babe',\n",
       " 'good well find way',\n",
       " 'use foreign stamp countri good lectur',\n",
       " 'yup bath liao',\n",
       " 'happi new year no1 man',\n",
       " 'oh mr sheffield wan na play game okay your boss im nanni give rais ill give one',\n",
       " 'zoe hit 2 im fuck shitin il defo tri hardest 2 cum 2morow luv u million lekdog',\n",
       " 'hello babi get back mom set comput fill belli goe loverboy miss alreadi sigh',\n",
       " 'blanket suffici thx',\n",
       " 'naughti littl thought better flirt flirt n flirt rather love someon n gettin hurt hurt n hurt gud nyt',\n",
       " 'edison rightli said fool ask question wise man answer know us speechless viva gmgngegnt',\n",
       " 'talk that de wont',\n",
       " 'today go colleg abl atten class',\n",
       " 'im class holla later',\n",
       " 'easi ahsen got select mean good',\n",
       " 'mmm that better got roast i\\x92d b better drink 2 good indian',\n",
       " 'come round',\n",
       " '1 thing chang sentenc want 2 concentr educ career im leav',\n",
       " 'walk hour 2 c u doesn\\x92t show care wont u believ im seriou',\n",
       " 'avail soire june 3rd',\n",
       " 'u noe wat time e place dat sell 4d close',\n",
       " 'got anoth job one hospit data analysi someth start monday sure thesi got finish',\n",
       " 'jay get realli impati belliger',\n",
       " 'hiya comin 2 bristol 1 st week april le got rudi new yr eve snoringthey drunk u bak colleg yet work send ink 2 bath',\n",
       " 'im work pleas call',\n",
       " 'u drive lor',\n",
       " 'ard 515 like dat',\n",
       " 'tell theyr femal v howr throw decid get',\n",
       " 'im work technic support voic processnetwork field',\n",
       " 'might come kerala 2 daysso prepar take leav finalis dont plan travel visitne finish urgent work',\n",
       " 'ok sure time tho sure get librari class tri see point good eve',\n",
       " 'that fine ill bitch later',\n",
       " 'mum went 2 dentist',\n",
       " 'free call sir wait',\n",
       " 'meet u work tel shall work tomorrow',\n",
       " 'ju finish bath',\n",
       " 'alright ill make sure car back tonight',\n",
       " 'lul im gettin juici gossip hospit two nurs talk fat gettin one think she obes oyea',\n",
       " 'aight ill get fb coupl minut',\n",
       " 'oi ami parchi na kicchu kaaj kort iccha korch na phone ta tul na plz plz',\n",
       " 'download clear movi dvd copi',\n",
       " 'yep pretti sculptur',\n",
       " 'convey regard',\n",
       " 'watch surya movi 6 pm vijay movi pokkiri',\n",
       " 'tell happen dont behav like ok need say',\n",
       " 'u get pic msg phone',\n",
       " 'send someon els',\n",
       " 'wat make peopl dearer de happi dat u feel u meet de pain u feel u miss dem',\n",
       " 'love start attractioni feel need everi time around mesh first thing come thoughtsi would start day end hersh everi time dreamlov everi breath namemi life happen around hermi life name heri would cri herwil give happi take sorrowsi readi fight anyon heri love craziest thing herlov dont proov anyon girl beauti ladi whole planeti alway sing prais herlov start make chicken curri end maki sambarlif beauti thenwil get everi morn thank god day mei would like say lotwil tell later',\n",
       " 'frndship like needl clock though v r clock v r nt abl 2 met evn v meetitz 4few second bt v alwi stay conect gud 9t',\n",
       " 'dont think spatula hand',\n",
       " 'never noth',\n",
       " 'goodmorn today late ltdecimalgt min',\n",
       " 'pleas da call mistak side sorri da pl da goto doctor',\n",
       " 'r meet',\n",
       " 'well weather cali great complex great need car move freeli tax outrag great place sad part miss home',\n",
       " 'reach home tire come tomorro',\n",
       " 'ryder unsoldnow gibb',\n",
       " 'dont fret ill buy ovul test strip send wont get til like march send postal addressul alrightokay',\n",
       " 'gift tri get throw cliff someth',\n",
       " 'ne thing interest good birthday u wrking nxt start uni today',\n",
       " 'busi come point figur tomorrow',\n",
       " 'yeah go bore depress sittin waitin phone ring hope wind drop though scari',\n",
       " 'black shirt n blue jean thk c ü',\n",
       " 'aiyah sorri lor watch tv watch forgot 2 check phone',\n",
       " 'hen night go swing',\n",
       " 'good afternoon love goe day woke earli onlin wait hmmm italian boy onlin see grin',\n",
       " 'someon smoke everi time ive smoke last two week call text want smoke',\n",
       " 'youll get headach tri figur u trust math promis',\n",
       " 'sfirst timedhoni rock',\n",
       " 'ok ill tell compani',\n",
       " 'awesom think get 8th usf time tonight',\n",
       " 'mean still think teju',\n",
       " 'im good movi ok leav hourish',\n",
       " 'nothi kalli home groundamla home town durban',\n",
       " 'let make saturday monday per conveni',\n",
       " 'hey time drive fri go evalu fri',\n",
       " 'im go 4 lunch wif famili aft dat go str 2 orchard lor',\n",
       " 'cancel cheyyamoand get money back',\n",
       " 'okok okthenwhat ur today plan',\n",
       " 'good morn princess',\n",
       " 'aiyar sorri lor forgot 2 tell u',\n",
       " 'tonight mate catch sleep new number way',\n",
       " 'height oh shit situat guy throw luv letter gal fall brother head who gayd',\n",
       " 'check error difficulti correct',\n",
       " 'howz painhop u r fine',\n",
       " 'sorri ill call later',\n",
       " 'good morn princess',\n",
       " 'enter cabin pa said happi bday boss felt special askd 4 lunch lunch invit apart went',\n",
       " 'u wake alreadi thanx 4 e tau sar piah quit nice',\n",
       " 'k need login anyth',\n",
       " 'lol busi',\n",
       " 'u wear',\n",
       " 'messagesom text miss sendernam miss number miss sentdat miss miss u lot that everyth miss sent via fullonsmscom',\n",
       " 'oha usual vijay film differ',\n",
       " 'good day mine realli busi much tomorrow night',\n",
       " 'way send shade stuff wonder',\n",
       " 'realli tot ur paper end long ago wat u copi ju got use u happi lar still haf 2 studi',\n",
       " 'babe lost',\n",
       " 'ok help ask she work tmr',\n",
       " 'im drive rain ill get caught e mrt station lor',\n",
       " 'drop tank',\n",
       " 'said text one time',\n",
       " 'sorri ill call later',\n",
       " 'ok go chang also',\n",
       " 'u find sitter kaitlyn sick slept day yesterday',\n",
       " 'sorri man accident left phone silent last night didnt check til got',\n",
       " 'hey someth came last min think wun sign tmr hee',\n",
       " 'he adult would learn experi there real danger dont like peep use drug dont need comment',\n",
       " 'hey there veggi pizza',\n",
       " 'yun buy school got offer 2000 plu',\n",
       " 'sure neighbor didnt pick',\n",
       " 'k sent',\n",
       " 'new theori argument win situat lose person dont argu ur friend kick amp say im alway correct',\n",
       " 'well im computerless time make oreo truffl',\n",
       " 'haha yeah see sec',\n",
       " 'number sir',\n",
       " 'lol im hot air balloon',\n",
       " 'ok bu come soon come otherwis tomorrow',\n",
       " 'msg r time passthey silent say think u right also make u think least 4 moment gd ntswt drm shesil',\n",
       " 'yeah probabl swing roommat finish girl',\n",
       " 'happi new year melodi',\n",
       " 'ü dun need pick ur gf',\n",
       " 'yay better told 5 girl either',\n",
       " 'horribl u eat mac eat u forgot abt alreadi rite u take long 2 repli thk toot b4 b prepar wat shall eat',\n",
       " 'say fantast chanc anyth need bigger life lift lose 2 live think would first person 2 die n v q',\n",
       " 'nw came hme da',\n",
       " ...]"
      ]
     },
     "execution_count": 33,
     "metadata": {},
     "output_type": "execute_result"
    }
   ],
   "source": [
    "corpus"
   ]
  },
  {
   "cell_type": "code",
   "execution_count": 34,
   "id": "b6bff399",
   "metadata": {},
   "outputs": [],
   "source": [
    "from sklearn.feature_extraction.text import CountVectorizer"
   ]
  },
  {
   "cell_type": "code",
   "execution_count": 35,
   "id": "d7184c41",
   "metadata": {},
   "outputs": [],
   "source": [
    "cv = CountVectorizer()"
   ]
  },
  {
   "cell_type": "code",
   "execution_count": 36,
   "id": "e2467051",
   "metadata": {},
   "outputs": [
    {
     "data": {
      "text/plain": [
       "array([[0, 0, 0, ..., 0, 0, 0],\n",
       "       [0, 0, 0, ..., 0, 0, 0],\n",
       "       [0, 0, 0, ..., 0, 0, 0],\n",
       "       ...,\n",
       "       [0, 0, 0, ..., 0, 0, 0],\n",
       "       [0, 0, 0, ..., 0, 0, 0],\n",
       "       [0, 0, 0, ..., 0, 0, 0]], dtype=int64)"
      ]
     },
     "execution_count": 36,
     "metadata": {},
     "output_type": "execute_result"
    }
   ],
   "source": [
    "x = cv.fit_transform(corpus).toarray()\n",
    "x"
   ]
  },
  {
   "cell_type": "code",
   "execution_count": 37,
   "id": "009e99b1",
   "metadata": {},
   "outputs": [
    {
     "data": {
      "text/plain": [
       "(9650, 8091)"
      ]
     },
     "execution_count": 37,
     "metadata": {},
     "output_type": "execute_result"
    }
   ],
   "source": [
    "x.shape"
   ]
  },
  {
   "cell_type": "code",
   "execution_count": 38,
   "id": "c1e7daec",
   "metadata": {},
   "outputs": [
    {
     "data": {
      "text/html": [
       "<div>\n",
       "<style scoped>\n",
       "    .dataframe tbody tr th:only-of-type {\n",
       "        vertical-align: middle;\n",
       "    }\n",
       "\n",
       "    .dataframe tbody tr th {\n",
       "        vertical-align: top;\n",
       "    }\n",
       "\n",
       "    .dataframe thead th {\n",
       "        text-align: right;\n",
       "    }\n",
       "</style>\n",
       "<table border=\"1\" class=\"dataframe\">\n",
       "  <thead>\n",
       "    <tr style=\"text-align: right;\">\n",
       "      <th></th>\n",
       "      <th>label</th>\n",
       "      <th>message</th>\n",
       "    </tr>\n",
       "  </thead>\n",
       "  <tbody>\n",
       "    <tr>\n",
       "      <th>0</th>\n",
       "      <td>ham</td>\n",
       "      <td>Go until jurong point, crazy.. Available only ...</td>\n",
       "    </tr>\n",
       "    <tr>\n",
       "      <th>1</th>\n",
       "      <td>ham</td>\n",
       "      <td>Ok lar... Joking wif u oni...</td>\n",
       "    </tr>\n",
       "    <tr>\n",
       "      <th>2</th>\n",
       "      <td>ham</td>\n",
       "      <td>U dun say so early hor... U c already then say...</td>\n",
       "    </tr>\n",
       "    <tr>\n",
       "      <th>3</th>\n",
       "      <td>ham</td>\n",
       "      <td>Nah I don't think he goes to usf, he lives aro...</td>\n",
       "    </tr>\n",
       "    <tr>\n",
       "      <th>4</th>\n",
       "      <td>ham</td>\n",
       "      <td>Even my brother is not like to speak with me. ...</td>\n",
       "    </tr>\n",
       "    <tr>\n",
       "      <th>...</th>\n",
       "      <td>...</td>\n",
       "      <td>...</td>\n",
       "    </tr>\n",
       "    <tr>\n",
       "      <th>9645</th>\n",
       "      <td>spam</td>\n",
       "      <td>Rock yr chik. Get 100's of filthy films &amp;XXX p...</td>\n",
       "    </tr>\n",
       "    <tr>\n",
       "      <th>9646</th>\n",
       "      <td>spam</td>\n",
       "      <td>&lt;Forwarded from 448712404000&gt;Please CALL 08712...</td>\n",
       "    </tr>\n",
       "    <tr>\n",
       "      <th>9647</th>\n",
       "      <td>spam</td>\n",
       "      <td>URGENT We are trying to contact you Last weeke...</td>\n",
       "    </tr>\n",
       "    <tr>\n",
       "      <th>9648</th>\n",
       "      <td>spam</td>\n",
       "      <td>IMPORTANT INFORMATION 4 ORANGE USER 0796XXXXXX...</td>\n",
       "    </tr>\n",
       "    <tr>\n",
       "      <th>9649</th>\n",
       "      <td>spam</td>\n",
       "      <td>CALL 09090900040 &amp; LISTEN TO EXTREME DIRTY LIV...</td>\n",
       "    </tr>\n",
       "  </tbody>\n",
       "</table>\n",
       "<p>9650 rows × 2 columns</p>\n",
       "</div>"
      ],
      "text/plain": [
       "     label                                            message\n",
       "0      ham  Go until jurong point, crazy.. Available only ...\n",
       "1      ham                      Ok lar... Joking wif u oni...\n",
       "2      ham  U dun say so early hor... U c already then say...\n",
       "3      ham  Nah I don't think he goes to usf, he lives aro...\n",
       "4      ham  Even my brother is not like to speak with me. ...\n",
       "...    ...                                                ...\n",
       "9645  spam  Rock yr chik. Get 100's of filthy films &XXX p...\n",
       "9646  spam  <Forwarded from 448712404000>Please CALL 08712...\n",
       "9647  spam  URGENT We are trying to contact you Last weeke...\n",
       "9648  spam  IMPORTANT INFORMATION 4 ORANGE USER 0796XXXXXX...\n",
       "9649  spam  CALL 09090900040 & LISTEN TO EXTREME DIRTY LIV...\n",
       "\n",
       "[9650 rows x 2 columns]"
      ]
     },
     "execution_count": 38,
     "metadata": {},
     "output_type": "execute_result"
    }
   ],
   "source": [
    "df1"
   ]
  },
  {
   "cell_type": "code",
   "execution_count": 39,
   "id": "c93054c0",
   "metadata": {},
   "outputs": [],
   "source": [
    "df1.label = df1.label.astype('category').cat.codes"
   ]
  },
  {
   "cell_type": "code",
   "execution_count": 40,
   "id": "81bf96b0",
   "metadata": {},
   "outputs": [
    {
     "data": {
      "text/html": [
       "<div>\n",
       "<style scoped>\n",
       "    .dataframe tbody tr th:only-of-type {\n",
       "        vertical-align: middle;\n",
       "    }\n",
       "\n",
       "    .dataframe tbody tr th {\n",
       "        vertical-align: top;\n",
       "    }\n",
       "\n",
       "    .dataframe thead th {\n",
       "        text-align: right;\n",
       "    }\n",
       "</style>\n",
       "<table border=\"1\" class=\"dataframe\">\n",
       "  <thead>\n",
       "    <tr style=\"text-align: right;\">\n",
       "      <th></th>\n",
       "      <th>label</th>\n",
       "      <th>message</th>\n",
       "    </tr>\n",
       "  </thead>\n",
       "  <tbody>\n",
       "    <tr>\n",
       "      <th>0</th>\n",
       "      <td>0</td>\n",
       "      <td>Go until jurong point, crazy.. Available only ...</td>\n",
       "    </tr>\n",
       "    <tr>\n",
       "      <th>1</th>\n",
       "      <td>0</td>\n",
       "      <td>Ok lar... Joking wif u oni...</td>\n",
       "    </tr>\n",
       "    <tr>\n",
       "      <th>2</th>\n",
       "      <td>0</td>\n",
       "      <td>U dun say so early hor... U c already then say...</td>\n",
       "    </tr>\n",
       "    <tr>\n",
       "      <th>3</th>\n",
       "      <td>0</td>\n",
       "      <td>Nah I don't think he goes to usf, he lives aro...</td>\n",
       "    </tr>\n",
       "    <tr>\n",
       "      <th>4</th>\n",
       "      <td>0</td>\n",
       "      <td>Even my brother is not like to speak with me. ...</td>\n",
       "    </tr>\n",
       "    <tr>\n",
       "      <th>...</th>\n",
       "      <td>...</td>\n",
       "      <td>...</td>\n",
       "    </tr>\n",
       "    <tr>\n",
       "      <th>9645</th>\n",
       "      <td>1</td>\n",
       "      <td>Rock yr chik. Get 100's of filthy films &amp;XXX p...</td>\n",
       "    </tr>\n",
       "    <tr>\n",
       "      <th>9646</th>\n",
       "      <td>1</td>\n",
       "      <td>&lt;Forwarded from 448712404000&gt;Please CALL 08712...</td>\n",
       "    </tr>\n",
       "    <tr>\n",
       "      <th>9647</th>\n",
       "      <td>1</td>\n",
       "      <td>URGENT We are trying to contact you Last weeke...</td>\n",
       "    </tr>\n",
       "    <tr>\n",
       "      <th>9648</th>\n",
       "      <td>1</td>\n",
       "      <td>IMPORTANT INFORMATION 4 ORANGE USER 0796XXXXXX...</td>\n",
       "    </tr>\n",
       "    <tr>\n",
       "      <th>9649</th>\n",
       "      <td>1</td>\n",
       "      <td>CALL 09090900040 &amp; LISTEN TO EXTREME DIRTY LIV...</td>\n",
       "    </tr>\n",
       "  </tbody>\n",
       "</table>\n",
       "<p>9650 rows × 2 columns</p>\n",
       "</div>"
      ],
      "text/plain": [
       "      label                                            message\n",
       "0         0  Go until jurong point, crazy.. Available only ...\n",
       "1         0                      Ok lar... Joking wif u oni...\n",
       "2         0  U dun say so early hor... U c already then say...\n",
       "3         0  Nah I don't think he goes to usf, he lives aro...\n",
       "4         0  Even my brother is not like to speak with me. ...\n",
       "...     ...                                                ...\n",
       "9645      1  Rock yr chik. Get 100's of filthy films &XXX p...\n",
       "9646      1  <Forwarded from 448712404000>Please CALL 08712...\n",
       "9647      1  URGENT We are trying to contact you Last weeke...\n",
       "9648      1  IMPORTANT INFORMATION 4 ORANGE USER 0796XXXXXX...\n",
       "9649      1  CALL 09090900040 & LISTEN TO EXTREME DIRTY LIV...\n",
       "\n",
       "[9650 rows x 2 columns]"
      ]
     },
     "execution_count": 40,
     "metadata": {},
     "output_type": "execute_result"
    }
   ],
   "source": [
    "df1"
   ]
  },
  {
   "cell_type": "markdown",
   "id": "b598fc33",
   "metadata": {},
   "source": [
    "## Splitting Training and Test data:"
   ]
  },
  {
   "cell_type": "code",
   "execution_count": 41,
   "id": "c37130d4",
   "metadata": {},
   "outputs": [],
   "source": [
    "from sklearn.model_selection import train_test_split"
   ]
  },
  {
   "cell_type": "code",
   "execution_count": 42,
   "id": "97591ebf",
   "metadata": {},
   "outputs": [],
   "source": [
    "x_train, x_test, y_train, y_test = train_test_split(x, df1.label, test_size = 0.25, random_state = 1234 )"
   ]
  },
  {
   "cell_type": "code",
   "execution_count": 43,
   "id": "8bbc4d41",
   "metadata": {},
   "outputs": [
    {
     "data": {
      "text/plain": [
       "array([[0, 0, 0, ..., 0, 0, 0],\n",
       "       [0, 0, 0, ..., 0, 0, 0],\n",
       "       [0, 0, 0, ..., 0, 0, 0],\n",
       "       ...,\n",
       "       [0, 0, 0, ..., 0, 0, 0],\n",
       "       [0, 0, 0, ..., 0, 0, 0],\n",
       "       [0, 0, 0, ..., 0, 0, 0]], dtype=int64)"
      ]
     },
     "execution_count": 43,
     "metadata": {},
     "output_type": "execute_result"
    }
   ],
   "source": [
    "x_train"
   ]
  },
  {
   "cell_type": "code",
   "execution_count": 44,
   "id": "f21dc70e",
   "metadata": {},
   "outputs": [
    {
     "data": {
      "text/plain": [
       "8284    1\n",
       "6074    1\n",
       "2071    0\n",
       "7200    1\n",
       "2488    0\n",
       "       ..\n",
       "664     0\n",
       "7540    1\n",
       "7221    1\n",
       "1318    0\n",
       "8915    1\n",
       "Name: label, Length: 7237, dtype: int8"
      ]
     },
     "execution_count": 44,
     "metadata": {},
     "output_type": "execute_result"
    }
   ],
   "source": [
    "y_train"
   ]
  },
  {
   "cell_type": "code",
   "execution_count": 45,
   "id": "c74afcce",
   "metadata": {},
   "outputs": [
    {
     "data": {
      "text/plain": [
       "array([[0, 0, 0, ..., 0, 0, 0],\n",
       "       [0, 0, 0, ..., 0, 0, 0],\n",
       "       [0, 0, 0, ..., 0, 0, 0],\n",
       "       ...,\n",
       "       [0, 0, 0, ..., 0, 0, 0],\n",
       "       [0, 0, 0, ..., 0, 0, 0],\n",
       "       [0, 0, 0, ..., 0, 0, 0]], dtype=int64)"
      ]
     },
     "execution_count": 45,
     "metadata": {},
     "output_type": "execute_result"
    }
   ],
   "source": [
    "x_test"
   ]
  },
  {
   "cell_type": "code",
   "execution_count": 46,
   "id": "051dc1fa",
   "metadata": {},
   "outputs": [
    {
     "data": {
      "text/plain": [
       "3119    0\n",
       "4700    0\n",
       "3293    0\n",
       "3013    0\n",
       "7273    1\n",
       "       ..\n",
       "6356    1\n",
       "6554    1\n",
       "370     0\n",
       "801     0\n",
       "4898    1\n",
       "Name: label, Length: 2413, dtype: int8"
      ]
     },
     "execution_count": 46,
     "metadata": {},
     "output_type": "execute_result"
    }
   ],
   "source": [
    "y_test"
   ]
  },
  {
   "cell_type": "markdown",
   "id": "01e881de",
   "metadata": {},
   "source": [
    "## Building the Bernoulli Naive Bayes based model:"
   ]
  },
  {
   "cell_type": "markdown",
   "id": "5527a8d9",
   "metadata": {},
   "source": [
    "$ \\text{Bernoulli Naive Bayes is a generative model that is used for the task of binary classification when all the feature\n",
    "variables in feature} \\\\ \\text{vector are binary.} $\n",
    "\n",
    "$$ \\text{i.e. } x^{(i)} = [f_{1}, f_{2}, ..., f_d]^T \\text{where } f_j \\in \\text{{0,1} for } j=1, 2, ..., d $$\n",
    "\n",
    "$ \\text{For each feature vector } x^{(i)} \\text{ there is a label } y^{(i)} \\in \\text{{0,1}}  $\n",
    "\n",
    "$ \\text{So our data set is: } D = \\{(x^{(i)}, y^{(i)}); i \\in [1, 2, ..., n]  \\} $\n",
    "\n",
    "$ \\textbf{Parameters in Bernoulli Naive Bayes are: } p, p^0_j, p^1_j \\\\ \n",
    "\\text{where: } p \\text{ is the apriori probability of the the i-th datapoint being classified as belonging to class 1 i.e. } \n",
    "p = P(y^{(i)=1}) $\n",
    "\n",
    "$ p^0_j \\text{ is the probability of the j-th feature variable in the feature vector being 1 given that the feature vector has label 0 i.e. }\n",
    "p^0_j = P(x_j = 1 | y = 0)$\n",
    "\n",
    "$ p^1_j \\text{ is the probability of the j-th feature variable in the feature vector being 1 given that the feature vector has label 1 i.e. }\n",
    "p^1_j = P(x_j = 1 | y = 1)$\n",
    "\n",
    "$ \\textbf{Assumptions in Bernoulli Naive Bayes:} $\n",
    "\n",
    "$ \\text{1. Given a class label all the features are independent of each other. This is known as the } \\textbf{class conditional independence} \\text{ assumption.} $\n",
    "\n",
    "$ \\text{2. All the training instances are independent of each other.} $\n",
    "\n",
    "$ \\textbf{The likelihood function for the Bernoulli Naive Bayes model is: } $\n",
    "\n",
    "$ L(p, p^0_j, p^1_j | \\{(x^{(i)}, y^{(i)}); i \\in [1, 2, ..., n]  \\} ) =\n",
    "\\displaystyle \\large \\prod \\limits _{i=1} ^n [p . (p^1_j)^{x^{(i)}_j} . (1 - p^1_j)^{1 - x^{(i)}_j}]^{y^{(i)}} . [(1-p) . (p^0_j)^{x^{(i)}_j} . (1 - p^0_j)^{1 - x^{(i)}_j}]^{1 - y^{(i)}}$\n",
    "\n",
    "$ \\textbf{From the maximum likelihood estimate we get the estimate for the parameters in Bernoulli Naive Bayes: } $\n",
    "\n",
    "$ p = \\displaystyle \\large \\frac {\\sum \\limits _{i=1} ^{n} y^{(i)}} {n} \\small = \\textbf{Fraction of data points belonging to class 1} $\n",
    "\n",
    "$ p^0_j = \\displaystyle \\large \\frac {\\sum \\limits _{i=1} ^{n} x^{(i)}_j.(1-y^{(i)})} {\\sum \\limits _{i=1} ^{n} (1-y^{(i)})} \\small \\\\ = \\textbf{Fraction of data points among the data points labelled as 0 where the j-th feature variable in the feature vector is 1}$\n",
    "\n",
    "$ p^1_j = \\displaystyle \\large \\frac {\\sum \\limits _{i=1} ^{n} x^{(i)}_j.(y^{(i)})} {\\sum \\limits _{i=1} ^{n} y^{(i)}} \\small \\\\ = \\textbf{Fraction of data points among the data points labelled as 1 where the j-th feature variable in the feature vector is 1}$\n",
    "\n",
    "$ \\text{From } \\textbf{Bayes theorem} \\text{ we know that: } P(y^{(i)}|x^{(i)}) P(x^{(i)}) = P(x^{(i)}|y^{(i)}) P(y^{(i)}) $\n",
    "\n",
    "$ \\text{This implies: } P(y^{(i)} = 0 | x^{(i)}) = \\displaystyle \\large \\frac{P(x^{(i)}|y^{(i)}=0) P(y^{(i)}=0)} \n",
    "{P(x^{(i)})} $\n",
    "\n",
    "$ P(y^{(i)} = 1 | x^{(i)}) = \\displaystyle \\large \\frac{P(x^{(i)}|y^{(i)}=1) P(y^{(i)}=1)} \n",
    "{P(x^{(i)})} $\n",
    "\n",
    "$ \\textbf{Decision rule in Bernoulli Naive Bayes:} $\n",
    "\n",
    "$ \\text{Classify as 1 if } P(y^{(i)} = 1 | x^{(i)}) \\ge P(y^{(i)} = 0 | x^{(i)})\n",
    "\\text{ else classify as 0.}$\n",
    "\n",
    "$ \\text{i.e. Classify 1 if } \\displaystyle \\large P(x^{(i)}|y^{(i)}=1) P(y^{(i)}=1) \\ge P(x^{(i)}|y^{(i)}=0) P(y^{(i)}=0) \n",
    "\\displaystyle \\small \\text{ else classify as 0.} $\n",
    "\n",
    "$ \\text{i.e. Classify 1 if } \\displaystyle \\large p . \\prod \\limits _{j=1} ^d [(p^1_j)^{x^{(i)}_j} . (1 - p^1_j)^{1 - x^{(i)}_j}] \\ge (1-p) . \\prod \\limits _{j=1} ^d  [(p^0_j)^{x^{(i)}_j} . (1 - p^0_j)^{1 - x^{(i)}_j}] \\displaystyle \\small \\text{ else classify as 0.} $\n",
    "\n",
    "$ $"
   ]
  },
  {
   "cell_type": "code",
   "execution_count": 47,
   "id": "2cf93309",
   "metadata": {},
   "outputs": [],
   "source": [
    "from sklearn.naive_bayes import BernoulliNB"
   ]
  },
  {
   "cell_type": "code",
   "execution_count": 48,
   "id": "04df2801",
   "metadata": {},
   "outputs": [],
   "source": [
    "bernoulli_nb = BernoulliNB()"
   ]
  },
  {
   "cell_type": "code",
   "execution_count": 49,
   "id": "eeb16988",
   "metadata": {},
   "outputs": [
    {
     "data": {
      "text/plain": [
       "BernoulliNB()"
      ]
     },
     "execution_count": 49,
     "metadata": {},
     "output_type": "execute_result"
    }
   ],
   "source": [
    "bernoulli_nb.fit(x_train, y_train)"
   ]
  },
  {
   "cell_type": "code",
   "execution_count": 50,
   "id": "6e146db8",
   "metadata": {},
   "outputs": [],
   "source": [
    "y_pred_train_bernoulli_nb = bernoulli_nb.predict(x_train)\n",
    "y_pred_test_bernoulli_nb = bernoulli_nb.predict(x_test)"
   ]
  },
  {
   "cell_type": "code",
   "execution_count": 51,
   "id": "c9a41552",
   "metadata": {},
   "outputs": [],
   "source": [
    "from sklearn.metrics import classification_report, accuracy_score, confusion_matrix"
   ]
  },
  {
   "cell_type": "code",
   "execution_count": 52,
   "id": "390925c7",
   "metadata": {},
   "outputs": [],
   "source": [
    "# https://stackoverflow.com/questions/54506626/how-to-understand-seaborns-heatmap-annotation-format\n",
    "\n",
    "def draw_confusion_matrix(y_true, y_pred, c_matrix_for):\n",
    "    labels = ['Ham', 'Spam']\n",
    "    sns.heatmap(confusion_matrix(y_true, y_pred), annot=True, fmt='.4g', xticklabels=labels, \n",
    "            yticklabels=labels, cmap='Blues', cbar=False)\n",
    "    plt.xlabel('Predicted')\n",
    "    plt.ylabel('Actual')\n",
    "    plt.title(f'Confusion Matrix for {c_matrix_for}')\n",
    "    plt.show()"
   ]
  },
  {
   "cell_type": "code",
   "execution_count": 53,
   "id": "ff73a0a9",
   "metadata": {},
   "outputs": [
    {
     "data": {
      "image/png": "[encoded data removed]",
      "text/plain": [
       "<Figure size 640x480 with 1 Axes>"
      ]
     },
     "metadata": {},
     "output_type": "display_data"
    }
   ],
   "source": [
    "draw_confusion_matrix(y_train, y_pred_train_bernoulli_nb, c_matrix_for='Train')"
   ]
  },
  {
   "cell_type": "code",
   "execution_count": 54,
   "id": "65a68762",
   "metadata": {},
   "outputs": [
    {
     "name": "stdout",
     "output_type": "stream",
     "text": [
      "Train report - bernoulli naive bayes:\n",
      "              precision    recall  f1-score   support\n",
      "\n",
      "           0       0.97      1.00      0.98      3592\n",
      "           1       1.00      0.97      0.98      3645\n",
      "\n",
      "    accuracy                           0.98      7237\n",
      "   macro avg       0.98      0.98      0.98      7237\n",
      "weighted avg       0.98      0.98      0.98      7237\n",
      "\n",
      "Test report - bernoulli naive bayes:\n",
      "              precision    recall  f1-score   support\n",
      "\n",
      "           0       0.97      1.00      0.99      1233\n",
      "           1       1.00      0.97      0.99      1180\n",
      "\n",
      "    accuracy                           0.99      2413\n",
      "   macro avg       0.99      0.99      0.99      2413\n",
      "weighted avg       0.99      0.99      0.99      2413\n",
      "\n"
     ]
    }
   ],
   "source": [
    "print(\"Train report - bernoulli naive bayes:\")\n",
    "print(classification_report(y_train, y_pred_train_bernoulli_nb))\n",
    "print(\"Test report - bernoulli naive bayes:\")\n",
    "print(classification_report(y_test, y_pred_test_bernoulli_nb))"
   ]
  },
  {
   "cell_type": "code",
   "execution_count": 55,
   "id": "483c5af2",
   "metadata": {},
   "outputs": [
    {
     "name": "stdout",
     "output_type": "stream",
     "text": [
      "Train accuracy - bernoulli naive bayes: 0.9843857952190134\n",
      "Test accuracy - bernoulli naive bayes: 0.9863240779113137\n"
     ]
    }
   ],
   "source": [
    "print(\"Train accuracy - bernoulli naive bayes:\", accuracy_score(y_train, y_pred_train_bernoulli_nb))\n",
    "print(\"Test accuracy - bernoulli naive bayes:\", accuracy_score(y_test, y_pred_test_bernoulli_nb))"
   ]
  },
  {
   "cell_type": "markdown",
   "id": "86387d76",
   "metadata": {},
   "source": [
    "## Building the Multinomial Naive Bayes based model:"
   ]
  },
  {
   "cell_type": "markdown",
   "id": "c6497465",
   "metadata": {},
   "source": [
    "$ \\text{Multinomial Naive Bayes is a generative model that is used for the task of binary classification of text documents. In this case all the feature} \\\\ \\text{variables in feature vector can take values from } \\{1, 2, ..., |V|\\} \\text{ where } |V| \\text{  is the dictionary size. These values of the feature variables represent} \\\\ \\text{the indexes mapping to the words in the dictionary. Also the #feature variables in each feature vector can also vary because the length of each text} \\\\ \\text{document can vary.} $\n",
    "\n",
    "$$ \\displaystyle \\large \\text{i.e. } x^{(i)} = [x^{(i)}_{1}, x^{(i)}_{2}, ..., x^{(d_i)}_{1}]^T \\text{where } x^{(i)}_{j} = k \\in \\text{\\{1, 2, ..., |V|\\} for } j=1, 2, ..., d_i $$\n",
    "\n",
    "$ d_i \\text{ represents the #feature variables in the i-th training instance/text document.} $\n",
    "\n",
    "$ \\text{For each feature vector } x^{(i)} \\text{ there is a label } y^{(i)} \\in \\text{{0,1}}  $\n",
    "\n",
    "$ \\text{So our data set is: } D = \\{(x^{(i)}, y^{(i)}); i \\in [1, 2, ..., n]  \\} $\n",
    "\n",
    "$ \\textbf{Parameters in Multinomial Naive Bayes are: } p, p^0_k, p^1_k \\\\ \n",
    "\\text{where: } p \\text{ is the apriori probability of the the i-th datapoint being classified as belonging to class 1 i.e. } \n",
    "p = P(y^{(i)=1}) $\n",
    "\n",
    "$ p^0_k \\text{ is the probability of the j-th feature variable in the feature vector taking the value k given that the feature vector has label 0} \\\\ \n",
    "\\text{i.e. }\n",
    "p^0_k = P(x_j = k | y = 0)$\n",
    "\n",
    "$ p^1_k \\text{ is the probability of the j-th feature variable in the feature vector taking the value k given that the feature vector has label 1} \\\\ \n",
    "\\text{i.e. }\n",
    "p^1_k = P(x_j = k | y = 1)$\n",
    "\n",
    "$ \\text{And } k \\in \\text{\\{1, 2, ..., |V|\\}}  $\n",
    "\n",
    "$ \\textbf{Assumptions in Multinomial Naive Bayes:} $\n",
    "\n",
    "$ \\text{1. Given a class label the probability of any feature variable in the feature vector taking the value } k \\text{ i.e. } P(x^{(i)}_j=k|y^{(i)}) \\text{ is same for } \\\\ j=1, 2, ..., d_i  \\text{.}  $\n",
    "\n",
    "$ \\text{2. All the training instances/text documents are independent of each other.} $\n",
    "\n",
    "$ \\textbf{The likelihood function for the Multinomial Naive Bayes model is: } $\n",
    "\n",
    "$ L(p, p^0_k, p^1_k | \\{(x^{(i)}, y^{(i)}); i \\in [1, 2, ..., n]  \\} ) =\n",
    "\\displaystyle \\large \\prod \\limits _{i=1} ^n \\{ \\prod \\limits _{j=1} ^{d_i} [(p^1_k)^{s^{(i)}_j} . (1 - p^1_k)^{1 - s^{(i)}_j}]^{y^{(i)}} . [(p^0_k)^{s^{(i)}_j} . (1 - p^0_k)^{1 - s^{(i)}_j}]^{1 - y^{(i)}}\\} . p^{y^{(i)}} . \n",
    "(1-p)^{1 - y^{(i)}}$\n",
    "\n",
    "$ \\text{ where } s^{(i)}_j = \\mathbb{1}(x^{(i)}_j = k) \\text{ and } \\mathbb{1} \\text{ is the indicator function.} $\n",
    "\n",
    "$ \\textbf{From the maximum likelihood estimate we get the estimate for the parameters in Multinomial Naive Bayes: } $\n",
    "\n",
    "$ p = \\displaystyle \\large \\frac {\\sum \\limits _{i=1} ^{n} y^{(i)}} {n} \\small = \\textbf{Fraction of data points belonging to class 1} $\n",
    "\n",
    "$ p^0_j = \\displaystyle \\large \\frac {\\sum \\limits _{i=1} ^{n} \\sum \\limits _{j=1} ^{d_i} \\mathbb{1}(x^{(i)}_j = k) . (1-y^{(i)})} {\\sum \\limits _{i=1} ^{n} (1-y^{(i)}).d_i} \\small \\\\ = \\textbf{Fraction of } k \\textbf{-th index word among the documents labelled as 0.} $\n",
    "\n",
    "$ p^1_j = \\displaystyle \\large \\frac {\\sum \\limits _{i=1} ^{n} \\sum \\limits _{j=1} ^{d_i} \\mathbb{1}(x^{(i)}_j = k) . y^{(i)}} {\\sum \\limits _{i=1} ^{n} y^{(i)}.d_i} \\small \\\\ = \\textbf{Fraction of } k \\textbf{-th index word among the documents labelled as 1.} $\n",
    "\n",
    "$ \\textbf{Decision rule in Multinomial Naive Bayes:} $\n",
    "\n",
    "$ \\text{Classify as 1 if } P(y^{(i)} = 1 | x^{(i)}) \\ge P(y^{(i)} = 0 | x^{(i)})\n",
    "\\text{ else classify as 0.}$\n",
    "\n",
    "$ \\text{i.e. Classify as 1 if } \\displaystyle \\large P(x^{(i)}|y^{(i)}=1) P(y^{(i)}=1) \\ge P(x^{(i)}|y^{(i)}=0) P(y^{(i)}=0) \n",
    "\\displaystyle \\small \\text{ else classify as 0.} $\n",
    "\n",
    "$ \\text{i.e. Classify as 1 if } \\displaystyle \\large p . \\prod \\limits _{j=1} ^{d_i} [(p^1_k)^{s^{(i)}_j} . (1 - p^1_k)^{1 - s^{(i)}_j}] \\ge (1-p) . \\prod \\limits _{j=1} ^{d_i}  [(p^0_k)^{s^{(i)}_j} . (1 - p^0_k)^{1 - s^{(i)}_j}] \\displaystyle \\small \\text{ else classify as 0.} $\n",
    "\n",
    "$ \\text{ where } s^{(i)}_j = \\mathbb{1}(x^{(i)}_j = k) \\text{ and } \\mathbb{1} \\text{ is the indicator function.} $\n",
    "\n",
    "$ $"
   ]
  },
  {
   "cell_type": "code",
   "execution_count": 56,
   "id": "ff1551ce",
   "metadata": {},
   "outputs": [],
   "source": [
    "from sklearn.naive_bayes import MultinomialNB"
   ]
  },
  {
   "cell_type": "code",
   "execution_count": 57,
   "id": "229fd95e",
   "metadata": {},
   "outputs": [],
   "source": [
    "multinomial_nb = MultinomialNB()"
   ]
  },
  {
   "cell_type": "code",
   "execution_count": 58,
   "id": "7ced8d20",
   "metadata": {},
   "outputs": [
    {
     "data": {
      "text/plain": [
       "MultinomialNB()"
      ]
     },
     "execution_count": 58,
     "metadata": {},
     "output_type": "execute_result"
    }
   ],
   "source": [
    "multinomial_nb.fit(x_train, y_train)"
   ]
  },
  {
   "cell_type": "code",
   "execution_count": 59,
   "id": "b5de4b87",
   "metadata": {},
   "outputs": [],
   "source": [
    "y_pred_train_mulitinomial_nb = multinomial_nb.predict(x_train)\n",
    "y_pred_test_mulitinomial_nb = multinomial_nb.predict(x_test)"
   ]
  },
  {
   "cell_type": "code",
   "execution_count": 60,
   "id": "4c9418bf",
   "metadata": {},
   "outputs": [
    {
     "data": {
      "image/png": "[encoded data removed]",
      "text/plain": [
       "<Figure size 640x480 with 1 Axes>"
      ]
     },
     "metadata": {},
     "output_type": "display_data"
    }
   ],
   "source": [
    "draw_confusion_matrix(y_train, y_pred_train_mulitinomial_nb, c_matrix_for='Train')"
   ]
  },
  {
   "cell_type": "code",
   "execution_count": 61,
   "id": "b34bff0a",
   "metadata": {},
   "outputs": [
    {
     "name": "stdout",
     "output_type": "stream",
     "text": [
      "Train report - multinomial naive bayes:\n",
      "              precision    recall  f1-score   support\n",
      "\n",
      "           0       0.98      0.98      0.98      3592\n",
      "           1       0.98      0.98      0.98      3645\n",
      "\n",
      "    accuracy                           0.98      7237\n",
      "   macro avg       0.98      0.98      0.98      7237\n",
      "weighted avg       0.98      0.98      0.98      7237\n",
      "\n",
      "Test report - multinomial naive bayes:\n",
      "              precision    recall  f1-score   support\n",
      "\n",
      "           0       0.98      0.98      0.98      1233\n",
      "           1       0.98      0.98      0.98      1180\n",
      "\n",
      "    accuracy                           0.98      2413\n",
      "   macro avg       0.98      0.98      0.98      2413\n",
      "weighted avg       0.98      0.98      0.98      2413\n",
      "\n"
     ]
    }
   ],
   "source": [
    "print(\"Train report - multinomial naive bayes:\")\n",
    "print(classification_report(y_train, y_pred_train_mulitinomial_nb))\n",
    "print(\"Test report - multinomial naive bayes:\")\n",
    "print(classification_report(y_test, y_pred_test_mulitinomial_nb))"
   ]
  },
  {
   "cell_type": "code",
   "execution_count": 62,
   "id": "500e5972",
   "metadata": {},
   "outputs": [
    {
     "name": "stdout",
     "output_type": "stream",
     "text": [
      "Train accuracy - multinomial naive bayes: 0.9830040071852978\n",
      "Test accuracy - multinomial naive bayes: 0.9801077496891836\n"
     ]
    }
   ],
   "source": [
    "print(\"Train accuracy - multinomial naive bayes:\", accuracy_score(y_train, y_pred_train_mulitinomial_nb))\n",
    "print(\"Test accuracy - multinomial naive bayes:\", accuracy_score(y_test, y_pred_test_mulitinomial_nb))"
   ]
  },
  {
   "cell_type": "code",
   "execution_count": 63,
   "id": "f4de74d4",
   "metadata": {},
   "outputs": [
    {
     "data": {
      "text/plain": [
       "array([3592., 3645.])"
      ]
     },
     "execution_count": 63,
     "metadata": {},
     "output_type": "execute_result"
    }
   ],
   "source": [
    "multinomial_nb.class_count_"
   ]
  },
  {
   "cell_type": "code",
   "execution_count": 64,
   "id": "026cfe75",
   "metadata": {},
   "outputs": [
    {
     "data": {
      "text/plain": [
       "3645"
      ]
     },
     "execution_count": 64,
     "metadata": {},
     "output_type": "execute_result"
    }
   ],
   "source": [
    "(y_train == 1).sum()"
   ]
  },
  {
   "cell_type": "code",
   "execution_count": 65,
   "id": "bbf1851c",
   "metadata": {},
   "outputs": [
    {
     "data": {
      "text/plain": [
       "array([-0.70049761, -0.68585039])"
      ]
     },
     "execution_count": 65,
     "metadata": {},
     "output_type": "execute_result"
    }
   ],
   "source": [
    "multinomial_nb.class_log_prior_"
   ]
  },
  {
   "cell_type": "code",
   "execution_count": 66,
   "id": "d5797be7",
   "metadata": {},
   "outputs": [
    {
     "data": {
      "text/plain": [
       "-0.7004976054440375"
      ]
     },
     "execution_count": 66,
     "metadata": {},
     "output_type": "execute_result"
    }
   ],
   "source": [
    "np.log(3592/(3592+3645))"
   ]
  },
  {
   "cell_type": "code",
   "execution_count": 67,
   "id": "09f46cc7",
   "metadata": {},
   "outputs": [
    {
     "data": {
      "text/plain": [
       "array([[ 0.,  0.,  0., ...,  0.,  2.,  0.],\n",
       "       [13.,  7.,  8., ...,  0.,  0.,  0.]])"
      ]
     },
     "execution_count": 67,
     "metadata": {},
     "output_type": "execute_result"
    }
   ],
   "source": [
    "multinomial_nb.feature_count_"
   ]
  },
  {
   "cell_type": "code",
   "execution_count": 68,
   "id": "358d39e0",
   "metadata": {},
   "outputs": [
    {
     "data": {
      "text/plain": [
       "(2, 8091)"
      ]
     },
     "execution_count": 68,
     "metadata": {},
     "output_type": "execute_result"
    }
   ],
   "source": [
    "multinomial_nb.feature_count_.shape"
   ]
  },
  {
   "cell_type": "code",
   "execution_count": 69,
   "id": "534dd5d9",
   "metadata": {},
   "outputs": [
    {
     "data": {
      "text/plain": [
       "8091"
      ]
     },
     "execution_count": 69,
     "metadata": {},
     "output_type": "execute_result"
    }
   ],
   "source": [
    "multinomial_nb.n_features_in_"
   ]
  },
  {
   "cell_type": "code",
   "execution_count": 70,
   "id": "706ad9da",
   "metadata": {},
   "outputs": [
    {
     "name": "stderr",
     "output_type": "stream",
     "text": [
      "C:\\Users\\user\\anaconda3\\lib\\site-packages\\sklearn\\utils\\deprecation.py:103: FutureWarning: Attribute `coef_` was deprecated in version 0.24 and will be removed in 1.1 (renaming of 0.26).\n",
      "  warnings.warn(msg, category=FutureWarning)\n"
     ]
    },
    {
     "data": {
      "text/plain": [
       "array([[ -8.46453054,  -9.02414633,  -8.90636329, ..., -11.10358787,\n",
       "        -11.10358787, -11.10358787]])"
      ]
     },
     "execution_count": 70,
     "metadata": {},
     "output_type": "execute_result"
    }
   ],
   "source": [
    "multinomial_nb.coef_"
   ]
  },
  {
   "cell_type": "code",
   "execution_count": 71,
   "id": "f3503f73",
   "metadata": {},
   "outputs": [
    {
     "data": {
      "text/plain": [
       "(1, 8091)"
      ]
     },
     "execution_count": 71,
     "metadata": {},
     "output_type": "execute_result"
    }
   ],
   "source": [
    "multinomial_nb.coef_.shape"
   ]
  },
  {
   "cell_type": "markdown",
   "id": "fc3c8bfc",
   "metadata": {},
   "source": [
    "## Conclusion:"
   ]
  },
  {
   "cell_type": "markdown",
   "id": "011a1eb5",
   "metadata": {},
   "source": [
    "**For the Naive Bayes based classifier:**\n",
    "- Train accuracy: **98.44%**\n",
    "- Test accuracy: **98.63%**\n",
    "\n",
    "- Train macro-averaged f1-score: **98%**\n",
    "- Test macro-averaged f1-score: **99%**\n",
    "    \n",
    "**For the Multinomial Bayes based classifier:**\n",
    "- Train accuracy: **98.30%**\n",
    "- Test accuracy: **98.01%**\n",
    "\n",
    "- Train macro-averaged f1-score: **98%**\n",
    "- Test macro-averaged f1-score: **98%**\n",
    "\n",
    "**Both Bernoulli Naive Bayes based classifier and Multinomial Naive Bayes based classifier are suitable for this SMS classification problem.**"
   ]
  }
 ],
 "metadata": {
  "kernelspec": {
   "display_name": "Python 3 (ipykernel)",
   "language": "python",
   "name": "python3"
  },
  "language_info": {
   "codemirror_mode": {
    "name": "ipython",
    "version": 3
   },
   "file_extension": ".py",
   "mimetype": "text/x-python",
   "name": "python",
   "nbconvert_exporter": "python",
   "pygments_lexer": "ipython3",
   "version": "3.9.13"
  }
 },
 "nbformat": 4,
 "nbformat_minor": 5
}
