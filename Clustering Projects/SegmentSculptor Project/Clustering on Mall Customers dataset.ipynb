{
 "cells": [
  {
   "cell_type": "code",
   "execution_count": 1,
   "id": "dbfdb528",
   "metadata": {},
   "outputs": [
    {
     "data": {
      "text/plain": [
       "'\\n    Author: A.Shrikant\\n'"
      ]
     },
     "execution_count": 1,
     "metadata": {},
     "output_type": "execute_result"
    }
   ],
   "source": [
    "'''\n",
    "    Author: A.Shrikant\n",
    "'''"
   ]
  },
  {
   "cell_type": "code",
   "execution_count": 2,
   "id": "f168cbc8",
   "metadata": {},
   "outputs": [],
   "source": [
    "import numpy as np\n",
    "import pandas as pd\n",
    "import matplotlib\n",
    "import matplotlib.pyplot as plt\n",
    "import seaborn as sns"
   ]
  },
  {
   "cell_type": "code",
   "execution_count": 3,
   "id": "540ca7e4",
   "metadata": {},
   "outputs": [],
   "source": [
    "df = pd.read_csv('dataset/Mall_Customers.csv')"
   ]
  },
  {
   "cell_type": "code",
   "execution_count": 4,
   "id": "0fe7dde7",
   "metadata": {},
   "outputs": [
    {
     "data": {
      "text/html": [
       "<div>\n",
       "<style scoped>\n",
       "    .dataframe tbody tr th:only-of-type {\n",
       "        vertical-align: middle;\n",
       "    }\n",
       "\n",
       "    .dataframe tbody tr th {\n",
       "        vertical-align: top;\n",
       "    }\n",
       "\n",
       "    .dataframe thead th {\n",
       "        text-align: right;\n",
       "    }\n",
       "</style>\n",
       "<table border=\"1\" class=\"dataframe\">\n",
       "  <thead>\n",
       "    <tr style=\"text-align: right;\">\n",
       "      <th></th>\n",
       "      <th>CustomerID</th>\n",
       "      <th>Gender</th>\n",
       "      <th>Age</th>\n",
       "      <th>Annual Income (k$)</th>\n",
       "      <th>Spending Score (1-100)</th>\n",
       "    </tr>\n",
       "  </thead>\n",
       "  <tbody>\n",
       "    <tr>\n",
       "      <th>0</th>\n",
       "      <td>1</td>\n",
       "      <td>Male</td>\n",
       "      <td>19</td>\n",
       "      <td>15</td>\n",
       "      <td>39</td>\n",
       "    </tr>\n",
       "    <tr>\n",
       "      <th>1</th>\n",
       "      <td>2</td>\n",
       "      <td>Male</td>\n",
       "      <td>21</td>\n",
       "      <td>15</td>\n",
       "      <td>81</td>\n",
       "    </tr>\n",
       "    <tr>\n",
       "      <th>2</th>\n",
       "      <td>3</td>\n",
       "      <td>Female</td>\n",
       "      <td>20</td>\n",
       "      <td>16</td>\n",
       "      <td>6</td>\n",
       "    </tr>\n",
       "    <tr>\n",
       "      <th>3</th>\n",
       "      <td>4</td>\n",
       "      <td>Female</td>\n",
       "      <td>23</td>\n",
       "      <td>16</td>\n",
       "      <td>77</td>\n",
       "    </tr>\n",
       "    <tr>\n",
       "      <th>4</th>\n",
       "      <td>5</td>\n",
       "      <td>Female</td>\n",
       "      <td>31</td>\n",
       "      <td>17</td>\n",
       "      <td>40</td>\n",
       "    </tr>\n",
       "  </tbody>\n",
       "</table>\n",
       "</div>"
      ],
      "text/plain": [
       "   CustomerID  Gender  Age  Annual Income (k$)  Spending Score (1-100)\n",
       "0           1    Male   19                  15                      39\n",
       "1           2    Male   21                  15                      81\n",
       "2           3  Female   20                  16                       6\n",
       "3           4  Female   23                  16                      77\n",
       "4           5  Female   31                  17                      40"
      ]
     },
     "execution_count": 4,
     "metadata": {},
     "output_type": "execute_result"
    }
   ],
   "source": [
    "df.head()"
   ]
  },
  {
   "cell_type": "code",
   "execution_count": 5,
   "id": "7b6a5099",
   "metadata": {},
   "outputs": [
    {
     "name": "stdout",
     "output_type": "stream",
     "text": [
      "<class 'pandas.core.frame.DataFrame'>\n",
      "RangeIndex: 200 entries, 0 to 199\n",
      "Data columns (total 5 columns):\n",
      " #   Column                  Non-Null Count  Dtype \n",
      "---  ------                  --------------  ----- \n",
      " 0   CustomerID              200 non-null    int64 \n",
      " 1   Gender                  200 non-null    object\n",
      " 2   Age                     200 non-null    int64 \n",
      " 3   Annual Income (k$)      200 non-null    int64 \n",
      " 4   Spending Score (1-100)  200 non-null    int64 \n",
      "dtypes: int64(4), object(1)\n",
      "memory usage: 7.9+ KB\n"
     ]
    }
   ],
   "source": [
    "df.info()"
   ]
  },
  {
   "cell_type": "markdown",
   "id": "0dcdf028",
   "metadata": {},
   "source": [
    "## No missing values are there."
   ]
  },
  {
   "cell_type": "markdown",
   "id": "02a715ee",
   "metadata": {},
   "source": [
    "## Dropping the 'CustomerID' column because it does not provide useful information for clustering."
   ]
  },
  {
   "cell_type": "code",
   "execution_count": 6,
   "id": "6212afc8",
   "metadata": {},
   "outputs": [],
   "source": [
    "df1 = df.drop(columns=['CustomerID'])"
   ]
  },
  {
   "cell_type": "code",
   "execution_count": 7,
   "id": "bfbc93ca",
   "metadata": {},
   "outputs": [
    {
     "data": {
      "text/html": [
       "<div>\n",
       "<style scoped>\n",
       "    .dataframe tbody tr th:only-of-type {\n",
       "        vertical-align: middle;\n",
       "    }\n",
       "\n",
       "    .dataframe tbody tr th {\n",
       "        vertical-align: top;\n",
       "    }\n",
       "\n",
       "    .dataframe thead th {\n",
       "        text-align: right;\n",
       "    }\n",
       "</style>\n",
       "<table border=\"1\" class=\"dataframe\">\n",
       "  <thead>\n",
       "    <tr style=\"text-align: right;\">\n",
       "      <th></th>\n",
       "      <th>Gender</th>\n",
       "      <th>Age</th>\n",
       "      <th>Annual Income (k$)</th>\n",
       "      <th>Spending Score (1-100)</th>\n",
       "    </tr>\n",
       "  </thead>\n",
       "  <tbody>\n",
       "    <tr>\n",
       "      <th>0</th>\n",
       "      <td>Male</td>\n",
       "      <td>19</td>\n",
       "      <td>15</td>\n",
       "      <td>39</td>\n",
       "    </tr>\n",
       "    <tr>\n",
       "      <th>1</th>\n",
       "      <td>Male</td>\n",
       "      <td>21</td>\n",
       "      <td>15</td>\n",
       "      <td>81</td>\n",
       "    </tr>\n",
       "    <tr>\n",
       "      <th>2</th>\n",
       "      <td>Female</td>\n",
       "      <td>20</td>\n",
       "      <td>16</td>\n",
       "      <td>6</td>\n",
       "    </tr>\n",
       "    <tr>\n",
       "      <th>3</th>\n",
       "      <td>Female</td>\n",
       "      <td>23</td>\n",
       "      <td>16</td>\n",
       "      <td>77</td>\n",
       "    </tr>\n",
       "    <tr>\n",
       "      <th>4</th>\n",
       "      <td>Female</td>\n",
       "      <td>31</td>\n",
       "      <td>17</td>\n",
       "      <td>40</td>\n",
       "    </tr>\n",
       "  </tbody>\n",
       "</table>\n",
       "</div>"
      ],
      "text/plain": [
       "   Gender  Age  Annual Income (k$)  Spending Score (1-100)\n",
       "0    Male   19                  15                      39\n",
       "1    Male   21                  15                      81\n",
       "2  Female   20                  16                       6\n",
       "3  Female   23                  16                      77\n",
       "4  Female   31                  17                      40"
      ]
     },
     "execution_count": 7,
     "metadata": {},
     "output_type": "execute_result"
    }
   ],
   "source": [
    "df1.head()"
   ]
  },
  {
   "cell_type": "markdown",
   "id": "0def26de",
   "metadata": {},
   "source": [
    "## Label Encoding the 'Gender' column:"
   ]
  },
  {
   "cell_type": "code",
   "execution_count": 8,
   "id": "65ff98be",
   "metadata": {},
   "outputs": [],
   "source": [
    "df1['Gender'] = df1['Gender'].astype('category').cat.codes"
   ]
  },
  {
   "cell_type": "code",
   "execution_count": 9,
   "id": "94e21865",
   "metadata": {},
   "outputs": [
    {
     "data": {
      "text/html": [
       "<div>\n",
       "<style scoped>\n",
       "    .dataframe tbody tr th:only-of-type {\n",
       "        vertical-align: middle;\n",
       "    }\n",
       "\n",
       "    .dataframe tbody tr th {\n",
       "        vertical-align: top;\n",
       "    }\n",
       "\n",
       "    .dataframe thead th {\n",
       "        text-align: right;\n",
       "    }\n",
       "</style>\n",
       "<table border=\"1\" class=\"dataframe\">\n",
       "  <thead>\n",
       "    <tr style=\"text-align: right;\">\n",
       "      <th></th>\n",
       "      <th>Gender</th>\n",
       "      <th>Age</th>\n",
       "      <th>Annual Income (k$)</th>\n",
       "      <th>Spending Score (1-100)</th>\n",
       "    </tr>\n",
       "  </thead>\n",
       "  <tbody>\n",
       "    <tr>\n",
       "      <th>0</th>\n",
       "      <td>1</td>\n",
       "      <td>19</td>\n",
       "      <td>15</td>\n",
       "      <td>39</td>\n",
       "    </tr>\n",
       "    <tr>\n",
       "      <th>1</th>\n",
       "      <td>1</td>\n",
       "      <td>21</td>\n",
       "      <td>15</td>\n",
       "      <td>81</td>\n",
       "    </tr>\n",
       "    <tr>\n",
       "      <th>2</th>\n",
       "      <td>0</td>\n",
       "      <td>20</td>\n",
       "      <td>16</td>\n",
       "      <td>6</td>\n",
       "    </tr>\n",
       "    <tr>\n",
       "      <th>3</th>\n",
       "      <td>0</td>\n",
       "      <td>23</td>\n",
       "      <td>16</td>\n",
       "      <td>77</td>\n",
       "    </tr>\n",
       "    <tr>\n",
       "      <th>4</th>\n",
       "      <td>0</td>\n",
       "      <td>31</td>\n",
       "      <td>17</td>\n",
       "      <td>40</td>\n",
       "    </tr>\n",
       "  </tbody>\n",
       "</table>\n",
       "</div>"
      ],
      "text/plain": [
       "   Gender  Age  Annual Income (k$)  Spending Score (1-100)\n",
       "0       1   19                  15                      39\n",
       "1       1   21                  15                      81\n",
       "2       0   20                  16                       6\n",
       "3       0   23                  16                      77\n",
       "4       0   31                  17                      40"
      ]
     },
     "execution_count": 9,
     "metadata": {},
     "output_type": "execute_result"
    }
   ],
   "source": [
    "df1.head()"
   ]
  },
  {
   "cell_type": "markdown",
   "id": "e19c53a5",
   "metadata": {},
   "source": [
    "## Taking only the two important features 'Annual Income (k$)' and 'Spending Score (1-100)':"
   ]
  },
  {
   "cell_type": "code",
   "execution_count": 10,
   "id": "7b923973",
   "metadata": {},
   "outputs": [],
   "source": [
    "x = df1.iloc[:, 2:]"
   ]
  },
  {
   "cell_type": "code",
   "execution_count": 11,
   "id": "40c36738",
   "metadata": {},
   "outputs": [
    {
     "data": {
      "text/html": [
       "<div>\n",
       "<style scoped>\n",
       "    .dataframe tbody tr th:only-of-type {\n",
       "        vertical-align: middle;\n",
       "    }\n",
       "\n",
       "    .dataframe tbody tr th {\n",
       "        vertical-align: top;\n",
       "    }\n",
       "\n",
       "    .dataframe thead th {\n",
       "        text-align: right;\n",
       "    }\n",
       "</style>\n",
       "<table border=\"1\" class=\"dataframe\">\n",
       "  <thead>\n",
       "    <tr style=\"text-align: right;\">\n",
       "      <th></th>\n",
       "      <th>Annual Income (k$)</th>\n",
       "      <th>Spending Score (1-100)</th>\n",
       "    </tr>\n",
       "  </thead>\n",
       "  <tbody>\n",
       "    <tr>\n",
       "      <th>0</th>\n",
       "      <td>15</td>\n",
       "      <td>39</td>\n",
       "    </tr>\n",
       "    <tr>\n",
       "      <th>1</th>\n",
       "      <td>15</td>\n",
       "      <td>81</td>\n",
       "    </tr>\n",
       "    <tr>\n",
       "      <th>2</th>\n",
       "      <td>16</td>\n",
       "      <td>6</td>\n",
       "    </tr>\n",
       "    <tr>\n",
       "      <th>3</th>\n",
       "      <td>16</td>\n",
       "      <td>77</td>\n",
       "    </tr>\n",
       "    <tr>\n",
       "      <th>4</th>\n",
       "      <td>17</td>\n",
       "      <td>40</td>\n",
       "    </tr>\n",
       "    <tr>\n",
       "      <th>...</th>\n",
       "      <td>...</td>\n",
       "      <td>...</td>\n",
       "    </tr>\n",
       "    <tr>\n",
       "      <th>195</th>\n",
       "      <td>120</td>\n",
       "      <td>79</td>\n",
       "    </tr>\n",
       "    <tr>\n",
       "      <th>196</th>\n",
       "      <td>126</td>\n",
       "      <td>28</td>\n",
       "    </tr>\n",
       "    <tr>\n",
       "      <th>197</th>\n",
       "      <td>126</td>\n",
       "      <td>74</td>\n",
       "    </tr>\n",
       "    <tr>\n",
       "      <th>198</th>\n",
       "      <td>137</td>\n",
       "      <td>18</td>\n",
       "    </tr>\n",
       "    <tr>\n",
       "      <th>199</th>\n",
       "      <td>137</td>\n",
       "      <td>83</td>\n",
       "    </tr>\n",
       "  </tbody>\n",
       "</table>\n",
       "<p>200 rows × 2 columns</p>\n",
       "</div>"
      ],
      "text/plain": [
       "     Annual Income (k$)  Spending Score (1-100)\n",
       "0                    15                      39\n",
       "1                    15                      81\n",
       "2                    16                       6\n",
       "3                    16                      77\n",
       "4                    17                      40\n",
       "..                  ...                     ...\n",
       "195                 120                      79\n",
       "196                 126                      28\n",
       "197                 126                      74\n",
       "198                 137                      18\n",
       "199                 137                      83\n",
       "\n",
       "[200 rows x 2 columns]"
      ]
     },
     "execution_count": 11,
     "metadata": {},
     "output_type": "execute_result"
    }
   ],
   "source": [
    "x"
   ]
  },
  {
   "cell_type": "markdown",
   "id": "854448d7",
   "metadata": {},
   "source": [
    "## Feature Scaling:"
   ]
  },
  {
   "cell_type": "code",
   "execution_count": 12,
   "id": "df5129fc",
   "metadata": {},
   "outputs": [],
   "source": [
    "from sklearn.preprocessing import StandardScaler"
   ]
  },
  {
   "cell_type": "code",
   "execution_count": 13,
   "id": "b31110e2",
   "metadata": {},
   "outputs": [
    {
     "data": {
      "text/plain": [
       "array([[-1.73899919, -0.43480148],\n",
       "       [-1.73899919,  1.19570407],\n",
       "       [-1.70082976, -1.71591298],\n",
       "       [-1.70082976,  1.04041783],\n",
       "       [-1.66266033, -0.39597992],\n",
       "       [-1.66266033,  1.00159627],\n",
       "       [-1.62449091, -1.71591298],\n",
       "       [-1.62449091,  1.70038436],\n",
       "       [-1.58632148, -1.83237767],\n",
       "       [-1.58632148,  0.84631002],\n",
       "       [-1.58632148, -1.4053405 ],\n",
       "       [-1.58632148,  1.89449216],\n",
       "       [-1.54815205, -1.36651894],\n",
       "       [-1.54815205,  1.04041783],\n",
       "       [-1.54815205, -1.44416206],\n",
       "       [-1.54815205,  1.11806095],\n",
       "       [-1.50998262, -0.59008772],\n",
       "       [-1.50998262,  0.61338066],\n",
       "       [-1.43364376, -0.82301709],\n",
       "       [-1.43364376,  1.8556706 ],\n",
       "       [-1.39547433, -0.59008772],\n",
       "       [-1.39547433,  0.88513158],\n",
       "       [-1.3573049 , -1.75473454],\n",
       "       [-1.3573049 ,  0.88513158],\n",
       "       [-1.24279661, -1.4053405 ],\n",
       "       [-1.24279661,  1.23452563],\n",
       "       [-1.24279661, -0.7065524 ],\n",
       "       [-1.24279661,  0.41927286],\n",
       "       [-1.20462718, -0.74537397],\n",
       "       [-1.20462718,  1.42863343],\n",
       "       [-1.16645776, -1.7935561 ],\n",
       "       [-1.16645776,  0.88513158],\n",
       "       [-1.05194947, -1.7935561 ],\n",
       "       [-1.05194947,  1.62274124],\n",
       "       [-1.05194947, -1.4053405 ],\n",
       "       [-1.05194947,  1.19570407],\n",
       "       [-1.01378004, -1.28887582],\n",
       "       [-1.01378004,  0.88513158],\n",
       "       [-0.89927175, -0.93948177],\n",
       "       [-0.89927175,  0.96277471],\n",
       "       [-0.86110232, -0.59008772],\n",
       "       [-0.86110232,  1.62274124],\n",
       "       [-0.82293289, -0.55126616],\n",
       "       [-0.82293289,  0.41927286],\n",
       "       [-0.82293289, -0.86183865],\n",
       "       [-0.82293289,  0.5745591 ],\n",
       "       [-0.78476346,  0.18634349],\n",
       "       [-0.78476346, -0.12422899],\n",
       "       [-0.78476346, -0.3183368 ],\n",
       "       [-0.78476346, -0.3183368 ],\n",
       "       [-0.70842461,  0.06987881],\n",
       "       [-0.70842461,  0.38045129],\n",
       "       [-0.67025518,  0.14752193],\n",
       "       [-0.67025518,  0.38045129],\n",
       "       [-0.67025518, -0.20187212],\n",
       "       [-0.67025518, -0.35715836],\n",
       "       [-0.63208575, -0.00776431],\n",
       "       [-0.63208575, -0.16305055],\n",
       "       [-0.55574689,  0.03105725],\n",
       "       [-0.55574689, -0.16305055],\n",
       "       [-0.55574689,  0.22516505],\n",
       "       [-0.55574689,  0.18634349],\n",
       "       [-0.51757746,  0.06987881],\n",
       "       [-0.51757746,  0.34162973],\n",
       "       [-0.47940803,  0.03105725],\n",
       "       [-0.47940803,  0.34162973],\n",
       "       [-0.47940803, -0.00776431],\n",
       "       [-0.47940803, -0.08540743],\n",
       "       [-0.47940803,  0.34162973],\n",
       "       [-0.47940803, -0.12422899],\n",
       "       [-0.4412386 ,  0.18634349],\n",
       "       [-0.4412386 , -0.3183368 ],\n",
       "       [-0.40306917, -0.04658587],\n",
       "       [-0.40306917,  0.22516505],\n",
       "       [-0.25039146, -0.12422899],\n",
       "       [-0.25039146,  0.14752193],\n",
       "       [-0.25039146,  0.10870037],\n",
       "       [-0.25039146, -0.08540743],\n",
       "       [-0.25039146,  0.06987881],\n",
       "       [-0.25039146, -0.3183368 ],\n",
       "       [-0.25039146,  0.03105725],\n",
       "       [-0.25039146,  0.18634349],\n",
       "       [-0.25039146, -0.35715836],\n",
       "       [-0.25039146, -0.24069368],\n",
       "       [-0.25039146,  0.26398661],\n",
       "       [-0.25039146, -0.16305055],\n",
       "       [-0.13588317,  0.30280817],\n",
       "       [-0.13588317,  0.18634349],\n",
       "       [-0.09771374,  0.38045129],\n",
       "       [-0.09771374, -0.16305055],\n",
       "       [-0.05954431,  0.18634349],\n",
       "       [-0.05954431, -0.35715836],\n",
       "       [-0.02137488, -0.04658587],\n",
       "       [-0.02137488, -0.39597992],\n",
       "       [-0.02137488, -0.3183368 ],\n",
       "       [-0.02137488,  0.06987881],\n",
       "       [-0.02137488, -0.12422899],\n",
       "       [-0.02137488, -0.00776431],\n",
       "       [ 0.01679455, -0.3183368 ],\n",
       "       [ 0.01679455, -0.04658587],\n",
       "       [ 0.05496398, -0.35715836],\n",
       "       [ 0.05496398, -0.08540743],\n",
       "       [ 0.05496398,  0.34162973],\n",
       "       [ 0.05496398,  0.18634349],\n",
       "       [ 0.05496398,  0.22516505],\n",
       "       [ 0.05496398, -0.3183368 ],\n",
       "       [ 0.09313341, -0.00776431],\n",
       "       [ 0.09313341, -0.16305055],\n",
       "       [ 0.09313341, -0.27951524],\n",
       "       [ 0.09313341, -0.08540743],\n",
       "       [ 0.09313341,  0.06987881],\n",
       "       [ 0.09313341,  0.14752193],\n",
       "       [ 0.13130284, -0.3183368 ],\n",
       "       [ 0.13130284, -0.16305055],\n",
       "       [ 0.16947227, -0.08540743],\n",
       "       [ 0.16947227, -0.00776431],\n",
       "       [ 0.16947227, -0.27951524],\n",
       "       [ 0.16947227,  0.34162973],\n",
       "       [ 0.24581112, -0.27951524],\n",
       "       [ 0.24581112,  0.26398661],\n",
       "       [ 0.24581112,  0.22516505],\n",
       "       [ 0.24581112, -0.39597992],\n",
       "       [ 0.32214998,  0.30280817],\n",
       "       [ 0.32214998,  1.58391968],\n",
       "       [ 0.36031941, -0.82301709],\n",
       "       [ 0.36031941,  1.04041783],\n",
       "       [ 0.39848884, -0.59008772],\n",
       "       [ 0.39848884,  1.73920592],\n",
       "       [ 0.39848884, -1.52180518],\n",
       "       [ 0.39848884,  0.96277471],\n",
       "       [ 0.39848884, -1.5994483 ],\n",
       "       [ 0.39848884,  0.96277471],\n",
       "       [ 0.43665827, -0.62890928],\n",
       "       [ 0.43665827,  0.80748846],\n",
       "       [ 0.4748277 , -1.75473454],\n",
       "       [ 0.4748277 ,  1.46745499],\n",
       "       [ 0.4748277 , -1.67709142],\n",
       "       [ 0.4748277 ,  0.88513158],\n",
       "       [ 0.51299713, -1.56062674],\n",
       "       [ 0.51299713,  0.84631002],\n",
       "       [ 0.55116656, -1.75473454],\n",
       "       [ 0.55116656,  1.6615628 ],\n",
       "       [ 0.58933599, -0.39597992],\n",
       "       [ 0.58933599,  1.42863343],\n",
       "       [ 0.62750542, -1.48298362],\n",
       "       [ 0.62750542,  1.81684904],\n",
       "       [ 0.62750542, -0.55126616],\n",
       "       [ 0.62750542,  0.92395314],\n",
       "       [ 0.66567484, -1.09476801],\n",
       "       [ 0.66567484,  1.54509812],\n",
       "       [ 0.66567484, -1.28887582],\n",
       "       [ 0.66567484,  1.46745499],\n",
       "       [ 0.66567484, -1.17241113],\n",
       "       [ 0.66567484,  1.00159627],\n",
       "       [ 0.66567484, -1.32769738],\n",
       "       [ 0.66567484,  1.50627656],\n",
       "       [ 0.66567484, -1.91002079],\n",
       "       [ 0.66567484,  1.07923939],\n",
       "       [ 0.66567484, -1.91002079],\n",
       "       [ 0.66567484,  0.88513158],\n",
       "       [ 0.70384427, -0.59008772],\n",
       "       [ 0.70384427,  1.27334719],\n",
       "       [ 0.78018313, -1.75473454],\n",
       "       [ 0.78018313,  1.6615628 ],\n",
       "       [ 0.93286085, -0.93948177],\n",
       "       [ 0.93286085,  0.96277471],\n",
       "       [ 0.97103028, -1.17241113],\n",
       "       [ 0.97103028,  1.73920592],\n",
       "       [ 1.00919971, -0.90066021],\n",
       "       [ 1.00919971,  0.49691598],\n",
       "       [ 1.00919971, -1.44416206],\n",
       "       [ 1.00919971,  0.96277471],\n",
       "       [ 1.00919971, -1.56062674],\n",
       "       [ 1.00919971,  1.62274124],\n",
       "       [ 1.04736914, -1.44416206],\n",
       "       [ 1.04736914,  1.38981187],\n",
       "       [ 1.04736914, -1.36651894],\n",
       "       [ 1.04736914,  0.72984534],\n",
       "       [ 1.23821628, -1.4053405 ],\n",
       "       [ 1.23821628,  1.54509812],\n",
       "       [ 1.390894  , -0.7065524 ],\n",
       "       [ 1.390894  ,  1.38981187],\n",
       "       [ 1.42906343, -1.36651894],\n",
       "       [ 1.42906343,  1.46745499],\n",
       "       [ 1.46723286, -0.43480148],\n",
       "       [ 1.46723286,  1.81684904],\n",
       "       [ 1.54357172, -1.01712489],\n",
       "       [ 1.54357172,  0.69102378],\n",
       "       [ 1.61991057, -1.28887582],\n",
       "       [ 1.61991057,  1.35099031],\n",
       "       [ 1.61991057, -1.05594645],\n",
       "       [ 1.61991057,  0.72984534],\n",
       "       [ 2.00160487, -1.63826986],\n",
       "       [ 2.00160487,  1.58391968],\n",
       "       [ 2.26879087, -1.32769738],\n",
       "       [ 2.26879087,  1.11806095],\n",
       "       [ 2.49780745, -0.86183865],\n",
       "       [ 2.49780745,  0.92395314],\n",
       "       [ 2.91767117, -1.25005425],\n",
       "       [ 2.91767117,  1.27334719]])"
      ]
     },
     "execution_count": 13,
     "metadata": {},
     "output_type": "execute_result"
    }
   ],
   "source": [
    "sc = StandardScaler()\n",
    "sc_x = sc.fit_transform(x)\n",
    "sc_x"
   ]
  },
  {
   "cell_type": "markdown",
   "id": "38523916",
   "metadata": {},
   "source": [
    "## Building the K-Means Clustering based model:"
   ]
  },
  {
   "cell_type": "markdown",
   "id": "7df68af1",
   "metadata": {},
   "source": [
    "**K-Means** is an **Unsupervised** machine learning algorithm which means there are no labels associated with the data points in the dataset. K-Means tries to group data points based on the relative distance b/w the data point and each of the **cluster means/centroids**.\n",
    "\n",
    "**K-Means/Lloyd's Algorithm:**\n",
    "\n",
    "$ \\text{1. Initialization of the cluster indicator variables(} z^{0}_{i} \\text{, } i \\in \\text{\\{1, 2, ..., n\\}) associated with each data point.} \\\\ z^{0}_{i} \\text{ represents the cluster indicator variable for the i-th data point in the 0-th iteration.} $\n",
    "\n",
    "$ \\text{For initialization of the indicator variables we can choose either the } \\textbf{uniform random sampling} \\text{ or the  } \\textbf{K-means++} \\text{ methods to get the K clusters} \\\\ \\text{centroids/means and then using them, we get the initial cluster indicator values for all the remaining data points.} $\n",
    "\n",
    "$ \\text{2. Compute the clusters means for the t-th iteration i.e. for each cluster k} \\in \\text{\\{1, 2, ..., K\\} find:} \\\\\n",
    "\\displaystyle \\large \\mu^{t}_{k} = \\frac {\\sum \\limits _{i=1} ^{n} x_{i}\\mathbb{1}(z^{t}_{i}=k)} {\\sum \\limits _{i=1} ^{n} \n",
    "\\mathbb{1}(z^{t}_{i}=k)} $\n",
    "$  = \\textbf{ mean of cluster k using all datapoints falling in the cluster k in the t-th iteration} $\n",
    "\n",
    "$\\text{3. Re-assignment of values to cluster indicator variables(}z^{t+1}_{i} \\text{) for the (t+1)th iteration i.e.} $\n",
    "\n",
    "$$ \\displaystyle \\large z^{t+1}_{i} = \\arg \\min_{k} ||x_i - \\mu^{t}_{k}||^2 \\text{ } \\forall i \\in \\text{\\{1, 2, ..., n\\}} $$\n",
    "$$ \\textbf{= Cluster indicator for that cluster whose t-th iteration cluster mean is closest to i-th data point} $$\n",
    "\n",
    "\n",
    "$ \\text{The regions we get after clustering each of which represent a specific cluster are called as } \\textbf{Voronoi regions}\\text{.} $\n",
    "\n",
    "$ \\textbf{To measure the goodness of partition/clusters we use Silhouette score whose value lie in the range [-1, 1].} $\n",
    "\n",
    "$ \\textbf{Silhouette score} \\text{ of } \\textbf{-1} \\text{ for a data point means that the data point has been put into a } \\textbf{wrong cluster and is an outlier} \\text{.} \\\\\n",
    "\\textbf{Silhouette score} \\text{ of } \\textbf{0} \\text{ for a data point means that the data point has been put into a neutral region/point to which atleast two clusters are closest.} \\\\\n",
    "\\textbf{Silhouette score} \\text{ of } \\textbf{1} \\text{ for a data point means that the data point has been put into the right cluster and is closer to all the data points in its own} \\\\ \\text{ cluster than to any other cluster.} \\\\\n",
    "\\textbf{Silhouette score} \\text{ b/w } \\textbf{0 and 1} \\text{ for a data point means that the data point has been reasonably well clustered and is closer to most of the data points} \\\\ \\text{ in its own cluster than to any other cluster.} \\\\\n",
    "\\textbf{Silhouette score} \\text{ b/w } \\textbf{-1 and 0} \\text{ for a data point means that the data point has been wrongly clustered and it is closer to data points in other cluster } \\\\ \\text{than to itself.} $\n",
    "\n",
    "$ $"
   ]
  },
  {
   "cell_type": "code",
   "execution_count": 14,
   "id": "6ac6baf3",
   "metadata": {},
   "outputs": [],
   "source": [
    "from sklearn.cluster import KMeans"
   ]
  },
  {
   "cell_type": "code",
   "execution_count": 15,
   "id": "f4edfcc3",
   "metadata": {},
   "outputs": [],
   "source": [
    "k_means = KMeans(n_clusters=4, random_state=123)"
   ]
  },
  {
   "cell_type": "code",
   "execution_count": 16,
   "id": "3d1c7f9e",
   "metadata": {},
   "outputs": [
    {
     "data": {
      "text/plain": [
       "KMeans(n_clusters=4, random_state=123)"
      ]
     },
     "execution_count": 16,
     "metadata": {},
     "output_type": "execute_result"
    }
   ],
   "source": [
    "k_means.fit(sc_x)"
   ]
  },
  {
   "cell_type": "code",
   "execution_count": 17,
   "id": "81f3aaf6",
   "metadata": {},
   "outputs": [
    {
     "data": {
      "text/plain": [
       "array([2, 3, 2, 3, 2, 3, 2, 3, 2, 3, 2, 3, 2, 3, 2, 3, 2, 3, 2, 3, 2, 3,\n",
       "       2, 3, 2, 3, 2, 3, 2, 3, 2, 3, 2, 3, 2, 3, 2, 3, 2, 3, 2, 3, 2, 3,\n",
       "       2, 3, 3, 3, 3, 3, 3, 3, 3, 3, 3, 3, 3, 3, 3, 3, 3, 3, 3, 3, 3, 3,\n",
       "       3, 3, 3, 3, 3, 3, 3, 3, 3, 3, 3, 3, 3, 3, 3, 3, 3, 3, 3, 3, 3, 3,\n",
       "       3, 3, 3, 3, 3, 3, 3, 3, 3, 3, 3, 3, 3, 3, 3, 3, 3, 3, 3, 3, 3, 3,\n",
       "       3, 3, 3, 3, 3, 3, 3, 3, 3, 3, 3, 3, 3, 1, 0, 1, 0, 1, 0, 1, 0, 1,\n",
       "       0, 1, 0, 1, 0, 1, 0, 1, 0, 1, 0, 1, 0, 1, 0, 1, 0, 1, 0, 1, 0, 1,\n",
       "       0, 1, 0, 1, 0, 1, 0, 1, 0, 1, 0, 1, 0, 1, 0, 1, 0, 1, 0, 1, 0, 1,\n",
       "       0, 1, 0, 1, 0, 1, 0, 1, 0, 1, 0, 1, 0, 1, 0, 1, 0, 1, 0, 1, 0, 1,\n",
       "       0, 1])"
      ]
     },
     "execution_count": 17,
     "metadata": {},
     "output_type": "execute_result"
    }
   ],
   "source": [
    "k_means.labels_"
   ]
  },
  {
   "cell_type": "code",
   "execution_count": 18,
   "id": "1992f3ee",
   "metadata": {},
   "outputs": [
    {
     "data": {
      "text/plain": [
       "array([[ 1.00919971, -1.22553537],\n",
       "       [ 0.99158305,  1.23950275],\n",
       "       [-1.30751869, -1.13696536],\n",
       "       [-0.46948398,  0.2437994 ]])"
      ]
     },
     "execution_count": 18,
     "metadata": {},
     "output_type": "execute_result"
    }
   ],
   "source": [
    "k_means.cluster_centers_"
   ]
  },
  {
   "cell_type": "code",
   "execution_count": 19,
   "id": "2e3851bf",
   "metadata": {},
   "outputs": [
    {
     "data": {
      "text/plain": [
       "108.92131661364357"
      ]
     },
     "execution_count": 19,
     "metadata": {},
     "output_type": "execute_result"
    }
   ],
   "source": [
    "k_means.inertia_"
   ]
  },
  {
   "cell_type": "code",
   "execution_count": 20,
   "id": "0d914111",
   "metadata": {},
   "outputs": [],
   "source": [
    "''' Inertia is the Within Cluster Sum of Squared Errors(WCSS). '''\n",
    "def cal_inertia(datapoints, cluster_centers, labels):\n",
    "    inertia = 0\n",
    "    for i in range(len(datapoints)):\n",
    "        inertia += np.linalg.norm(datapoints[i]-cluster_centers[labels[i]]) ** 2\n",
    "    return inertia"
   ]
  },
  {
   "cell_type": "code",
   "execution_count": 21,
   "id": "56de69a9",
   "metadata": {},
   "outputs": [
    {
     "data": {
      "text/plain": [
       "108.92131661364361"
      ]
     },
     "execution_count": 21,
     "metadata": {},
     "output_type": "execute_result"
    }
   ],
   "source": [
    "## For k=4 we calculate the WCSS.\n",
    "cal_inertia(sc_x, k_means.cluster_centers_, k_means.labels_)"
   ]
  },
  {
   "cell_type": "code",
   "execution_count": 22,
   "id": "9a1ba798",
   "metadata": {},
   "outputs": [],
   "source": [
    "wcss = []\n",
    "for i in range(2,15):\n",
    "    k_means_model = KMeans(n_clusters=i, random_state=123)\n",
    "    k_means_model.fit(sc_x);\n",
    "    wcss.append(k_means_model.inertia_);"
   ]
  },
  {
   "cell_type": "code",
   "execution_count": 23,
   "id": "a3374990",
   "metadata": {},
   "outputs": [
    {
     "data": {
      "text/plain": [
       "[269.29934286898697,\n",
       " 157.70400815035947,\n",
       " 108.92131661364357,\n",
       " 65.56840815571681,\n",
       " 55.10377812115057,\n",
       " 44.91118554999014,\n",
       " 37.235189897502465,\n",
       " 32.33081392367576,\n",
       " 29.090568897369717,\n",
       " 26.462691239784462,\n",
       " 23.790424143583714,\n",
       " 21.135534115679146,\n",
       " 19.22434855262122]"
      ]
     },
     "execution_count": 23,
     "metadata": {},
     "output_type": "execute_result"
    }
   ],
   "source": [
    "wcss"
   ]
  },
  {
   "cell_type": "code",
   "execution_count": 24,
   "id": "6881375e",
   "metadata": {},
   "outputs": [],
   "source": [
    "k_values = np.arange(2,15)"
   ]
  },
  {
   "cell_type": "code",
   "execution_count": 25,
   "id": "c4066852",
   "metadata": {},
   "outputs": [
    {
     "data": {
      "text/plain": [
       "13"
      ]
     },
     "execution_count": 25,
     "metadata": {},
     "output_type": "execute_result"
    }
   ],
   "source": [
    "len(wcss)"
   ]
  },
  {
   "cell_type": "code",
   "execution_count": 26,
   "id": "53fe9cce",
   "metadata": {},
   "outputs": [
    {
     "data": {
      "image/png": "[encoded data removed]",
      "text/plain": [
       "<Figure size 640x480 with 1 Axes>"
      ]
     },
     "metadata": {},
     "output_type": "display_data"
    }
   ],
   "source": [
    "plt.plot(k_values, wcss, marker='o', color='g')\n",
    "         \n",
    "plt.xlabel(\"Number of Clusters(k)\")\n",
    "plt.ylabel(\"Inertia\")\n",
    "plt.title('Using Elbow method to find suitable k')\n",
    "plt.xticks(np.arange(0,16,1))\n",
    "         \n",
    "plt.grid()"
   ]
  },
  {
   "cell_type": "markdown",
   "id": "8a864eae",
   "metadata": {},
   "source": [
    "## From the Elbow method we find the suitable value for k as 5."
   ]
  },
  {
   "cell_type": "code",
   "execution_count": 27,
   "id": "8dd495da",
   "metadata": {},
   "outputs": [],
   "source": [
    "k_means_2 = KMeans(n_clusters=5, random_state=123)"
   ]
  },
  {
   "cell_type": "code",
   "execution_count": 28,
   "id": "297ec059",
   "metadata": {},
   "outputs": [
    {
     "data": {
      "text/plain": [
       "KMeans(n_clusters=5, random_state=123)"
      ]
     },
     "execution_count": 28,
     "metadata": {},
     "output_type": "execute_result"
    }
   ],
   "source": [
    "k_means_2.fit(sc_x)"
   ]
  },
  {
   "cell_type": "code",
   "execution_count": 29,
   "id": "87c8ac85",
   "metadata": {},
   "outputs": [
    {
     "data": {
      "text/plain": [
       "array([3, 4, 3, 4, 3, 4, 3, 4, 3, 4, 3, 4, 3, 4, 3, 4, 3, 4, 3, 4, 3, 4,\n",
       "       3, 4, 3, 4, 3, 4, 3, 4, 3, 4, 3, 4, 3, 4, 3, 4, 3, 4, 3, 4, 3, 0,\n",
       "       3, 4, 0, 0, 0, 0, 0, 0, 0, 0, 0, 0, 0, 0, 0, 0, 0, 0, 0, 0, 0, 0,\n",
       "       0, 0, 0, 0, 0, 0, 0, 0, 0, 0, 0, 0, 0, 0, 0, 0, 0, 0, 0, 0, 0, 0,\n",
       "       0, 0, 0, 0, 0, 0, 0, 0, 0, 0, 0, 0, 0, 0, 0, 0, 0, 0, 0, 0, 0, 0,\n",
       "       0, 0, 0, 0, 0, 0, 0, 0, 0, 0, 0, 0, 0, 1, 2, 1, 0, 1, 2, 1, 2, 1,\n",
       "       0, 1, 2, 1, 2, 1, 2, 1, 2, 1, 0, 1, 2, 1, 2, 1, 2, 1, 2, 1, 2, 1,\n",
       "       2, 1, 2, 1, 2, 1, 2, 1, 2, 1, 2, 1, 2, 1, 2, 1, 2, 1, 2, 1, 2, 1,\n",
       "       2, 1, 2, 1, 2, 1, 2, 1, 2, 1, 2, 1, 2, 1, 2, 1, 2, 1, 2, 1, 2, 1,\n",
       "       2, 1])"
      ]
     },
     "execution_count": 29,
     "metadata": {},
     "output_type": "execute_result"
    }
   ],
   "source": [
    "k_means_2.labels_"
   ]
  },
  {
   "cell_type": "code",
   "execution_count": 30,
   "id": "76adf18b",
   "metadata": {},
   "outputs": [
    {
     "data": {
      "text/plain": [
       "array([[-0.20091257, -0.02645617],\n",
       "       [ 0.99158305,  1.23950275],\n",
       "       [ 1.05500302, -1.28443907],\n",
       "       [-1.30751869, -1.13696536],\n",
       "       [-1.32954532,  1.13217788]])"
      ]
     },
     "execution_count": 30,
     "metadata": {},
     "output_type": "execute_result"
    }
   ],
   "source": [
    "k_means_2.cluster_centers_"
   ]
  },
  {
   "cell_type": "code",
   "execution_count": 31,
   "id": "ed64f6dd",
   "metadata": {},
   "outputs": [
    {
     "data": {
      "text/plain": [
       "65.56840815571681"
      ]
     },
     "execution_count": 31,
     "metadata": {},
     "output_type": "execute_result"
    }
   ],
   "source": [
    "k_means_2.inertia_"
   ]
  },
  {
   "cell_type": "code",
   "execution_count": 32,
   "id": "1674d142",
   "metadata": {},
   "outputs": [],
   "source": [
    "from sklearn.metrics import silhouette_score, silhouette_samples"
   ]
  },
  {
   "cell_type": "code",
   "execution_count": 33,
   "id": "a7ec3038",
   "metadata": {},
   "outputs": [
    {
     "data": {
      "text/plain": [
       "0.5546571631111091"
      ]
     },
     "execution_count": 33,
     "metadata": {},
     "output_type": "execute_result"
    }
   ],
   "source": [
    "''' Getting the average silhouette score. '''\n",
    "silhouette_score(sc_x, k_means_2.labels_)"
   ]
  },
  {
   "cell_type": "code",
   "execution_count": 34,
   "id": "2222edeb",
   "metadata": {},
   "outputs": [
    {
     "data": {
      "text/plain": [
       "array([ 0.41124046,  0.69620683,  0.63934069,  0.69604195,  0.38563359,\n",
       "        0.69748215,  0.64833998,  0.65893138,  0.62927054,  0.66184814,\n",
       "        0.67709497,  0.62250892,  0.67914947,  0.7183836 ,  0.67989007,\n",
       "        0.72517377,  0.480728  ,  0.54086604,  0.57771355,  0.63069704,\n",
       "        0.46089203,  0.67601561,  0.64089467,  0.67033897,  0.66074953,\n",
       "        0.70471845,  0.48567333,  0.29331369,  0.4925691 ,  0.6846275 ,\n",
       "        0.60601978,  0.61174317,  0.57727428,  0.61836077,  0.6096252 ,\n",
       "        0.64028425,  0.58637068,  0.52937454,  0.42191998,  0.48596674,\n",
       "        0.09076309,  0.54813337, -0.01212476,  0.12114123,  0.3126116 ,\n",
       "        0.04964594,  0.39355123,  0.43860327,  0.29680812,  0.29680812,\n",
       "        0.52456542,  0.3036705 ,  0.51899981,  0.34289529,  0.49331338,\n",
       "        0.37566018,  0.60191899,  0.54434561,  0.64121219,  0.59585853,\n",
       "        0.55956233,  0.58127935,  0.65113096,  0.50415135,  0.6798204 ,\n",
       "        0.52847598,  0.6854379 ,  0.66721797,  0.52847598,  0.65430631,\n",
       "        0.64323927,  0.57415557,  0.70785199,  0.64042968,  0.73240011,\n",
       "        0.71960708,  0.73182343,  0.74129029,  0.74159279,  0.6536531 ,\n",
       "        0.74900504,  0.70484358,  0.63130684,  0.69165347,  0.66805365,\n",
       "        0.72107475,  0.66610266,  0.71954436,  0.61784186,  0.74061562,\n",
       "        0.71095761,  0.66799557,  0.75906639,  0.6368572 ,  0.67978746,\n",
       "        0.73855764,  0.74803928,  0.75429574,  0.66805596,  0.7491268 ,\n",
       "        0.63258865,  0.73334392,  0.58433562,  0.67210958,  0.65363542,\n",
       "        0.65396607,  0.71666062,  0.70009369,  0.65649422,  0.71881274,\n",
       "        0.69815032,  0.67158563,  0.61853788,  0.68281569,  0.68308919,\n",
       "        0.6811378 ,  0.61748649,  0.5205453 ,  0.56996999,  0.52347183,\n",
       "        0.54681887,  0.49982416,  0.43921864,  0.48677124,  0.00764375,\n",
       "        0.35499284,  0.2000742 ,  0.51256338,  0.49029886,  0.33575618,\n",
       "        0.50127655,  0.33575618,  0.11597748,  0.22775795,  0.537264  ,\n",
       "        0.55301887,  0.54029448,  0.33375809,  0.55104299,  0.32771827,\n",
       "        0.56412338,  0.57965969,  0.19844922,  0.59561258,  0.58606281,\n",
       "        0.57865195, -0.0285739 ,  0.4531429 ,  0.48454354,  0.62024564,\n",
       "        0.56375597,  0.62065055,  0.5219891 ,  0.51179918,  0.57384919,\n",
       "        0.62139286,  0.57352612,  0.54426131,  0.57352612,  0.4442416 ,\n",
       "        0.09680221,  0.60735355,  0.61522539,  0.62998078,  0.50523555,\n",
       "        0.55676657,  0.60844915,  0.63499895,  0.50415471,  0.28018473,\n",
       "        0.65818112,  0.56459675,  0.65536989,  0.65028371,  0.65999533,\n",
       "        0.65492919,  0.65450519,  0.45314191,  0.65347442,  0.64854065,\n",
       "        0.46172751,  0.63444322,  0.63563191,  0.63225154,  0.33477575,\n",
       "        0.60417854,  0.57159713,  0.46389856,  0.6072932 ,  0.60109752,\n",
       "        0.57327602,  0.47494682,  0.55770996,  0.547028  ,  0.51238747,\n",
       "        0.48176216,  0.38845537,  0.38858551,  0.38766848,  0.3726429 ])"
      ]
     },
     "execution_count": 34,
     "metadata": {},
     "output_type": "execute_result"
    }
   ],
   "source": [
    "''' Getting the silhouette score for each datapoint. '''\n",
    "silhouette_scores = silhouette_samples(sc_x, k_means_2.labels_)\n",
    "silhouette_scores"
   ]
  },
  {
   "cell_type": "code",
   "execution_count": 35,
   "id": "9d28cdc6",
   "metadata": {},
   "outputs": [
    {
     "data": {
      "text/plain": [
       "0.5546571631111091"
      ]
     },
     "execution_count": 35,
     "metadata": {},
     "output_type": "execute_result"
    }
   ],
   "source": [
    "silhouette_scores.mean()"
   ]
  },
  {
   "cell_type": "code",
   "execution_count": 36,
   "id": "6aa4298b",
   "metadata": {},
   "outputs": [],
   "source": [
    "x_min, x_max = sc_x[:, 0].min()-1, sc_x[:, 0].max()+1\n",
    "y_min, y_max = sc_x[:, 1].min()-1, sc_x[:, 1].max()+1"
   ]
  },
  {
   "cell_type": "code",
   "execution_count": 37,
   "id": "1015542a",
   "metadata": {},
   "outputs": [
    {
     "data": {
      "text/plain": [
       "-2.7389991930659487"
      ]
     },
     "execution_count": 37,
     "metadata": {},
     "output_type": "execute_result"
    }
   ],
   "source": [
    "x_min"
   ]
  },
  {
   "cell_type": "code",
   "execution_count": 38,
   "id": "2b74c871",
   "metadata": {},
   "outputs": [
    {
     "data": {
      "text/plain": [
       "3.9176711658902788"
      ]
     },
     "execution_count": 38,
     "metadata": {},
     "output_type": "execute_result"
    }
   ],
   "source": [
    "x_max"
   ]
  },
  {
   "cell_type": "code",
   "execution_count": 39,
   "id": "f9630109",
   "metadata": {},
   "outputs": [
    {
     "data": {
      "text/plain": [
       "-2.910020787007329"
      ]
     },
     "execution_count": 39,
     "metadata": {},
     "output_type": "execute_result"
    }
   ],
   "source": [
    "y_min"
   ]
  },
  {
   "cell_type": "code",
   "execution_count": 40,
   "id": "379f2026",
   "metadata": {},
   "outputs": [
    {
     "data": {
      "text/plain": [
       "2.8944921627227167"
      ]
     },
     "execution_count": 40,
     "metadata": {},
     "output_type": "execute_result"
    }
   ],
   "source": [
    "y_max"
   ]
  },
  {
   "cell_type": "code",
   "execution_count": 41,
   "id": "284ac0f5",
   "metadata": {},
   "outputs": [],
   "source": [
    "xx, yy = np.meshgrid(np.arange(x_min, x_max, 0.01), np.arange(y_min, y_max, 0.01))"
   ]
  },
  {
   "cell_type": "code",
   "execution_count": 42,
   "id": "11875134",
   "metadata": {},
   "outputs": [
    {
     "data": {
      "text/plain": [
       "array([[-2.73899919, -2.72899919, -2.71899919, ...,  3.89100081,\n",
       "         3.90100081,  3.91100081],\n",
       "       [-2.73899919, -2.72899919, -2.71899919, ...,  3.89100081,\n",
       "         3.90100081,  3.91100081],\n",
       "       [-2.73899919, -2.72899919, -2.71899919, ...,  3.89100081,\n",
       "         3.90100081,  3.91100081],\n",
       "       ...,\n",
       "       [-2.73899919, -2.72899919, -2.71899919, ...,  3.89100081,\n",
       "         3.90100081,  3.91100081],\n",
       "       [-2.73899919, -2.72899919, -2.71899919, ...,  3.89100081,\n",
       "         3.90100081,  3.91100081],\n",
       "       [-2.73899919, -2.72899919, -2.71899919, ...,  3.89100081,\n",
       "         3.90100081,  3.91100081]])"
      ]
     },
     "execution_count": 42,
     "metadata": {},
     "output_type": "execute_result"
    }
   ],
   "source": [
    "xx"
   ]
  },
  {
   "cell_type": "code",
   "execution_count": 43,
   "id": "779fb77c",
   "metadata": {},
   "outputs": [
    {
     "data": {
      "text/plain": [
       "array([[-2.91002079, -2.91002079, -2.91002079, ..., -2.91002079,\n",
       "        -2.91002079, -2.91002079],\n",
       "       [-2.90002079, -2.90002079, -2.90002079, ..., -2.90002079,\n",
       "        -2.90002079, -2.90002079],\n",
       "       [-2.89002079, -2.89002079, -2.89002079, ..., -2.89002079,\n",
       "        -2.89002079, -2.89002079],\n",
       "       ...,\n",
       "       [ 2.86997921,  2.86997921,  2.86997921, ...,  2.86997921,\n",
       "         2.86997921,  2.86997921],\n",
       "       [ 2.87997921,  2.87997921,  2.87997921, ...,  2.87997921,\n",
       "         2.87997921,  2.87997921],\n",
       "       [ 2.88997921,  2.88997921,  2.88997921, ...,  2.88997921,\n",
       "         2.88997921,  2.88997921]])"
      ]
     },
     "execution_count": 43,
     "metadata": {},
     "output_type": "execute_result"
    }
   ],
   "source": [
    "yy"
   ]
  },
  {
   "cell_type": "code",
   "execution_count": 44,
   "id": "ec2a98c7",
   "metadata": {},
   "outputs": [
    {
     "data": {
      "text/plain": [
       "array([[-2.73899919, -2.91002079],\n",
       "       [-2.72899919, -2.91002079],\n",
       "       [-2.71899919, -2.91002079],\n",
       "       ...,\n",
       "       [ 3.89100081,  2.88997921],\n",
       "       [ 3.90100081,  2.88997921],\n",
       "       [ 3.91100081,  2.88997921]])"
      ]
     },
     "execution_count": 44,
     "metadata": {},
     "output_type": "execute_result"
    }
   ],
   "source": [
    "points = np.c_[xx.ravel(), yy.ravel()]\n",
    "points"
   ]
  },
  {
   "cell_type": "code",
   "execution_count": 45,
   "id": "44efcf90",
   "metadata": {},
   "outputs": [
    {
     "data": {
      "text/plain": [
       "386946"
      ]
     },
     "execution_count": 45,
     "metadata": {},
     "output_type": "execute_result"
    }
   ],
   "source": [
    "len(points)"
   ]
  },
  {
   "cell_type": "code",
   "execution_count": 46,
   "id": "3fabc881",
   "metadata": {},
   "outputs": [],
   "source": [
    "''' Finding and storing the cluster indicator values for each point in 'points' array. '''\n",
    "\n",
    "z = []\n",
    "k = len(k_means_2.cluster_centers_)\n",
    "for i in range(len(points)):\n",
    "    cluster_indicator = 0\n",
    "    old_distance = np.linalg.norm(points[i]-k_means_2.cluster_centers_[0])\n",
    "    for j in range(1,k):\n",
    "        new_distance = np.linalg.norm(points[i]-k_means_2.cluster_centers_[j])\n",
    "        if new_distance < old_distance:\n",
    "            cluster_indicator = j\n",
    "            old_distance = new_distance\n",
    "    z.append(cluster_indicator)"
   ]
  },
  {
   "cell_type": "code",
   "execution_count": 47,
   "id": "ac60ed9b",
   "metadata": {},
   "outputs": [
    {
     "data": {
      "text/plain": [
       "array([3, 3, 3, ..., 1, 1, 1])"
      ]
     },
     "execution_count": 47,
     "metadata": {},
     "output_type": "execute_result"
    }
   ],
   "source": [
    "np.array(z)"
   ]
  },
  {
   "cell_type": "code",
   "execution_count": 48,
   "id": "9fccb5c2",
   "metadata": {},
   "outputs": [
    {
     "data": {
      "text/plain": [
       "386946"
      ]
     },
     "execution_count": 48,
     "metadata": {},
     "output_type": "execute_result"
    }
   ],
   "source": [
    "len(z)"
   ]
  },
  {
   "cell_type": "code",
   "execution_count": 49,
   "id": "98f39efb",
   "metadata": {},
   "outputs": [],
   "source": [
    "zz = np.array(z).reshape(xx.shape)"
   ]
  },
  {
   "cell_type": "code",
   "execution_count": 50,
   "id": "da770fbf",
   "metadata": {},
   "outputs": [
    {
     "data": {
      "text/plain": [
       "(581, 666)"
      ]
     },
     "execution_count": 50,
     "metadata": {},
     "output_type": "execute_result"
    }
   ],
   "source": [
    "zz.shape"
   ]
  },
  {
   "cell_type": "code",
   "execution_count": 51,
   "id": "3ce14f22",
   "metadata": {},
   "outputs": [
    {
     "data": {
      "image/png": "[encoded data removed]",
      "text/plain": [
       "<Figure size 800x600 with 2 Axes>"
      ]
     },
     "metadata": {},
     "output_type": "display_data"
    }
   ],
   "source": [
    "plt.figure(figsize=(8,6))\n",
    "\n",
    "''' Giving colors to the Voronoi regions that we get as a result of K-Means Clustering. '''\n",
    "voronoi_region_colors = ['r', 'g', 'b', 'y', 'm']\n",
    "\n",
    "cmap = matplotlib.colors.ListedColormap(voronoi_region_colors)\n",
    "cluster_indicator_labels = [\"Cluster \" + str(i) for i in range(k)]\n",
    "\n",
    "''' Plotting the Voronoi regions using the cluster indicator values for the points in 'points' array. '''\n",
    "plt.contourf(xx, yy, zz, alpha=0.5, levels=5, cmap=cmap)\n",
    "\n",
    "''' Plotting the clustering result using the cluster indicator values for the points in array sc_x(containing the \n",
    "'Standardized Annual Income' and 'Standardized Spending Score'). '''\n",
    "plt.scatter(sc_x[:, 0:-1], sc_x[:, 1:], c = k_means_2.labels_, cmap=cmap)\n",
    "\n",
    "plt.xlabel('Standardized Annual Income')\n",
    "plt.ylabel('Standardized Spending Score')\n",
    "plt.title('Voronoi diagram for Mall Customers dataset')\n",
    "\n",
    "cbar = plt.colorbar()\n",
    "\n",
    "# Calculating the location for the ticks that will appear in cbar.\n",
    "loc = np.arange(0.4, 4.4, 4/5)\n",
    "\n",
    "# cbar.set_ticks() sets the ticks/markers on the axes.\n",
    "cbar.set_ticks(loc)\n",
    "\n",
    "# cbar.set_ticklabels() sets the tick labels for the ticks.\n",
    "cbar.set_ticklabels(cluster_indicator_labels)\n",
    "\n",
    "plt.show()"
   ]
  },
  {
   "cell_type": "code",
   "execution_count": 52,
   "id": "26d485c2",
   "metadata": {},
   "outputs": [],
   "source": [
    "df['Cluster Indicator'] = k_means_2.labels_"
   ]
  },
  {
   "cell_type": "code",
   "execution_count": 53,
   "id": "a18ca82b",
   "metadata": {},
   "outputs": [
    {
     "data": {
      "text/html": [
       "<div>\n",
       "<style scoped>\n",
       "    .dataframe tbody tr th:only-of-type {\n",
       "        vertical-align: middle;\n",
       "    }\n",
       "\n",
       "    .dataframe tbody tr th {\n",
       "        vertical-align: top;\n",
       "    }\n",
       "\n",
       "    .dataframe thead th {\n",
       "        text-align: right;\n",
       "    }\n",
       "</style>\n",
       "<table border=\"1\" class=\"dataframe\">\n",
       "  <thead>\n",
       "    <tr style=\"text-align: right;\">\n",
       "      <th></th>\n",
       "      <th>CustomerID</th>\n",
       "      <th>Gender</th>\n",
       "      <th>Age</th>\n",
       "      <th>Annual Income (k$)</th>\n",
       "      <th>Spending Score (1-100)</th>\n",
       "      <th>Cluster Indicator</th>\n",
       "    </tr>\n",
       "  </thead>\n",
       "  <tbody>\n",
       "    <tr>\n",
       "      <th>0</th>\n",
       "      <td>1</td>\n",
       "      <td>Male</td>\n",
       "      <td>19</td>\n",
       "      <td>15</td>\n",
       "      <td>39</td>\n",
       "      <td>3</td>\n",
       "    </tr>\n",
       "    <tr>\n",
       "      <th>1</th>\n",
       "      <td>2</td>\n",
       "      <td>Male</td>\n",
       "      <td>21</td>\n",
       "      <td>15</td>\n",
       "      <td>81</td>\n",
       "      <td>4</td>\n",
       "    </tr>\n",
       "    <tr>\n",
       "      <th>2</th>\n",
       "      <td>3</td>\n",
       "      <td>Female</td>\n",
       "      <td>20</td>\n",
       "      <td>16</td>\n",
       "      <td>6</td>\n",
       "      <td>3</td>\n",
       "    </tr>\n",
       "    <tr>\n",
       "      <th>3</th>\n",
       "      <td>4</td>\n",
       "      <td>Female</td>\n",
       "      <td>23</td>\n",
       "      <td>16</td>\n",
       "      <td>77</td>\n",
       "      <td>4</td>\n",
       "    </tr>\n",
       "    <tr>\n",
       "      <th>4</th>\n",
       "      <td>5</td>\n",
       "      <td>Female</td>\n",
       "      <td>31</td>\n",
       "      <td>17</td>\n",
       "      <td>40</td>\n",
       "      <td>3</td>\n",
       "    </tr>\n",
       "    <tr>\n",
       "      <th>...</th>\n",
       "      <td>...</td>\n",
       "      <td>...</td>\n",
       "      <td>...</td>\n",
       "      <td>...</td>\n",
       "      <td>...</td>\n",
       "      <td>...</td>\n",
       "    </tr>\n",
       "    <tr>\n",
       "      <th>195</th>\n",
       "      <td>196</td>\n",
       "      <td>Female</td>\n",
       "      <td>35</td>\n",
       "      <td>120</td>\n",
       "      <td>79</td>\n",
       "      <td>1</td>\n",
       "    </tr>\n",
       "    <tr>\n",
       "      <th>196</th>\n",
       "      <td>197</td>\n",
       "      <td>Female</td>\n",
       "      <td>45</td>\n",
       "      <td>126</td>\n",
       "      <td>28</td>\n",
       "      <td>2</td>\n",
       "    </tr>\n",
       "    <tr>\n",
       "      <th>197</th>\n",
       "      <td>198</td>\n",
       "      <td>Male</td>\n",
       "      <td>32</td>\n",
       "      <td>126</td>\n",
       "      <td>74</td>\n",
       "      <td>1</td>\n",
       "    </tr>\n",
       "    <tr>\n",
       "      <th>198</th>\n",
       "      <td>199</td>\n",
       "      <td>Male</td>\n",
       "      <td>32</td>\n",
       "      <td>137</td>\n",
       "      <td>18</td>\n",
       "      <td>2</td>\n",
       "    </tr>\n",
       "    <tr>\n",
       "      <th>199</th>\n",
       "      <td>200</td>\n",
       "      <td>Male</td>\n",
       "      <td>30</td>\n",
       "      <td>137</td>\n",
       "      <td>83</td>\n",
       "      <td>1</td>\n",
       "    </tr>\n",
       "  </tbody>\n",
       "</table>\n",
       "<p>200 rows × 6 columns</p>\n",
       "</div>"
      ],
      "text/plain": [
       "     CustomerID  Gender  Age  Annual Income (k$)  Spending Score (1-100)  \\\n",
       "0             1    Male   19                  15                      39   \n",
       "1             2    Male   21                  15                      81   \n",
       "2             3  Female   20                  16                       6   \n",
       "3             4  Female   23                  16                      77   \n",
       "4             5  Female   31                  17                      40   \n",
       "..          ...     ...  ...                 ...                     ...   \n",
       "195         196  Female   35                 120                      79   \n",
       "196         197  Female   45                 126                      28   \n",
       "197         198    Male   32                 126                      74   \n",
       "198         199    Male   32                 137                      18   \n",
       "199         200    Male   30                 137                      83   \n",
       "\n",
       "     Cluster Indicator  \n",
       "0                    3  \n",
       "1                    4  \n",
       "2                    3  \n",
       "3                    4  \n",
       "4                    3  \n",
       "..                 ...  \n",
       "195                  1  \n",
       "196                  2  \n",
       "197                  1  \n",
       "198                  2  \n",
       "199                  1  \n",
       "\n",
       "[200 rows x 6 columns]"
      ]
     },
     "execution_count": 53,
     "metadata": {},
     "output_type": "execute_result"
    }
   ],
   "source": [
    "df"
   ]
  },
  {
   "cell_type": "code",
   "execution_count": 54,
   "id": "43cca806",
   "metadata": {},
   "outputs": [],
   "source": [
    "''' Exporting the dataframe df containing the clustering result as a csv file so that it can be used for further downstream \n",
    "processes like identifying the characteristics related to each cluster which will help in gaining insights regarding the basis\n",
    "for customer segmentation. '''\n",
    "df.to_csv('mall_customer_clustered.csv')"
   ]
  },
  {
   "cell_type": "markdown",
   "id": "a350ec9b",
   "metadata": {},
   "source": [
    "## Conclusion:\n",
    "\n",
    "On the **Mall Customers dataset**, we selected only two features **Annual Income (k$)** and **Spending Score (1-100)** for two reasons:\n",
    "- To visualize the clusters in the data.\n",
    "- These two features are the most important features among the 4 input features.\n",
    "\n",
    "After applying the **K-Means algorithm** to the **Mall Customers dataset** we get the following observations:\n",
    "- **Cluster 0**(red region) contains the customers who have moderate Annual Income and moderate Spending Score.\n",
    "- **Cluster 1**(green region) contains the customers who have high Annual Income and high Spending Score.\n",
    "- **Cluster 2**(blue region) contains the customers who have high Annual Income and low Spending Score.\n",
    "- **Cluster 3**(yellow region) contains the customers who have low Annual Income and low Spending Score.\n",
    "- **Cluster 4**(magenta region) contains the customers who have low Annual Income and high Spending Score.\n",
    "\n",
    "**The average Silhouette score** for the **K-Means clustering** with **K=5** has come out as: **0.5547** which means that all the data points in the dataset have been reasonably well clustered."
   ]
  }
 ],
 "metadata": {
  "kernelspec": {
   "display_name": "Python 3 (ipykernel)",
   "language": "python",
   "name": "python3"
  },
  "language_info": {
   "codemirror_mode": {
    "name": "ipython",
    "version": 3
   },
   "file_extension": ".py",
   "mimetype": "text/x-python",
   "name": "python",
   "nbconvert_exporter": "python",
   "pygments_lexer": "ipython3",
   "version": "3.9.13"
  }
 },
 "nbformat": 4,
 "nbformat_minor": 5
}
